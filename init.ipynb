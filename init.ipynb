{
 "cells": [
  {
   "cell_type": "markdown",
   "metadata": {},
   "source": [
    "## Crea le cartelle necessarie"
   ]
  },
  {
   "cell_type": "code",
   "execution_count": 5,
   "metadata": {},
   "outputs": [
    {
     "name": "stdout",
     "output_type": "stream",
     "text": [
      "Error: unknown shorthand flag: 'c' in -c\n",
      "Usage:\n",
      "  lightning-server [command]\n",
      "\n",
      "Available Commands:\n",
      "  completion    Generate the autocompletion script for the specified shell\n",
      "  help          Help about any command\n",
      "  initial-state \n",
      "  jobs-setup    \n",
      "  server        \n",
      "  start         \n",
      "  studio-setup  \n",
      "\n",
      "Flags:\n",
      "  -h, --help   help for lightning-server\n",
      "\n",
      "Use \"lightning-server [command] --help\" for more information about a command.\n",
      "\n",
      "unknown shorthand flag: 'c' in -c\n",
      "panic: unknown shorthand flag: 'c' in -c\n",
      "\n",
      "goroutine 1 [running]:\n",
      "main.main()\n",
      "\t/home/runner/work/grid/grid/grid-backend/cmd/lightning-settings-server/main.go:13 +0x86\n",
      "Note: you may need to restart the kernel to use updated packages.\n"
     ]
    }
   ],
   "source": [
    "%pip install kaggle-cli\n",
    "import os\n",
    "import pandas as pd"
   ]
  },
  {
   "cell_type": "code",
   "execution_count": 2,
   "metadata": {},
   "outputs": [],
   "source": [
    "os.makedirs(\"dataset\", exist_ok=True)\n",
    "os.makedirs(\"documents\", exist_ok=True)\n",
    "os.makedirs(\"notebooks\", exist_ok=True)\n",
    "os.makedirs(\"paper\", exist_ok=True)\n",
    "os.makedirs(\"paper/images\", exist_ok=True)\n",
    "os.makedirs(\"paper/sections\", exist_ok=True)\n",
    "os.makedirs(\"features\", exist_ok=True)"
   ]
  },
  {
   "cell_type": "markdown",
   "metadata": {},
   "source": [
    "## Download data for virtual machine"
   ]
  },
  {
   "cell_type": "code",
   "execution_count": 13,
   "metadata": {},
   "outputs": [
    {
     "data": {
      "text/plain": [
       "0"
      ]
     },
     "execution_count": 13,
     "metadata": {},
     "output_type": "execute_result"
    }
   ],
   "source": [
    "# # url\n",
    "# url = \"https://www.kaggle.com/api/v1/datasets/download/mersico/dangerous-heartbeat-dataset-dhd\"\n",
    "\n",
    "# # download the file\n",
    "# os.system(f'wget -O dataset/dangerous-heartbeat-dataset-dhd.zip {url}')\n",
    "\n",
    "# # unzip the file\n",
    "# os.system('unzip dataset/dangerous-heartbeat-dataset-dhd.zip -d dataset')\n",
    "\n",
    "# # remove the zip file\n",
    "# os.system('rm dataset/dangerous-heartbeat-dataset-dhd.zip')\n"
   ]
  }
 ],
 "metadata": {
  "kernelspec": {
   "display_name": "Python 3",
   "language": "python",
   "name": "python3"
  },
  "language_info": {
   "codemirror_mode": {
    "name": "ipython",
    "version": 3
   },
   "file_extension": ".py",
   "mimetype": "text/x-python",
   "name": "python",
   "nbconvert_exporter": "python",
   "pygments_lexer": "ipython3",
   "version": "3.10.14"
  }
 },
 "nbformat": 4,
 "nbformat_minor": 2
}
