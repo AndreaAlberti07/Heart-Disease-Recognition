{
 "cells": [
  {
   "cell_type": "markdown",
   "metadata": {},
   "source": [
    "## Feature Extraction Notebook\n",
    "\n",
    "---\n",
    "\n",
    "This notebook is used to extract features from the data. The audio is divided into windows of 1 second. The features extracted from each audio window are:\n",
    "\n",
    "- **MFCC (Mel-Frequency Cepstral Coefficients)**: n_mfcc chosen by the user\n",
    "- **Chroma STFT**: 12 coefficients\n",
    "- **CQT (Constant-Q Transform)**: n_cqt chosen by the user\n",
    "- **RMS (Root Mean Square) Energy**: 1 coefficient\n",
    "- **Spectral Centroid**: 1 coefficient\n",
    "- **Spectral Bandwidth**: 1 coefficient\n",
    "- **Spectral Roll-off**: 1 coefficient\n",
    "- **Zero Crossing Rate**: 1 coefficient\n",
    "\n",
    "#### Sections:\n",
    "\n",
    "- [Feature Extraction](#Feature-Extraction)\n",
    "  - [Specific Features Extraction](#Specific-Features-Extraction)\n",
    "  - [All Features Extraction](#All-Features-Extraction)\n",
    "\n",
    "#### Findings:\n",
    "\n",
    "- We have highly unbalanced classes in the dataset.\n"
   ]
  },
  {
   "cell_type": "code",
   "execution_count": 1,
   "metadata": {},
   "outputs": [
    {
     "data": {
      "text/plain": [
       "<module 'utils' from '/Users/andreaalberti/Desktop/Public_Projects/advanced-biomedical-project/notebooks/utils.py'>"
      ]
     },
     "execution_count": 1,
     "metadata": {},
     "output_type": "execute_result"
    }
   ],
   "source": [
    "# import all the functions\n",
    "import utils as utils\n",
    "import numpy as np\n",
    "import seaborn as sns\n",
    "import matplotlib.pyplot as plt\n",
    "import librosa\n",
    "from tqdm.notebook import tqdm\n",
    "import os\n",
    "import importlib\n",
    "import torchaudio\n",
    "import torch\n",
    "\n",
    "# import the utils module\n",
    "importlib.reload(utils)"
   ]
  },
  {
   "cell_type": "code",
   "execution_count": 2,
   "metadata": {},
   "outputs": [
    {
     "data": {
      "text/html": [
       "<style>\n",
       ".cell-output-ipywidget-background {\n",
       "    background-color: transparent !important;\n",
       "}\n",
       ":root {\n",
       "    --jp-widgets-color: var(--vscode-editor-foreground);\n",
       "    --jp-widgets-font-size: var(--vscode-editor-font-size);\n",
       "}  \n",
       "</style>\n",
       "\n",
       "# -------- tqdm DARK THEME --------\n"
      ],
      "text/plain": [
       "<IPython.core.display.HTML object>"
      ]
     },
     "metadata": {},
     "output_type": "display_data"
    }
   ],
   "source": [
    "%%html\n",
    "<style>\n",
    ".cell-output-ipywidget-background {\n",
    "    background-color: transparent !important;\n",
    "}\n",
    ":root {\n",
    "    --jp-widgets-color: var(--vscode-editor-foreground);\n",
    "    --jp-widgets-font-size: var(--vscode-editor-font-size);\n",
    "}  \n",
    "</style>\n",
    "\n",
    "# -------- tqdm DARK THEME --------"
   ]
  },
  {
   "cell_type": "markdown",
   "metadata": {},
   "source": [
    "### Features Extraction\n"
   ]
  },
  {
   "cell_type": "code",
   "execution_count": 30,
   "metadata": {},
   "outputs": [],
   "source": [
    "# hyperparameters\n",
    "sr = 'mix'\n",
    "sr = 4000\n",
    "INTERVAL = 2\n",
    "\n",
    "# set the paths to data\n",
    "BASE_DIR = \"../dataset/\"\n",
    "ARTIFACTS_DIR = BASE_DIR + f\"artifacts_{sr}/\"\n",
    "EXTRAHLS_DIR = BASE_DIR + f\"extrahls_{sr}/\"\n",
    "MURMURS_DIR = BASE_DIR + f\"murmurs_{sr}/\"\n",
    "NORMALS_DIR = BASE_DIR + f\"normals_{sr}/\"\n",
    "EXTRASTOLES_DIR = BASE_DIR + f\"extrastoles_{sr}/\"\n",
    "\n",
    "# paths to save the features\n",
    "FEATURES_RAW_DIR = \"../features/raw/\"\n",
    "# FEATURES_RAW_DIR = \"../features/balanced/priori/\"\n",
    "\n",
    "PATHS = [ARTIFACTS_DIR, EXTRAHLS_DIR, MURMURS_DIR, NORMALS_DIR, EXTRASTOLES_DIR]\n",
    "\n",
    "# REMOVE THE AUGEMENTED SAMPLES WHEN EXTRACTING BASE RAW FEATURES\n",
    "# for path in PATHS:\n",
    "#      remove_generated_samples(path, 'USERAUGMENTED')"
   ]
  },
  {
   "cell_type": "markdown",
   "metadata": {},
   "source": [
    "### Specific Features Extraction\n",
    "\n",
    "- **MFCC (Mel-Frequency Cepstral Coefficients)**: n_mfcc chosen by the user\n",
    "- **Chroma STFT**: 12 coefficients\n",
    "- **CQT (Constant-Q Transform)**: n_cqt chosen by the user\n"
   ]
  },
  {
   "cell_type": "code",
   "execution_count": 26,
   "metadata": {},
   "outputs": [],
   "source": [
    "def extract_features(\n",
    "    dir_path: str,\n",
    "    label: str,\n",
    "    frame_length: float,\n",
    "    sample_rate: int = 44100,\n",
    "    n_mfcc: int = 13,\n",
    "    melkwargs: dict = {},\n",
    "    n_cqt: int = 84,\n",
    "    get_mfcc: bool = True,\n",
    "    get_chroma: bool = True,\n",
    "    get_cqt: bool = True,\n",
    ") -> list:\n",
    "    \"\"\"\n",
    "    Extracts audio features (MFCC, chroma, RMS, spectral centroid, spectral bandwidth, spectral rolloff, zero-crossing rate)\n",
    "    from audio files in the specified directory.\n",
    "\n",
    "    Args:\n",
    "        dir_path (str): The path to the directory containing audio files.\n",
    "        label (str): The label associated with the extracted features.\n",
    "        frame_length: The frame length for feature extraction.\n",
    "        sample_rate (int, optional): The sample rate of the audio files. Defaults to 44100 Hz.\n",
    "        n_mfcc (int, optional): The number of Mel-frequency cepstral coefficients (MFCCs) to extract. Defaults to 13.\n",
    "        melkwargs (dict, optional): Additional arguments for Mel spectrogram computation.\n",
    "        n_cqt (int, optional): The number of constant-Q transform (CQT) bins to extract. Defaults to 84.\n",
    "\n",
    "    Returns:\n",
    "        list: A list containing tensors of extracted features for each audio file.\n",
    "    \"\"\"\n",
    "    filenames = os.listdir(dir_path)\n",
    "    filenames = [file for file in filenames if not file.startswith(\".\")]\n",
    "    frame_length = 1 / frame_length\n",
    "\n",
    "    features = []  # List to store the features for all files\n",
    "\n",
    "    for file in tqdm(filenames, desc=f\"Extraction in progress\"):\n",
    "        audio, orig_sample_rate = torchaudio.load(os.path.join(dir_path, file))\n",
    "        orig_sample_rate_tmp = int(orig_sample_rate / frame_length)\n",
    "        audio_length = int(max(audio[0].shape) / (orig_sample_rate_tmp))\n",
    "\n",
    "        sample_rate = orig_sample_rate\n",
    "\n",
    "        # Reduce the audio from stereo to mono if needed\n",
    "        if audio.shape[0] > 1:\n",
    "            print(f\"Converting stereo audio to mono for {file}...\")\n",
    "            audio = torch.mean(audio, dim=0).reshape(1, -1)\n",
    "\n",
    "        features_local = []  # List to store the MFCC features for each file\n",
    "\n",
    "        for i in range(audio_length):\n",
    "            # Lazy load the audio, one sec at a time, to avoid memory issues\n",
    "            audio_mono = utils.slicing(\n",
    "                audio,\n",
    "                offset=int(sample_rate / frame_length * i),\n",
    "                num_frames=int(sample_rate / frame_length * (i + 1)),\n",
    "            )\n",
    "\n",
    "            # Get the MFCC features\n",
    "            if get_mfcc:\n",
    "                mfcc_features_tmp = utils.extract_mfcc(\n",
    "                    audio_mono, sample_rate, n_mfcc, melkwargs\n",
    "                )\n",
    "            if get_chroma:\n",
    "                chroma_stft = utils.extract_chroma_stft(audio_mono, sample_rate)\n",
    "            if get_cqt:\n",
    "                cqt = utils.extract_cqt(\n",
    "                    audio_mono, sample_rate=sample_rate, n_cqt=n_cqt\n",
    "                )\n",
    "\n",
    "            #   rms = extract_rms(audio_mono)\n",
    "            #   spec_cent = extract_spectral_centroid(audio_mono, sample_rate)\n",
    "            #   spec_bw = extract_spectral_bandwidth(audio_mono, sample_rate)\n",
    "            #   rolloff = extract_spectral_rolloff(audio_mono, sample_rate)\n",
    "            #   zcr = extract_zero_crossing_rate(audio_mono)\n",
    "\n",
    "            # Concatenate the features\n",
    "            if get_mfcc:\n",
    "                features_tmp = mfcc_features_tmp\n",
    "            if get_chroma:\n",
    "                features_tmp = chroma_stft\n",
    "            if get_cqt:\n",
    "                features_tmp = cqt\n",
    "\n",
    "            if get_mfcc and get_chroma:\n",
    "                features_tmp = torch.cat(\n",
    "                    (mfcc_features_tmp, chroma_stft),\n",
    "                    dim=0,\n",
    "                )\n",
    "            if get_mfcc and get_cqt:\n",
    "                features_tmp = torch.cat(\n",
    "                    (mfcc_features_tmp, cqt),\n",
    "                    dim=0,\n",
    "                )\n",
    "            if get_chroma and get_cqt:\n",
    "                features_tmp = torch.cat(\n",
    "                    (chroma_stft, cqt),\n",
    "                    dim=0,\n",
    "                )\n",
    "            if get_mfcc and get_chroma and get_cqt:\n",
    "                features_tmp = torch.cat(\n",
    "                    (mfcc_features_tmp, chroma_stft, cqt),\n",
    "                    dim=0,\n",
    "                )\n",
    "            if not get_mfcc and not get_chroma and not get_cqt:\n",
    "                features_tmp = torch.tensor([])\n",
    "\n",
    "            features_local.append(features_tmp)\n",
    "\n",
    "        # If features_local is empty, skip the file\n",
    "        if features_local == []:\n",
    "            print(f\"No features extracted for {file}. Skipping...\")\n",
    "            continue\n",
    "\n",
    "        # Stack the MFCC features into a single tensor\n",
    "        features_local = torch.stack(features_local, dim=0)\n",
    "\n",
    "        # Attach the label in the last column\n",
    "        features_local = torch.cat(\n",
    "            (features_local, torch.ones(features_local.shape[0], 1) * label), dim=1\n",
    "        )\n",
    "\n",
    "        # Attach the filename index in the last column\n",
    "        features_local = torch.cat(\n",
    "            (\n",
    "                features_local,\n",
    "                torch.full((features_local.shape[0], 1), filenames.index(file)),\n",
    "            ),\n",
    "            dim=1,\n",
    "        )\n",
    "\n",
    "        features.append(features_local)\n",
    "\n",
    "    print(\"Finished processing all files.\\n\")\n",
    "    return features"
   ]
  },
  {
   "cell_type": "code",
   "execution_count": 31,
   "metadata": {},
   "outputs": [
    {
     "name": "stdout",
     "output_type": "stream",
     "text": [
      "Extracting features from ../dataset/artifacts_4000/\n"
     ]
    },
    {
     "data": {
      "application/vnd.jupyter.widget-view+json": {
       "model_id": "57a844f0879e42048e0f4c15587e6a13",
       "version_major": 2,
       "version_minor": 0
      },
      "text/plain": [
       "Extraction in progress:   0%|          | 0/92 [00:00<?, ?it/s]"
      ]
     },
     "metadata": {},
     "output_type": "display_data"
    },
    {
     "name": "stdout",
     "output_type": "stream",
     "text": [
      "Converting stereo audio to mono for artifact_2023_17.wav...\n",
      "Converting stereo audio to mono for artifact_2023_16.wav...\n",
      "Converting stereo audio to mono for artifact_2023_14.wav...\n",
      "Converting stereo audio to mono for artifact_2023_15.wav...\n",
      "Converting stereo audio to mono for artifact_2023_39.wav...\n",
      "Converting stereo audio to mono for artifact_2023_11.wav...\n",
      "Converting stereo audio to mono for artifact_2023_38.wav...\n",
      "Converting stereo audio to mono for artifact_2023_12.wav...\n",
      "Converting stereo audio to mono for artifact_2023_13.wav...\n",
      "Converting stereo audio to mono for artifact_2023_49.wav...\n",
      "Converting stereo audio to mono for artifact_2023_41.wav...\n",
      "Converting stereo audio to mono for artifact_2023_40.wav...\n",
      "Converting stereo audio to mono for artifact_2023_42.wav...\n",
      "Converting stereo audio to mono for artifact_2023_43.wav...\n",
      "Converting stereo audio to mono for artifact_2023_47.wav...\n",
      "Converting stereo audio to mono for artifact_2023_46.wav...\n",
      "Converting stereo audio to mono for artifact_2023_50.wav...\n",
      "Converting stereo audio to mono for artifact_2023_44.wav...\n",
      "Converting stereo audio to mono for artifact_2023_45.wav...\n",
      "Converting stereo audio to mono for artifact_2023_51.wav...\n",
      "Converting stereo audio to mono for artifact_2023_36.wav...\n",
      "Converting stereo audio to mono for artifact_2023_22.wav...\n",
      "Converting stereo audio to mono for artifact_2023_4.wav...\n",
      "Converting stereo audio to mono for artifact_2023_5.wav...\n",
      "Converting stereo audio to mono for artifact_2023_23.wav...\n",
      "Converting stereo audio to mono for artifact_2023_37.wav...\n",
      "Converting stereo audio to mono for artifact_2023_21.wav...\n",
      "Converting stereo audio to mono for artifact_2023_35.wav...\n",
      "Converting stereo audio to mono for artifact_2023_7.wav...\n",
      "Converting stereo audio to mono for artifact_2023_6.wav...\n",
      "Converting stereo audio to mono for artifact_2023_34.wav...\n",
      "Converting stereo audio to mono for artifact_2023_20.wav...\n",
      "Converting stereo audio to mono for artifact_2023_18.wav...\n",
      "Converting stereo audio to mono for artifact_2023_24.wav...\n",
      "Converting stereo audio to mono for artifact_2023_2.wav...\n",
      "Converting stereo audio to mono for artifact_2023_25.wav...\n",
      "Converting stereo audio to mono for artifact_2023_19.wav...\n",
      "Converting stereo audio to mono for artifact_2023_33.wav...\n",
      "Converting stereo audio to mono for artifact_2023_1.wav...\n",
      "Converting stereo audio to mono for artifact_2023_0.wav...\n",
      "Converting stereo audio to mono for artifact_2023_26.wav...\n",
      "Converting stereo audio to mono for artifact_2023_32.wav...\n",
      "Finished processing all files.\n",
      "\n",
      "The shape of the ../dataset/artifacts_4000/ features tensor is: (970, 32)\n",
      "Extracting features from ../dataset/extrahls_4000/\n"
     ]
    },
    {
     "data": {
      "application/vnd.jupyter.widget-view+json": {
       "model_id": "22dd40168f2e466bb988fdc6fe591f2f",
       "version_major": 2,
       "version_minor": 0
      },
      "text/plain": [
       "Extraction in progress:   0%|          | 0/19 [00:00<?, ?it/s]"
      ]
     },
     "metadata": {},
     "output_type": "display_data"
    },
    {
     "name": "stdout",
     "output_type": "stream",
     "text": [
      "No features extracted for extrahls__201104140118.wav. Skipping...\n",
      "No features extracted for extrahls__201104270459.wav. Skipping...\n",
      "No features extracted for extrahls__201104021355.wav. Skipping...\n",
      "Finished processing all files.\n",
      "\n",
      "The shape of the ../dataset/extrahls_4000/ features tensor is: (55, 32)\n",
      "Extracting features from ../dataset/murmurs_4000/\n"
     ]
    },
    {
     "data": {
      "application/vnd.jupyter.widget-view+json": {
       "model_id": "c922be5ccd8f44509a81928347b429c1",
       "version_major": 2,
       "version_minor": 0
      },
      "text/plain": [
       "Extraction in progress:   0%|          | 0/149 [00:00<?, ?it/s]"
      ]
     },
     "metadata": {},
     "output_type": "display_data"
    },
    {
     "name": "stdout",
     "output_type": "stream",
     "text": [
      "No features extracted for murmur__293_1311680805936_B1.wav. Skipping...\n",
      "No features extracted for murmur__201104021355.wav. Skipping...\n",
      "Converting stereo audio to mono for abnormal_s4_2023_2.wav...\n",
      "No features extracted for murmur__171_1307971016233_E.wav. Skipping...\n",
      "Converting stereo audio to mono for atrial_septal_defect_2023_6.wav...\n",
      "Converting stereo audio to mono for abnormal_s3_2023_1.wav...\n",
      "Converting stereo audio to mono for mitral_stenosis_2023_9.wav...\n",
      "Converting stereo audio to mono for abnormal_s3_2023_0.wav...\n",
      "No features extracted for murmur_noisymurmur_171_1307971016233_D.wav. Skipping...\n",
      "Converting stereo audio to mono for holosystolic_murmur_2023_7.wav...\n",
      "Converting stereo audio to mono for aortic_stenosis_2023_4.wav...\n",
      "Converting stereo audio to mono for mitral_valve_prolapse_2023_10.wav...\n",
      "Converting stereo audio to mono for innocent_murmur_2023_8.wav...\n",
      "Finished processing all files.\n",
      "\n",
      "The shape of the ../dataset/murmurs_4000/ features tensor is: (534, 32)\n",
      "Extracting features from ../dataset/normals_4000/\n"
     ]
    },
    {
     "data": {
      "application/vnd.jupyter.widget-view+json": {
       "model_id": "7989053fdaf44b6d842407038c5da11d",
       "version_major": 2,
       "version_minor": 0
      },
      "text/plain": [
       "Extraction in progress:   0%|          | 0/355 [00:00<?, ?it/s]"
      ]
     },
     "metadata": {},
     "output_type": "display_data"
    },
    {
     "name": "stdout",
     "output_type": "stream",
     "text": [
      "No features extracted for normal__232_1308748524018_D1.wav. Skipping...\n",
      "No features extracted for normal__210_1308162935880_D2.wav. Skipping...\n",
      "No features extracted for normal__210_1308162935880_D1.wav. Skipping...\n",
      "No features extracted for normal__143_1306763822290_C.wav. Skipping...\n",
      "No features extracted for normal__147_1306523973811_C.wav. Skipping...\n",
      "No features extracted for normal__238_1309194586293_B.wav. Skipping...\n",
      "No features extracted for normal__190_1308076920011_C1.wav. Skipping...\n",
      "No features extracted for normal__230_1308595300880_B.wav. Skipping...\n",
      "No features extracted for normal__267_1309368735165_A.wav. Skipping...\n",
      "No features extracted for normal__238_1309194586293_A.wav. Skipping...\n",
      "No features extracted for normal__286_1311170606028_A1.wav. Skipping...\n",
      "No features extracted for normal__210_1308162935880_B1.wav. Skipping...\n",
      "No features extracted for normal__252_1309203336604_B.wav. Skipping...\n",
      "No features extracted for normal__134_1306428161797_C2.wav. Skipping...\n",
      "No features extracted for normal__201_1308144942432_A.wav. Skipping...\n",
      "No features extracted for normal__175_1307987962616_B1.wav. Skipping...\n",
      "No features extracted for normal_noisynormal_137_1306764999211_C1.wav. Skipping...\n",
      "No features extracted for normal__232_1308748524018_B1.wav. Skipping...\n",
      "No features extracted for normal__235_1308749032454_C.wav. Skipping...\n",
      "No features extracted for normal__296_1311682952647_A1.wav. Skipping...\n",
      "No features extracted for normal__250_1309202496494_A.wav. Skipping...\n",
      "No features extracted for normal__296_1311682952647_A2.wav. Skipping...\n",
      "No features extracted for normal__286_1311170606028_A.wav. Skipping...\n",
      "No features extracted for normal__146_1306778707532_D3.wav. Skipping...\n",
      "No features extracted for normal_noisynormal_173_1307973611151_B.wav. Skipping...\n",
      "No features extracted for normal__232_1308748524018_A.wav. Skipping...\n",
      "No features extracted for normal__209_1308162216750_A1.wav. Skipping...\n",
      "No features extracted for normal__159_1307018640315_B2.wav. Skipping...\n",
      "No features extracted for normal__154_1306935608852_D.wav. Skipping...\n",
      "No features extracted for normal__152_1306779561195_C1.wav. Skipping...\n",
      "No features extracted for normal_noisynormal_178_1307989887769_B1.wav. Skipping...\n",
      "No features extracted for normal__295_1311682673157_D.wav. Skipping...\n",
      "No features extracted for normal__232_1308748524018_B.wav. Skipping...\n",
      "No features extracted for normal__210_1308162935880_B.wav. Skipping...\n",
      "No features extracted for normal__232_1308748524018_C.wav. Skipping...\n",
      "No features extracted for normal__158_1306947254705_B2.wav. Skipping...\n",
      "No features extracted for normal__282_1311166081161_C.wav. Skipping...\n",
      "No features extracted for normal_noisynormal_137_1306764999211_B.wav. Skipping...\n",
      "No features extracted for normal__283_1311167409239_A.wav. Skipping...\n",
      "No features extracted for normal__274_1311075637574_D.wav. Skipping...\n",
      "No features extracted for normal_noisynormal_234_1308748855534_B.wav. Skipping...\n",
      "No features extracted for normal__134_1306428161797_D.wav. Skipping...\n",
      "Converting stereo audio to mono for normal_2023_3.wav...\n",
      "No features extracted for normal__237_1308750231222_C.wav. Skipping...\n",
      "Converting stereo audio to mono for normal_2023_2.wav...\n",
      "No features extracted for normal__133_1306759619127_D.wav. Skipping...\n",
      "No features extracted for normal__274_1311075637574_B1.wav. Skipping...\n",
      "No features extracted for normal__176_1307988171173_B1.wav. Skipping...\n",
      "No features extracted for normal__215_1308245664733_C1.wav. Skipping...\n",
      "No features extracted for normal__218_1308246311449_C.wav. Skipping...\n",
      "Converting stereo audio to mono for normal_2023_0.wav...\n",
      "Converting stereo audio to mono for normal_2023_1.wav...\n",
      "No features extracted for normal__214_1308245489717_A.wav. Skipping...\n",
      "No features extracted for normal__167_1307111318050_C.wav. Skipping...\n",
      "Finished processing all files.\n",
      "\n",
      "The shape of the ../dataset/normals_4000/ features tensor is: (984, 32)\n",
      "Extracting features from ../dataset/extrastoles_4000/\n"
     ]
    },
    {
     "data": {
      "application/vnd.jupyter.widget-view+json": {
       "model_id": "1648cd8601c94d58a7d70d892009f786",
       "version_major": 2,
       "version_minor": 0
      },
      "text/plain": [
       "Extraction in progress:   0%|          | 0/46 [00:00<?, ?it/s]"
      ]
     },
     "metadata": {},
     "output_type": "display_data"
    },
    {
     "name": "stdout",
     "output_type": "stream",
     "text": [
      "No features extracted for extrastole__190_1308076920011_C.wav. Skipping...\n",
      "Finished processing all files.\n",
      "\n",
      "The shape of the ../dataset/extrastoles_4000/ features tensor is: (113, 32)\n",
      "Features extracted and saved\n",
      "Extracting features from ../dataset/artifacts_4000/\n"
     ]
    },
    {
     "data": {
      "application/vnd.jupyter.widget-view+json": {
       "model_id": "0d878542a68f46caa4caefc5e23d7245",
       "version_major": 2,
       "version_minor": 0
      },
      "text/plain": [
       "Extraction in progress:   0%|          | 0/92 [00:00<?, ?it/s]"
      ]
     },
     "metadata": {},
     "output_type": "display_data"
    },
    {
     "name": "stdout",
     "output_type": "stream",
     "text": [
      "Converting stereo audio to mono for artifact_2023_17.wav...\n",
      "Converting stereo audio to mono for artifact_2023_16.wav...\n",
      "Converting stereo audio to mono for artifact_2023_14.wav...\n",
      "Converting stereo audio to mono for artifact_2023_15.wav...\n",
      "Converting stereo audio to mono for artifact_2023_39.wav...\n",
      "Converting stereo audio to mono for artifact_2023_11.wav...\n",
      "Converting stereo audio to mono for artifact_2023_38.wav...\n",
      "Converting stereo audio to mono for artifact_2023_12.wav...\n",
      "Converting stereo audio to mono for artifact_2023_13.wav...\n",
      "Converting stereo audio to mono for artifact_2023_49.wav...\n",
      "Converting stereo audio to mono for artifact_2023_41.wav...\n",
      "Converting stereo audio to mono for artifact_2023_40.wav...\n",
      "Converting stereo audio to mono for artifact_2023_42.wav...\n",
      "Converting stereo audio to mono for artifact_2023_43.wav...\n",
      "Converting stereo audio to mono for artifact_2023_47.wav...\n",
      "Converting stereo audio to mono for artifact_2023_46.wav...\n",
      "Converting stereo audio to mono for artifact_2023_50.wav...\n",
      "Converting stereo audio to mono for artifact_2023_44.wav...\n",
      "Converting stereo audio to mono for artifact_2023_45.wav...\n",
      "Converting stereo audio to mono for artifact_2023_51.wav...\n",
      "Converting stereo audio to mono for artifact_2023_36.wav...\n",
      "Converting stereo audio to mono for artifact_2023_22.wav...\n",
      "Converting stereo audio to mono for artifact_2023_4.wav...\n",
      "Converting stereo audio to mono for artifact_2023_5.wav...\n",
      "Converting stereo audio to mono for artifact_2023_23.wav...\n",
      "Converting stereo audio to mono for artifact_2023_37.wav...\n",
      "Converting stereo audio to mono for artifact_2023_21.wav...\n",
      "Converting stereo audio to mono for artifact_2023_35.wav...\n",
      "Converting stereo audio to mono for artifact_2023_7.wav...\n",
      "Converting stereo audio to mono for artifact_2023_6.wav...\n",
      "Converting stereo audio to mono for artifact_2023_34.wav...\n",
      "Converting stereo audio to mono for artifact_2023_20.wav...\n",
      "Converting stereo audio to mono for artifact_2023_18.wav...\n",
      "Converting stereo audio to mono for artifact_2023_24.wav...\n",
      "Converting stereo audio to mono for artifact_2023_2.wav...\n",
      "Converting stereo audio to mono for artifact_2023_25.wav...\n",
      "Converting stereo audio to mono for artifact_2023_19.wav...\n",
      "Converting stereo audio to mono for artifact_2023_33.wav...\n",
      "Converting stereo audio to mono for artifact_2023_1.wav...\n",
      "Converting stereo audio to mono for artifact_2023_0.wav...\n",
      "Converting stereo audio to mono for artifact_2023_26.wav...\n",
      "Converting stereo audio to mono for artifact_2023_32.wav...\n",
      "Finished processing all files.\n",
      "\n",
      "The shape of the ../dataset/artifacts_4000/ features tensor is: (970, 122)\n",
      "Extracting features from ../dataset/extrahls_4000/\n"
     ]
    },
    {
     "data": {
      "application/vnd.jupyter.widget-view+json": {
       "model_id": "b2e78db1dc0e45ac9535043467b0715f",
       "version_major": 2,
       "version_minor": 0
      },
      "text/plain": [
       "Extraction in progress:   0%|          | 0/19 [00:00<?, ?it/s]"
      ]
     },
     "metadata": {},
     "output_type": "display_data"
    },
    {
     "name": "stdout",
     "output_type": "stream",
     "text": [
      "No features extracted for extrahls__201104140118.wav. Skipping...\n",
      "No features extracted for extrahls__201104270459.wav. Skipping...\n",
      "No features extracted for extrahls__201104021355.wav. Skipping...\n",
      "Finished processing all files.\n",
      "\n",
      "The shape of the ../dataset/extrahls_4000/ features tensor is: (55, 122)\n",
      "Extracting features from ../dataset/murmurs_4000/\n"
     ]
    },
    {
     "data": {
      "application/vnd.jupyter.widget-view+json": {
       "model_id": "bd8bfa0a558d48fabc9b7244d7874ec2",
       "version_major": 2,
       "version_minor": 0
      },
      "text/plain": [
       "Extraction in progress:   0%|          | 0/149 [00:00<?, ?it/s]"
      ]
     },
     "metadata": {},
     "output_type": "display_data"
    },
    {
     "name": "stdout",
     "output_type": "stream",
     "text": [
      "No features extracted for murmur__293_1311680805936_B1.wav. Skipping...\n",
      "No features extracted for murmur__201104021355.wav. Skipping...\n",
      "Converting stereo audio to mono for abnormal_s4_2023_2.wav...\n",
      "No features extracted for murmur__171_1307971016233_E.wav. Skipping...\n",
      "Converting stereo audio to mono for atrial_septal_defect_2023_6.wav...\n",
      "Converting stereo audio to mono for abnormal_s3_2023_1.wav...\n",
      "Converting stereo audio to mono for mitral_stenosis_2023_9.wav...\n",
      "Converting stereo audio to mono for abnormal_s3_2023_0.wav...\n",
      "No features extracted for murmur_noisymurmur_171_1307971016233_D.wav. Skipping...\n",
      "Converting stereo audio to mono for holosystolic_murmur_2023_7.wav...\n",
      "Converting stereo audio to mono for aortic_stenosis_2023_4.wav...\n",
      "Converting stereo audio to mono for mitral_valve_prolapse_2023_10.wav...\n",
      "Converting stereo audio to mono for innocent_murmur_2023_8.wav...\n",
      "Finished processing all files.\n",
      "\n",
      "The shape of the ../dataset/murmurs_4000/ features tensor is: (534, 122)\n",
      "Extracting features from ../dataset/normals_4000/\n"
     ]
    },
    {
     "data": {
      "application/vnd.jupyter.widget-view+json": {
       "model_id": "fcb478d798d6430aa27cb4d6a0ded2c7",
       "version_major": 2,
       "version_minor": 0
      },
      "text/plain": [
       "Extraction in progress:   0%|          | 0/355 [00:00<?, ?it/s]"
      ]
     },
     "metadata": {},
     "output_type": "display_data"
    },
    {
     "name": "stdout",
     "output_type": "stream",
     "text": [
      "No features extracted for normal__232_1308748524018_D1.wav. Skipping...\n",
      "No features extracted for normal__210_1308162935880_D2.wav. Skipping...\n",
      "No features extracted for normal__210_1308162935880_D1.wav. Skipping...\n",
      "No features extracted for normal__143_1306763822290_C.wav. Skipping...\n",
      "No features extracted for normal__147_1306523973811_C.wav. Skipping...\n",
      "No features extracted for normal__238_1309194586293_B.wav. Skipping...\n",
      "No features extracted for normal__190_1308076920011_C1.wav. Skipping...\n",
      "No features extracted for normal__230_1308595300880_B.wav. Skipping...\n",
      "No features extracted for normal__267_1309368735165_A.wav. Skipping...\n",
      "No features extracted for normal__238_1309194586293_A.wav. Skipping...\n",
      "No features extracted for normal__286_1311170606028_A1.wav. Skipping...\n",
      "No features extracted for normal__210_1308162935880_B1.wav. Skipping...\n",
      "No features extracted for normal__252_1309203336604_B.wav. Skipping...\n",
      "No features extracted for normal__134_1306428161797_C2.wav. Skipping...\n",
      "No features extracted for normal__201_1308144942432_A.wav. Skipping...\n",
      "No features extracted for normal__175_1307987962616_B1.wav. Skipping...\n",
      "No features extracted for normal_noisynormal_137_1306764999211_C1.wav. Skipping...\n",
      "No features extracted for normal__232_1308748524018_B1.wav. Skipping...\n",
      "No features extracted for normal__235_1308749032454_C.wav. Skipping...\n",
      "No features extracted for normal__296_1311682952647_A1.wav. Skipping...\n",
      "No features extracted for normal__250_1309202496494_A.wav. Skipping...\n",
      "No features extracted for normal__296_1311682952647_A2.wav. Skipping...\n",
      "No features extracted for normal__286_1311170606028_A.wav. Skipping...\n",
      "No features extracted for normal__146_1306778707532_D3.wav. Skipping...\n",
      "No features extracted for normal_noisynormal_173_1307973611151_B.wav. Skipping...\n",
      "No features extracted for normal__232_1308748524018_A.wav. Skipping...\n",
      "No features extracted for normal__209_1308162216750_A1.wav. Skipping...\n",
      "No features extracted for normal__159_1307018640315_B2.wav. Skipping...\n",
      "No features extracted for normal__154_1306935608852_D.wav. Skipping...\n",
      "No features extracted for normal__152_1306779561195_C1.wav. Skipping...\n",
      "No features extracted for normal_noisynormal_178_1307989887769_B1.wav. Skipping...\n",
      "No features extracted for normal__295_1311682673157_D.wav. Skipping...\n",
      "No features extracted for normal__232_1308748524018_B.wav. Skipping...\n",
      "No features extracted for normal__210_1308162935880_B.wav. Skipping...\n",
      "No features extracted for normal__232_1308748524018_C.wav. Skipping...\n",
      "No features extracted for normal__158_1306947254705_B2.wav. Skipping...\n",
      "No features extracted for normal__282_1311166081161_C.wav. Skipping...\n",
      "No features extracted for normal_noisynormal_137_1306764999211_B.wav. Skipping...\n",
      "No features extracted for normal__283_1311167409239_A.wav. Skipping...\n",
      "No features extracted for normal__274_1311075637574_D.wav. Skipping...\n",
      "No features extracted for normal_noisynormal_234_1308748855534_B.wav. Skipping...\n",
      "No features extracted for normal__134_1306428161797_D.wav. Skipping...\n",
      "Converting stereo audio to mono for normal_2023_3.wav...\n",
      "No features extracted for normal__237_1308750231222_C.wav. Skipping...\n",
      "Converting stereo audio to mono for normal_2023_2.wav...\n",
      "No features extracted for normal__133_1306759619127_D.wav. Skipping...\n",
      "No features extracted for normal__274_1311075637574_B1.wav. Skipping...\n",
      "No features extracted for normal__176_1307988171173_B1.wav. Skipping...\n",
      "No features extracted for normal__215_1308245664733_C1.wav. Skipping...\n",
      "No features extracted for normal__218_1308246311449_C.wav. Skipping...\n",
      "Converting stereo audio to mono for normal_2023_0.wav...\n",
      "Converting stereo audio to mono for normal_2023_1.wav...\n",
      "No features extracted for normal__214_1308245489717_A.wav. Skipping...\n",
      "No features extracted for normal__167_1307111318050_C.wav. Skipping...\n",
      "Finished processing all files.\n",
      "\n",
      "The shape of the ../dataset/normals_4000/ features tensor is: (984, 122)\n",
      "Extracting features from ../dataset/extrastoles_4000/\n"
     ]
    },
    {
     "data": {
      "application/vnd.jupyter.widget-view+json": {
       "model_id": "2d0ef6b12d5141a99d9315dbfe61b295",
       "version_major": 2,
       "version_minor": 0
      },
      "text/plain": [
       "Extraction in progress:   0%|          | 0/46 [00:00<?, ?it/s]"
      ]
     },
     "metadata": {},
     "output_type": "display_data"
    },
    {
     "name": "stdout",
     "output_type": "stream",
     "text": [
      "No features extracted for extrastole__190_1308076920011_C.wav. Skipping...\n",
      "Finished processing all files.\n",
      "\n",
      "The shape of the ../dataset/extrastoles_4000/ features tensor is: (113, 122)\n",
      "Features extracted and saved\n"
     ]
    }
   ],
   "source": [
    "# ------------------------- MFCC -------------------------\n",
    "n_mfcc_list = [30, 120]\n",
    "names = [\"artifacts\", \"extrahls\", \"murmurs\", \"normals\", \"extrastoles\"]\n",
    "features_dict = {}\n",
    "interval = INTERVAL\n",
    "type_ = 'mfcc'  # mfcc, mel_spec, spec, cqt\n",
    "# melkwargs = {'n_fft': 2048, 'hop_length': 512, 'n_mels': 128}\n",
    "\n",
    "for n_mfcc in n_mfcc_list:\n",
    "    # Save the features to a file\n",
    "    storing_name = f\"full_data_{interval}s_{sr}hz_{n_mfcc}{type_}\"  ########## CHANGE THIS TO CHANGE THE NAME OF THE FILE\n",
    "\n",
    "    if os.path.exists(FEATURES_RAW_DIR + storing_name + \".npy\"):\n",
    "        print(\"The features have already been extracted\")\n",
    "\n",
    "    else:\n",
    "        for i, PATH_ in enumerate(PATHS):\n",
    "\n",
    "            print(f\"Extracting features from {PATH_}\")\n",
    "            features = extract_features(\n",
    "                PATH_,\n",
    "                label=i,\n",
    "                frame_length=interval,\n",
    "                n_mfcc=n_mfcc,\n",
    "                get_mfcc=True,\n",
    "                get_chroma=False,\n",
    "                get_cqt=False,\n",
    "            )\n",
    "\n",
    "            # Stack the features into a single tensor\n",
    "            features = torch.cat(features, dim=0).numpy()\n",
    "            print(f\"The shape of the {PATH_} features tensor is: {features.shape}\")\n",
    "\n",
    "            X = features[:, :-2]\n",
    "            y = features[:, -2]\n",
    "            filename = features[:, -1]\n",
    "\n",
    "            local_dict = {\"X\": X, \"y\": y, \"filename\": filename}\n",
    "\n",
    "            features_dict[names[i]] = local_dict\n",
    "\n",
    "        # Save the features to a file\n",
    "        np.save(FEATURES_RAW_DIR + storing_name, features_dict)\n",
    "\n",
    "        print(\"Features extracted and saved\")"
   ]
  },
  {
   "cell_type": "code",
   "execution_count": 32,
   "metadata": {},
   "outputs": [
    {
     "name": "stdout",
     "output_type": "stream",
     "text": [
      "Extracting features from ../dataset/artifacts_4000/\n"
     ]
    },
    {
     "data": {
      "application/vnd.jupyter.widget-view+json": {
       "model_id": "3f7618c32a4d45cfacafe8d2346405ec",
       "version_major": 2,
       "version_minor": 0
      },
      "text/plain": [
       "Extraction in progress:   0%|          | 0/92 [00:00<?, ?it/s]"
      ]
     },
     "metadata": {},
     "output_type": "display_data"
    },
    {
     "name": "stdout",
     "output_type": "stream",
     "text": [
      "Converting stereo audio to mono for artifact_2023_17.wav...\n",
      "Converting stereo audio to mono for artifact_2023_16.wav...\n",
      "Converting stereo audio to mono for artifact_2023_14.wav...\n",
      "Converting stereo audio to mono for artifact_2023_15.wav...\n",
      "Converting stereo audio to mono for artifact_2023_39.wav...\n",
      "Converting stereo audio to mono for artifact_2023_11.wav...\n",
      "Converting stereo audio to mono for artifact_2023_38.wav...\n",
      "Converting stereo audio to mono for artifact_2023_12.wav...\n",
      "Converting stereo audio to mono for artifact_2023_13.wav...\n",
      "Converting stereo audio to mono for artifact_2023_49.wav...\n",
      "Converting stereo audio to mono for artifact_2023_41.wav...\n",
      "Converting stereo audio to mono for artifact_2023_40.wav...\n",
      "Converting stereo audio to mono for artifact_2023_42.wav...\n",
      "Converting stereo audio to mono for artifact_2023_43.wav...\n",
      "Converting stereo audio to mono for artifact_2023_47.wav...\n",
      "Converting stereo audio to mono for artifact_2023_46.wav...\n",
      "Converting stereo audio to mono for artifact_2023_50.wav...\n",
      "Converting stereo audio to mono for artifact_2023_44.wav...\n",
      "Converting stereo audio to mono for artifact_2023_45.wav...\n",
      "Converting stereo audio to mono for artifact_2023_51.wav...\n",
      "Converting stereo audio to mono for artifact_2023_36.wav...\n",
      "Converting stereo audio to mono for artifact_2023_22.wav...\n",
      "Converting stereo audio to mono for artifact_2023_4.wav...\n",
      "Converting stereo audio to mono for artifact_2023_5.wav...\n",
      "Converting stereo audio to mono for artifact_2023_23.wav...\n",
      "Converting stereo audio to mono for artifact_2023_37.wav...\n",
      "Converting stereo audio to mono for artifact_2023_21.wav...\n",
      "Converting stereo audio to mono for artifact_2023_35.wav...\n",
      "Converting stereo audio to mono for artifact_2023_7.wav...\n",
      "Converting stereo audio to mono for artifact_2023_6.wav...\n",
      "Converting stereo audio to mono for artifact_2023_34.wav...\n",
      "Converting stereo audio to mono for artifact_2023_20.wav...\n",
      "Converting stereo audio to mono for artifact_2023_18.wav...\n",
      "Converting stereo audio to mono for artifact_2023_24.wav...\n",
      "Converting stereo audio to mono for artifact_2023_2.wav...\n",
      "Converting stereo audio to mono for artifact_2023_25.wav...\n",
      "Converting stereo audio to mono for artifact_2023_19.wav...\n",
      "Converting stereo audio to mono for artifact_2023_33.wav...\n",
      "Converting stereo audio to mono for artifact_2023_1.wav...\n",
      "Converting stereo audio to mono for artifact_2023_0.wav...\n",
      "Converting stereo audio to mono for artifact_2023_26.wav...\n",
      "Converting stereo audio to mono for artifact_2023_32.wav...\n",
      "Finished processing all files.\n",
      "\n",
      "The shape of the ../dataset/artifacts_4000/ features tensor is: (970, 14)\n",
      "Extracting features from ../dataset/extrahls_4000/\n"
     ]
    },
    {
     "data": {
      "application/vnd.jupyter.widget-view+json": {
       "model_id": "92b9abc6d10941e7a969a7c8a8d0ca60",
       "version_major": 2,
       "version_minor": 0
      },
      "text/plain": [
       "Extraction in progress:   0%|          | 0/19 [00:00<?, ?it/s]"
      ]
     },
     "metadata": {},
     "output_type": "display_data"
    },
    {
     "name": "stdout",
     "output_type": "stream",
     "text": [
      "No features extracted for extrahls__201104140118.wav. Skipping...\n",
      "No features extracted for extrahls__201104270459.wav. Skipping...\n",
      "No features extracted for extrahls__201104021355.wav. Skipping...\n",
      "Finished processing all files.\n",
      "\n",
      "The shape of the ../dataset/extrahls_4000/ features tensor is: (55, 14)\n",
      "Extracting features from ../dataset/murmurs_4000/\n"
     ]
    },
    {
     "data": {
      "application/vnd.jupyter.widget-view+json": {
       "model_id": "0077cd9023aa42da82b444e7a9f68af9",
       "version_major": 2,
       "version_minor": 0
      },
      "text/plain": [
       "Extraction in progress:   0%|          | 0/149 [00:00<?, ?it/s]"
      ]
     },
     "metadata": {},
     "output_type": "display_data"
    },
    {
     "name": "stdout",
     "output_type": "stream",
     "text": [
      "No features extracted for murmur__293_1311680805936_B1.wav. Skipping...\n",
      "No features extracted for murmur__201104021355.wav. Skipping...\n",
      "Converting stereo audio to mono for abnormal_s4_2023_2.wav...\n",
      "No features extracted for murmur__171_1307971016233_E.wav. Skipping...\n",
      "Converting stereo audio to mono for atrial_septal_defect_2023_6.wav...\n",
      "Converting stereo audio to mono for abnormal_s3_2023_1.wav...\n",
      "Converting stereo audio to mono for mitral_stenosis_2023_9.wav...\n",
      "Converting stereo audio to mono for abnormal_s3_2023_0.wav...\n",
      "No features extracted for murmur_noisymurmur_171_1307971016233_D.wav. Skipping...\n",
      "Converting stereo audio to mono for holosystolic_murmur_2023_7.wav...\n",
      "Converting stereo audio to mono for aortic_stenosis_2023_4.wav...\n",
      "Converting stereo audio to mono for mitral_valve_prolapse_2023_10.wav...\n",
      "Converting stereo audio to mono for innocent_murmur_2023_8.wav...\n",
      "Finished processing all files.\n",
      "\n",
      "The shape of the ../dataset/murmurs_4000/ features tensor is: (534, 14)\n",
      "Extracting features from ../dataset/normals_4000/\n"
     ]
    },
    {
     "data": {
      "application/vnd.jupyter.widget-view+json": {
       "model_id": "fa0f8a0b5ba04875a289efe95d7aceb1",
       "version_major": 2,
       "version_minor": 0
      },
      "text/plain": [
       "Extraction in progress:   0%|          | 0/355 [00:00<?, ?it/s]"
      ]
     },
     "metadata": {},
     "output_type": "display_data"
    },
    {
     "name": "stdout",
     "output_type": "stream",
     "text": [
      "No features extracted for normal__232_1308748524018_D1.wav. Skipping...\n",
      "No features extracted for normal__210_1308162935880_D2.wav. Skipping...\n",
      "No features extracted for normal__210_1308162935880_D1.wav. Skipping...\n",
      "No features extracted for normal__143_1306763822290_C.wav. Skipping...\n",
      "No features extracted for normal__147_1306523973811_C.wav. Skipping...\n",
      "No features extracted for normal__238_1309194586293_B.wav. Skipping...\n",
      "No features extracted for normal__190_1308076920011_C1.wav. Skipping...\n",
      "No features extracted for normal__230_1308595300880_B.wav. Skipping...\n",
      "No features extracted for normal__267_1309368735165_A.wav. Skipping...\n",
      "No features extracted for normal__238_1309194586293_A.wav. Skipping...\n",
      "No features extracted for normal__286_1311170606028_A1.wav. Skipping...\n",
      "No features extracted for normal__210_1308162935880_B1.wav. Skipping...\n",
      "No features extracted for normal__252_1309203336604_B.wav. Skipping...\n",
      "No features extracted for normal__134_1306428161797_C2.wav. Skipping...\n",
      "No features extracted for normal__201_1308144942432_A.wav. Skipping...\n",
      "No features extracted for normal__175_1307987962616_B1.wav. Skipping...\n",
      "No features extracted for normal_noisynormal_137_1306764999211_C1.wav. Skipping...\n",
      "No features extracted for normal__232_1308748524018_B1.wav. Skipping...\n",
      "No features extracted for normal__235_1308749032454_C.wav. Skipping...\n",
      "No features extracted for normal__296_1311682952647_A1.wav. Skipping...\n",
      "No features extracted for normal__250_1309202496494_A.wav. Skipping...\n",
      "No features extracted for normal__296_1311682952647_A2.wav. Skipping...\n",
      "No features extracted for normal__286_1311170606028_A.wav. Skipping...\n",
      "No features extracted for normal__146_1306778707532_D3.wav. Skipping...\n",
      "No features extracted for normal_noisynormal_173_1307973611151_B.wav. Skipping...\n",
      "No features extracted for normal__232_1308748524018_A.wav. Skipping...\n",
      "No features extracted for normal__209_1308162216750_A1.wav. Skipping...\n",
      "No features extracted for normal__159_1307018640315_B2.wav. Skipping...\n",
      "No features extracted for normal__154_1306935608852_D.wav. Skipping...\n",
      "No features extracted for normal__152_1306779561195_C1.wav. Skipping...\n",
      "No features extracted for normal_noisynormal_178_1307989887769_B1.wav. Skipping...\n",
      "No features extracted for normal__295_1311682673157_D.wav. Skipping...\n",
      "No features extracted for normal__232_1308748524018_B.wav. Skipping...\n",
      "No features extracted for normal__210_1308162935880_B.wav. Skipping...\n",
      "No features extracted for normal__232_1308748524018_C.wav. Skipping...\n",
      "No features extracted for normal__158_1306947254705_B2.wav. Skipping...\n",
      "No features extracted for normal__282_1311166081161_C.wav. Skipping...\n",
      "No features extracted for normal_noisynormal_137_1306764999211_B.wav. Skipping...\n",
      "No features extracted for normal__283_1311167409239_A.wav. Skipping...\n",
      "No features extracted for normal__274_1311075637574_D.wav. Skipping...\n",
      "No features extracted for normal_noisynormal_234_1308748855534_B.wav. Skipping...\n",
      "No features extracted for normal__134_1306428161797_D.wav. Skipping...\n",
      "Converting stereo audio to mono for normal_2023_3.wav...\n",
      "No features extracted for normal__237_1308750231222_C.wav. Skipping...\n",
      "Converting stereo audio to mono for normal_2023_2.wav...\n",
      "No features extracted for normal__133_1306759619127_D.wav. Skipping...\n",
      "No features extracted for normal__274_1311075637574_B1.wav. Skipping...\n",
      "No features extracted for normal__176_1307988171173_B1.wav. Skipping...\n",
      "No features extracted for normal__215_1308245664733_C1.wav. Skipping...\n",
      "No features extracted for normal__218_1308246311449_C.wav. Skipping...\n",
      "Converting stereo audio to mono for normal_2023_0.wav...\n",
      "Converting stereo audio to mono for normal_2023_1.wav...\n",
      "No features extracted for normal__214_1308245489717_A.wav. Skipping...\n",
      "No features extracted for normal__167_1307111318050_C.wav. Skipping...\n",
      "Finished processing all files.\n",
      "\n",
      "The shape of the ../dataset/normals_4000/ features tensor is: (984, 14)\n",
      "Extracting features from ../dataset/extrastoles_4000/\n"
     ]
    },
    {
     "data": {
      "application/vnd.jupyter.widget-view+json": {
       "model_id": "36ad1cbaa5224b9885763c38dba4290b",
       "version_major": 2,
       "version_minor": 0
      },
      "text/plain": [
       "Extraction in progress:   0%|          | 0/46 [00:00<?, ?it/s]"
      ]
     },
     "metadata": {},
     "output_type": "display_data"
    },
    {
     "name": "stdout",
     "output_type": "stream",
     "text": [
      "No features extracted for extrastole__190_1308076920011_C.wav. Skipping...\n",
      "Finished processing all files.\n",
      "\n",
      "The shape of the ../dataset/extrastoles_4000/ features tensor is: (113, 14)\n",
      "Features extracted and saved\n",
      "The features have already been extracted\n"
     ]
    }
   ],
   "source": [
    "# ------------------------- CHROMA -------------------------\n",
    "names = [\"artifacts\", \"extrahls\", \"murmurs\", \"normals\", \"extrastoles\"]\n",
    "features_dict = {}\n",
    "interval = INTERVAL\n",
    "n_features = 12\n",
    "type_ = \"chroma\"  # mfcc, mel_spec, spec, cqt\n",
    "# melkwargs = {'n_fft': 2048, 'hop_length': 512, 'n_mels': 128}\n",
    "\n",
    "for n_mfcc in n_mfcc_list:\n",
    "    # Save the features to a file\n",
    "    storing_name = f\"full_data_{interval}s_{sr}hz_{n_features}{type_}\"  ########## CHANGE THIS TO CHANGE THE NAME OF THE FILE\n",
    "\n",
    "    if os.path.exists(FEATURES_RAW_DIR + storing_name + \".npy\"):\n",
    "        print(\"The features have already been extracted\")\n",
    "\n",
    "    else:\n",
    "        for i, PATH_ in enumerate(PATHS):\n",
    "\n",
    "            print(f\"Extracting features from {PATH_}\")\n",
    "            features = extract_features(\n",
    "                PATH_,\n",
    "                label=i,\n",
    "                frame_length=interval,\n",
    "                n_mfcc=n_mfcc,\n",
    "                get_mfcc=False,\n",
    "                get_chroma=True,\n",
    "                get_cqt=False,\n",
    "            )\n",
    "\n",
    "            # Stack the features into a single tensor\n",
    "            features = torch.cat(features, dim=0).numpy()\n",
    "            print(f\"The shape of the {PATH_} features tensor is: {features.shape}\")\n",
    "\n",
    "            X = features[:, :-2]\n",
    "            y = features[:, -2]\n",
    "            filename = features[:, -1]\n",
    "\n",
    "            local_dict = {\"X\": X, \"y\": y, \"filename\": filename}\n",
    "\n",
    "            features_dict[names[i]] = local_dict\n",
    "\n",
    "        # Save the features to a file\n",
    "        np.save(FEATURES_RAW_DIR + storing_name, features_dict)\n",
    "\n",
    "        print(\"Features extracted and saved\")"
   ]
  },
  {
   "cell_type": "code",
   "execution_count": 33,
   "metadata": {},
   "outputs": [
    {
     "name": "stdout",
     "output_type": "stream",
     "text": [
      "Extracting features from ../dataset/artifacts_4000/\n"
     ]
    },
    {
     "data": {
      "application/vnd.jupyter.widget-view+json": {
       "model_id": "c1fd740aa5464ede98c912309e55b28e",
       "version_major": 2,
       "version_minor": 0
      },
      "text/plain": [
       "Extraction in progress:   0%|          | 0/92 [00:00<?, ?it/s]"
      ]
     },
     "metadata": {},
     "output_type": "display_data"
    },
    {
     "name": "stdout",
     "output_type": "stream",
     "text": [
      "Converting stereo audio to mono for artifact_2023_17.wav...\n",
      "Converting stereo audio to mono for artifact_2023_16.wav...\n",
      "Converting stereo audio to mono for artifact_2023_14.wav...\n",
      "Converting stereo audio to mono for artifact_2023_15.wav...\n",
      "Converting stereo audio to mono for artifact_2023_39.wav...\n",
      "Converting stereo audio to mono for artifact_2023_11.wav...\n",
      "Converting stereo audio to mono for artifact_2023_38.wav...\n",
      "Converting stereo audio to mono for artifact_2023_12.wav...\n",
      "Converting stereo audio to mono for artifact_2023_13.wav...\n",
      "Converting stereo audio to mono for artifact_2023_49.wav...\n",
      "Converting stereo audio to mono for artifact_2023_41.wav...\n",
      "Converting stereo audio to mono for artifact_2023_40.wav...\n",
      "Converting stereo audio to mono for artifact_2023_42.wav...\n",
      "Converting stereo audio to mono for artifact_2023_43.wav...\n",
      "Converting stereo audio to mono for artifact_2023_47.wav...\n",
      "Converting stereo audio to mono for artifact_2023_46.wav...\n",
      "Converting stereo audio to mono for artifact_2023_50.wav...\n",
      "Converting stereo audio to mono for artifact_2023_44.wav...\n",
      "Converting stereo audio to mono for artifact_2023_45.wav...\n",
      "Converting stereo audio to mono for artifact_2023_51.wav...\n",
      "Converting stereo audio to mono for artifact_2023_36.wav...\n",
      "Converting stereo audio to mono for artifact_2023_22.wav...\n",
      "Converting stereo audio to mono for artifact_2023_4.wav...\n",
      "Converting stereo audio to mono for artifact_2023_5.wav...\n",
      "Converting stereo audio to mono for artifact_2023_23.wav...\n",
      "Converting stereo audio to mono for artifact_2023_37.wav...\n",
      "Converting stereo audio to mono for artifact_2023_21.wav...\n",
      "Converting stereo audio to mono for artifact_2023_35.wav...\n",
      "Converting stereo audio to mono for artifact_2023_7.wav...\n",
      "Converting stereo audio to mono for artifact_2023_6.wav...\n",
      "Converting stereo audio to mono for artifact_2023_34.wav...\n",
      "Converting stereo audio to mono for artifact_2023_20.wav...\n",
      "Converting stereo audio to mono for artifact_2023_18.wav...\n",
      "Converting stereo audio to mono for artifact_2023_24.wav...\n",
      "Converting stereo audio to mono for artifact_2023_2.wav...\n",
      "Converting stereo audio to mono for artifact_2023_25.wav...\n",
      "Converting stereo audio to mono for artifact_2023_19.wav...\n",
      "Converting stereo audio to mono for artifact_2023_33.wav...\n",
      "Converting stereo audio to mono for artifact_2023_1.wav...\n",
      "Converting stereo audio to mono for artifact_2023_0.wav...\n",
      "Converting stereo audio to mono for artifact_2023_26.wav...\n",
      "Converting stereo audio to mono for artifact_2023_32.wav...\n",
      "Finished processing all files.\n",
      "\n",
      "The shape of the ../dataset/artifacts_4000/ features tensor is: (970, 32)\n",
      "Extracting features from ../dataset/extrahls_4000/\n"
     ]
    },
    {
     "data": {
      "application/vnd.jupyter.widget-view+json": {
       "model_id": "0697835fb4a34a64a35d3c5cded109ce",
       "version_major": 2,
       "version_minor": 0
      },
      "text/plain": [
       "Extraction in progress:   0%|          | 0/19 [00:00<?, ?it/s]"
      ]
     },
     "metadata": {},
     "output_type": "display_data"
    },
    {
     "name": "stdout",
     "output_type": "stream",
     "text": [
      "No features extracted for extrahls__201104140118.wav. Skipping...\n",
      "No features extracted for extrahls__201104270459.wav. Skipping...\n",
      "No features extracted for extrahls__201104021355.wav. Skipping...\n",
      "Finished processing all files.\n",
      "\n",
      "The shape of the ../dataset/extrahls_4000/ features tensor is: (55, 32)\n",
      "Extracting features from ../dataset/murmurs_4000/\n"
     ]
    },
    {
     "data": {
      "application/vnd.jupyter.widget-view+json": {
       "model_id": "5dea87f7565a4452adf790fd85ce7fe6",
       "version_major": 2,
       "version_minor": 0
      },
      "text/plain": [
       "Extraction in progress:   0%|          | 0/149 [00:00<?, ?it/s]"
      ]
     },
     "metadata": {},
     "output_type": "display_data"
    },
    {
     "name": "stdout",
     "output_type": "stream",
     "text": [
      "No features extracted for murmur__293_1311680805936_B1.wav. Skipping...\n",
      "No features extracted for murmur__201104021355.wav. Skipping...\n",
      "Converting stereo audio to mono for abnormal_s4_2023_2.wav...\n",
      "No features extracted for murmur__171_1307971016233_E.wav. Skipping...\n",
      "Converting stereo audio to mono for atrial_septal_defect_2023_6.wav...\n",
      "Converting stereo audio to mono for abnormal_s3_2023_1.wav...\n",
      "Converting stereo audio to mono for mitral_stenosis_2023_9.wav...\n",
      "Converting stereo audio to mono for abnormal_s3_2023_0.wav...\n",
      "No features extracted for murmur_noisymurmur_171_1307971016233_D.wav. Skipping...\n",
      "Converting stereo audio to mono for holosystolic_murmur_2023_7.wav...\n",
      "Converting stereo audio to mono for aortic_stenosis_2023_4.wav...\n",
      "Converting stereo audio to mono for mitral_valve_prolapse_2023_10.wav...\n",
      "Converting stereo audio to mono for innocent_murmur_2023_8.wav...\n",
      "Finished processing all files.\n",
      "\n",
      "The shape of the ../dataset/murmurs_4000/ features tensor is: (534, 32)\n",
      "Extracting features from ../dataset/normals_4000/\n"
     ]
    },
    {
     "data": {
      "application/vnd.jupyter.widget-view+json": {
       "model_id": "a56e4cee75af46d6ad11ce21668d5449",
       "version_major": 2,
       "version_minor": 0
      },
      "text/plain": [
       "Extraction in progress:   0%|          | 0/355 [00:00<?, ?it/s]"
      ]
     },
     "metadata": {},
     "output_type": "display_data"
    },
    {
     "name": "stdout",
     "output_type": "stream",
     "text": [
      "No features extracted for normal__232_1308748524018_D1.wav. Skipping...\n",
      "No features extracted for normal__210_1308162935880_D2.wav. Skipping...\n",
      "No features extracted for normal__210_1308162935880_D1.wav. Skipping...\n",
      "No features extracted for normal__143_1306763822290_C.wav. Skipping...\n",
      "No features extracted for normal__147_1306523973811_C.wav. Skipping...\n",
      "No features extracted for normal__238_1309194586293_B.wav. Skipping...\n",
      "No features extracted for normal__190_1308076920011_C1.wav. Skipping...\n",
      "No features extracted for normal__230_1308595300880_B.wav. Skipping...\n",
      "No features extracted for normal__267_1309368735165_A.wav. Skipping...\n",
      "No features extracted for normal__238_1309194586293_A.wav. Skipping...\n",
      "No features extracted for normal__286_1311170606028_A1.wav. Skipping...\n",
      "No features extracted for normal__210_1308162935880_B1.wav. Skipping...\n",
      "No features extracted for normal__252_1309203336604_B.wav. Skipping...\n",
      "No features extracted for normal__134_1306428161797_C2.wav. Skipping...\n",
      "No features extracted for normal__201_1308144942432_A.wav. Skipping...\n",
      "No features extracted for normal__175_1307987962616_B1.wav. Skipping...\n",
      "No features extracted for normal_noisynormal_137_1306764999211_C1.wav. Skipping...\n",
      "No features extracted for normal__232_1308748524018_B1.wav. Skipping...\n",
      "No features extracted for normal__235_1308749032454_C.wav. Skipping...\n",
      "No features extracted for normal__296_1311682952647_A1.wav. Skipping...\n",
      "No features extracted for normal__250_1309202496494_A.wav. Skipping...\n",
      "No features extracted for normal__296_1311682952647_A2.wav. Skipping...\n",
      "No features extracted for normal__286_1311170606028_A.wav. Skipping...\n",
      "No features extracted for normal__146_1306778707532_D3.wav. Skipping...\n",
      "No features extracted for normal_noisynormal_173_1307973611151_B.wav. Skipping...\n",
      "No features extracted for normal__232_1308748524018_A.wav. Skipping...\n",
      "No features extracted for normal__209_1308162216750_A1.wav. Skipping...\n",
      "No features extracted for normal__159_1307018640315_B2.wav. Skipping...\n",
      "No features extracted for normal__154_1306935608852_D.wav. Skipping...\n",
      "No features extracted for normal__152_1306779561195_C1.wav. Skipping...\n",
      "No features extracted for normal_noisynormal_178_1307989887769_B1.wav. Skipping...\n",
      "No features extracted for normal__295_1311682673157_D.wav. Skipping...\n",
      "No features extracted for normal__232_1308748524018_B.wav. Skipping...\n",
      "No features extracted for normal__210_1308162935880_B.wav. Skipping...\n",
      "No features extracted for normal__232_1308748524018_C.wav. Skipping...\n",
      "No features extracted for normal__158_1306947254705_B2.wav. Skipping...\n",
      "No features extracted for normal__282_1311166081161_C.wav. Skipping...\n",
      "No features extracted for normal_noisynormal_137_1306764999211_B.wav. Skipping...\n",
      "No features extracted for normal__283_1311167409239_A.wav. Skipping...\n",
      "No features extracted for normal__274_1311075637574_D.wav. Skipping...\n",
      "No features extracted for normal_noisynormal_234_1308748855534_B.wav. Skipping...\n",
      "No features extracted for normal__134_1306428161797_D.wav. Skipping...\n",
      "Converting stereo audio to mono for normal_2023_3.wav...\n",
      "No features extracted for normal__237_1308750231222_C.wav. Skipping...\n",
      "Converting stereo audio to mono for normal_2023_2.wav...\n",
      "No features extracted for normal__133_1306759619127_D.wav. Skipping...\n",
      "No features extracted for normal__274_1311075637574_B1.wav. Skipping...\n",
      "No features extracted for normal__176_1307988171173_B1.wav. Skipping...\n",
      "No features extracted for normal__215_1308245664733_C1.wav. Skipping...\n",
      "No features extracted for normal__218_1308246311449_C.wav. Skipping...\n",
      "Converting stereo audio to mono for normal_2023_0.wav...\n",
      "Converting stereo audio to mono for normal_2023_1.wav...\n",
      "No features extracted for normal__214_1308245489717_A.wav. Skipping...\n",
      "No features extracted for normal__167_1307111318050_C.wav. Skipping...\n",
      "Finished processing all files.\n",
      "\n",
      "The shape of the ../dataset/normals_4000/ features tensor is: (984, 32)\n",
      "Extracting features from ../dataset/extrastoles_4000/\n"
     ]
    },
    {
     "data": {
      "application/vnd.jupyter.widget-view+json": {
       "model_id": "9f1630eb040c432784815bfd2d1e91c3",
       "version_major": 2,
       "version_minor": 0
      },
      "text/plain": [
       "Extraction in progress:   0%|          | 0/46 [00:00<?, ?it/s]"
      ]
     },
     "metadata": {},
     "output_type": "display_data"
    },
    {
     "name": "stdout",
     "output_type": "stream",
     "text": [
      "No features extracted for extrastole__190_1308076920011_C.wav. Skipping...\n",
      "Finished processing all files.\n",
      "\n",
      "The shape of the ../dataset/extrastoles_4000/ features tensor is: (113, 32)\n",
      "Features extracted and saved\n",
      "Extracting features from ../dataset/artifacts_4000/\n"
     ]
    },
    {
     "data": {
      "application/vnd.jupyter.widget-view+json": {
       "model_id": "f601afb68822440cb4689e385ca570e8",
       "version_major": 2,
       "version_minor": 0
      },
      "text/plain": [
       "Extraction in progress:   0%|          | 0/92 [00:00<?, ?it/s]"
      ]
     },
     "metadata": {},
     "output_type": "display_data"
    },
    {
     "name": "stdout",
     "output_type": "stream",
     "text": [
      "Converting stereo audio to mono for artifact_2023_17.wav...\n",
      "Converting stereo audio to mono for artifact_2023_16.wav...\n",
      "Converting stereo audio to mono for artifact_2023_14.wav...\n",
      "Converting stereo audio to mono for artifact_2023_15.wav...\n",
      "Converting stereo audio to mono for artifact_2023_39.wav...\n",
      "Converting stereo audio to mono for artifact_2023_11.wav...\n",
      "Converting stereo audio to mono for artifact_2023_38.wav...\n",
      "Converting stereo audio to mono for artifact_2023_12.wav...\n",
      "Converting stereo audio to mono for artifact_2023_13.wav...\n",
      "Converting stereo audio to mono for artifact_2023_49.wav...\n",
      "Converting stereo audio to mono for artifact_2023_41.wav...\n",
      "Converting stereo audio to mono for artifact_2023_40.wav...\n",
      "Converting stereo audio to mono for artifact_2023_42.wav...\n",
      "Converting stereo audio to mono for artifact_2023_43.wav...\n",
      "Converting stereo audio to mono for artifact_2023_47.wav...\n",
      "Converting stereo audio to mono for artifact_2023_46.wav...\n",
      "Converting stereo audio to mono for artifact_2023_50.wav...\n",
      "Converting stereo audio to mono for artifact_2023_44.wav...\n",
      "Converting stereo audio to mono for artifact_2023_45.wav...\n",
      "Converting stereo audio to mono for artifact_2023_51.wav...\n",
      "Converting stereo audio to mono for artifact_2023_36.wav...\n",
      "Converting stereo audio to mono for artifact_2023_22.wav...\n",
      "Converting stereo audio to mono for artifact_2023_4.wav...\n",
      "Converting stereo audio to mono for artifact_2023_5.wav...\n",
      "Converting stereo audio to mono for artifact_2023_23.wav...\n",
      "Converting stereo audio to mono for artifact_2023_37.wav...\n",
      "Converting stereo audio to mono for artifact_2023_21.wav...\n",
      "Converting stereo audio to mono for artifact_2023_35.wav...\n",
      "Converting stereo audio to mono for artifact_2023_7.wav...\n",
      "Converting stereo audio to mono for artifact_2023_6.wav...\n",
      "Converting stereo audio to mono for artifact_2023_34.wav...\n",
      "Converting stereo audio to mono for artifact_2023_20.wav...\n",
      "Converting stereo audio to mono for artifact_2023_18.wav...\n",
      "Converting stereo audio to mono for artifact_2023_24.wav...\n",
      "Converting stereo audio to mono for artifact_2023_2.wav...\n",
      "Converting stereo audio to mono for artifact_2023_25.wav...\n",
      "Converting stereo audio to mono for artifact_2023_19.wav...\n",
      "Converting stereo audio to mono for artifact_2023_33.wav...\n",
      "Converting stereo audio to mono for artifact_2023_1.wav...\n",
      "Converting stereo audio to mono for artifact_2023_0.wav...\n",
      "Converting stereo audio to mono for artifact_2023_26.wav...\n",
      "Converting stereo audio to mono for artifact_2023_32.wav...\n",
      "Finished processing all files.\n",
      "\n",
      "The shape of the ../dataset/artifacts_4000/ features tensor is: (970, 72)\n",
      "Extracting features from ../dataset/extrahls_4000/\n"
     ]
    },
    {
     "data": {
      "application/vnd.jupyter.widget-view+json": {
       "model_id": "a9d63d841aa746a3930d9a3b14d772c6",
       "version_major": 2,
       "version_minor": 0
      },
      "text/plain": [
       "Extraction in progress:   0%|          | 0/19 [00:00<?, ?it/s]"
      ]
     },
     "metadata": {},
     "output_type": "display_data"
    },
    {
     "name": "stdout",
     "output_type": "stream",
     "text": [
      "No features extracted for extrahls__201104140118.wav. Skipping...\n",
      "No features extracted for extrahls__201104270459.wav. Skipping...\n",
      "No features extracted for extrahls__201104021355.wav. Skipping...\n",
      "Finished processing all files.\n",
      "\n",
      "The shape of the ../dataset/extrahls_4000/ features tensor is: (55, 72)\n",
      "Extracting features from ../dataset/murmurs_4000/\n"
     ]
    },
    {
     "data": {
      "application/vnd.jupyter.widget-view+json": {
       "model_id": "3b0fd4c50f79456d811abeffc74f1986",
       "version_major": 2,
       "version_minor": 0
      },
      "text/plain": [
       "Extraction in progress:   0%|          | 0/149 [00:00<?, ?it/s]"
      ]
     },
     "metadata": {},
     "output_type": "display_data"
    },
    {
     "name": "stdout",
     "output_type": "stream",
     "text": [
      "No features extracted for murmur__293_1311680805936_B1.wav. Skipping...\n",
      "No features extracted for murmur__201104021355.wav. Skipping...\n",
      "Converting stereo audio to mono for abnormal_s4_2023_2.wav...\n",
      "No features extracted for murmur__171_1307971016233_E.wav. Skipping...\n",
      "Converting stereo audio to mono for atrial_septal_defect_2023_6.wav...\n",
      "Converting stereo audio to mono for abnormal_s3_2023_1.wav...\n",
      "Converting stereo audio to mono for mitral_stenosis_2023_9.wav...\n",
      "Converting stereo audio to mono for abnormal_s3_2023_0.wav...\n",
      "No features extracted for murmur_noisymurmur_171_1307971016233_D.wav. Skipping...\n",
      "Converting stereo audio to mono for holosystolic_murmur_2023_7.wav...\n",
      "Converting stereo audio to mono for aortic_stenosis_2023_4.wav...\n",
      "Converting stereo audio to mono for mitral_valve_prolapse_2023_10.wav...\n",
      "Converting stereo audio to mono for innocent_murmur_2023_8.wav...\n",
      "Finished processing all files.\n",
      "\n",
      "The shape of the ../dataset/murmurs_4000/ features tensor is: (534, 72)\n",
      "Extracting features from ../dataset/normals_4000/\n"
     ]
    },
    {
     "data": {
      "application/vnd.jupyter.widget-view+json": {
       "model_id": "46bf9a19bbca4c42af7e2dc8c82c2b76",
       "version_major": 2,
       "version_minor": 0
      },
      "text/plain": [
       "Extraction in progress:   0%|          | 0/355 [00:00<?, ?it/s]"
      ]
     },
     "metadata": {},
     "output_type": "display_data"
    },
    {
     "name": "stdout",
     "output_type": "stream",
     "text": [
      "No features extracted for normal__232_1308748524018_D1.wav. Skipping...\n",
      "No features extracted for normal__210_1308162935880_D2.wav. Skipping...\n",
      "No features extracted for normal__210_1308162935880_D1.wav. Skipping...\n",
      "No features extracted for normal__143_1306763822290_C.wav. Skipping...\n",
      "No features extracted for normal__147_1306523973811_C.wav. Skipping...\n",
      "No features extracted for normal__238_1309194586293_B.wav. Skipping...\n",
      "No features extracted for normal__190_1308076920011_C1.wav. Skipping...\n",
      "No features extracted for normal__230_1308595300880_B.wav. Skipping...\n",
      "No features extracted for normal__267_1309368735165_A.wav. Skipping...\n",
      "No features extracted for normal__238_1309194586293_A.wav. Skipping...\n",
      "No features extracted for normal__286_1311170606028_A1.wav. Skipping...\n",
      "No features extracted for normal__210_1308162935880_B1.wav. Skipping...\n",
      "No features extracted for normal__252_1309203336604_B.wav. Skipping...\n",
      "No features extracted for normal__134_1306428161797_C2.wav. Skipping...\n",
      "No features extracted for normal__201_1308144942432_A.wav. Skipping...\n",
      "No features extracted for normal__175_1307987962616_B1.wav. Skipping...\n",
      "No features extracted for normal_noisynormal_137_1306764999211_C1.wav. Skipping...\n",
      "No features extracted for normal__232_1308748524018_B1.wav. Skipping...\n",
      "No features extracted for normal__235_1308749032454_C.wav. Skipping...\n",
      "No features extracted for normal__296_1311682952647_A1.wav. Skipping...\n",
      "No features extracted for normal__250_1309202496494_A.wav. Skipping...\n",
      "No features extracted for normal__296_1311682952647_A2.wav. Skipping...\n",
      "No features extracted for normal__286_1311170606028_A.wav. Skipping...\n",
      "No features extracted for normal__146_1306778707532_D3.wav. Skipping...\n",
      "No features extracted for normal_noisynormal_173_1307973611151_B.wav. Skipping...\n",
      "No features extracted for normal__232_1308748524018_A.wav. Skipping...\n",
      "No features extracted for normal__209_1308162216750_A1.wav. Skipping...\n",
      "No features extracted for normal__159_1307018640315_B2.wav. Skipping...\n",
      "No features extracted for normal__154_1306935608852_D.wav. Skipping...\n",
      "No features extracted for normal__152_1306779561195_C1.wav. Skipping...\n",
      "No features extracted for normal_noisynormal_178_1307989887769_B1.wav. Skipping...\n",
      "No features extracted for normal__295_1311682673157_D.wav. Skipping...\n",
      "No features extracted for normal__232_1308748524018_B.wav. Skipping...\n",
      "No features extracted for normal__210_1308162935880_B.wav. Skipping...\n",
      "No features extracted for normal__232_1308748524018_C.wav. Skipping...\n",
      "No features extracted for normal__158_1306947254705_B2.wav. Skipping...\n",
      "No features extracted for normal__282_1311166081161_C.wav. Skipping...\n",
      "No features extracted for normal_noisynormal_137_1306764999211_B.wav. Skipping...\n",
      "No features extracted for normal__283_1311167409239_A.wav. Skipping...\n",
      "No features extracted for normal__274_1311075637574_D.wav. Skipping...\n",
      "No features extracted for normal_noisynormal_234_1308748855534_B.wav. Skipping...\n",
      "No features extracted for normal__134_1306428161797_D.wav. Skipping...\n",
      "Converting stereo audio to mono for normal_2023_3.wav...\n",
      "No features extracted for normal__237_1308750231222_C.wav. Skipping...\n",
      "Converting stereo audio to mono for normal_2023_2.wav...\n",
      "No features extracted for normal__133_1306759619127_D.wav. Skipping...\n",
      "No features extracted for normal__274_1311075637574_B1.wav. Skipping...\n",
      "No features extracted for normal__176_1307988171173_B1.wav. Skipping...\n",
      "No features extracted for normal__215_1308245664733_C1.wav. Skipping...\n",
      "No features extracted for normal__218_1308246311449_C.wav. Skipping...\n",
      "Converting stereo audio to mono for normal_2023_0.wav...\n",
      "Converting stereo audio to mono for normal_2023_1.wav...\n",
      "No features extracted for normal__214_1308245489717_A.wav. Skipping...\n",
      "No features extracted for normal__167_1307111318050_C.wav. Skipping...\n",
      "Finished processing all files.\n",
      "\n",
      "The shape of the ../dataset/normals_4000/ features tensor is: (984, 72)\n",
      "Extracting features from ../dataset/extrastoles_4000/\n"
     ]
    },
    {
     "data": {
      "application/vnd.jupyter.widget-view+json": {
       "model_id": "bef3bb20c0394d93b32958decd09d6aa",
       "version_major": 2,
       "version_minor": 0
      },
      "text/plain": [
       "Extraction in progress:   0%|          | 0/46 [00:00<?, ?it/s]"
      ]
     },
     "metadata": {},
     "output_type": "display_data"
    },
    {
     "name": "stdout",
     "output_type": "stream",
     "text": [
      "No features extracted for extrastole__190_1308076920011_C.wav. Skipping...\n",
      "Finished processing all files.\n",
      "\n",
      "The shape of the ../dataset/extrastoles_4000/ features tensor is: (113, 72)\n",
      "Features extracted and saved\n"
     ]
    }
   ],
   "source": [
    "# ------------------------- CQT -------------------------\n",
    "n_cqt_list = [30, 70]\n",
    "names = [\"artifacts\", \"extrahls\", \"murmurs\", \"normals\", \"extrastoles\"]\n",
    "features_dict = {}\n",
    "interval = INTERVAL\n",
    "type_ = 'cqt'  # mfcc, mel_spec, spec, cqt\n",
    "# melkwargs = {'n_fft': 2048, 'hop_length': 512, 'n_mels': 128}\n",
    "\n",
    "for n_cqt in n_cqt_list:\n",
    "    # Save the features to a file\n",
    "    storing_name = f\"full_data_{interval}s_{sr}hz_{n_cqt}{type_}\"  ########## CHANGE THIS TO CHANGE THE NAME OF THE FILE\n",
    "\n",
    "    if os.path.exists(FEATURES_RAW_DIR + storing_name + \".npy\"):\n",
    "        print(\"The features have already been extracted\")\n",
    "\n",
    "    else:\n",
    "        for i, PATH_ in enumerate(PATHS):\n",
    "\n",
    "            print(f\"Extracting features from {PATH_}\")\n",
    "            features = extract_features(\n",
    "                PATH_,\n",
    "                label=i,\n",
    "                frame_length=interval,\n",
    "                n_cqt=n_cqt,\n",
    "                get_mfcc=False,\n",
    "                get_chroma=False,\n",
    "                get_cqt=True,\n",
    "            )\n",
    "\n",
    "            # Stack the features into a single tensor\n",
    "            features = torch.cat(features, dim=0).numpy()\n",
    "            print(f\"The shape of the {PATH_} features tensor is: {features.shape}\")\n",
    "\n",
    "            X = features[:, :-2]\n",
    "            y = features[:, -2]\n",
    "            filename = features[:, -1]\n",
    "\n",
    "            local_dict = {\"X\": X, \"y\": y, \"filename\": filename}\n",
    "\n",
    "            features_dict[names[i]] = local_dict\n",
    "\n",
    "        # Save the features to a file\n",
    "        np.save(FEATURES_RAW_DIR + storing_name, features_dict)\n",
    "\n",
    "        print(\"Features extracted and saved\")"
   ]
  },
  {
   "cell_type": "markdown",
   "metadata": {},
   "source": [
    "### All Features Extraction\n",
    "\n",
    "- **MFCC (Mel-Frequency Cepstral Coefficients)**: n_mfcc chosen by the user\n",
    "- **Chroma STFT**: 12 coefficients\n",
    "- **CQT (Constant-Q Transform)**: n_cqt chosen by the user\n",
    "- **RMS (Root Mean Square) Energy**: 1 coefficient\n",
    "- **Spectral Centroid**: 1 coefficient\n",
    "- **Spectral Bandwidth**: 1 coefficient\n",
    "- **Spectral Roll-off**: 1 coefficient\n",
    "- **Zero Crossing Rate**: 1 coefficient\n"
   ]
  },
  {
   "cell_type": "code",
   "execution_count": 16,
   "metadata": {},
   "outputs": [
    {
     "name": "stdout",
     "output_type": "stream",
     "text": [
      "Extracting features from ../dataset/artifacts/\n"
     ]
    },
    {
     "data": {
      "application/vnd.jupyter.widget-view+json": {
       "model_id": "4f00c4297445435aaccd9e02474b5e66",
       "version_major": 2,
       "version_minor": 0
      },
      "text/plain": [
       "Extraction in progress:   0%|          | 0/92 [00:00<?, ?it/s]"
      ]
     },
     "metadata": {},
     "output_type": "display_data"
    },
    {
     "name": "stdout",
     "output_type": "stream",
     "text": [
      "Converting stereo audio to mono for artifact_2023_17.wav...\n"
     ]
    },
    {
     "name": "stderr",
     "output_type": "stream",
     "text": [
      "/opt/homebrew/lib/python3.11/site-packages/torchaudio/functional/functional.py:584: UserWarning: At least one mel filterbank has all zero values. The value for `n_mels` (128) may be set too high. Or, the value for `n_freqs` (201) may be set too low.\n",
      "  warnings.warn(\n",
      "/opt/homebrew/lib/python3.11/site-packages/torchaudio/functional/functional.py:584: UserWarning: At least one mel filterbank has all zero values. The value for `n_mels` (128) may be set too high. Or, the value for `n_freqs` (201) may be set too low.\n",
      "  warnings.warn(\n"
     ]
    },
    {
     "name": "stdout",
     "output_type": "stream",
     "text": [
      "Converting stereo audio to mono for artifact_2023_16.wav...\n",
      "Converting stereo audio to mono for artifact_2023_14.wav...\n"
     ]
    },
    {
     "name": "stderr",
     "output_type": "stream",
     "text": [
      "/opt/homebrew/lib/python3.11/site-packages/librosa/core/pitch.py:101: UserWarning: Trying to estimate tuning from empty frequency set.\n",
      "  return pitch_tuning(\n"
     ]
    },
    {
     "name": "stdout",
     "output_type": "stream",
     "text": [
      "Converting stereo audio to mono for artifact_2023_15.wav...\n",
      "Converting stereo audio to mono for artifact_2023_39.wav...\n",
      "Converting stereo audio to mono for artifact_2023_11.wav...\n",
      "Converting stereo audio to mono for artifact_2023_38.wav...\n",
      "Converting stereo audio to mono for artifact_2023_12.wav...\n",
      "Converting stereo audio to mono for artifact_2023_13.wav...\n",
      "Converting stereo audio to mono for artifact_2023_49.wav...\n",
      "Converting stereo audio to mono for artifact_2023_41.wav...\n",
      "Converting stereo audio to mono for artifact_2023_40.wav...\n",
      "Converting stereo audio to mono for artifact_2023_42.wav...\n",
      "Converting stereo audio to mono for artifact_2023_43.wav...\n",
      "Converting stereo audio to mono for artifact_2023_47.wav...\n",
      "Converting stereo audio to mono for artifact_2023_46.wav...\n",
      "Converting stereo audio to mono for artifact_2023_50.wav...\n",
      "Converting stereo audio to mono for artifact_2023_44.wav...\n",
      "Converting stereo audio to mono for artifact_2023_45.wav...\n",
      "Converting stereo audio to mono for artifact_2023_51.wav...\n",
      "Converting stereo audio to mono for artifact_2023_36.wav...\n",
      "Converting stereo audio to mono for artifact_2023_22.wav...\n",
      "Converting stereo audio to mono for artifact_2023_4.wav...\n",
      "Converting stereo audio to mono for artifact_2023_5.wav...\n",
      "Converting stereo audio to mono for artifact_2023_23.wav...\n",
      "Converting stereo audio to mono for artifact_2023_37.wav...\n",
      "Converting stereo audio to mono for artifact_2023_21.wav...\n",
      "Converting stereo audio to mono for artifact_2023_35.wav...\n",
      "Converting stereo audio to mono for artifact_2023_7.wav...\n",
      "Converting stereo audio to mono for artifact_2023_6.wav...\n",
      "Converting stereo audio to mono for artifact_2023_34.wav...\n",
      "Converting stereo audio to mono for artifact_2023_20.wav...\n",
      "Converting stereo audio to mono for artifact_2023_18.wav...\n",
      "Converting stereo audio to mono for artifact_2023_24.wav...\n",
      "Converting stereo audio to mono for artifact_2023_2.wav...\n",
      "Converting stereo audio to mono for artifact_2023_25.wav...\n",
      "Converting stereo audio to mono for artifact_2023_19.wav...\n",
      "Converting stereo audio to mono for artifact_2023_33.wav...\n",
      "Converting stereo audio to mono for artifact_2023_1.wav...\n",
      "Converting stereo audio to mono for artifact_2023_0.wav...\n",
      "Converting stereo audio to mono for artifact_2023_26.wav...\n",
      "Converting stereo audio to mono for artifact_2023_32.wav...\n",
      "Finished processing all files.\n",
      "\n",
      "The shape of the ../dataset/artifacts/ features tensor is: (2000, 119)\n",
      "Extracting features from ../dataset/extrahls/\n"
     ]
    },
    {
     "data": {
      "application/vnd.jupyter.widget-view+json": {
       "model_id": "1dbe8d2cf20c43759e9d5c40810148ed",
       "version_major": 2,
       "version_minor": 0
      },
      "text/plain": [
       "Extraction in progress:   0%|          | 0/19 [00:00<?, ?it/s]"
      ]
     },
     "metadata": {},
     "output_type": "display_data"
    },
    {
     "name": "stdout",
     "output_type": "stream",
     "text": [
      "No features extracted for extrahls__201104021355.wav. Skipping...\n",
      "Finished processing all files.\n",
      "\n",
      "The shape of the ../dataset/extrahls/ features tensor is: (124, 119)\n",
      "Extracting features from ../dataset/murmurs/\n"
     ]
    },
    {
     "data": {
      "application/vnd.jupyter.widget-view+json": {
       "model_id": "0ed8a8d89c9349d19a23f48032e1207d",
       "version_major": 2,
       "version_minor": 0
      },
      "text/plain": [
       "Extraction in progress:   0%|          | 0/149 [00:00<?, ?it/s]"
      ]
     },
     "metadata": {},
     "output_type": "display_data"
    },
    {
     "name": "stderr",
     "output_type": "stream",
     "text": [
      "/opt/homebrew/lib/python3.11/site-packages/librosa/core/spectrum.py:266: UserWarning: n_fft=128 is too large for input signal of length=125\n",
      "  warnings.warn(\n"
     ]
    },
    {
     "name": "stdout",
     "output_type": "stream",
     "text": [
      "No features extracted for murmur__201104021355.wav. Skipping...\n",
      "Converting stereo audio to mono for abnormal_s4_2023_2.wav...\n",
      "No features extracted for murmur__171_1307971016233_E.wav. Skipping...\n",
      "Converting stereo audio to mono for atrial_septal_defect_2023_6.wav...\n",
      "Converting stereo audio to mono for abnormal_s3_2023_1.wav...\n",
      "Converting stereo audio to mono for mitral_stenosis_2023_9.wav...\n",
      "Converting stereo audio to mono for abnormal_s3_2023_0.wav...\n",
      "Converting stereo audio to mono for holosystolic_murmur_2023_7.wav...\n",
      "Converting stereo audio to mono for aortic_stenosis_2023_4.wav...\n"
     ]
    },
    {
     "name": "stderr",
     "output_type": "stream",
     "text": [
      "/opt/homebrew/lib/python3.11/site-packages/librosa/core/spectrum.py:266: UserWarning: n_fft=256 is too large for input signal of length=250\n",
      "  warnings.warn(\n"
     ]
    },
    {
     "name": "stdout",
     "output_type": "stream",
     "text": [
      "Converting stereo audio to mono for mitral_valve_prolapse_2023_10.wav...\n",
      "Converting stereo audio to mono for innocent_murmur_2023_8.wav...\n",
      "Finished processing all files.\n",
      "\n",
      "The shape of the ../dataset/murmurs/ features tensor is: (1149, 119)\n",
      "Extracting features from ../dataset/normals/\n"
     ]
    },
    {
     "data": {
      "application/vnd.jupyter.widget-view+json": {
       "model_id": "fe97a9c024d44a3a8e2f6ab92d66f4bc",
       "version_major": 2,
       "version_minor": 0
      },
      "text/plain": [
       "Extraction in progress:   0%|          | 0/355 [00:00<?, ?it/s]"
      ]
     },
     "metadata": {},
     "output_type": "display_data"
    },
    {
     "name": "stdout",
     "output_type": "stream",
     "text": [
      "No features extracted for normal__296_1311682952647_A1.wav. Skipping...\n",
      "Converting stereo audio to mono for normal_2023_3.wav...\n",
      "Converting stereo audio to mono for normal_2023_2.wav...\n",
      "Converting stereo audio to mono for normal_2023_0.wav...\n",
      "Converting stereo audio to mono for normal_2023_1.wav...\n",
      "Finished processing all files.\n",
      "\n",
      "The shape of the ../dataset/normals/ features tensor is: (2161, 119)\n",
      "Extracting features from ../dataset/extrastoles/\n"
     ]
    },
    {
     "data": {
      "application/vnd.jupyter.widget-view+json": {
       "model_id": "9373fb45da4e46eb9c7a4728abab1552",
       "version_major": 2,
       "version_minor": 0
      },
      "text/plain": [
       "Extraction in progress:   0%|          | 0/46 [00:00<?, ?it/s]"
      ]
     },
     "metadata": {},
     "output_type": "display_data"
    },
    {
     "name": "stdout",
     "output_type": "stream",
     "text": [
      "Finished processing all files.\n",
      "\n",
      "The shape of the ../dataset/extrastoles/ features tensor is: (247, 119)\n",
      "Features extracted and saved\n"
     ]
    }
   ],
   "source": [
    "# FEATURES EXTRACTION\n",
    "names = [\"artifacts\", \"extrahls\", \"murmurs\", \"normals\", \"extrastoles\"]\n",
    "features_dict = {}\n",
    "interval = 1\n",
    "n_mfcc = 30  # 30, 120\n",
    "n_cqt = 70  # 30, 70\n",
    "\n",
    "# melkwargs = {'n_fft': 2048, 'hop_length': 512, 'n_mels': 128}\n",
    "\n",
    "# Save the features to a file\n",
    "storing_name = f\"full_data_{interval}s_{sr}hz_{n_mfcc}mfcc_{n_cqt}cqt_12chroma\"  ########## CHANGE THIS TO CHANGE THE NAME OF THE FILE\n",
    "\n",
    "\n",
    "if os.path.exists(FEATURES_RAW_DIR + storing_name + \".npy\"):\n",
    "    print(\"The features have already been extracted\")\n",
    "\n",
    "else:\n",
    "    for i, PATH_ in enumerate(PATHS):\n",
    "\n",
    "        print(f\"Extracting features from {PATH_}\")\n",
    "        features = utils.extract_features(\n",
    "            PATH_, label=i, frame_length=interval, n_mfcc=n_mfcc, n_cqt=n_cqt\n",
    "        )\n",
    "\n",
    "        # Stack the features into a single tensor\n",
    "        features = torch.cat(features, dim=0).numpy()\n",
    "        print(f\"The shape of the {PATH_} features tensor is: {features.shape}\")\n",
    "\n",
    "        X = features[:, :-2]\n",
    "        y = features[:, -2]\n",
    "        filename = features[:, -1]\n",
    "\n",
    "        local_dict = {\"X\": X, \"y\": y, \"filename\": filename}\n",
    "\n",
    "        features_dict[names[i]] = local_dict\n",
    "\n",
    "    # Save the features to a file\n",
    "    np.save(FEATURES_RAW_DIR + storing_name, features_dict)\n",
    "\n",
    "    print(\"Features extracted and saved\")"
   ]
  },
  {
   "cell_type": "code",
   "execution_count": 17,
   "metadata": {},
   "outputs": [
    {
     "name": "stdout",
     "output_type": "stream",
     "text": [
      "The shape of the artifacts features tensor is: (2000, 117)\n",
      "The shape of the artifacts labels tensor is: (2000,)\n",
      "The shape of the artifacts filenames tensor is: (2000,)\n",
      "-----------------------------------------------\n",
      "The shape of the extrahls features tensor is: (124, 117)\n",
      "The shape of the extrahls labels tensor is: (124,)\n",
      "The shape of the extrahls filenames tensor is: (124,)\n",
      "-----------------------------------------------\n",
      "The shape of the murmurs features tensor is: (1149, 117)\n",
      "The shape of the murmurs labels tensor is: (1149,)\n",
      "The shape of the murmurs filenames tensor is: (1149,)\n",
      "-----------------------------------------------\n",
      "The shape of the normals features tensor is: (2161, 117)\n",
      "The shape of the normals labels tensor is: (2161,)\n",
      "The shape of the normals filenames tensor is: (2161,)\n",
      "-----------------------------------------------\n",
      "The shape of the extrastoles features tensor is: (247, 117)\n",
      "The shape of the extrastoles labels tensor is: (247,)\n",
      "The shape of the extrastoles filenames tensor is: (247,)\n",
      "-----------------------------------------------\n"
     ]
    }
   ],
   "source": [
    "# load the features and check the shape\n",
    "features_dict = np.load(\n",
    "    FEATURES_RAW_DIR + storing_name + \".npy\", allow_pickle=True\n",
    ").item()\n",
    "for key in features_dict.keys():\n",
    "    print(f'The shape of the {key} features tensor is: {features_dict[key][\"X\"].shape}')\n",
    "    print(f'The shape of the {key} labels tensor is: {features_dict[key][\"y\"].shape}')\n",
    "    print(\n",
    "        f'The shape of the {key} filenames tensor is: {features_dict[key][\"filename\"].shape}'\n",
    "    )\n",
    "    print(\"-----------------------------------------------\")"
   ]
  },
  {
   "cell_type": "code",
   "execution_count": 18,
   "metadata": {},
   "outputs": [
    {
     "data": {
      "text/plain": [
       "5681"
      ]
     },
     "execution_count": 18,
     "metadata": {},
     "output_type": "execute_result"
    }
   ],
   "source": [
    "s = 0\n",
    "for key in features_dict.keys():\n",
    "    s += features_dict[key][\"X\"].shape[0]\n",
    "s"
   ]
  }
 ],
 "metadata": {
  "kernelspec": {
   "display_name": "Python 3",
   "language": "python",
   "name": "python3"
  },
  "language_info": {
   "codemirror_mode": {
    "name": "ipython",
    "version": 3
   },
   "file_extension": ".py",
   "mimetype": "text/x-python",
   "name": "python",
   "nbconvert_exporter": "python",
   "pygments_lexer": "ipython3",
   "version": "3.11.6"
  }
 },
 "nbformat": 4,
 "nbformat_minor": 2
}
