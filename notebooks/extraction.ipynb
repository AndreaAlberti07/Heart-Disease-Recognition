{
 "cells": [
  {
   "cell_type": "markdown",
   "metadata": {},
   "source": [
    "## Feature Extraction Notebook\n",
    "\n",
    "---\n",
    "\n",
    "This notebook is used to extract features from the data. The audio is divided into windows of 1 second. The features extracted from each audio window are:\n",
    "\n",
    "- **MFCC (Mel-Frequency Cepstral Coefficients)**: n_mfcc chosen by the user\n",
    "- **Chroma STFT**: 12 coefficients\n",
    "- **CQT (Constant-Q Transform)**: n_cqt chosen by the user\n",
    "- **RMS (Root Mean Square) Energy**: 1 coefficient\n",
    "- **Spectral Centroid**: 1 coefficient\n",
    "- **Spectral Bandwidth**: 1 coefficient\n",
    "- **Spectral Roll-off**: 1 coefficient\n",
    "- **Zero Crossing Rate**: 1 coefficient\n",
    "\n",
    "#### Sections:\n",
    "\n",
    "- [Feature Extraction](#Feature-Extraction)\n",
    "  - [Specific Features Extraction](#Specific-Features-Extraction)\n",
    "  - [All Features Extraction](#All-Features-Extraction)\n",
    "\n",
    "#### Findings:\n",
    "\n",
    "- We have highly unbalanced classes in the dataset.\n"
   ]
  },
  {
   "cell_type": "code",
   "execution_count": 1,
   "metadata": {},
   "outputs": [
    {
     "ename": "ModuleNotFoundError",
     "evalue": "No module named 'librosa'",
     "output_type": "error",
     "traceback": [
      "\u001b[0;31m---------------------------------------------------------------------------\u001b[0m",
      "\u001b[0;31mModuleNotFoundError\u001b[0m                       Traceback (most recent call last)",
      "Cell \u001b[0;32mIn[1], line 2\u001b[0m\n\u001b[1;32m      1\u001b[0m \u001b[38;5;66;03m# import all the functions\u001b[39;00m\n\u001b[0;32m----> 2\u001b[0m \u001b[38;5;28;01mimport\u001b[39;00m \u001b[38;5;21;01mutils\u001b[39;00m \u001b[38;5;28;01mas\u001b[39;00m \u001b[38;5;21;01mutils\u001b[39;00m\n\u001b[1;32m      3\u001b[0m \u001b[38;5;28;01mimport\u001b[39;00m \u001b[38;5;21;01mnumpy\u001b[39;00m \u001b[38;5;28;01mas\u001b[39;00m \u001b[38;5;21;01mnp\u001b[39;00m\n\u001b[1;32m      4\u001b[0m \u001b[38;5;28;01mimport\u001b[39;00m \u001b[38;5;21;01mseaborn\u001b[39;00m \u001b[38;5;28;01mas\u001b[39;00m \u001b[38;5;21;01msns\u001b[39;00m\n",
      "File \u001b[0;32m~/github/unipv/advanced-biomedical-project/notebooks/utils.py:9\u001b[0m\n\u001b[1;32m      7\u001b[0m \u001b[38;5;28;01mimport\u001b[39;00m \u001b[38;5;21;01mtorchaudio\u001b[39;00m\n\u001b[1;32m      8\u001b[0m \u001b[38;5;28;01mimport\u001b[39;00m \u001b[38;5;21;01mtorchaudio\u001b[39;00m\u001b[38;5;21;01m.\u001b[39;00m\u001b[38;5;21;01mtransforms\u001b[39;00m \u001b[38;5;28;01mas\u001b[39;00m \u001b[38;5;21;01mT\u001b[39;00m\n\u001b[0;32m----> 9\u001b[0m \u001b[38;5;28;01mimport\u001b[39;00m \u001b[38;5;21;01mlibrosa\u001b[39;00m\n\u001b[1;32m     10\u001b[0m \u001b[38;5;28;01mfrom\u001b[39;00m \u001b[38;5;21;01mtqdm\u001b[39;00m\u001b[38;5;21;01m.\u001b[39;00m\u001b[38;5;21;01mnotebook\u001b[39;00m \u001b[38;5;28;01mimport\u001b[39;00m tqdm\n\u001b[1;32m     11\u001b[0m \u001b[38;5;28;01mimport\u001b[39;00m \u001b[38;5;21;01mnumpy\u001b[39;00m \u001b[38;5;28;01mas\u001b[39;00m \u001b[38;5;21;01mnp\u001b[39;00m\n",
      "\u001b[0;31mModuleNotFoundError\u001b[0m: No module named 'librosa'"
     ]
    }
   ],
   "source": [
    "# import all the functions\n",
    "import utils as utils\n",
    "import numpy as np\n",
    "import seaborn as sns\n",
    "import matplotlib.pyplot as plt\n",
    "import librosa\n",
    "from tqdm.notebook import tqdm\n",
    "import os\n",
    "import importlib\n",
    "import torchaudio\n",
    "import torch\n",
    "\n",
    "# import the utils module\n",
    "importlib.reload(utils)"
   ]
  },
  {
   "cell_type": "code",
   "execution_count": null,
   "metadata": {},
   "outputs": [
    {
     "data": {
      "text/html": [
       "<style>\n",
       ".cell-output-ipywidget-background {\n",
       "    background-color: transparent !important;\n",
       "}\n",
       ":root {\n",
       "    --jp-widgets-color: var(--vscode-editor-foreground);\n",
       "    --jp-widgets-font-size: var(--vscode-editor-font-size);\n",
       "}  \n",
       "</style>\n",
       "\n",
       "# -------- tqdm DARK THEME --------\n"
      ],
      "text/plain": [
       "<IPython.core.display.HTML object>"
      ]
     },
     "metadata": {},
     "output_type": "display_data"
    }
   ],
   "source": [
    "%%html\n",
    "<style>\n",
    ".cell-output-ipywidget-background {\n",
    "    background-color: transparent !important;\n",
    "}\n",
    ":root {\n",
    "    --jp-widgets-color: var(--vscode-editor-foreground);\n",
    "    --jp-widgets-font-size: var(--vscode-editor-font-size);\n",
    "}  \n",
    "</style>\n",
    "\n",
    "# -------- tqdm DARK THEME --------"
   ]
  },
  {
   "cell_type": "markdown",
   "metadata": {},
   "source": [
    "### Features Extraction\n"
   ]
  },
  {
   "cell_type": "code",
   "execution_count": null,
   "metadata": {},
   "outputs": [
    {
     "name": "stdout",
     "output_type": "stream",
     "text": [
      "Removed 0 generated samples from ../dataset/artifacts_4000/ directory\n",
      "Removed 131 generated samples from ../dataset/extrahls_4000/ directory\n",
      "Removed 0 generated samples from ../dataset/murmurs_4000/ directory\n",
      "Removed 0 generated samples from ../dataset/normals_4000/ directory\n",
      "Removed 104 generated samples from ../dataset/extrastoles_4000/ directory\n"
     ]
    }
   ],
   "source": [
    "# hyperparameters\n",
    "#sr = 'mix'\n",
    "sr = 4000\n",
    "INTERVAL = 2\n",
    "\n",
    "# set the paths to data\n",
    "BASE_DIR = \"../dataset/\"\n",
    "ARTIFACTS_DIR = BASE_DIR + f\"artifacts_{sr}/\"\n",
    "EXTRAHLS_DIR = BASE_DIR + f\"extrahls_{sr}/\"\n",
    "MURMURS_DIR = BASE_DIR + f\"murmurs_{sr}/\"\n",
    "NORMALS_DIR = BASE_DIR + f\"normals_{sr}/\"\n",
    "EXTRASTOLES_DIR = BASE_DIR + f\"extrastoles_{sr}/\"\n",
    "\n",
    "# paths to save the features\n",
    "#FEATURES_RAW_DIR = \"../features/raw/\"\n",
    "#FEATURES_RAW_DIR = \"../features/balanced/priori/\"\n",
    "FEATURES_RAW_DIR = \"../features/balanced/posteriori/\"\n",
    "#FEATURES_RAW_DIR = \"../features/balanced/both/\"\n",
    "\n",
    "PATHS = [ARTIFACTS_DIR, EXTRAHLS_DIR, MURMURS_DIR, NORMALS_DIR, EXTRASTOLES_DIR]\n",
    "\n",
    "# REMOVE THE AUGEMENTED SAMPLES WHEN EXTRACTING BASE RAW FEATURES\n",
    "for path in PATHS:\n",
    "     utils.remove_generated_samples(path, 'USERAUGMENTED')"
   ]
  },
  {
   "cell_type": "code",
   "execution_count": 2,
   "metadata": {},
   "outputs": [
    {
     "ename": "NameError",
     "evalue": "name 'PATHS' is not defined",
     "output_type": "error",
     "traceback": [
      "\u001b[0;31m---------------------------------------------------------------------------\u001b[0m",
      "\u001b[0;31mNameError\u001b[0m                                 Traceback (most recent call last)",
      "Cell \u001b[0;32mIn[2], line 1\u001b[0m\n\u001b[0;32m----> 1\u001b[0m \u001b[38;5;28mprint\u001b[39m(\u001b[38;5;28menumerate\u001b[39m(\u001b[43mPATHS\u001b[49m))\n",
      "\u001b[0;31mNameError\u001b[0m: name 'PATHS' is not defined"
     ]
    }
   ],
   "source": [
    "print(enumerate(PATHS))"
   ]
  },
  {
   "cell_type": "markdown",
   "metadata": {},
   "source": [
    "### Specific Features Extraction\n",
    "\n",
    "- **MFCC (Mel-Frequency Cepstral Coefficients)**: n_mfcc chosen by the user\n",
    "- **Chroma STFT**: 12 coefficients\n",
    "- **CQT (Constant-Q Transform)**: n_cqt chosen by the user\n"
   ]
  },
  {
   "cell_type": "code",
   "execution_count": 4,
   "metadata": {},
   "outputs": [],
   "source": [
    "def extract_features(\n",
    "    dir_path: str,\n",
    "    label: str,\n",
    "    extraction_interval: float,\n",
    "    sample_rate: int = 44100,\n",
    "    n_mfcc: int = 13,\n",
    "    melkwargs: dict = {},\n",
    "    n_cqt: int = 84,\n",
    "    n_rms: int = 20,\n",
    "    n_zcr: int = 20,\n",
    "    n_sc: int = 20,\n",
    "    n_sb: int = 20, \n",
    "    n_sr: int = 20,\n",
    "    get_mfcc: bool = False,\n",
    "    get_chroma: bool = False,\n",
    "    get_cqt: bool = False,\n",
    "    get_rms: bool = False,\n",
    "    get_zcr: bool = False,\n",
    "    get_sc: bool = False,\n",
    "    get_sb: bool = False,\n",
    "    get_sr: bool = False,\n",
    ") -> list:\n",
    "    \"\"\"\n",
    "    Extracts audio features (MFCC, chroma, RMS, spectral centroid, spectral bandwidth, spectral rolloff, zero-crossing rate)\n",
    "    from audio files in the specified directory.\n",
    "\n",
    "    Args:\n",
    "        dir_path (str): The path to the directory containing audio files.\n",
    "        label (str): The label associated with the extracted features.\n",
    "        extraction_interval: The frame length for feature extraction.\n",
    "        sample_rate (int, optional): The sample rate of the audio files. Defaults to 44100 Hz.\n",
    "        n_mfcc (int, optional): The number of Mel-frequency cepstral coefficients (MFCCs) to extract. Defaults to 13.\n",
    "        melkwargs (dict, optional): Additional arguments for Mel spectrogram computation.\n",
    "        n_cqt (int, optional): The number of constant-Q transform (CQT) bins to extract. Defaults to 84.\n",
    "        n_rms (int, optional): The number of RMS values to extract. Defaults to 20.\n",
    "        n_zcr (int, optional): The number of zero-crossing rate values to extract. Defaults to 20.\n",
    "        n_sc (int, optional): The number of spectral centroid values to extract. Defaults to 20.\n",
    "        n_sb (int, optional): The number of spectral bandwidth values to extract. Defaults to 20.\n",
    "        n_sr (int, optional): The number of spectral rolloff values to extract. Defaults to 20.\n",
    "        get_mfcc (bool, optional): Whether to extract MFCC features. Defaults to False.\n",
    "        get_chroma (bool, optional): Whether to extract chroma features. Defaults to False.\n",
    "        get_cqt (bool, optional): Whether to extract CQT features. Defaults to False.\n",
    "        get_rms (bool, optional): Whether to extract RMS features. Defaults to False.\n",
    "        get_zcr (bool, optional): Whether to extract zero-crossing rate features. Defaults to False.\n",
    "        get_sc (bool, optional): Whether to extract spectral centroid features. Defaults to False.\n",
    "        get_sb (bool, optional): Whether to extract spectral bandwidth features. Defaults to False.\n",
    "        get_sr (bool, optional): Whether to extract spectral rolloff features. Defaults to False.\n",
    "        \n",
    "\n",
    "    Returns:\n",
    "        list: A list containing tensors of extracted features for each audio file.\n",
    "    \"\"\"\n",
    "    filenames = os.listdir(dir_path)\n",
    "    filenames = [file for file in filenames if not file.startswith(\".\")]\n",
    "    extraction_interval = 1 / extraction_interval\n",
    "\n",
    "    features = []  # List to store the features for all files\n",
    "\n",
    "    for file in tqdm(filenames, desc=f\"Extraction in progress\"):\n",
    "        audio, orig_sample_rate = torchaudio.load(os.path.join(dir_path, file))\n",
    "        orig_sample_rate_tmp = int(orig_sample_rate / extraction_interval)\n",
    "        audio_length = int(max(audio[0].shape) / (orig_sample_rate_tmp))\n",
    "\n",
    "        sample_rate = orig_sample_rate\n",
    "\n",
    "        # Reduce the audio from stereo to mono if needed\n",
    "        if audio.shape[0] > 1:\n",
    "            print(f\"Converting stereo audio to mono for {file}...\")\n",
    "            audio = torch.mean(audio, dim=0).reshape(1, -1)\n",
    "\n",
    "        features_local = []  # List to store the MFCC features for each file\n",
    "\n",
    "        for i in range(audio_length):\n",
    "            # Lazy load the audio, one sec at a time, to avoid memory issues\n",
    "            audio_mono = utils.slicing(\n",
    "                audio,\n",
    "                offset=int(sample_rate / extraction_interval * i),\n",
    "                num_frames=int(sample_rate / extraction_interval * (i + 1)),\n",
    "            )\n",
    "\n",
    "            # Get the MFCC features\n",
    "            if get_mfcc:\n",
    "                mfcc_features_tmp = utils.extract_mfcc(\n",
    "                    audio_mono, sample_rate, n_mfcc, melkwargs\n",
    "                )\n",
    "            if get_chroma:\n",
    "                chroma_stft = utils.extract_chroma_stft(audio_mono, sample_rate)\n",
    "            if get_cqt:\n",
    "                cqt = utils.extract_cqt(\n",
    "                    audio_mono, sample_rate=sample_rate, n_cqt=n_cqt\n",
    "                )\n",
    "            if get_rms:\n",
    "                rms = extract_rms(audio_mono, num_values=n_rms)\n",
    "            if get_zcr:\n",
    "                zcr = extract_zero_crossing_rate(audio_mono, num_values=n_zcr)\n",
    "            if get_sc:\n",
    "                spec_cent = extract_spectral_centroid(audio_mono, sample_rate, num_values=n_sc)\n",
    "            if get_sb:\n",
    "                spec_bw = extract_spectral_bandwidth(audio_mono, sample_rate, num_values=n_sb)\n",
    "            if get_sr:\n",
    "                rolloff = extract_spectral_rolloff(audio_mono, sample_rate, num_values=n_sr)\n",
    "\n",
    "            #   spec_cent = extract_spectral_centroid(audio_mono, sample_rate)\n",
    "            #   spec_bw = extract_spectral_bandwidth(audio_mono, sample_rate)\n",
    "            #   rolloff = extract_spectral_rolloff(audio_mono, sample_rate)\n",
    "            #   zcr = extract_zero_crossing_rate(audio_mono)\n",
    "\n",
    "            # check that no more than one feature is extracted. Else raise an error\n",
    "            if sum([get_mfcc, get_chroma, get_cqt, get_rms, get_zcr, get_sc, get_sb, get_sr]) != 1:\n",
    "                raise ValueError(\n",
    "                    \"Exactly one feature must be extracted at a time. Please check the arguments.\"\n",
    "                )\n",
    "            \n",
    "            # Concatenate the features\n",
    "            if get_mfcc:\n",
    "                features_tmp = mfcc_features_tmp\n",
    "            if get_chroma:\n",
    "                features_tmp = chroma_stft\n",
    "            if get_cqt:\n",
    "                features_tmp = cqt\n",
    "            if get_rms:\n",
    "                features_tmp = rms\n",
    "            if get_zcr:\n",
    "                features_tmp = zcr\n",
    "            if get_sc:\n",
    "                features_tmp = spec_cent\n",
    "            if get_sb:\n",
    "                features_tmp = spec_bw\n",
    "            if get_sr:\n",
    "                features_tmp = rolloff\n",
    "            \n",
    "\n",
    "            features_local.append(features_tmp)\n",
    "\n",
    "        # If features_local is empty, skip the file\n",
    "        if features_local == []:\n",
    "            print(f\"No features extracted for {file}. Skipping...\")\n",
    "            continue\n",
    "\n",
    "        # Stack the MFCC features into a single tensor\n",
    "        features_local = torch.stack(features_local, dim=0)\n",
    "\n",
    "        # Attach the label in the last column\n",
    "        features_local = torch.cat(\n",
    "            (features_local, torch.ones(features_local.shape[0], 1) * label), dim=1\n",
    "        )\n",
    "\n",
    "        # Attach the filename index in the last column\n",
    "        features_local = torch.cat(\n",
    "            (\n",
    "                features_local,\n",
    "                torch.full((features_local.shape[0], 1), filenames.index(file)),\n",
    "            ),\n",
    "            dim=1,\n",
    "        )\n",
    "\n",
    "        features.append(features_local)\n",
    "\n",
    "    print(\"Finished processing all files.\\n\")\n",
    "    return features\n",
    "\n",
    "# --------------------------------------------------------------------\n",
    "# --------------------------------------------------------------------\n",
    "\n",
    "\n",
    "def extract_rms(audio: torch.Tensor, num_values: int) -> torch.Tensor:\n",
    "    \"\"\"\n",
    "    Extract RMS features from an audio file.\n",
    "\n",
    "    Args:\n",
    "    - audio (torch.Tensor): The audio file.\n",
    "    - num_values (int): The number of RMS values to extract.\n",
    "\n",
    "    Returns:\n",
    "    - rms (torch.Tensor): The RMS features of the audio file.\n",
    "    \"\"\"\n",
    "    \n",
    "    num_samples = audio.shape[1]\n",
    "    hop_length = num_samples // num_values\n",
    "\n",
    "    \n",
    "    rms = librosa.feature.rms(y=audio.numpy(), frame_length=hop_length*2, hop_length=hop_length, center=True)\n",
    "    rms = torch.tensor(rms)\n",
    "    return rms.reshape(-1)\n",
    "\n",
    "\n",
    "# --------------------------------------------------------------------\n",
    "# --------------------------------------------------------------------\n",
    "\n",
    "\n",
    "def extract_zero_crossing_rate(audio: torch.Tensor, num_values: int) -> torch.Tensor:\n",
    "    \"\"\"\n",
    "    Extract Zero Crossing Rate features from an audio file.\n",
    "\n",
    "    Args:\n",
    "    - audio (torch.Tensor): The audio file.\n",
    "    - num_values (int): The number of Zero Crossing Rate values to extract.\n",
    "\n",
    "    Returns:\n",
    "    - zcr (torch.Tensor): The Zero Crossing Rate features of the audio file.\n",
    "    \"\"\"\n",
    "    num_samples = audio.shape[1]\n",
    "    hop_length = num_samples // num_values\n",
    "    \n",
    "    zcr = librosa.feature.zero_crossing_rate(y=audio.numpy(), frame_length=hop_length*2, hop_length=hop_length)\n",
    "    zcr = torch.tensor(zcr)\n",
    "    return zcr.reshape(-1)\n",
    "\n",
    "# --------------------------------------------------------------------\n",
    "# --------------------------------------------------------------------\n",
    "\n",
    "def extract_spectral_centroid(audio: torch.Tensor, sample_rate: int, num_values: int) -> torch.Tensor:\n",
    "    \"\"\"\n",
    "    Extract Spectral Centroid features from an audio file.\n",
    "\n",
    "    Args:\n",
    "    - audio (torch.Tensor): The audio file.\n",
    "    - sample_rate (int): The sample rate of the audio file.\n",
    "    - num_values (int): The number of Spectral Centroid values to extract.\n",
    "\n",
    "    Returns:\n",
    "    - spec_cent (torch.Tensor): The Spectral Centroid features of the audio file.\n",
    "    \"\"\"\n",
    "    num_samples = audio.shape[1]\n",
    "    hop_length = num_samples // num_values\n",
    "    \n",
    "    sb = librosa.feature.spectral_centroid(y=audio.numpy(), n_fft=hop_length*2, hop_length=hop_length, sr=sample_rate)\n",
    "    sb = torch.tensor(sb)\n",
    "    return sb.reshape(-1)\n",
    "\n",
    "\n",
    "# --------------------------------------------------------------------\n",
    "# --------------------------------------------------------------------\n",
    "\n",
    "\n",
    "def extract_spectral_bandwidth(audio: torch.Tensor, sample_rate: int, num_values:int) -> torch.Tensor:\n",
    "    \"\"\"\n",
    "    Extract Spectral Bandwidth features from an audio file.\n",
    "\n",
    "    Args:\n",
    "    - audio (torch.Tensor): The audio file.\n",
    "    - sample_rate (int): The sample rate of the audio file.\n",
    "    - num_values (int): The number of Spectral Bandwidth values to extract.\n",
    "\n",
    "    Returns:\n",
    "    - spec_bw (torch.Tensor): The Spectral Bandwidth features of the audio file.\n",
    "    \"\"\"\n",
    "    num_samples = audio.shape[1]\n",
    "    hop_length = num_samples // num_values\n",
    "    \n",
    "    sc = librosa.feature.spectral_bandwidth(y=audio.numpy(), n_fft=hop_length*2, hop_length=hop_length, sr=sample_rate)\n",
    "    sc = torch.tensor(sc)\n",
    "    return sc.reshape(-1)\n",
    "\n",
    "\n",
    "# --------------------------------------------------------------------\n",
    "# --------------------------------------------------------------------\n",
    "\n",
    "\n",
    "def extract_spectral_rolloff(audio: torch.Tensor, sample_rate: int, num_values:int) -> torch.Tensor:\n",
    "    \"\"\"\n",
    "    Extract Spectral Rolloff features from an audio file.\n",
    "\n",
    "    Args:\n",
    "    - audio (torch.Tensor): The audio file.\n",
    "    - sample_rate (int): The sample rate of the audio file.\n",
    "    - num_values (int): The number of Spectral Rolloff values to extract.\n",
    "\n",
    "    Returns:\n",
    "    - rolloff (torch.Tensor): The Spectral Rolloff features of the audio file.\n",
    "    \"\"\"\n",
    "    num_samples = audio.shape[1]\n",
    "    hop_length = num_samples // num_values\n",
    "    \n",
    "    sr = librosa.feature.spectral_rolloff(y=audio.numpy(), n_fft=hop_length*2, hop_length=hop_length, sr=sample_rate)\n",
    "    sr = torch.tensor(sr)\n",
    "    return sr.reshape(-1)"
   ]
  },
  {
   "cell_type": "code",
   "execution_count": 5,
   "metadata": {},
   "outputs": [
    {
     "name": "stdout",
     "output_type": "stream",
     "text": [
      "Extracting features from ../dataset/artifacts_4000/\n"
     ]
    },
    {
     "data": {
      "application/vnd.jupyter.widget-view+json": {
       "model_id": "4082fd6d9e2f4d7fba6b1c56d1ad5cf7",
       "version_major": 2,
       "version_minor": 0
      },
      "text/plain": [
       "Extraction in progress:   0%|          | 0/84 [00:00<?, ?it/s]"
      ]
     },
     "metadata": {},
     "output_type": "display_data"
    },
    {
     "name": "stdout",
     "output_type": "stream",
     "text": [
      "Converting stereo audio to mono for artifact_2023_17.wav...\n",
      "Converting stereo audio to mono for artifact_2023_16.wav...\n",
      "Converting stereo audio to mono for artifact_2023_14.wav...\n",
      "Converting stereo audio to mono for artifact_2023_15.wav...\n",
      "Converting stereo audio to mono for artifact_2023_39.wav...\n",
      "Converting stereo audio to mono for artifact_2023_11.wav...\n",
      "Converting stereo audio to mono for artifact_2023_38.wav...\n",
      "Converting stereo audio to mono for artifact_2023_12.wav...\n",
      "Converting stereo audio to mono for artifact_2023_13.wav...\n",
      "Converting stereo audio to mono for artifact_2023_41.wav...\n",
      "Converting stereo audio to mono for artifact_2023_40.wav...\n",
      "Converting stereo audio to mono for artifact_2023_42.wav...\n",
      "Converting stereo audio to mono for artifact_2023_43.wav...\n",
      "Converting stereo audio to mono for artifact_2023_46.wav...\n",
      "Converting stereo audio to mono for artifact_2023_44.wav...\n",
      "Converting stereo audio to mono for artifact_2023_45.wav...\n",
      "Converting stereo audio to mono for artifact_2023_36.wav...\n",
      "Converting stereo audio to mono for artifact_2023_22.wav...\n",
      "Converting stereo audio to mono for artifact_2023_4.wav...\n",
      "Converting stereo audio to mono for artifact_2023_5.wav...\n",
      "Converting stereo audio to mono for artifact_2023_23.wav...\n",
      "Converting stereo audio to mono for artifact_2023_37.wav...\n",
      "Converting stereo audio to mono for artifact_2023_21.wav...\n",
      "Converting stereo audio to mono for artifact_2023_35.wav...\n",
      "Converting stereo audio to mono for artifact_2023_6.wav...\n",
      "Converting stereo audio to mono for artifact_2023_34.wav...\n",
      "Converting stereo audio to mono for artifact_2023_20.wav...\n",
      "Converting stereo audio to mono for artifact_2023_18.wav...\n",
      "Converting stereo audio to mono for artifact_2023_24.wav...\n",
      "Converting stereo audio to mono for artifact_2023_2.wav...\n",
      "Converting stereo audio to mono for artifact_2023_25.wav...\n",
      "Converting stereo audio to mono for artifact_2023_19.wav...\n",
      "Converting stereo audio to mono for artifact_2023_33.wav...\n",
      "Converting stereo audio to mono for artifact_2023_1.wav...\n",
      "Converting stereo audio to mono for artifact_2023_0.wav...\n",
      "Converting stereo audio to mono for artifact_2023_26.wav...\n",
      "Converting stereo audio to mono for artifact_2023_32.wav...\n",
      "Finished processing all files.\n",
      "\n",
      "The shape of the ../dataset/artifacts_4000/ features tensor is: (571, 32)\n",
      "Extracting features from ../dataset/extrahls_4000/\n"
     ]
    },
    {
     "data": {
      "application/vnd.jupyter.widget-view+json": {
       "model_id": "49559bdbe79d464088eb0fd543805d11",
       "version_major": 2,
       "version_minor": 0
      },
      "text/plain": [
       "Extraction in progress:   0%|          | 0/150 [00:00<?, ?it/s]"
      ]
     },
     "metadata": {},
     "output_type": "display_data"
    },
    {
     "name": "stdout",
     "output_type": "stream",
     "text": [
      "No features extracted for speed_36USERAUGMENTEDextrahls__201104021355.wav. Skipping...\n",
      "No features extracted for extrahls__201104140118.wav. Skipping...\n",
      "No features extracted for noisy_3USERAUGMENTEDextrahls__201104140118.wav. Skipping...\n",
      "No features extracted for noisy_32USERAUGMENTEDextrahls__201104270459.wav. Skipping...\n",
      "No features extracted for extrahls__201104270459.wav. Skipping...\n",
      "No features extracted for pitch_34USERAUGMENTEDextrahls__201104270459.wav. Skipping...\n",
      "No features extracted for noisy_18USERAUGMENTEDextrahls__201104021355.wav. Skipping...\n",
      "No features extracted for pitch_32USERAUGMENTEDextrahls__201104140118.wav. Skipping...\n",
      "No features extracted for noisy_12USERAUGMENTEDextrahls__201104140118.wav. Skipping...\n",
      "No features extracted for pitch_12USERAUGMENTEDextrahls__201104021355.wav. Skipping...\n",
      "No features extracted for noisy_38USERAUGMENTEDextrahls__201104270459.wav. Skipping...\n",
      "No features extracted for extrahls__201104021355.wav. Skipping...\n",
      "No features extracted for noisy_28USERAUGMENTEDextrahls__201104270459.wav. Skipping...\n",
      "No features extracted for pitch_5USERAUGMENTEDextrahls__201104021355.wav. Skipping...\n",
      "No features extracted for noisy_9USERAUGMENTEDextrahls__201104140118.wav. Skipping...\n",
      "No features extracted for pitch_3USERAUGMENTEDextrahls__201104021355.wav. Skipping...\n",
      "No features extracted for speed_40USERAUGMENTEDextrahls__201104021355.wav. Skipping...\n",
      "No features extracted for pitch_0USERAUGMENTEDextrahls__201104021355.wav. Skipping...\n",
      "No features extracted for pitch_9USERAUGMENTEDextrahls__201104140118.wav. Skipping...\n",
      "No features extracted for speed_30USERAUGMENTEDextrahls__201104140118.wav. Skipping...\n",
      "No features extracted for speed_17USERAUGMENTEDextrahls__201104140118.wav. Skipping...\n",
      "No features extracted for noisy_26USERAUGMENTEDextrahls__201104021355.wav. Skipping...\n",
      "No features extracted for pitch_39USERAUGMENTEDextrahls__201104140118.wav. Skipping...\n",
      "No features extracted for noisy_40USERAUGMENTEDextrahls__201104270459.wav. Skipping...\n",
      "No features extracted for speed_12USERAUGMENTEDextrahls__201104140118.wav. Skipping...\n",
      "No features extracted for pitch_8USERAUGMENTEDextrahls__201104021355.wav. Skipping...\n",
      "No features extracted for pitch_33USERAUGMENTEDextrahls__201104140118.wav. Skipping...\n",
      "No features extracted for noisy_25USERAUGMENTEDextrahls__201104270459.wav. Skipping...\n",
      "No features extracted for pitch_43USERAUGMENTEDextrahls__201104021355.wav. Skipping...\n",
      "No features extracted for pitch_10USERAUGMENTEDextrahls__201104140118.wav. Skipping...\n",
      "No features extracted for noisy_20USERAUGMENTEDextrahls__201104270459.wav. Skipping...\n",
      "No features extracted for noisy_15USERAUGMENTEDextrahls__201104270459.wav. Skipping...\n",
      "No features extracted for noisy_39USERAUGMENTEDextrahls__201104021355.wav. Skipping...\n",
      "Finished processing all files.\n",
      "\n",
      "The shape of the ../dataset/extrahls_4000/ features tensor is: (369, 32)\n",
      "Extracting features from ../dataset/murmurs_4000/\n"
     ]
    },
    {
     "data": {
      "application/vnd.jupyter.widget-view+json": {
       "model_id": "d91212fdb2f94bca9297ef0178e09ea1",
       "version_major": 2,
       "version_minor": 0
      },
      "text/plain": [
       "Extraction in progress:   0%|          | 0/149 [00:00<?, ?it/s]"
      ]
     },
     "metadata": {},
     "output_type": "display_data"
    },
    {
     "name": "stdout",
     "output_type": "stream",
     "text": [
      "No features extracted for murmur__293_1311680805936_B1.wav. Skipping...\n",
      "No features extracted for murmur__201104021355.wav. Skipping...\n",
      "Converting stereo audio to mono for abnormal_s4_2023_2.wav...\n",
      "No features extracted for murmur__171_1307971016233_E.wav. Skipping...\n",
      "Converting stereo audio to mono for atrial_septal_defect_2023_6.wav...\n",
      "Converting stereo audio to mono for abnormal_s3_2023_1.wav...\n",
      "Converting stereo audio to mono for mitral_stenosis_2023_9.wav...\n",
      "Converting stereo audio to mono for abnormal_s3_2023_0.wav...\n",
      "No features extracted for murmur_noisymurmur_171_1307971016233_D.wav. Skipping...\n",
      "Converting stereo audio to mono for holosystolic_murmur_2023_7.wav...\n",
      "Converting stereo audio to mono for aortic_stenosis_2023_4.wav...\n",
      "Converting stereo audio to mono for mitral_valve_prolapse_2023_10.wav...\n",
      "Converting stereo audio to mono for innocent_murmur_2023_8.wav...\n",
      "Finished processing all files.\n",
      "\n",
      "The shape of the ../dataset/murmurs_4000/ features tensor is: (534, 32)\n",
      "Extracting features from ../dataset/normals_4000/\n"
     ]
    },
    {
     "data": {
      "application/vnd.jupyter.widget-view+json": {
       "model_id": "5ee3fbdc3eda42469e9492923adea52c",
       "version_major": 2,
       "version_minor": 0
      },
      "text/plain": [
       "Extraction in progress:   0%|          | 0/355 [00:00<?, ?it/s]"
      ]
     },
     "metadata": {},
     "output_type": "display_data"
    },
    {
     "name": "stdout",
     "output_type": "stream",
     "text": [
      "No features extracted for normal__232_1308748524018_D1.wav. Skipping...\n",
      "No features extracted for normal__210_1308162935880_D2.wav. Skipping...\n",
      "No features extracted for normal__210_1308162935880_D1.wav. Skipping...\n",
      "No features extracted for normal__143_1306763822290_C.wav. Skipping...\n",
      "No features extracted for normal__147_1306523973811_C.wav. Skipping...\n",
      "No features extracted for normal__238_1309194586293_B.wav. Skipping...\n",
      "No features extracted for normal__190_1308076920011_C1.wav. Skipping...\n",
      "No features extracted for normal__230_1308595300880_B.wav. Skipping...\n",
      "No features extracted for normal__267_1309368735165_A.wav. Skipping...\n",
      "No features extracted for normal__238_1309194586293_A.wav. Skipping...\n",
      "No features extracted for normal__286_1311170606028_A1.wav. Skipping...\n",
      "No features extracted for normal__210_1308162935880_B1.wav. Skipping...\n",
      "No features extracted for normal__252_1309203336604_B.wav. Skipping...\n",
      "No features extracted for normal__134_1306428161797_C2.wav. Skipping...\n",
      "No features extracted for normal__201_1308144942432_A.wav. Skipping...\n",
      "No features extracted for normal__175_1307987962616_B1.wav. Skipping...\n",
      "No features extracted for normal_noisynormal_137_1306764999211_C1.wav. Skipping...\n",
      "No features extracted for normal__232_1308748524018_B1.wav. Skipping...\n",
      "No features extracted for normal__235_1308749032454_C.wav. Skipping...\n",
      "No features extracted for normal__296_1311682952647_A1.wav. Skipping...\n",
      "No features extracted for normal__250_1309202496494_A.wav. Skipping...\n",
      "No features extracted for normal__296_1311682952647_A2.wav. Skipping...\n",
      "No features extracted for normal__286_1311170606028_A.wav. Skipping...\n",
      "No features extracted for normal__146_1306778707532_D3.wav. Skipping...\n",
      "No features extracted for normal_noisynormal_173_1307973611151_B.wav. Skipping...\n",
      "No features extracted for normal__232_1308748524018_A.wav. Skipping...\n",
      "No features extracted for normal__209_1308162216750_A1.wav. Skipping...\n",
      "No features extracted for normal__159_1307018640315_B2.wav. Skipping...\n",
      "No features extracted for normal__154_1306935608852_D.wav. Skipping...\n",
      "No features extracted for normal__152_1306779561195_C1.wav. Skipping...\n",
      "No features extracted for normal_noisynormal_178_1307989887769_B1.wav. Skipping...\n",
      "No features extracted for normal__295_1311682673157_D.wav. Skipping...\n",
      "No features extracted for normal__232_1308748524018_B.wav. Skipping...\n",
      "No features extracted for normal__210_1308162935880_B.wav. Skipping...\n",
      "No features extracted for normal__232_1308748524018_C.wav. Skipping...\n",
      "No features extracted for normal__158_1306947254705_B2.wav. Skipping...\n",
      "No features extracted for normal__282_1311166081161_C.wav. Skipping...\n",
      "No features extracted for normal_noisynormal_137_1306764999211_B.wav. Skipping...\n",
      "No features extracted for normal__283_1311167409239_A.wav. Skipping...\n",
      "No features extracted for normal__274_1311075637574_D.wav. Skipping...\n",
      "No features extracted for normal_noisynormal_234_1308748855534_B.wav. Skipping...\n",
      "No features extracted for normal__134_1306428161797_D.wav. Skipping...\n",
      "Converting stereo audio to mono for normal_2023_3.wav...\n",
      "No features extracted for normal__237_1308750231222_C.wav. Skipping...\n",
      "Converting stereo audio to mono for normal_2023_2.wav...\n",
      "No features extracted for normal__133_1306759619127_D.wav. Skipping...\n",
      "No features extracted for normal__274_1311075637574_B1.wav. Skipping...\n",
      "No features extracted for normal__176_1307988171173_B1.wav. Skipping...\n",
      "No features extracted for normal__215_1308245664733_C1.wav. Skipping...\n",
      "No features extracted for normal__218_1308246311449_C.wav. Skipping...\n",
      "Converting stereo audio to mono for normal_2023_0.wav...\n",
      "Converting stereo audio to mono for normal_2023_1.wav...\n",
      "No features extracted for normal__214_1308245489717_A.wav. Skipping...\n",
      "No features extracted for normal__167_1307111318050_C.wav. Skipping...\n",
      "Finished processing all files.\n",
      "\n",
      "The shape of the ../dataset/normals_4000/ features tensor is: (984, 32)\n",
      "Extracting features from ../dataset/extrastoles_4000/\n"
     ]
    },
    {
     "data": {
      "application/vnd.jupyter.widget-view+json": {
       "model_id": "4b12215f56e848dfb58e669a40220a27",
       "version_major": 2,
       "version_minor": 0
      },
      "text/plain": [
       "Extraction in progress:   0%|          | 0/150 [00:00<?, ?it/s]"
      ]
     },
     "metadata": {},
     "output_type": "display_data"
    },
    {
     "name": "stdout",
     "output_type": "stream",
     "text": [
      "No features extracted for speed_25USERAUGMENTEDextrastole__237_1308750231222_A.wav. Skipping...\n",
      "No features extracted for extrastole__190_1308076920011_C.wav. Skipping...\n",
      "No features extracted for speed_18USERAUGMENTEDextrastole__202_1308145175747_C2.wav. Skipping...\n",
      "No features extracted for pitch_4USERAUGMENTEDextrastole__190_1308076920011_C.wav. Skipping...\n",
      "No features extracted for speed_33USERAUGMENTEDextrastole__134_1306428161797_C1.wav. Skipping...\n",
      "Finished processing all files.\n",
      "\n",
      "The shape of the ../dataset/extrastoles_4000/ features tensor is: (381, 32)\n",
      "Features extracted and saved\n"
     ]
    }
   ],
   "source": [
    "# ------------------------- MFCC -------------------------\n",
    "#n_mfcc_list = [30, 60, 90, 120]\n",
    "n_mfcc_list = [30]\n",
    "names = [\"artifacts\", \"extrahls\", \"murmurs\", \"normals\", \"extrastoles\"]\n",
    "features_dict = {}\n",
    "interval = INTERVAL\n",
    "type_ = \"mfcc\"  # mfcc, mel_spec, spec, cqt\n",
    "# melkwargs = {'n_fft': 2048, 'hop_length': 512, 'n_mels': 128}\n",
    "\n",
    "for n_mfcc in n_mfcc_list:\n",
    "    # Save the features to a file\n",
    "    storing_name = f\"full_data_{interval}s_{sr}hz_{n_mfcc}{type_}\"  ########## CHANGE THIS TO CHANGE THE NAME OF THE FILE\n",
    "\n",
    "    if os.path.exists(FEATURES_RAW_DIR + storing_name + \".npy\"):\n",
    "        print(\"The features have already been extracted\")\n",
    "\n",
    "    else:\n",
    "        for i, PATH_ in enumerate(PATHS):\n",
    "\n",
    "            print(f\"Extracting features from {PATH_}\")\n",
    "            features = extract_features(\n",
    "                PATH_,\n",
    "                label=i,\n",
    "                extraction_interval=interval,\n",
    "                n_mfcc=n_mfcc,\n",
    "                get_mfcc=True,\n",
    "                get_chroma=False,\n",
    "                get_cqt=False,\n",
    "            )\n",
    "\n",
    "            # Stack the features into a single tensor\n",
    "            features = torch.cat(features, dim=0).numpy()\n",
    "            print(f\"The shape of the {PATH_} features tensor is: {features.shape}\")\n",
    "\n",
    "            X = features[:, :-2]\n",
    "            y = features[:, -2]\n",
    "            filename = features[:, -1]\n",
    "\n",
    "            local_dict = {\"X\": X, \"y\": y, \"filename\": filename}\n",
    "\n",
    "            features_dict[names[i]] = local_dict\n",
    "\n",
    "        # Save the features to a file\n",
    "        np.save(FEATURES_RAW_DIR + storing_name, features_dict)\n",
    "\n",
    "        print(\"Features extracted and saved\")"
   ]
  },
  {
   "cell_type": "code",
   "execution_count": 6,
   "metadata": {},
   "outputs": [
    {
     "name": "stdout",
     "output_type": "stream",
     "text": [
      "Extracting features from ../dataset/artifacts_4000/\n"
     ]
    },
    {
     "data": {
      "application/vnd.jupyter.widget-view+json": {
       "model_id": "7b2a7decc8094cd18f5d2e68c35df527",
       "version_major": 2,
       "version_minor": 0
      },
      "text/plain": [
       "Extraction in progress:   0%|          | 0/84 [00:00<?, ?it/s]"
      ]
     },
     "metadata": {},
     "output_type": "display_data"
    },
    {
     "name": "stdout",
     "output_type": "stream",
     "text": [
      "Converting stereo audio to mono for artifact_2023_17.wav...\n",
      "Converting stereo audio to mono for artifact_2023_16.wav...\n",
      "Converting stereo audio to mono for artifact_2023_14.wav...\n",
      "Converting stereo audio to mono for artifact_2023_15.wav...\n",
      "Converting stereo audio to mono for artifact_2023_39.wav...\n",
      "Converting stereo audio to mono for artifact_2023_11.wav...\n",
      "Converting stereo audio to mono for artifact_2023_38.wav...\n",
      "Converting stereo audio to mono for artifact_2023_12.wav...\n",
      "Converting stereo audio to mono for artifact_2023_13.wav...\n",
      "Converting stereo audio to mono for artifact_2023_41.wav...\n",
      "Converting stereo audio to mono for artifact_2023_40.wav...\n",
      "Converting stereo audio to mono for artifact_2023_42.wav...\n",
      "Converting stereo audio to mono for artifact_2023_43.wav...\n",
      "Converting stereo audio to mono for artifact_2023_46.wav...\n",
      "Converting stereo audio to mono for artifact_2023_44.wav...\n",
      "Converting stereo audio to mono for artifact_2023_45.wav...\n",
      "Converting stereo audio to mono for artifact_2023_36.wav...\n",
      "Converting stereo audio to mono for artifact_2023_22.wav...\n",
      "Converting stereo audio to mono for artifact_2023_4.wav...\n",
      "Converting stereo audio to mono for artifact_2023_5.wav...\n",
      "Converting stereo audio to mono for artifact_2023_23.wav...\n",
      "Converting stereo audio to mono for artifact_2023_37.wav...\n",
      "Converting stereo audio to mono for artifact_2023_21.wav...\n",
      "Converting stereo audio to mono for artifact_2023_35.wav...\n",
      "Converting stereo audio to mono for artifact_2023_6.wav...\n",
      "Converting stereo audio to mono for artifact_2023_34.wav...\n",
      "Converting stereo audio to mono for artifact_2023_20.wav...\n",
      "Converting stereo audio to mono for artifact_2023_18.wav...\n"
     ]
    },
    {
     "name": "stderr",
     "output_type": "stream",
     "text": [
      "/opt/homebrew/lib/python3.11/site-packages/librosa/core/pitch.py:101: UserWarning: Trying to estimate tuning from empty frequency set.\n",
      "  return pitch_tuning(\n"
     ]
    },
    {
     "name": "stdout",
     "output_type": "stream",
     "text": [
      "Converting stereo audio to mono for artifact_2023_24.wav...\n",
      "Converting stereo audio to mono for artifact_2023_2.wav...\n",
      "Converting stereo audio to mono for artifact_2023_25.wav...\n",
      "Converting stereo audio to mono for artifact_2023_19.wav...\n",
      "Converting stereo audio to mono for artifact_2023_33.wav...\n",
      "Converting stereo audio to mono for artifact_2023_1.wav...\n",
      "Converting stereo audio to mono for artifact_2023_0.wav...\n",
      "Converting stereo audio to mono for artifact_2023_26.wav...\n",
      "Converting stereo audio to mono for artifact_2023_32.wav...\n",
      "Finished processing all files.\n",
      "\n",
      "The shape of the ../dataset/artifacts_4000/ features tensor is: (571, 14)\n",
      "Extracting features from ../dataset/extrahls_4000/\n"
     ]
    },
    {
     "data": {
      "application/vnd.jupyter.widget-view+json": {
       "model_id": "81c869c2d3a84d0691d6373ea4830887",
       "version_major": 2,
       "version_minor": 0
      },
      "text/plain": [
       "Extraction in progress:   0%|          | 0/150 [00:00<?, ?it/s]"
      ]
     },
     "metadata": {},
     "output_type": "display_data"
    },
    {
     "name": "stdout",
     "output_type": "stream",
     "text": [
      "No features extracted for speed_36USERAUGMENTEDextrahls__201104021355.wav. Skipping...\n",
      "No features extracted for extrahls__201104140118.wav. Skipping...\n",
      "No features extracted for noisy_3USERAUGMENTEDextrahls__201104140118.wav. Skipping...\n",
      "No features extracted for noisy_32USERAUGMENTEDextrahls__201104270459.wav. Skipping...\n",
      "No features extracted for extrahls__201104270459.wav. Skipping...\n",
      "No features extracted for pitch_34USERAUGMENTEDextrahls__201104270459.wav. Skipping...\n",
      "No features extracted for noisy_18USERAUGMENTEDextrahls__201104021355.wav. Skipping...\n",
      "No features extracted for pitch_32USERAUGMENTEDextrahls__201104140118.wav. Skipping...\n",
      "No features extracted for noisy_12USERAUGMENTEDextrahls__201104140118.wav. Skipping...\n",
      "No features extracted for pitch_12USERAUGMENTEDextrahls__201104021355.wav. Skipping...\n",
      "No features extracted for noisy_38USERAUGMENTEDextrahls__201104270459.wav. Skipping...\n",
      "No features extracted for extrahls__201104021355.wav. Skipping...\n",
      "No features extracted for noisy_28USERAUGMENTEDextrahls__201104270459.wav. Skipping...\n",
      "No features extracted for pitch_5USERAUGMENTEDextrahls__201104021355.wav. Skipping...\n",
      "No features extracted for noisy_9USERAUGMENTEDextrahls__201104140118.wav. Skipping...\n",
      "No features extracted for pitch_3USERAUGMENTEDextrahls__201104021355.wav. Skipping...\n",
      "No features extracted for speed_40USERAUGMENTEDextrahls__201104021355.wav. Skipping...\n",
      "No features extracted for pitch_0USERAUGMENTEDextrahls__201104021355.wav. Skipping...\n",
      "No features extracted for pitch_9USERAUGMENTEDextrahls__201104140118.wav. Skipping...\n",
      "No features extracted for speed_30USERAUGMENTEDextrahls__201104140118.wav. Skipping...\n",
      "No features extracted for speed_17USERAUGMENTEDextrahls__201104140118.wav. Skipping...\n",
      "No features extracted for noisy_26USERAUGMENTEDextrahls__201104021355.wav. Skipping...\n",
      "No features extracted for pitch_39USERAUGMENTEDextrahls__201104140118.wav. Skipping...\n",
      "No features extracted for noisy_40USERAUGMENTEDextrahls__201104270459.wav. Skipping...\n",
      "No features extracted for speed_12USERAUGMENTEDextrahls__201104140118.wav. Skipping...\n",
      "No features extracted for pitch_8USERAUGMENTEDextrahls__201104021355.wav. Skipping...\n",
      "No features extracted for pitch_33USERAUGMENTEDextrahls__201104140118.wav. Skipping...\n",
      "No features extracted for noisy_25USERAUGMENTEDextrahls__201104270459.wav. Skipping...\n",
      "No features extracted for pitch_43USERAUGMENTEDextrahls__201104021355.wav. Skipping...\n",
      "No features extracted for pitch_10USERAUGMENTEDextrahls__201104140118.wav. Skipping...\n",
      "No features extracted for noisy_20USERAUGMENTEDextrahls__201104270459.wav. Skipping...\n",
      "No features extracted for noisy_15USERAUGMENTEDextrahls__201104270459.wav. Skipping...\n",
      "No features extracted for noisy_39USERAUGMENTEDextrahls__201104021355.wav. Skipping...\n",
      "Finished processing all files.\n",
      "\n",
      "The shape of the ../dataset/extrahls_4000/ features tensor is: (369, 14)\n",
      "Extracting features from ../dataset/murmurs_4000/\n"
     ]
    },
    {
     "data": {
      "application/vnd.jupyter.widget-view+json": {
       "model_id": "c0d71702a56043949b7141a0a322d5ad",
       "version_major": 2,
       "version_minor": 0
      },
      "text/plain": [
       "Extraction in progress:   0%|          | 0/149 [00:00<?, ?it/s]"
      ]
     },
     "metadata": {},
     "output_type": "display_data"
    },
    {
     "name": "stdout",
     "output_type": "stream",
     "text": [
      "No features extracted for murmur__293_1311680805936_B1.wav. Skipping...\n",
      "No features extracted for murmur__201104021355.wav. Skipping...\n",
      "Converting stereo audio to mono for abnormal_s4_2023_2.wav...\n",
      "No features extracted for murmur__171_1307971016233_E.wav. Skipping...\n",
      "Converting stereo audio to mono for atrial_septal_defect_2023_6.wav...\n",
      "Converting stereo audio to mono for abnormal_s3_2023_1.wav...\n",
      "Converting stereo audio to mono for mitral_stenosis_2023_9.wav...\n",
      "Converting stereo audio to mono for abnormal_s3_2023_0.wav...\n",
      "No features extracted for murmur_noisymurmur_171_1307971016233_D.wav. Skipping...\n",
      "Converting stereo audio to mono for holosystolic_murmur_2023_7.wav...\n",
      "Converting stereo audio to mono for aortic_stenosis_2023_4.wav...\n",
      "Converting stereo audio to mono for mitral_valve_prolapse_2023_10.wav...\n",
      "Converting stereo audio to mono for innocent_murmur_2023_8.wav...\n",
      "Finished processing all files.\n",
      "\n",
      "The shape of the ../dataset/murmurs_4000/ features tensor is: (534, 14)\n",
      "Extracting features from ../dataset/normals_4000/\n"
     ]
    },
    {
     "data": {
      "application/vnd.jupyter.widget-view+json": {
       "model_id": "02ac6d23eea8497a97907fd3d3e61a27",
       "version_major": 2,
       "version_minor": 0
      },
      "text/plain": [
       "Extraction in progress:   0%|          | 0/355 [00:00<?, ?it/s]"
      ]
     },
     "metadata": {},
     "output_type": "display_data"
    },
    {
     "name": "stdout",
     "output_type": "stream",
     "text": [
      "No features extracted for normal__232_1308748524018_D1.wav. Skipping...\n",
      "No features extracted for normal__210_1308162935880_D2.wav. Skipping...\n",
      "No features extracted for normal__210_1308162935880_D1.wav. Skipping...\n",
      "No features extracted for normal__143_1306763822290_C.wav. Skipping...\n",
      "No features extracted for normal__147_1306523973811_C.wav. Skipping...\n",
      "No features extracted for normal__238_1309194586293_B.wav. Skipping...\n",
      "No features extracted for normal__190_1308076920011_C1.wav. Skipping...\n",
      "No features extracted for normal__230_1308595300880_B.wav. Skipping...\n",
      "No features extracted for normal__267_1309368735165_A.wav. Skipping...\n",
      "No features extracted for normal__238_1309194586293_A.wav. Skipping...\n",
      "No features extracted for normal__286_1311170606028_A1.wav. Skipping...\n",
      "No features extracted for normal__210_1308162935880_B1.wav. Skipping...\n",
      "No features extracted for normal__252_1309203336604_B.wav. Skipping...\n",
      "No features extracted for normal__134_1306428161797_C2.wav. Skipping...\n",
      "No features extracted for normal__201_1308144942432_A.wav. Skipping...\n",
      "No features extracted for normal__175_1307987962616_B1.wav. Skipping...\n",
      "No features extracted for normal_noisynormal_137_1306764999211_C1.wav. Skipping...\n",
      "No features extracted for normal__232_1308748524018_B1.wav. Skipping...\n",
      "No features extracted for normal__235_1308749032454_C.wav. Skipping...\n",
      "No features extracted for normal__296_1311682952647_A1.wav. Skipping...\n",
      "No features extracted for normal__250_1309202496494_A.wav. Skipping...\n",
      "No features extracted for normal__296_1311682952647_A2.wav. Skipping...\n",
      "No features extracted for normal__286_1311170606028_A.wav. Skipping...\n",
      "No features extracted for normal__146_1306778707532_D3.wav. Skipping...\n",
      "No features extracted for normal_noisynormal_173_1307973611151_B.wav. Skipping...\n",
      "No features extracted for normal__232_1308748524018_A.wav. Skipping...\n",
      "No features extracted for normal__209_1308162216750_A1.wav. Skipping...\n",
      "No features extracted for normal__159_1307018640315_B2.wav. Skipping...\n",
      "No features extracted for normal__154_1306935608852_D.wav. Skipping...\n",
      "No features extracted for normal__152_1306779561195_C1.wav. Skipping...\n",
      "No features extracted for normal_noisynormal_178_1307989887769_B1.wav. Skipping...\n",
      "No features extracted for normal__295_1311682673157_D.wav. Skipping...\n",
      "No features extracted for normal__232_1308748524018_B.wav. Skipping...\n",
      "No features extracted for normal__210_1308162935880_B.wav. Skipping...\n",
      "No features extracted for normal__232_1308748524018_C.wav. Skipping...\n",
      "No features extracted for normal__158_1306947254705_B2.wav. Skipping...\n",
      "No features extracted for normal__282_1311166081161_C.wav. Skipping...\n",
      "No features extracted for normal_noisynormal_137_1306764999211_B.wav. Skipping...\n",
      "No features extracted for normal__283_1311167409239_A.wav. Skipping...\n",
      "No features extracted for normal__274_1311075637574_D.wav. Skipping...\n",
      "No features extracted for normal_noisynormal_234_1308748855534_B.wav. Skipping...\n",
      "No features extracted for normal__134_1306428161797_D.wav. Skipping...\n",
      "Converting stereo audio to mono for normal_2023_3.wav...\n",
      "No features extracted for normal__237_1308750231222_C.wav. Skipping...\n",
      "Converting stereo audio to mono for normal_2023_2.wav...\n",
      "No features extracted for normal__133_1306759619127_D.wav. Skipping...\n",
      "No features extracted for normal__274_1311075637574_B1.wav. Skipping...\n",
      "No features extracted for normal__176_1307988171173_B1.wav. Skipping...\n",
      "No features extracted for normal__215_1308245664733_C1.wav. Skipping...\n",
      "No features extracted for normal__218_1308246311449_C.wav. Skipping...\n",
      "Converting stereo audio to mono for normal_2023_0.wav...\n",
      "Converting stereo audio to mono for normal_2023_1.wav...\n",
      "No features extracted for normal__214_1308245489717_A.wav. Skipping...\n",
      "No features extracted for normal__167_1307111318050_C.wav. Skipping...\n",
      "Finished processing all files.\n",
      "\n",
      "The shape of the ../dataset/normals_4000/ features tensor is: (984, 14)\n",
      "Extracting features from ../dataset/extrastoles_4000/\n"
     ]
    },
    {
     "data": {
      "application/vnd.jupyter.widget-view+json": {
       "model_id": "53e125f4063041d796b31c238dcfc52f",
       "version_major": 2,
       "version_minor": 0
      },
      "text/plain": [
       "Extraction in progress:   0%|          | 0/150 [00:00<?, ?it/s]"
      ]
     },
     "metadata": {},
     "output_type": "display_data"
    },
    {
     "name": "stdout",
     "output_type": "stream",
     "text": [
      "No features extracted for speed_25USERAUGMENTEDextrastole__237_1308750231222_A.wav. Skipping...\n",
      "No features extracted for extrastole__190_1308076920011_C.wav. Skipping...\n",
      "No features extracted for speed_18USERAUGMENTEDextrastole__202_1308145175747_C2.wav. Skipping...\n",
      "No features extracted for pitch_4USERAUGMENTEDextrastole__190_1308076920011_C.wav. Skipping...\n",
      "No features extracted for speed_33USERAUGMENTEDextrastole__134_1306428161797_C1.wav. Skipping...\n",
      "Finished processing all files.\n",
      "\n",
      "The shape of the ../dataset/extrastoles_4000/ features tensor is: (381, 14)\n",
      "Features extracted and saved\n"
     ]
    }
   ],
   "source": [
    "# ------------------------- CHROMA -------------------------\n",
    "names = [\"artifacts\", \"extrahls\", \"murmurs\", \"normals\", \"extrastoles\"]\n",
    "features_dict = {}\n",
    "interval = INTERVAL\n",
    "n_features = 12\n",
    "type_ = \"chroma\"  # mfcc, mel_spec, spec, cqt\n",
    "# melkwargs = {'n_fft': 2048, 'hop_length': 512, 'n_mels': 128}\n",
    "\n",
    "for n_mfcc in n_mfcc_list:\n",
    "    # Save the features to a file\n",
    "    storing_name = f\"full_data_{interval}s_{sr}hz_{n_features}{type_}\"  ########## CHANGE THIS TO CHANGE THE NAME OF THE FILE\n",
    "\n",
    "    if os.path.exists(FEATURES_RAW_DIR + storing_name + \".npy\"):\n",
    "        print(\"The features have already been extracted\")\n",
    "\n",
    "    else:\n",
    "        for i, PATH_ in enumerate(PATHS):\n",
    "\n",
    "            print(f\"Extracting features from {PATH_}\")\n",
    "            features = extract_features(\n",
    "                PATH_,\n",
    "                label=i,\n",
    "                extraction_interval=interval,\n",
    "                n_mfcc=n_mfcc,\n",
    "                get_mfcc=False,\n",
    "                get_chroma=True,\n",
    "                get_cqt=False,\n",
    "            )\n",
    "\n",
    "            # Stack the features into a single tensor\n",
    "            features = torch.cat(features, dim=0).numpy()\n",
    "            print(f\"The shape of the {PATH_} features tensor is: {features.shape}\")\n",
    "\n",
    "            X = features[:, :-2]\n",
    "            y = features[:, -2]\n",
    "            filename = features[:, -1]\n",
    "\n",
    "            local_dict = {\"X\": X, \"y\": y, \"filename\": filename}\n",
    "\n",
    "            features_dict[names[i]] = local_dict\n",
    "\n",
    "        # Save the features to a file\n",
    "        np.save(FEATURES_RAW_DIR + storing_name, features_dict)\n",
    "\n",
    "        print(\"Features extracted and saved\")"
   ]
  },
  {
   "cell_type": "code",
   "execution_count": 7,
   "metadata": {},
   "outputs": [
    {
     "name": "stdout",
     "output_type": "stream",
     "text": [
      "Extracting features from ../dataset/artifacts_4000/\n"
     ]
    },
    {
     "data": {
      "application/vnd.jupyter.widget-view+json": {
       "model_id": "72ef1884a6e04b519ff231b1628cf730",
       "version_major": 2,
       "version_minor": 0
      },
      "text/plain": [
       "Extraction in progress:   0%|          | 0/84 [00:00<?, ?it/s]"
      ]
     },
     "metadata": {},
     "output_type": "display_data"
    },
    {
     "name": "stdout",
     "output_type": "stream",
     "text": [
      "Converting stereo audio to mono for artifact_2023_17.wav...\n",
      "Converting stereo audio to mono for artifact_2023_16.wav...\n",
      "Converting stereo audio to mono for artifact_2023_14.wav...\n",
      "Converting stereo audio to mono for artifact_2023_15.wav...\n",
      "Converting stereo audio to mono for artifact_2023_39.wav...\n",
      "Converting stereo audio to mono for artifact_2023_11.wav...\n",
      "Converting stereo audio to mono for artifact_2023_38.wav...\n",
      "Converting stereo audio to mono for artifact_2023_12.wav...\n",
      "Converting stereo audio to mono for artifact_2023_13.wav...\n",
      "Converting stereo audio to mono for artifact_2023_41.wav...\n",
      "Converting stereo audio to mono for artifact_2023_40.wav...\n",
      "Converting stereo audio to mono for artifact_2023_42.wav...\n",
      "Converting stereo audio to mono for artifact_2023_43.wav...\n",
      "Converting stereo audio to mono for artifact_2023_46.wav...\n",
      "Converting stereo audio to mono for artifact_2023_44.wav...\n",
      "Converting stereo audio to mono for artifact_2023_45.wav...\n",
      "Converting stereo audio to mono for artifact_2023_36.wav...\n",
      "Converting stereo audio to mono for artifact_2023_22.wav...\n",
      "Converting stereo audio to mono for artifact_2023_4.wav...\n",
      "Converting stereo audio to mono for artifact_2023_5.wav...\n",
      "Converting stereo audio to mono for artifact_2023_23.wav...\n",
      "Converting stereo audio to mono for artifact_2023_37.wav...\n",
      "Converting stereo audio to mono for artifact_2023_21.wav...\n",
      "Converting stereo audio to mono for artifact_2023_35.wav...\n",
      "Converting stereo audio to mono for artifact_2023_6.wav...\n",
      "Converting stereo audio to mono for artifact_2023_34.wav...\n",
      "Converting stereo audio to mono for artifact_2023_20.wav...\n",
      "Converting stereo audio to mono for artifact_2023_18.wav...\n",
      "Converting stereo audio to mono for artifact_2023_24.wav...\n",
      "Converting stereo audio to mono for artifact_2023_2.wav...\n",
      "Converting stereo audio to mono for artifact_2023_25.wav...\n",
      "Converting stereo audio to mono for artifact_2023_19.wav...\n",
      "Converting stereo audio to mono for artifact_2023_33.wav...\n",
      "Converting stereo audio to mono for artifact_2023_1.wav...\n",
      "Converting stereo audio to mono for artifact_2023_0.wav...\n",
      "Converting stereo audio to mono for artifact_2023_26.wav...\n",
      "Converting stereo audio to mono for artifact_2023_32.wav...\n",
      "Finished processing all files.\n",
      "\n",
      "The shape of the ../dataset/artifacts_4000/ features tensor is: (571, 72)\n",
      "Extracting features from ../dataset/extrahls_4000/\n"
     ]
    },
    {
     "data": {
      "application/vnd.jupyter.widget-view+json": {
       "model_id": "357d2ff7ab5d461dac86d66b944f231b",
       "version_major": 2,
       "version_minor": 0
      },
      "text/plain": [
       "Extraction in progress:   0%|          | 0/150 [00:00<?, ?it/s]"
      ]
     },
     "metadata": {},
     "output_type": "display_data"
    },
    {
     "name": "stdout",
     "output_type": "stream",
     "text": [
      "No features extracted for speed_36USERAUGMENTEDextrahls__201104021355.wav. Skipping...\n",
      "No features extracted for extrahls__201104140118.wav. Skipping...\n",
      "No features extracted for noisy_3USERAUGMENTEDextrahls__201104140118.wav. Skipping...\n",
      "No features extracted for noisy_32USERAUGMENTEDextrahls__201104270459.wav. Skipping...\n",
      "No features extracted for extrahls__201104270459.wav. Skipping...\n",
      "No features extracted for pitch_34USERAUGMENTEDextrahls__201104270459.wav. Skipping...\n",
      "No features extracted for noisy_18USERAUGMENTEDextrahls__201104021355.wav. Skipping...\n",
      "No features extracted for pitch_32USERAUGMENTEDextrahls__201104140118.wav. Skipping...\n",
      "No features extracted for noisy_12USERAUGMENTEDextrahls__201104140118.wav. Skipping...\n",
      "No features extracted for pitch_12USERAUGMENTEDextrahls__201104021355.wav. Skipping...\n",
      "No features extracted for noisy_38USERAUGMENTEDextrahls__201104270459.wav. Skipping...\n",
      "No features extracted for extrahls__201104021355.wav. Skipping...\n",
      "No features extracted for noisy_28USERAUGMENTEDextrahls__201104270459.wav. Skipping...\n",
      "No features extracted for pitch_5USERAUGMENTEDextrahls__201104021355.wav. Skipping...\n",
      "No features extracted for noisy_9USERAUGMENTEDextrahls__201104140118.wav. Skipping...\n",
      "No features extracted for pitch_3USERAUGMENTEDextrahls__201104021355.wav. Skipping...\n",
      "No features extracted for speed_40USERAUGMENTEDextrahls__201104021355.wav. Skipping...\n",
      "No features extracted for pitch_0USERAUGMENTEDextrahls__201104021355.wav. Skipping...\n",
      "No features extracted for pitch_9USERAUGMENTEDextrahls__201104140118.wav. Skipping...\n",
      "No features extracted for speed_30USERAUGMENTEDextrahls__201104140118.wav. Skipping...\n",
      "No features extracted for speed_17USERAUGMENTEDextrahls__201104140118.wav. Skipping...\n",
      "No features extracted for noisy_26USERAUGMENTEDextrahls__201104021355.wav. Skipping...\n",
      "No features extracted for pitch_39USERAUGMENTEDextrahls__201104140118.wav. Skipping...\n",
      "No features extracted for noisy_40USERAUGMENTEDextrahls__201104270459.wav. Skipping...\n",
      "No features extracted for speed_12USERAUGMENTEDextrahls__201104140118.wav. Skipping...\n",
      "No features extracted for pitch_8USERAUGMENTEDextrahls__201104021355.wav. Skipping...\n",
      "No features extracted for pitch_33USERAUGMENTEDextrahls__201104140118.wav. Skipping...\n",
      "No features extracted for noisy_25USERAUGMENTEDextrahls__201104270459.wav. Skipping...\n",
      "No features extracted for pitch_43USERAUGMENTEDextrahls__201104021355.wav. Skipping...\n",
      "No features extracted for pitch_10USERAUGMENTEDextrahls__201104140118.wav. Skipping...\n",
      "No features extracted for noisy_20USERAUGMENTEDextrahls__201104270459.wav. Skipping...\n",
      "No features extracted for noisy_15USERAUGMENTEDextrahls__201104270459.wav. Skipping...\n",
      "No features extracted for noisy_39USERAUGMENTEDextrahls__201104021355.wav. Skipping...\n",
      "Finished processing all files.\n",
      "\n",
      "The shape of the ../dataset/extrahls_4000/ features tensor is: (369, 72)\n",
      "Extracting features from ../dataset/murmurs_4000/\n"
     ]
    },
    {
     "data": {
      "application/vnd.jupyter.widget-view+json": {
       "model_id": "ca59bfaf161f47bb9ed36ac18071ef88",
       "version_major": 2,
       "version_minor": 0
      },
      "text/plain": [
       "Extraction in progress:   0%|          | 0/149 [00:00<?, ?it/s]"
      ]
     },
     "metadata": {},
     "output_type": "display_data"
    },
    {
     "name": "stdout",
     "output_type": "stream",
     "text": [
      "No features extracted for murmur__293_1311680805936_B1.wav. Skipping...\n",
      "No features extracted for murmur__201104021355.wav. Skipping...\n",
      "Converting stereo audio to mono for abnormal_s4_2023_2.wav...\n",
      "No features extracted for murmur__171_1307971016233_E.wav. Skipping...\n",
      "Converting stereo audio to mono for atrial_septal_defect_2023_6.wav...\n",
      "Converting stereo audio to mono for abnormal_s3_2023_1.wav...\n",
      "Converting stereo audio to mono for mitral_stenosis_2023_9.wav...\n",
      "Converting stereo audio to mono for abnormal_s3_2023_0.wav...\n",
      "No features extracted for murmur_noisymurmur_171_1307971016233_D.wav. Skipping...\n",
      "Converting stereo audio to mono for holosystolic_murmur_2023_7.wav...\n",
      "Converting stereo audio to mono for aortic_stenosis_2023_4.wav...\n",
      "Converting stereo audio to mono for mitral_valve_prolapse_2023_10.wav...\n",
      "Converting stereo audio to mono for innocent_murmur_2023_8.wav...\n",
      "Finished processing all files.\n",
      "\n",
      "The shape of the ../dataset/murmurs_4000/ features tensor is: (534, 72)\n",
      "Extracting features from ../dataset/normals_4000/\n"
     ]
    },
    {
     "data": {
      "application/vnd.jupyter.widget-view+json": {
       "model_id": "2110333f30a64915980e5caa064fad2f",
       "version_major": 2,
       "version_minor": 0
      },
      "text/plain": [
       "Extraction in progress:   0%|          | 0/355 [00:00<?, ?it/s]"
      ]
     },
     "metadata": {},
     "output_type": "display_data"
    },
    {
     "name": "stdout",
     "output_type": "stream",
     "text": [
      "No features extracted for normal__232_1308748524018_D1.wav. Skipping...\n",
      "No features extracted for normal__210_1308162935880_D2.wav. Skipping...\n",
      "No features extracted for normal__210_1308162935880_D1.wav. Skipping...\n",
      "No features extracted for normal__143_1306763822290_C.wav. Skipping...\n",
      "No features extracted for normal__147_1306523973811_C.wav. Skipping...\n",
      "No features extracted for normal__238_1309194586293_B.wav. Skipping...\n",
      "No features extracted for normal__190_1308076920011_C1.wav. Skipping...\n",
      "No features extracted for normal__230_1308595300880_B.wav. Skipping...\n",
      "No features extracted for normal__267_1309368735165_A.wav. Skipping...\n",
      "No features extracted for normal__238_1309194586293_A.wav. Skipping...\n",
      "No features extracted for normal__286_1311170606028_A1.wav. Skipping...\n",
      "No features extracted for normal__210_1308162935880_B1.wav. Skipping...\n",
      "No features extracted for normal__252_1309203336604_B.wav. Skipping...\n",
      "No features extracted for normal__134_1306428161797_C2.wav. Skipping...\n",
      "No features extracted for normal__201_1308144942432_A.wav. Skipping...\n",
      "No features extracted for normal__175_1307987962616_B1.wav. Skipping...\n",
      "No features extracted for normal_noisynormal_137_1306764999211_C1.wav. Skipping...\n",
      "No features extracted for normal__232_1308748524018_B1.wav. Skipping...\n",
      "No features extracted for normal__235_1308749032454_C.wav. Skipping...\n",
      "No features extracted for normal__296_1311682952647_A1.wav. Skipping...\n",
      "No features extracted for normal__250_1309202496494_A.wav. Skipping...\n",
      "No features extracted for normal__296_1311682952647_A2.wav. Skipping...\n",
      "No features extracted for normal__286_1311170606028_A.wav. Skipping...\n",
      "No features extracted for normal__146_1306778707532_D3.wav. Skipping...\n",
      "No features extracted for normal_noisynormal_173_1307973611151_B.wav. Skipping...\n",
      "No features extracted for normal__232_1308748524018_A.wav. Skipping...\n",
      "No features extracted for normal__209_1308162216750_A1.wav. Skipping...\n",
      "No features extracted for normal__159_1307018640315_B2.wav. Skipping...\n",
      "No features extracted for normal__154_1306935608852_D.wav. Skipping...\n",
      "No features extracted for normal__152_1306779561195_C1.wav. Skipping...\n",
      "No features extracted for normal_noisynormal_178_1307989887769_B1.wav. Skipping...\n",
      "No features extracted for normal__295_1311682673157_D.wav. Skipping...\n",
      "No features extracted for normal__232_1308748524018_B.wav. Skipping...\n",
      "No features extracted for normal__210_1308162935880_B.wav. Skipping...\n",
      "No features extracted for normal__232_1308748524018_C.wav. Skipping...\n",
      "No features extracted for normal__158_1306947254705_B2.wav. Skipping...\n",
      "No features extracted for normal__282_1311166081161_C.wav. Skipping...\n",
      "No features extracted for normal_noisynormal_137_1306764999211_B.wav. Skipping...\n",
      "No features extracted for normal__283_1311167409239_A.wav. Skipping...\n",
      "No features extracted for normal__274_1311075637574_D.wav. Skipping...\n",
      "No features extracted for normal_noisynormal_234_1308748855534_B.wav. Skipping...\n",
      "No features extracted for normal__134_1306428161797_D.wav. Skipping...\n",
      "Converting stereo audio to mono for normal_2023_3.wav...\n",
      "No features extracted for normal__237_1308750231222_C.wav. Skipping...\n",
      "Converting stereo audio to mono for normal_2023_2.wav...\n",
      "No features extracted for normal__133_1306759619127_D.wav. Skipping...\n",
      "No features extracted for normal__274_1311075637574_B1.wav. Skipping...\n",
      "No features extracted for normal__176_1307988171173_B1.wav. Skipping...\n",
      "No features extracted for normal__215_1308245664733_C1.wav. Skipping...\n",
      "No features extracted for normal__218_1308246311449_C.wav. Skipping...\n",
      "Converting stereo audio to mono for normal_2023_0.wav...\n",
      "Converting stereo audio to mono for normal_2023_1.wav...\n",
      "No features extracted for normal__214_1308245489717_A.wav. Skipping...\n",
      "No features extracted for normal__167_1307111318050_C.wav. Skipping...\n",
      "Finished processing all files.\n",
      "\n",
      "The shape of the ../dataset/normals_4000/ features tensor is: (984, 72)\n",
      "Extracting features from ../dataset/extrastoles_4000/\n"
     ]
    },
    {
     "data": {
      "application/vnd.jupyter.widget-view+json": {
       "model_id": "8f80ef3ec6b440668c28cb3180eddf25",
       "version_major": 2,
       "version_minor": 0
      },
      "text/plain": [
       "Extraction in progress:   0%|          | 0/150 [00:00<?, ?it/s]"
      ]
     },
     "metadata": {},
     "output_type": "display_data"
    },
    {
     "name": "stdout",
     "output_type": "stream",
     "text": [
      "No features extracted for speed_25USERAUGMENTEDextrastole__237_1308750231222_A.wav. Skipping...\n",
      "No features extracted for extrastole__190_1308076920011_C.wav. Skipping...\n",
      "No features extracted for speed_18USERAUGMENTEDextrastole__202_1308145175747_C2.wav. Skipping...\n",
      "No features extracted for pitch_4USERAUGMENTEDextrastole__190_1308076920011_C.wav. Skipping...\n",
      "No features extracted for speed_33USERAUGMENTEDextrastole__134_1306428161797_C1.wav. Skipping...\n",
      "Finished processing all files.\n",
      "\n",
      "The shape of the ../dataset/extrastoles_4000/ features tensor is: (381, 72)\n",
      "Features extracted and saved\n"
     ]
    }
   ],
   "source": [
    "# ------------------------- CQT -------------------------\n",
    "# n_cqt_list = [\n",
    "#     20,\n",
    "#     30,\n",
    "#     40,\n",
    "#     60,\n",
    "#     70,\n",
    "# ]\n",
    "n_cqt_list = [70]\n",
    "\n",
    "names = [\"artifacts\", \"extrahls\", \"murmurs\", \"normals\", \"extrastoles\"]\n",
    "features_dict = {}\n",
    "interval = INTERVAL\n",
    "type_ = \"cqt\"  # mfcc, mel_spec, spec, cqt\n",
    "# melkwargs = {'n_fft': 2048, 'hop_length': 512, 'n_mels': 128}\n",
    "\n",
    "for n_cqt in n_cqt_list:\n",
    "    # Save the features to a file\n",
    "    storing_name = f\"full_data_{interval}s_{sr}hz_{n_cqt}{type_}\"  ########## CHANGE THIS TO CHANGE THE NAME OF THE FILE\n",
    "\n",
    "    if os.path.exists(FEATURES_RAW_DIR + storing_name + \".npy\"):\n",
    "        print(\"The features have already been extracted\")\n",
    "\n",
    "    else:\n",
    "        for i, PATH_ in enumerate(PATHS):\n",
    "\n",
    "            print(f\"Extracting features from {PATH_}\")\n",
    "            features = extract_features(\n",
    "                PATH_,\n",
    "                label=i,\n",
    "                extraction_interval=interval,\n",
    "                n_cqt=n_cqt,\n",
    "                get_mfcc=False,\n",
    "                get_chroma=False,\n",
    "                get_cqt=True,\n",
    "            )\n",
    "\n",
    "            # Stack the features into a single tensor\n",
    "            features = torch.cat(features, dim=0).numpy()\n",
    "            print(f\"The shape of the {PATH_} features tensor is: {features.shape}\")\n",
    "\n",
    "            X = features[:, :-2]\n",
    "            y = features[:, -2]\n",
    "            filename = features[:, -1]\n",
    "\n",
    "            local_dict = {\"X\": X, \"y\": y, \"filename\": filename}\n",
    "\n",
    "            features_dict[names[i]] = local_dict\n",
    "\n",
    "        # Save the features to a file\n",
    "        np.save(FEATURES_RAW_DIR + storing_name, features_dict)\n",
    "\n",
    "        print(\"Features extracted and saved\")"
   ]
  },
  {
   "cell_type": "code",
   "execution_count": 8,
   "metadata": {},
   "outputs": [
    {
     "name": "stdout",
     "output_type": "stream",
     "text": [
      "Extracting features from ../dataset/artifacts_4000/\n"
     ]
    },
    {
     "data": {
      "application/vnd.jupyter.widget-view+json": {
       "model_id": "30d02a33ff9c4ccdba21cd06f2fe93ee",
       "version_major": 2,
       "version_minor": 0
      },
      "text/plain": [
       "Extraction in progress:   0%|          | 0/84 [00:00<?, ?it/s]"
      ]
     },
     "metadata": {},
     "output_type": "display_data"
    },
    {
     "name": "stdout",
     "output_type": "stream",
     "text": [
      "Converting stereo audio to mono for artifact_2023_17.wav...\n",
      "Converting stereo audio to mono for artifact_2023_16.wav...\n",
      "Converting stereo audio to mono for artifact_2023_14.wav...\n",
      "Converting stereo audio to mono for artifact_2023_15.wav...\n",
      "Converting stereo audio to mono for artifact_2023_39.wav...\n",
      "Converting stereo audio to mono for artifact_2023_11.wav...\n",
      "Converting stereo audio to mono for artifact_2023_38.wav...\n",
      "Converting stereo audio to mono for artifact_2023_12.wav...\n",
      "Converting stereo audio to mono for artifact_2023_13.wav...\n",
      "Converting stereo audio to mono for artifact_2023_41.wav...\n",
      "Converting stereo audio to mono for artifact_2023_40.wav...\n",
      "Converting stereo audio to mono for artifact_2023_42.wav...\n",
      "Converting stereo audio to mono for artifact_2023_43.wav...\n",
      "Converting stereo audio to mono for artifact_2023_46.wav...\n",
      "Converting stereo audio to mono for artifact_2023_44.wav...\n",
      "Converting stereo audio to mono for artifact_2023_45.wav...\n",
      "Converting stereo audio to mono for artifact_2023_36.wav...\n",
      "Converting stereo audio to mono for artifact_2023_22.wav...\n",
      "Converting stereo audio to mono for artifact_2023_4.wav...\n",
      "Converting stereo audio to mono for artifact_2023_5.wav...\n",
      "Converting stereo audio to mono for artifact_2023_23.wav...\n",
      "Converting stereo audio to mono for artifact_2023_37.wav...\n",
      "Converting stereo audio to mono for artifact_2023_21.wav...\n",
      "Converting stereo audio to mono for artifact_2023_35.wav...\n",
      "Converting stereo audio to mono for artifact_2023_6.wav...\n",
      "Converting stereo audio to mono for artifact_2023_34.wav...\n",
      "Converting stereo audio to mono for artifact_2023_20.wav...\n",
      "Converting stereo audio to mono for artifact_2023_18.wav...\n",
      "Converting stereo audio to mono for artifact_2023_24.wav...\n",
      "Converting stereo audio to mono for artifact_2023_2.wav...\n",
      "Converting stereo audio to mono for artifact_2023_25.wav...\n",
      "Converting stereo audio to mono for artifact_2023_19.wav...\n",
      "Converting stereo audio to mono for artifact_2023_33.wav...\n",
      "Converting stereo audio to mono for artifact_2023_1.wav...\n",
      "Converting stereo audio to mono for artifact_2023_0.wav...\n",
      "Converting stereo audio to mono for artifact_2023_26.wav...\n",
      "Converting stereo audio to mono for artifact_2023_32.wav...\n",
      "Finished processing all files.\n",
      "\n",
      "The shape of the ../dataset/artifacts_4000/ features tensor is: (571, 43)\n",
      "Extracting features from ../dataset/extrahls_4000/\n"
     ]
    },
    {
     "data": {
      "application/vnd.jupyter.widget-view+json": {
       "model_id": "c2704b6652d9473199ad11224606e137",
       "version_major": 2,
       "version_minor": 0
      },
      "text/plain": [
       "Extraction in progress:   0%|          | 0/150 [00:00<?, ?it/s]"
      ]
     },
     "metadata": {},
     "output_type": "display_data"
    },
    {
     "name": "stdout",
     "output_type": "stream",
     "text": [
      "No features extracted for speed_36USERAUGMENTEDextrahls__201104021355.wav. Skipping...\n",
      "No features extracted for extrahls__201104140118.wav. Skipping...\n",
      "No features extracted for noisy_3USERAUGMENTEDextrahls__201104140118.wav. Skipping...\n",
      "No features extracted for noisy_32USERAUGMENTEDextrahls__201104270459.wav. Skipping...\n",
      "No features extracted for extrahls__201104270459.wav. Skipping...\n",
      "No features extracted for pitch_34USERAUGMENTEDextrahls__201104270459.wav. Skipping...\n",
      "No features extracted for noisy_18USERAUGMENTEDextrahls__201104021355.wav. Skipping...\n",
      "No features extracted for pitch_32USERAUGMENTEDextrahls__201104140118.wav. Skipping...\n",
      "No features extracted for noisy_12USERAUGMENTEDextrahls__201104140118.wav. Skipping...\n",
      "No features extracted for pitch_12USERAUGMENTEDextrahls__201104021355.wav. Skipping...\n",
      "No features extracted for noisy_38USERAUGMENTEDextrahls__201104270459.wav. Skipping...\n",
      "No features extracted for extrahls__201104021355.wav. Skipping...\n",
      "No features extracted for noisy_28USERAUGMENTEDextrahls__201104270459.wav. Skipping...\n",
      "No features extracted for pitch_5USERAUGMENTEDextrahls__201104021355.wav. Skipping...\n",
      "No features extracted for noisy_9USERAUGMENTEDextrahls__201104140118.wav. Skipping...\n",
      "No features extracted for pitch_3USERAUGMENTEDextrahls__201104021355.wav. Skipping...\n",
      "No features extracted for speed_40USERAUGMENTEDextrahls__201104021355.wav. Skipping...\n",
      "No features extracted for pitch_0USERAUGMENTEDextrahls__201104021355.wav. Skipping...\n",
      "No features extracted for pitch_9USERAUGMENTEDextrahls__201104140118.wav. Skipping...\n",
      "No features extracted for speed_30USERAUGMENTEDextrahls__201104140118.wav. Skipping...\n",
      "No features extracted for speed_17USERAUGMENTEDextrahls__201104140118.wav. Skipping...\n",
      "No features extracted for noisy_26USERAUGMENTEDextrahls__201104021355.wav. Skipping...\n",
      "No features extracted for pitch_39USERAUGMENTEDextrahls__201104140118.wav. Skipping...\n",
      "No features extracted for noisy_40USERAUGMENTEDextrahls__201104270459.wav. Skipping...\n",
      "No features extracted for speed_12USERAUGMENTEDextrahls__201104140118.wav. Skipping...\n",
      "No features extracted for pitch_8USERAUGMENTEDextrahls__201104021355.wav. Skipping...\n",
      "No features extracted for pitch_33USERAUGMENTEDextrahls__201104140118.wav. Skipping...\n",
      "No features extracted for noisy_25USERAUGMENTEDextrahls__201104270459.wav. Skipping...\n",
      "No features extracted for pitch_43USERAUGMENTEDextrahls__201104021355.wav. Skipping...\n",
      "No features extracted for pitch_10USERAUGMENTEDextrahls__201104140118.wav. Skipping...\n",
      "No features extracted for noisy_20USERAUGMENTEDextrahls__201104270459.wav. Skipping...\n",
      "No features extracted for noisy_15USERAUGMENTEDextrahls__201104270459.wav. Skipping...\n",
      "No features extracted for noisy_39USERAUGMENTEDextrahls__201104021355.wav. Skipping...\n",
      "Finished processing all files.\n",
      "\n",
      "The shape of the ../dataset/extrahls_4000/ features tensor is: (369, 43)\n",
      "Extracting features from ../dataset/murmurs_4000/\n"
     ]
    },
    {
     "data": {
      "application/vnd.jupyter.widget-view+json": {
       "model_id": "70645448ccf7439eb444bd626e36cf9e",
       "version_major": 2,
       "version_minor": 0
      },
      "text/plain": [
       "Extraction in progress:   0%|          | 0/149 [00:00<?, ?it/s]"
      ]
     },
     "metadata": {},
     "output_type": "display_data"
    },
    {
     "name": "stdout",
     "output_type": "stream",
     "text": [
      "No features extracted for murmur__293_1311680805936_B1.wav. Skipping...\n",
      "No features extracted for murmur__201104021355.wav. Skipping...\n",
      "Converting stereo audio to mono for abnormal_s4_2023_2.wav...\n",
      "No features extracted for murmur__171_1307971016233_E.wav. Skipping...\n",
      "Converting stereo audio to mono for atrial_septal_defect_2023_6.wav...\n",
      "Converting stereo audio to mono for abnormal_s3_2023_1.wav...\n",
      "Converting stereo audio to mono for mitral_stenosis_2023_9.wav...\n",
      "Converting stereo audio to mono for abnormal_s3_2023_0.wav...\n",
      "No features extracted for murmur_noisymurmur_171_1307971016233_D.wav. Skipping...\n",
      "Converting stereo audio to mono for holosystolic_murmur_2023_7.wav...\n",
      "Converting stereo audio to mono for aortic_stenosis_2023_4.wav...\n",
      "Converting stereo audio to mono for mitral_valve_prolapse_2023_10.wav...\n",
      "Converting stereo audio to mono for innocent_murmur_2023_8.wav...\n",
      "Finished processing all files.\n",
      "\n",
      "The shape of the ../dataset/murmurs_4000/ features tensor is: (534, 43)\n",
      "Extracting features from ../dataset/normals_4000/\n"
     ]
    },
    {
     "data": {
      "application/vnd.jupyter.widget-view+json": {
       "model_id": "c55bd39fcc0245d194d5246d56d088eb",
       "version_major": 2,
       "version_minor": 0
      },
      "text/plain": [
       "Extraction in progress:   0%|          | 0/355 [00:00<?, ?it/s]"
      ]
     },
     "metadata": {},
     "output_type": "display_data"
    },
    {
     "name": "stdout",
     "output_type": "stream",
     "text": [
      "No features extracted for normal__232_1308748524018_D1.wav. Skipping...\n",
      "No features extracted for normal__210_1308162935880_D2.wav. Skipping...\n",
      "No features extracted for normal__210_1308162935880_D1.wav. Skipping...\n",
      "No features extracted for normal__143_1306763822290_C.wav. Skipping...\n",
      "No features extracted for normal__147_1306523973811_C.wav. Skipping...\n",
      "No features extracted for normal__238_1309194586293_B.wav. Skipping...\n",
      "No features extracted for normal__190_1308076920011_C1.wav. Skipping...\n",
      "No features extracted for normal__230_1308595300880_B.wav. Skipping...\n",
      "No features extracted for normal__267_1309368735165_A.wav. Skipping...\n",
      "No features extracted for normal__238_1309194586293_A.wav. Skipping...\n",
      "No features extracted for normal__286_1311170606028_A1.wav. Skipping...\n",
      "No features extracted for normal__210_1308162935880_B1.wav. Skipping...\n",
      "No features extracted for normal__252_1309203336604_B.wav. Skipping...\n",
      "No features extracted for normal__134_1306428161797_C2.wav. Skipping...\n",
      "No features extracted for normal__201_1308144942432_A.wav. Skipping...\n",
      "No features extracted for normal__175_1307987962616_B1.wav. Skipping...\n",
      "No features extracted for normal_noisynormal_137_1306764999211_C1.wav. Skipping...\n",
      "No features extracted for normal__232_1308748524018_B1.wav. Skipping...\n",
      "No features extracted for normal__235_1308749032454_C.wav. Skipping...\n",
      "No features extracted for normal__296_1311682952647_A1.wav. Skipping...\n",
      "No features extracted for normal__250_1309202496494_A.wav. Skipping...\n",
      "No features extracted for normal__296_1311682952647_A2.wav. Skipping...\n",
      "No features extracted for normal__286_1311170606028_A.wav. Skipping...\n",
      "No features extracted for normal__146_1306778707532_D3.wav. Skipping...\n",
      "No features extracted for normal_noisynormal_173_1307973611151_B.wav. Skipping...\n",
      "No features extracted for normal__232_1308748524018_A.wav. Skipping...\n",
      "No features extracted for normal__209_1308162216750_A1.wav. Skipping...\n",
      "No features extracted for normal__159_1307018640315_B2.wav. Skipping...\n",
      "No features extracted for normal__154_1306935608852_D.wav. Skipping...\n",
      "No features extracted for normal__152_1306779561195_C1.wav. Skipping...\n",
      "No features extracted for normal_noisynormal_178_1307989887769_B1.wav. Skipping...\n",
      "No features extracted for normal__295_1311682673157_D.wav. Skipping...\n",
      "No features extracted for normal__232_1308748524018_B.wav. Skipping...\n",
      "No features extracted for normal__210_1308162935880_B.wav. Skipping...\n",
      "No features extracted for normal__232_1308748524018_C.wav. Skipping...\n",
      "No features extracted for normal__158_1306947254705_B2.wav. Skipping...\n",
      "No features extracted for normal__282_1311166081161_C.wav. Skipping...\n",
      "No features extracted for normal_noisynormal_137_1306764999211_B.wav. Skipping...\n",
      "No features extracted for normal__283_1311167409239_A.wav. Skipping...\n",
      "No features extracted for normal__274_1311075637574_D.wav. Skipping...\n",
      "No features extracted for normal_noisynormal_234_1308748855534_B.wav. Skipping...\n",
      "No features extracted for normal__134_1306428161797_D.wav. Skipping...\n",
      "Converting stereo audio to mono for normal_2023_3.wav...\n",
      "No features extracted for normal__237_1308750231222_C.wav. Skipping...\n",
      "Converting stereo audio to mono for normal_2023_2.wav...\n",
      "No features extracted for normal__133_1306759619127_D.wav. Skipping...\n",
      "No features extracted for normal__274_1311075637574_B1.wav. Skipping...\n",
      "No features extracted for normal__176_1307988171173_B1.wav. Skipping...\n",
      "No features extracted for normal__215_1308245664733_C1.wav. Skipping...\n",
      "No features extracted for normal__218_1308246311449_C.wav. Skipping...\n",
      "Converting stereo audio to mono for normal_2023_0.wav...\n",
      "Converting stereo audio to mono for normal_2023_1.wav...\n",
      "No features extracted for normal__214_1308245489717_A.wav. Skipping...\n",
      "No features extracted for normal__167_1307111318050_C.wav. Skipping...\n",
      "Finished processing all files.\n",
      "\n",
      "The shape of the ../dataset/normals_4000/ features tensor is: (984, 43)\n",
      "Extracting features from ../dataset/extrastoles_4000/\n"
     ]
    },
    {
     "data": {
      "application/vnd.jupyter.widget-view+json": {
       "model_id": "46e3c5579744433aac1650bdc51585b0",
       "version_major": 2,
       "version_minor": 0
      },
      "text/plain": [
       "Extraction in progress:   0%|          | 0/150 [00:00<?, ?it/s]"
      ]
     },
     "metadata": {},
     "output_type": "display_data"
    },
    {
     "name": "stdout",
     "output_type": "stream",
     "text": [
      "No features extracted for speed_25USERAUGMENTEDextrastole__237_1308750231222_A.wav. Skipping...\n",
      "No features extracted for extrastole__190_1308076920011_C.wav. Skipping...\n",
      "No features extracted for speed_18USERAUGMENTEDextrastole__202_1308145175747_C2.wav. Skipping...\n",
      "No features extracted for pitch_4USERAUGMENTEDextrastole__190_1308076920011_C.wav. Skipping...\n",
      "No features extracted for speed_33USERAUGMENTEDextrastole__134_1306428161797_C1.wav. Skipping...\n",
      "Finished processing all files.\n",
      "\n",
      "The shape of the ../dataset/extrastoles_4000/ features tensor is: (381, 43)\n",
      "Features extracted and saved\n"
     ]
    }
   ],
   "source": [
    "# ------------------------- RMS -------------------------\n",
    "# n_rms_list = [\n",
    "#     20,\n",
    "#     40,\n",
    "#     60,\n",
    "# ]\n",
    "\n",
    "n_rms_list = [40]\n",
    "\n",
    "names = [\"artifacts\", \"extrahls\", \"murmurs\", \"normals\", \"extrastoles\"]\n",
    "features_dict = {}\n",
    "interval = INTERVAL\n",
    "type_ = \"rms\"  # mfcc, mel_spec, spec, cqt, rms\n",
    "\n",
    "for n_rms in n_rms_list:\n",
    "    # Save the features to a file\n",
    "    storing_name = f\"full_data_{interval}s_{sr}hz_{n_rms+1}{type_}\"  ########## CHANGE THIS TO CHANGE THE NAME OF THE FILE\n",
    "\n",
    "    if os.path.exists(FEATURES_RAW_DIR + storing_name + \".npy\"):\n",
    "        print(\"The features have already been extracted\")\n",
    "\n",
    "    else:\n",
    "        for i, PATH_ in enumerate(PATHS):\n",
    "\n",
    "            print(f\"Extracting features from {PATH_}\")\n",
    "            features = extract_features(\n",
    "                PATH_,\n",
    "                label=i,\n",
    "                extraction_interval=interval,\n",
    "                n_rms=n_rms,\n",
    "                get_mfcc=False,\n",
    "                get_chroma=False,\n",
    "                get_cqt=False,\n",
    "                get_rms=True,\n",
    "            )\n",
    "\n",
    "            # Stack the features into a single tensor\n",
    "            features = torch.cat(features, dim=0).numpy()\n",
    "            print(f\"The shape of the {PATH_} features tensor is: {features.shape}\")\n",
    "\n",
    "            X = features[:, :-2]\n",
    "            y = features[:, -2]\n",
    "            filename = features[:, -1]\n",
    "\n",
    "            local_dict = {\"X\": X, \"y\": y, \"filename\": filename}\n",
    "\n",
    "            features_dict[names[i]] = local_dict\n",
    "\n",
    "        # Save the features to a file\n",
    "        np.save(FEATURES_RAW_DIR + storing_name, features_dict)\n",
    "\n",
    "        print(\"Features extracted and saved\")"
   ]
  },
  {
   "cell_type": "code",
   "execution_count": 9,
   "metadata": {},
   "outputs": [
    {
     "name": "stdout",
     "output_type": "stream",
     "text": [
      "Extracting features from ../dataset/artifacts_4000/\n"
     ]
    },
    {
     "data": {
      "application/vnd.jupyter.widget-view+json": {
       "model_id": "fd555fa0f69d447f8619fb5d65040bc2",
       "version_major": 2,
       "version_minor": 0
      },
      "text/plain": [
       "Extraction in progress:   0%|          | 0/84 [00:00<?, ?it/s]"
      ]
     },
     "metadata": {},
     "output_type": "display_data"
    },
    {
     "name": "stdout",
     "output_type": "stream",
     "text": [
      "Converting stereo audio to mono for artifact_2023_17.wav...\n",
      "Converting stereo audio to mono for artifact_2023_16.wav...\n",
      "Converting stereo audio to mono for artifact_2023_14.wav...\n",
      "Converting stereo audio to mono for artifact_2023_15.wav...\n",
      "Converting stereo audio to mono for artifact_2023_39.wav...\n",
      "Converting stereo audio to mono for artifact_2023_11.wav...\n",
      "Converting stereo audio to mono for artifact_2023_38.wav...\n",
      "Converting stereo audio to mono for artifact_2023_12.wav...\n",
      "Converting stereo audio to mono for artifact_2023_13.wav...\n",
      "Converting stereo audio to mono for artifact_2023_41.wav...\n",
      "Converting stereo audio to mono for artifact_2023_40.wav...\n",
      "Converting stereo audio to mono for artifact_2023_42.wav...\n",
      "Converting stereo audio to mono for artifact_2023_43.wav...\n",
      "Converting stereo audio to mono for artifact_2023_46.wav...\n",
      "Converting stereo audio to mono for artifact_2023_44.wav...\n",
      "Converting stereo audio to mono for artifact_2023_45.wav...\n",
      "Converting stereo audio to mono for artifact_2023_36.wav...\n",
      "Converting stereo audio to mono for artifact_2023_22.wav...\n",
      "Converting stereo audio to mono for artifact_2023_4.wav...\n",
      "Converting stereo audio to mono for artifact_2023_5.wav...\n",
      "Converting stereo audio to mono for artifact_2023_23.wav...\n",
      "Converting stereo audio to mono for artifact_2023_37.wav...\n",
      "Converting stereo audio to mono for artifact_2023_21.wav...\n",
      "Converting stereo audio to mono for artifact_2023_35.wav...\n",
      "Converting stereo audio to mono for artifact_2023_6.wav...\n",
      "Converting stereo audio to mono for artifact_2023_34.wav...\n",
      "Converting stereo audio to mono for artifact_2023_20.wav...\n",
      "Converting stereo audio to mono for artifact_2023_18.wav...\n",
      "Converting stereo audio to mono for artifact_2023_24.wav...\n",
      "Converting stereo audio to mono for artifact_2023_2.wav...\n",
      "Converting stereo audio to mono for artifact_2023_25.wav...\n",
      "Converting stereo audio to mono for artifact_2023_19.wav...\n",
      "Converting stereo audio to mono for artifact_2023_33.wav...\n",
      "Converting stereo audio to mono for artifact_2023_1.wav...\n",
      "Converting stereo audio to mono for artifact_2023_0.wav...\n",
      "Converting stereo audio to mono for artifact_2023_26.wav...\n",
      "Converting stereo audio to mono for artifact_2023_32.wav...\n",
      "Finished processing all files.\n",
      "\n",
      "The shape of the ../dataset/artifacts_4000/ features tensor is: (571, 43)\n",
      "Extracting features from ../dataset/extrahls_4000/\n"
     ]
    },
    {
     "data": {
      "application/vnd.jupyter.widget-view+json": {
       "model_id": "9ead7ca14b5b4c5091c89eb4395064e3",
       "version_major": 2,
       "version_minor": 0
      },
      "text/plain": [
       "Extraction in progress:   0%|          | 0/150 [00:00<?, ?it/s]"
      ]
     },
     "metadata": {},
     "output_type": "display_data"
    },
    {
     "name": "stdout",
     "output_type": "stream",
     "text": [
      "No features extracted for speed_36USERAUGMENTEDextrahls__201104021355.wav. Skipping...\n",
      "No features extracted for extrahls__201104140118.wav. Skipping...\n",
      "No features extracted for noisy_3USERAUGMENTEDextrahls__201104140118.wav. Skipping...\n",
      "No features extracted for noisy_32USERAUGMENTEDextrahls__201104270459.wav. Skipping...\n",
      "No features extracted for extrahls__201104270459.wav. Skipping...\n",
      "No features extracted for pitch_34USERAUGMENTEDextrahls__201104270459.wav. Skipping...\n",
      "No features extracted for noisy_18USERAUGMENTEDextrahls__201104021355.wav. Skipping...\n",
      "No features extracted for pitch_32USERAUGMENTEDextrahls__201104140118.wav. Skipping...\n",
      "No features extracted for noisy_12USERAUGMENTEDextrahls__201104140118.wav. Skipping...\n",
      "No features extracted for pitch_12USERAUGMENTEDextrahls__201104021355.wav. Skipping...\n",
      "No features extracted for noisy_38USERAUGMENTEDextrahls__201104270459.wav. Skipping...\n",
      "No features extracted for extrahls__201104021355.wav. Skipping...\n",
      "No features extracted for noisy_28USERAUGMENTEDextrahls__201104270459.wav. Skipping...\n",
      "No features extracted for pitch_5USERAUGMENTEDextrahls__201104021355.wav. Skipping...\n",
      "No features extracted for noisy_9USERAUGMENTEDextrahls__201104140118.wav. Skipping...\n",
      "No features extracted for pitch_3USERAUGMENTEDextrahls__201104021355.wav. Skipping...\n",
      "No features extracted for speed_40USERAUGMENTEDextrahls__201104021355.wav. Skipping...\n",
      "No features extracted for pitch_0USERAUGMENTEDextrahls__201104021355.wav. Skipping...\n",
      "No features extracted for pitch_9USERAUGMENTEDextrahls__201104140118.wav. Skipping...\n",
      "No features extracted for speed_30USERAUGMENTEDextrahls__201104140118.wav. Skipping...\n",
      "No features extracted for speed_17USERAUGMENTEDextrahls__201104140118.wav. Skipping...\n",
      "No features extracted for noisy_26USERAUGMENTEDextrahls__201104021355.wav. Skipping...\n",
      "No features extracted for pitch_39USERAUGMENTEDextrahls__201104140118.wav. Skipping...\n",
      "No features extracted for noisy_40USERAUGMENTEDextrahls__201104270459.wav. Skipping...\n",
      "No features extracted for speed_12USERAUGMENTEDextrahls__201104140118.wav. Skipping...\n",
      "No features extracted for pitch_8USERAUGMENTEDextrahls__201104021355.wav. Skipping...\n",
      "No features extracted for pitch_33USERAUGMENTEDextrahls__201104140118.wav. Skipping...\n",
      "No features extracted for noisy_25USERAUGMENTEDextrahls__201104270459.wav. Skipping...\n",
      "No features extracted for pitch_43USERAUGMENTEDextrahls__201104021355.wav. Skipping...\n",
      "No features extracted for pitch_10USERAUGMENTEDextrahls__201104140118.wav. Skipping...\n",
      "No features extracted for noisy_20USERAUGMENTEDextrahls__201104270459.wav. Skipping...\n",
      "No features extracted for noisy_15USERAUGMENTEDextrahls__201104270459.wav. Skipping...\n",
      "No features extracted for noisy_39USERAUGMENTEDextrahls__201104021355.wav. Skipping...\n",
      "Finished processing all files.\n",
      "\n",
      "The shape of the ../dataset/extrahls_4000/ features tensor is: (369, 43)\n",
      "Extracting features from ../dataset/murmurs_4000/\n"
     ]
    },
    {
     "data": {
      "application/vnd.jupyter.widget-view+json": {
       "model_id": "c00744cf84a94ccb91e931179468ba76",
       "version_major": 2,
       "version_minor": 0
      },
      "text/plain": [
       "Extraction in progress:   0%|          | 0/149 [00:00<?, ?it/s]"
      ]
     },
     "metadata": {},
     "output_type": "display_data"
    },
    {
     "name": "stdout",
     "output_type": "stream",
     "text": [
      "No features extracted for murmur__293_1311680805936_B1.wav. Skipping...\n",
      "No features extracted for murmur__201104021355.wav. Skipping...\n",
      "Converting stereo audio to mono for abnormal_s4_2023_2.wav...\n",
      "No features extracted for murmur__171_1307971016233_E.wav. Skipping...\n",
      "Converting stereo audio to mono for atrial_septal_defect_2023_6.wav...\n",
      "Converting stereo audio to mono for abnormal_s3_2023_1.wav...\n",
      "Converting stereo audio to mono for mitral_stenosis_2023_9.wav...\n",
      "Converting stereo audio to mono for abnormal_s3_2023_0.wav...\n",
      "No features extracted for murmur_noisymurmur_171_1307971016233_D.wav. Skipping...\n",
      "Converting stereo audio to mono for holosystolic_murmur_2023_7.wav...\n",
      "Converting stereo audio to mono for aortic_stenosis_2023_4.wav...\n",
      "Converting stereo audio to mono for mitral_valve_prolapse_2023_10.wav...\n",
      "Converting stereo audio to mono for innocent_murmur_2023_8.wav...\n",
      "Finished processing all files.\n",
      "\n",
      "The shape of the ../dataset/murmurs_4000/ features tensor is: (534, 43)\n",
      "Extracting features from ../dataset/normals_4000/\n"
     ]
    },
    {
     "data": {
      "application/vnd.jupyter.widget-view+json": {
       "model_id": "4a4483ef11694fd7a3aa648e9bccf172",
       "version_major": 2,
       "version_minor": 0
      },
      "text/plain": [
       "Extraction in progress:   0%|          | 0/355 [00:00<?, ?it/s]"
      ]
     },
     "metadata": {},
     "output_type": "display_data"
    },
    {
     "name": "stdout",
     "output_type": "stream",
     "text": [
      "No features extracted for normal__232_1308748524018_D1.wav. Skipping...\n",
      "No features extracted for normal__210_1308162935880_D2.wav. Skipping...\n",
      "No features extracted for normal__210_1308162935880_D1.wav. Skipping...\n",
      "No features extracted for normal__143_1306763822290_C.wav. Skipping...\n",
      "No features extracted for normal__147_1306523973811_C.wav. Skipping...\n",
      "No features extracted for normal__238_1309194586293_B.wav. Skipping...\n",
      "No features extracted for normal__190_1308076920011_C1.wav. Skipping...\n",
      "No features extracted for normal__230_1308595300880_B.wav. Skipping...\n",
      "No features extracted for normal__267_1309368735165_A.wav. Skipping...\n",
      "No features extracted for normal__238_1309194586293_A.wav. Skipping...\n",
      "No features extracted for normal__286_1311170606028_A1.wav. Skipping...\n",
      "No features extracted for normal__210_1308162935880_B1.wav. Skipping...\n",
      "No features extracted for normal__252_1309203336604_B.wav. Skipping...\n",
      "No features extracted for normal__134_1306428161797_C2.wav. Skipping...\n",
      "No features extracted for normal__201_1308144942432_A.wav. Skipping...\n",
      "No features extracted for normal__175_1307987962616_B1.wav. Skipping...\n",
      "No features extracted for normal_noisynormal_137_1306764999211_C1.wav. Skipping...\n",
      "No features extracted for normal__232_1308748524018_B1.wav. Skipping...\n",
      "No features extracted for normal__235_1308749032454_C.wav. Skipping...\n",
      "No features extracted for normal__296_1311682952647_A1.wav. Skipping...\n",
      "No features extracted for normal__250_1309202496494_A.wav. Skipping...\n",
      "No features extracted for normal__296_1311682952647_A2.wav. Skipping...\n",
      "No features extracted for normal__286_1311170606028_A.wav. Skipping...\n",
      "No features extracted for normal__146_1306778707532_D3.wav. Skipping...\n",
      "No features extracted for normal_noisynormal_173_1307973611151_B.wav. Skipping...\n",
      "No features extracted for normal__232_1308748524018_A.wav. Skipping...\n",
      "No features extracted for normal__209_1308162216750_A1.wav. Skipping...\n",
      "No features extracted for normal__159_1307018640315_B2.wav. Skipping...\n",
      "No features extracted for normal__154_1306935608852_D.wav. Skipping...\n",
      "No features extracted for normal__152_1306779561195_C1.wav. Skipping...\n",
      "No features extracted for normal_noisynormal_178_1307989887769_B1.wav. Skipping...\n",
      "No features extracted for normal__295_1311682673157_D.wav. Skipping...\n",
      "No features extracted for normal__232_1308748524018_B.wav. Skipping...\n",
      "No features extracted for normal__210_1308162935880_B.wav. Skipping...\n",
      "No features extracted for normal__232_1308748524018_C.wav. Skipping...\n",
      "No features extracted for normal__158_1306947254705_B2.wav. Skipping...\n",
      "No features extracted for normal__282_1311166081161_C.wav. Skipping...\n",
      "No features extracted for normal_noisynormal_137_1306764999211_B.wav. Skipping...\n",
      "No features extracted for normal__283_1311167409239_A.wav. Skipping...\n",
      "No features extracted for normal__274_1311075637574_D.wav. Skipping...\n",
      "No features extracted for normal_noisynormal_234_1308748855534_B.wav. Skipping...\n",
      "No features extracted for normal__134_1306428161797_D.wav. Skipping...\n",
      "Converting stereo audio to mono for normal_2023_3.wav...\n",
      "No features extracted for normal__237_1308750231222_C.wav. Skipping...\n",
      "Converting stereo audio to mono for normal_2023_2.wav...\n",
      "No features extracted for normal__133_1306759619127_D.wav. Skipping...\n",
      "No features extracted for normal__274_1311075637574_B1.wav. Skipping...\n",
      "No features extracted for normal__176_1307988171173_B1.wav. Skipping...\n",
      "No features extracted for normal__215_1308245664733_C1.wav. Skipping...\n",
      "No features extracted for normal__218_1308246311449_C.wav. Skipping...\n",
      "Converting stereo audio to mono for normal_2023_0.wav...\n",
      "Converting stereo audio to mono for normal_2023_1.wav...\n",
      "No features extracted for normal__214_1308245489717_A.wav. Skipping...\n",
      "No features extracted for normal__167_1307111318050_C.wav. Skipping...\n",
      "Finished processing all files.\n",
      "\n",
      "The shape of the ../dataset/normals_4000/ features tensor is: (984, 43)\n",
      "Extracting features from ../dataset/extrastoles_4000/\n"
     ]
    },
    {
     "data": {
      "application/vnd.jupyter.widget-view+json": {
       "model_id": "9ec2498dc5054cc9920bb0d6df8443a5",
       "version_major": 2,
       "version_minor": 0
      },
      "text/plain": [
       "Extraction in progress:   0%|          | 0/150 [00:00<?, ?it/s]"
      ]
     },
     "metadata": {},
     "output_type": "display_data"
    },
    {
     "name": "stdout",
     "output_type": "stream",
     "text": [
      "No features extracted for speed_25USERAUGMENTEDextrastole__237_1308750231222_A.wav. Skipping...\n",
      "No features extracted for extrastole__190_1308076920011_C.wav. Skipping...\n",
      "No features extracted for speed_18USERAUGMENTEDextrastole__202_1308145175747_C2.wav. Skipping...\n",
      "No features extracted for pitch_4USERAUGMENTEDextrastole__190_1308076920011_C.wav. Skipping...\n",
      "No features extracted for speed_33USERAUGMENTEDextrastole__134_1306428161797_C1.wav. Skipping...\n",
      "Finished processing all files.\n",
      "\n",
      "The shape of the ../dataset/extrastoles_4000/ features tensor is: (381, 43)\n",
      "Features extracted and saved\n"
     ]
    }
   ],
   "source": [
    "# ------------------------- ZCR -------------------------\n",
    "# n_zcr_list = [\n",
    "#     20,\n",
    "#     40,\n",
    "#     60,\n",
    "# ]\n",
    "n_zcr_list = [40]\n",
    "\n",
    "names = [\"artifacts\", \"extrahls\", \"murmurs\", \"normals\", \"extrastoles\"]\n",
    "features_dict = {}\n",
    "interval = INTERVAL\n",
    "type_ = \"zcr\"  # mfcc, mel_spec, spec, cqt, rms\n",
    "\n",
    "for n_zcr in n_zcr_list:\n",
    "    # Save the features to a file\n",
    "    storing_name = f\"full_data_{interval}s_{sr}hz_{n_zcr+1}{type_}\"  ########## CHANGE THIS TO CHANGE THE NAME OF THE FILE\n",
    "\n",
    "    if os.path.exists(FEATURES_RAW_DIR + storing_name + \".npy\"):\n",
    "        print(\"The features have already been extracted\")\n",
    "\n",
    "    else:\n",
    "        for i, PATH_ in enumerate(PATHS):\n",
    "\n",
    "            print(f\"Extracting features from {PATH_}\")\n",
    "            features = extract_features(\n",
    "                PATH_,\n",
    "                label=i,\n",
    "                extraction_interval=interval,\n",
    "                n_zcr=n_zcr,\n",
    "                get_mfcc=False,\n",
    "                get_chroma=False,\n",
    "                get_cqt=False,\n",
    "                get_rms=False,\n",
    "                get_zcr=True,\n",
    "            )\n",
    "\n",
    "            # Stack the features into a single tensor\n",
    "            features = torch.cat(features, dim=0).numpy()\n",
    "            print(f\"The shape of the {PATH_} features tensor is: {features.shape}\")\n",
    "\n",
    "            X = features[:, :-2]\n",
    "            y = features[:, -2]\n",
    "            filename = features[:, -1]\n",
    "\n",
    "            local_dict = {\"X\": X, \"y\": y, \"filename\": filename}\n",
    "\n",
    "            features_dict[names[i]] = local_dict\n",
    "\n",
    "        # Save the features to a file\n",
    "        np.save(FEATURES_RAW_DIR + storing_name, features_dict)\n",
    "\n",
    "        print(\"Features extracted and saved\")"
   ]
  },
  {
   "cell_type": "code",
   "execution_count": 10,
   "metadata": {},
   "outputs": [
    {
     "name": "stdout",
     "output_type": "stream",
     "text": [
      "Extracting features from ../dataset/artifacts_4000/\n"
     ]
    },
    {
     "data": {
      "application/vnd.jupyter.widget-view+json": {
       "model_id": "c5b7638c405c4ecbb2e916f400684ffc",
       "version_major": 2,
       "version_minor": 0
      },
      "text/plain": [
       "Extraction in progress:   0%|          | 0/84 [00:00<?, ?it/s]"
      ]
     },
     "metadata": {},
     "output_type": "display_data"
    },
    {
     "name": "stdout",
     "output_type": "stream",
     "text": [
      "Converting stereo audio to mono for artifact_2023_17.wav...\n",
      "Converting stereo audio to mono for artifact_2023_16.wav...\n",
      "Converting stereo audio to mono for artifact_2023_14.wav...\n",
      "Converting stereo audio to mono for artifact_2023_15.wav...\n",
      "Converting stereo audio to mono for artifact_2023_39.wav...\n",
      "Converting stereo audio to mono for artifact_2023_11.wav...\n",
      "Converting stereo audio to mono for artifact_2023_38.wav...\n",
      "Converting stereo audio to mono for artifact_2023_12.wav...\n",
      "Converting stereo audio to mono for artifact_2023_13.wav...\n",
      "Converting stereo audio to mono for artifact_2023_41.wav...\n",
      "Converting stereo audio to mono for artifact_2023_40.wav...\n",
      "Converting stereo audio to mono for artifact_2023_42.wav...\n",
      "Converting stereo audio to mono for artifact_2023_43.wav...\n",
      "Converting stereo audio to mono for artifact_2023_46.wav...\n",
      "Converting stereo audio to mono for artifact_2023_44.wav...\n",
      "Converting stereo audio to mono for artifact_2023_45.wav...\n",
      "Converting stereo audio to mono for artifact_2023_36.wav...\n",
      "Converting stereo audio to mono for artifact_2023_22.wav...\n",
      "Converting stereo audio to mono for artifact_2023_4.wav...\n",
      "Converting stereo audio to mono for artifact_2023_5.wav...\n",
      "Converting stereo audio to mono for artifact_2023_23.wav...\n",
      "Converting stereo audio to mono for artifact_2023_37.wav...\n",
      "Converting stereo audio to mono for artifact_2023_21.wav...\n",
      "Converting stereo audio to mono for artifact_2023_35.wav...\n",
      "Converting stereo audio to mono for artifact_2023_6.wav...\n",
      "Converting stereo audio to mono for artifact_2023_34.wav...\n",
      "Converting stereo audio to mono for artifact_2023_20.wav...\n",
      "Converting stereo audio to mono for artifact_2023_18.wav...\n",
      "Converting stereo audio to mono for artifact_2023_24.wav...\n",
      "Converting stereo audio to mono for artifact_2023_2.wav...\n",
      "Converting stereo audio to mono for artifact_2023_25.wav...\n",
      "Converting stereo audio to mono for artifact_2023_19.wav...\n",
      "Converting stereo audio to mono for artifact_2023_33.wav...\n",
      "Converting stereo audio to mono for artifact_2023_1.wav...\n",
      "Converting stereo audio to mono for artifact_2023_0.wav...\n",
      "Converting stereo audio to mono for artifact_2023_26.wav...\n",
      "Converting stereo audio to mono for artifact_2023_32.wav...\n",
      "Finished processing all files.\n",
      "\n",
      "The shape of the ../dataset/artifacts_4000/ features tensor is: (571, 43)\n",
      "Extracting features from ../dataset/extrahls_4000/\n"
     ]
    },
    {
     "data": {
      "application/vnd.jupyter.widget-view+json": {
       "model_id": "f29b9b0d945c4e388dfe0e997ff45e16",
       "version_major": 2,
       "version_minor": 0
      },
      "text/plain": [
       "Extraction in progress:   0%|          | 0/150 [00:00<?, ?it/s]"
      ]
     },
     "metadata": {},
     "output_type": "display_data"
    },
    {
     "name": "stdout",
     "output_type": "stream",
     "text": [
      "No features extracted for speed_36USERAUGMENTEDextrahls__201104021355.wav. Skipping...\n",
      "No features extracted for extrahls__201104140118.wav. Skipping...\n",
      "No features extracted for noisy_3USERAUGMENTEDextrahls__201104140118.wav. Skipping...\n",
      "No features extracted for noisy_32USERAUGMENTEDextrahls__201104270459.wav. Skipping...\n",
      "No features extracted for extrahls__201104270459.wav. Skipping...\n",
      "No features extracted for pitch_34USERAUGMENTEDextrahls__201104270459.wav. Skipping...\n",
      "No features extracted for noisy_18USERAUGMENTEDextrahls__201104021355.wav. Skipping...\n",
      "No features extracted for pitch_32USERAUGMENTEDextrahls__201104140118.wav. Skipping...\n",
      "No features extracted for noisy_12USERAUGMENTEDextrahls__201104140118.wav. Skipping...\n",
      "No features extracted for pitch_12USERAUGMENTEDextrahls__201104021355.wav. Skipping...\n",
      "No features extracted for noisy_38USERAUGMENTEDextrahls__201104270459.wav. Skipping...\n",
      "No features extracted for extrahls__201104021355.wav. Skipping...\n",
      "No features extracted for noisy_28USERAUGMENTEDextrahls__201104270459.wav. Skipping...\n",
      "No features extracted for pitch_5USERAUGMENTEDextrahls__201104021355.wav. Skipping...\n",
      "No features extracted for noisy_9USERAUGMENTEDextrahls__201104140118.wav. Skipping...\n",
      "No features extracted for pitch_3USERAUGMENTEDextrahls__201104021355.wav. Skipping...\n",
      "No features extracted for speed_40USERAUGMENTEDextrahls__201104021355.wav. Skipping...\n",
      "No features extracted for pitch_0USERAUGMENTEDextrahls__201104021355.wav. Skipping...\n",
      "No features extracted for pitch_9USERAUGMENTEDextrahls__201104140118.wav. Skipping...\n",
      "No features extracted for speed_30USERAUGMENTEDextrahls__201104140118.wav. Skipping...\n",
      "No features extracted for speed_17USERAUGMENTEDextrahls__201104140118.wav. Skipping...\n",
      "No features extracted for noisy_26USERAUGMENTEDextrahls__201104021355.wav. Skipping...\n",
      "No features extracted for pitch_39USERAUGMENTEDextrahls__201104140118.wav. Skipping...\n",
      "No features extracted for noisy_40USERAUGMENTEDextrahls__201104270459.wav. Skipping...\n",
      "No features extracted for speed_12USERAUGMENTEDextrahls__201104140118.wav. Skipping...\n",
      "No features extracted for pitch_8USERAUGMENTEDextrahls__201104021355.wav. Skipping...\n",
      "No features extracted for pitch_33USERAUGMENTEDextrahls__201104140118.wav. Skipping...\n",
      "No features extracted for noisy_25USERAUGMENTEDextrahls__201104270459.wav. Skipping...\n",
      "No features extracted for pitch_43USERAUGMENTEDextrahls__201104021355.wav. Skipping...\n",
      "No features extracted for pitch_10USERAUGMENTEDextrahls__201104140118.wav. Skipping...\n",
      "No features extracted for noisy_20USERAUGMENTEDextrahls__201104270459.wav. Skipping...\n",
      "No features extracted for noisy_15USERAUGMENTEDextrahls__201104270459.wav. Skipping...\n",
      "No features extracted for noisy_39USERAUGMENTEDextrahls__201104021355.wav. Skipping...\n",
      "Finished processing all files.\n",
      "\n",
      "The shape of the ../dataset/extrahls_4000/ features tensor is: (369, 43)\n",
      "Extracting features from ../dataset/murmurs_4000/\n"
     ]
    },
    {
     "data": {
      "application/vnd.jupyter.widget-view+json": {
       "model_id": "e96f20c3e6d442e8877e4d95e8535036",
       "version_major": 2,
       "version_minor": 0
      },
      "text/plain": [
       "Extraction in progress:   0%|          | 0/149 [00:00<?, ?it/s]"
      ]
     },
     "metadata": {},
     "output_type": "display_data"
    },
    {
     "name": "stdout",
     "output_type": "stream",
     "text": [
      "No features extracted for murmur__293_1311680805936_B1.wav. Skipping...\n",
      "No features extracted for murmur__201104021355.wav. Skipping...\n",
      "Converting stereo audio to mono for abnormal_s4_2023_2.wav...\n",
      "No features extracted for murmur__171_1307971016233_E.wav. Skipping...\n",
      "Converting stereo audio to mono for atrial_septal_defect_2023_6.wav...\n",
      "Converting stereo audio to mono for abnormal_s3_2023_1.wav...\n",
      "Converting stereo audio to mono for mitral_stenosis_2023_9.wav...\n",
      "Converting stereo audio to mono for abnormal_s3_2023_0.wav...\n",
      "No features extracted for murmur_noisymurmur_171_1307971016233_D.wav. Skipping...\n",
      "Converting stereo audio to mono for holosystolic_murmur_2023_7.wav...\n",
      "Converting stereo audio to mono for aortic_stenosis_2023_4.wav...\n",
      "Converting stereo audio to mono for mitral_valve_prolapse_2023_10.wav...\n",
      "Converting stereo audio to mono for innocent_murmur_2023_8.wav...\n",
      "Finished processing all files.\n",
      "\n",
      "The shape of the ../dataset/murmurs_4000/ features tensor is: (534, 43)\n",
      "Extracting features from ../dataset/normals_4000/\n"
     ]
    },
    {
     "data": {
      "application/vnd.jupyter.widget-view+json": {
       "model_id": "3fdb60a9539d42bf999b7904845fdb7b",
       "version_major": 2,
       "version_minor": 0
      },
      "text/plain": [
       "Extraction in progress:   0%|          | 0/355 [00:00<?, ?it/s]"
      ]
     },
     "metadata": {},
     "output_type": "display_data"
    },
    {
     "name": "stdout",
     "output_type": "stream",
     "text": [
      "No features extracted for normal__232_1308748524018_D1.wav. Skipping...\n",
      "No features extracted for normal__210_1308162935880_D2.wav. Skipping...\n",
      "No features extracted for normal__210_1308162935880_D1.wav. Skipping...\n",
      "No features extracted for normal__143_1306763822290_C.wav. Skipping...\n",
      "No features extracted for normal__147_1306523973811_C.wav. Skipping...\n",
      "No features extracted for normal__238_1309194586293_B.wav. Skipping...\n",
      "No features extracted for normal__190_1308076920011_C1.wav. Skipping...\n",
      "No features extracted for normal__230_1308595300880_B.wav. Skipping...\n",
      "No features extracted for normal__267_1309368735165_A.wav. Skipping...\n",
      "No features extracted for normal__238_1309194586293_A.wav. Skipping...\n",
      "No features extracted for normal__286_1311170606028_A1.wav. Skipping...\n",
      "No features extracted for normal__210_1308162935880_B1.wav. Skipping...\n",
      "No features extracted for normal__252_1309203336604_B.wav. Skipping...\n",
      "No features extracted for normal__134_1306428161797_C2.wav. Skipping...\n",
      "No features extracted for normal__201_1308144942432_A.wav. Skipping...\n",
      "No features extracted for normal__175_1307987962616_B1.wav. Skipping...\n",
      "No features extracted for normal_noisynormal_137_1306764999211_C1.wav. Skipping...\n",
      "No features extracted for normal__232_1308748524018_B1.wav. Skipping...\n",
      "No features extracted for normal__235_1308749032454_C.wav. Skipping...\n",
      "No features extracted for normal__296_1311682952647_A1.wav. Skipping...\n",
      "No features extracted for normal__250_1309202496494_A.wav. Skipping...\n",
      "No features extracted for normal__296_1311682952647_A2.wav. Skipping...\n",
      "No features extracted for normal__286_1311170606028_A.wav. Skipping...\n",
      "No features extracted for normal__146_1306778707532_D3.wav. Skipping...\n",
      "No features extracted for normal_noisynormal_173_1307973611151_B.wav. Skipping...\n",
      "No features extracted for normal__232_1308748524018_A.wav. Skipping...\n",
      "No features extracted for normal__209_1308162216750_A1.wav. Skipping...\n",
      "No features extracted for normal__159_1307018640315_B2.wav. Skipping...\n",
      "No features extracted for normal__154_1306935608852_D.wav. Skipping...\n",
      "No features extracted for normal__152_1306779561195_C1.wav. Skipping...\n",
      "No features extracted for normal_noisynormal_178_1307989887769_B1.wav. Skipping...\n",
      "No features extracted for normal__295_1311682673157_D.wav. Skipping...\n",
      "No features extracted for normal__232_1308748524018_B.wav. Skipping...\n",
      "No features extracted for normal__210_1308162935880_B.wav. Skipping...\n",
      "No features extracted for normal__232_1308748524018_C.wav. Skipping...\n",
      "No features extracted for normal__158_1306947254705_B2.wav. Skipping...\n",
      "No features extracted for normal__282_1311166081161_C.wav. Skipping...\n",
      "No features extracted for normal_noisynormal_137_1306764999211_B.wav. Skipping...\n",
      "No features extracted for normal__283_1311167409239_A.wav. Skipping...\n",
      "No features extracted for normal__274_1311075637574_D.wav. Skipping...\n",
      "No features extracted for normal_noisynormal_234_1308748855534_B.wav. Skipping...\n",
      "No features extracted for normal__134_1306428161797_D.wav. Skipping...\n",
      "Converting stereo audio to mono for normal_2023_3.wav...\n",
      "No features extracted for normal__237_1308750231222_C.wav. Skipping...\n",
      "Converting stereo audio to mono for normal_2023_2.wav...\n",
      "No features extracted for normal__133_1306759619127_D.wav. Skipping...\n",
      "No features extracted for normal__274_1311075637574_B1.wav. Skipping...\n",
      "No features extracted for normal__176_1307988171173_B1.wav. Skipping...\n",
      "No features extracted for normal__215_1308245664733_C1.wav. Skipping...\n",
      "No features extracted for normal__218_1308246311449_C.wav. Skipping...\n",
      "Converting stereo audio to mono for normal_2023_0.wav...\n",
      "Converting stereo audio to mono for normal_2023_1.wav...\n",
      "No features extracted for normal__214_1308245489717_A.wav. Skipping...\n",
      "No features extracted for normal__167_1307111318050_C.wav. Skipping...\n",
      "Finished processing all files.\n",
      "\n",
      "The shape of the ../dataset/normals_4000/ features tensor is: (984, 43)\n",
      "Extracting features from ../dataset/extrastoles_4000/\n"
     ]
    },
    {
     "data": {
      "application/vnd.jupyter.widget-view+json": {
       "model_id": "22bb4fdcf7e0424baf6f3e6ceae4f7ed",
       "version_major": 2,
       "version_minor": 0
      },
      "text/plain": [
       "Extraction in progress:   0%|          | 0/150 [00:00<?, ?it/s]"
      ]
     },
     "metadata": {},
     "output_type": "display_data"
    },
    {
     "name": "stdout",
     "output_type": "stream",
     "text": [
      "No features extracted for speed_25USERAUGMENTEDextrastole__237_1308750231222_A.wav. Skipping...\n",
      "No features extracted for extrastole__190_1308076920011_C.wav. Skipping...\n",
      "No features extracted for speed_18USERAUGMENTEDextrastole__202_1308145175747_C2.wav. Skipping...\n",
      "No features extracted for pitch_4USERAUGMENTEDextrastole__190_1308076920011_C.wav. Skipping...\n",
      "No features extracted for speed_33USERAUGMENTEDextrastole__134_1306428161797_C1.wav. Skipping...\n",
      "Finished processing all files.\n",
      "\n",
      "The shape of the ../dataset/extrastoles_4000/ features tensor is: (381, 43)\n",
      "Features extracted and saved\n"
     ]
    }
   ],
   "source": [
    "# ------------------------- SPECTRAL CENTROID -------------------------\n",
    "# n_sc_list = [\n",
    "#     20,\n",
    "#     40,\n",
    "#     60,\n",
    "# ]\n",
    "n_sc_list = [40]\n",
    "\n",
    "names = [\"artifacts\", \"extrahls\", \"murmurs\", \"normals\", \"extrastoles\"]\n",
    "features_dict = {}\n",
    "interval = INTERVAL\n",
    "type_ = \"sc\"  # mfcc, mel_spec, spec, cqt, rms\n",
    "\n",
    "for n_sc in n_sc_list:\n",
    "    # Save the features to a file\n",
    "    storing_name = f\"full_data_{interval}s_{sr}hz_{n_sc+1}{type_}\"  ########## CHANGE THIS TO CHANGE THE NAME OF THE FILE\n",
    "\n",
    "    if os.path.exists(FEATURES_RAW_DIR + storing_name + \".npy\"):\n",
    "        print(\"The features have already been extracted\")\n",
    "\n",
    "    else:\n",
    "        for i, PATH_ in enumerate(PATHS):\n",
    "\n",
    "            print(f\"Extracting features from {PATH_}\")\n",
    "            features = extract_features(\n",
    "                PATH_,\n",
    "                label=i,\n",
    "                extraction_interval=interval,\n",
    "                n_sc=n_sc,\n",
    "                get_mfcc=False,\n",
    "                get_chroma=False,\n",
    "                get_cqt=False,\n",
    "                get_rms=False,\n",
    "                get_zcr=False,\n",
    "                get_sc=True,\n",
    "            )\n",
    "\n",
    "            # Stack the features into a single tensor\n",
    "            features = torch.cat(features, dim=0).numpy()\n",
    "            print(f\"The shape of the {PATH_} features tensor is: {features.shape}\")\n",
    "\n",
    "            X = features[:, :-2]\n",
    "            y = features[:, -2]\n",
    "            filename = features[:, -1]\n",
    "\n",
    "            local_dict = {\"X\": X, \"y\": y, \"filename\": filename}\n",
    "\n",
    "            features_dict[names[i]] = local_dict\n",
    "\n",
    "        # Save the features to a file\n",
    "        np.save(FEATURES_RAW_DIR + storing_name, features_dict)\n",
    "\n",
    "        print(\"Features extracted and saved\")"
   ]
  },
  {
   "cell_type": "code",
   "execution_count": 11,
   "metadata": {},
   "outputs": [
    {
     "name": "stdout",
     "output_type": "stream",
     "text": [
      "Extracting features from ../dataset/artifacts_4000/\n"
     ]
    },
    {
     "data": {
      "application/vnd.jupyter.widget-view+json": {
       "model_id": "b98f633cc31444b7837496aa9a0cc4d1",
       "version_major": 2,
       "version_minor": 0
      },
      "text/plain": [
       "Extraction in progress:   0%|          | 0/84 [00:00<?, ?it/s]"
      ]
     },
     "metadata": {},
     "output_type": "display_data"
    },
    {
     "name": "stdout",
     "output_type": "stream",
     "text": [
      "Converting stereo audio to mono for artifact_2023_17.wav...\n",
      "Converting stereo audio to mono for artifact_2023_16.wav...\n",
      "Converting stereo audio to mono for artifact_2023_14.wav...\n",
      "Converting stereo audio to mono for artifact_2023_15.wav...\n",
      "Converting stereo audio to mono for artifact_2023_39.wav...\n",
      "Converting stereo audio to mono for artifact_2023_11.wav...\n",
      "Converting stereo audio to mono for artifact_2023_38.wav...\n",
      "Converting stereo audio to mono for artifact_2023_12.wav...\n",
      "Converting stereo audio to mono for artifact_2023_13.wav...\n",
      "Converting stereo audio to mono for artifact_2023_41.wav...\n",
      "Converting stereo audio to mono for artifact_2023_40.wav...\n",
      "Converting stereo audio to mono for artifact_2023_42.wav...\n",
      "Converting stereo audio to mono for artifact_2023_43.wav...\n",
      "Converting stereo audio to mono for artifact_2023_46.wav...\n",
      "Converting stereo audio to mono for artifact_2023_44.wav...\n",
      "Converting stereo audio to mono for artifact_2023_45.wav...\n",
      "Converting stereo audio to mono for artifact_2023_36.wav...\n",
      "Converting stereo audio to mono for artifact_2023_22.wav...\n",
      "Converting stereo audio to mono for artifact_2023_4.wav...\n",
      "Converting stereo audio to mono for artifact_2023_5.wav...\n",
      "Converting stereo audio to mono for artifact_2023_23.wav...\n",
      "Converting stereo audio to mono for artifact_2023_37.wav...\n",
      "Converting stereo audio to mono for artifact_2023_21.wav...\n",
      "Converting stereo audio to mono for artifact_2023_35.wav...\n",
      "Converting stereo audio to mono for artifact_2023_6.wav...\n",
      "Converting stereo audio to mono for artifact_2023_34.wav...\n",
      "Converting stereo audio to mono for artifact_2023_20.wav...\n",
      "Converting stereo audio to mono for artifact_2023_18.wav...\n",
      "Converting stereo audio to mono for artifact_2023_24.wav...\n",
      "Converting stereo audio to mono for artifact_2023_2.wav...\n",
      "Converting stereo audio to mono for artifact_2023_25.wav...\n",
      "Converting stereo audio to mono for artifact_2023_19.wav...\n",
      "Converting stereo audio to mono for artifact_2023_33.wav...\n",
      "Converting stereo audio to mono for artifact_2023_1.wav...\n",
      "Converting stereo audio to mono for artifact_2023_0.wav...\n",
      "Converting stereo audio to mono for artifact_2023_26.wav...\n",
      "Converting stereo audio to mono for artifact_2023_32.wav...\n",
      "Finished processing all files.\n",
      "\n",
      "The shape of the ../dataset/artifacts_4000/ features tensor is: (571, 63)\n",
      "Extracting features from ../dataset/extrahls_4000/\n"
     ]
    },
    {
     "data": {
      "application/vnd.jupyter.widget-view+json": {
       "model_id": "a86fb47fe78e45aabb4759e59ab78a72",
       "version_major": 2,
       "version_minor": 0
      },
      "text/plain": [
       "Extraction in progress:   0%|          | 0/150 [00:00<?, ?it/s]"
      ]
     },
     "metadata": {},
     "output_type": "display_data"
    },
    {
     "name": "stdout",
     "output_type": "stream",
     "text": [
      "No features extracted for speed_36USERAUGMENTEDextrahls__201104021355.wav. Skipping...\n",
      "No features extracted for extrahls__201104140118.wav. Skipping...\n",
      "No features extracted for noisy_3USERAUGMENTEDextrahls__201104140118.wav. Skipping...\n",
      "No features extracted for noisy_32USERAUGMENTEDextrahls__201104270459.wav. Skipping...\n",
      "No features extracted for extrahls__201104270459.wav. Skipping...\n",
      "No features extracted for pitch_34USERAUGMENTEDextrahls__201104270459.wav. Skipping...\n",
      "No features extracted for noisy_18USERAUGMENTEDextrahls__201104021355.wav. Skipping...\n",
      "No features extracted for pitch_32USERAUGMENTEDextrahls__201104140118.wav. Skipping...\n",
      "No features extracted for noisy_12USERAUGMENTEDextrahls__201104140118.wav. Skipping...\n",
      "No features extracted for pitch_12USERAUGMENTEDextrahls__201104021355.wav. Skipping...\n",
      "No features extracted for noisy_38USERAUGMENTEDextrahls__201104270459.wav. Skipping...\n",
      "No features extracted for extrahls__201104021355.wav. Skipping...\n",
      "No features extracted for noisy_28USERAUGMENTEDextrahls__201104270459.wav. Skipping...\n",
      "No features extracted for pitch_5USERAUGMENTEDextrahls__201104021355.wav. Skipping...\n",
      "No features extracted for noisy_9USERAUGMENTEDextrahls__201104140118.wav. Skipping...\n",
      "No features extracted for pitch_3USERAUGMENTEDextrahls__201104021355.wav. Skipping...\n",
      "No features extracted for speed_40USERAUGMENTEDextrahls__201104021355.wav. Skipping...\n",
      "No features extracted for pitch_0USERAUGMENTEDextrahls__201104021355.wav. Skipping...\n",
      "No features extracted for pitch_9USERAUGMENTEDextrahls__201104140118.wav. Skipping...\n",
      "No features extracted for speed_30USERAUGMENTEDextrahls__201104140118.wav. Skipping...\n",
      "No features extracted for speed_17USERAUGMENTEDextrahls__201104140118.wav. Skipping...\n",
      "No features extracted for noisy_26USERAUGMENTEDextrahls__201104021355.wav. Skipping...\n",
      "No features extracted for pitch_39USERAUGMENTEDextrahls__201104140118.wav. Skipping...\n",
      "No features extracted for noisy_40USERAUGMENTEDextrahls__201104270459.wav. Skipping...\n",
      "No features extracted for speed_12USERAUGMENTEDextrahls__201104140118.wav. Skipping...\n",
      "No features extracted for pitch_8USERAUGMENTEDextrahls__201104021355.wav. Skipping...\n",
      "No features extracted for pitch_33USERAUGMENTEDextrahls__201104140118.wav. Skipping...\n",
      "No features extracted for noisy_25USERAUGMENTEDextrahls__201104270459.wav. Skipping...\n",
      "No features extracted for pitch_43USERAUGMENTEDextrahls__201104021355.wav. Skipping...\n",
      "No features extracted for pitch_10USERAUGMENTEDextrahls__201104140118.wav. Skipping...\n",
      "No features extracted for noisy_20USERAUGMENTEDextrahls__201104270459.wav. Skipping...\n",
      "No features extracted for noisy_15USERAUGMENTEDextrahls__201104270459.wav. Skipping...\n",
      "No features extracted for noisy_39USERAUGMENTEDextrahls__201104021355.wav. Skipping...\n",
      "Finished processing all files.\n",
      "\n",
      "The shape of the ../dataset/extrahls_4000/ features tensor is: (369, 63)\n",
      "Extracting features from ../dataset/murmurs_4000/\n"
     ]
    },
    {
     "data": {
      "application/vnd.jupyter.widget-view+json": {
       "model_id": "ee1b82d1baa94bf2a7d41055291f3a50",
       "version_major": 2,
       "version_minor": 0
      },
      "text/plain": [
       "Extraction in progress:   0%|          | 0/149 [00:00<?, ?it/s]"
      ]
     },
     "metadata": {},
     "output_type": "display_data"
    },
    {
     "name": "stdout",
     "output_type": "stream",
     "text": [
      "No features extracted for murmur__293_1311680805936_B1.wav. Skipping...\n",
      "No features extracted for murmur__201104021355.wav. Skipping...\n",
      "Converting stereo audio to mono for abnormal_s4_2023_2.wav...\n",
      "No features extracted for murmur__171_1307971016233_E.wav. Skipping...\n",
      "Converting stereo audio to mono for atrial_septal_defect_2023_6.wav...\n",
      "Converting stereo audio to mono for abnormal_s3_2023_1.wav...\n",
      "Converting stereo audio to mono for mitral_stenosis_2023_9.wav...\n",
      "Converting stereo audio to mono for abnormal_s3_2023_0.wav...\n",
      "No features extracted for murmur_noisymurmur_171_1307971016233_D.wav. Skipping...\n",
      "Converting stereo audio to mono for holosystolic_murmur_2023_7.wav...\n",
      "Converting stereo audio to mono for aortic_stenosis_2023_4.wav...\n",
      "Converting stereo audio to mono for mitral_valve_prolapse_2023_10.wav...\n",
      "Converting stereo audio to mono for innocent_murmur_2023_8.wav...\n",
      "Finished processing all files.\n",
      "\n",
      "The shape of the ../dataset/murmurs_4000/ features tensor is: (534, 63)\n",
      "Extracting features from ../dataset/normals_4000/\n"
     ]
    },
    {
     "data": {
      "application/vnd.jupyter.widget-view+json": {
       "model_id": "84c14397d7c44089951ef9c641f2f049",
       "version_major": 2,
       "version_minor": 0
      },
      "text/plain": [
       "Extraction in progress:   0%|          | 0/355 [00:00<?, ?it/s]"
      ]
     },
     "metadata": {},
     "output_type": "display_data"
    },
    {
     "name": "stdout",
     "output_type": "stream",
     "text": [
      "No features extracted for normal__232_1308748524018_D1.wav. Skipping...\n",
      "No features extracted for normal__210_1308162935880_D2.wav. Skipping...\n",
      "No features extracted for normal__210_1308162935880_D1.wav. Skipping...\n",
      "No features extracted for normal__143_1306763822290_C.wav. Skipping...\n",
      "No features extracted for normal__147_1306523973811_C.wav. Skipping...\n",
      "No features extracted for normal__238_1309194586293_B.wav. Skipping...\n",
      "No features extracted for normal__190_1308076920011_C1.wav. Skipping...\n",
      "No features extracted for normal__230_1308595300880_B.wav. Skipping...\n",
      "No features extracted for normal__267_1309368735165_A.wav. Skipping...\n",
      "No features extracted for normal__238_1309194586293_A.wav. Skipping...\n",
      "No features extracted for normal__286_1311170606028_A1.wav. Skipping...\n",
      "No features extracted for normal__210_1308162935880_B1.wav. Skipping...\n",
      "No features extracted for normal__252_1309203336604_B.wav. Skipping...\n",
      "No features extracted for normal__134_1306428161797_C2.wav. Skipping...\n",
      "No features extracted for normal__201_1308144942432_A.wav. Skipping...\n",
      "No features extracted for normal__175_1307987962616_B1.wav. Skipping...\n",
      "No features extracted for normal_noisynormal_137_1306764999211_C1.wav. Skipping...\n",
      "No features extracted for normal__232_1308748524018_B1.wav. Skipping...\n",
      "No features extracted for normal__235_1308749032454_C.wav. Skipping...\n",
      "No features extracted for normal__296_1311682952647_A1.wav. Skipping...\n",
      "No features extracted for normal__250_1309202496494_A.wav. Skipping...\n",
      "No features extracted for normal__296_1311682952647_A2.wav. Skipping...\n",
      "No features extracted for normal__286_1311170606028_A.wav. Skipping...\n",
      "No features extracted for normal__146_1306778707532_D3.wav. Skipping...\n",
      "No features extracted for normal_noisynormal_173_1307973611151_B.wav. Skipping...\n",
      "No features extracted for normal__232_1308748524018_A.wav. Skipping...\n",
      "No features extracted for normal__209_1308162216750_A1.wav. Skipping...\n",
      "No features extracted for normal__159_1307018640315_B2.wav. Skipping...\n",
      "No features extracted for normal__154_1306935608852_D.wav. Skipping...\n",
      "No features extracted for normal__152_1306779561195_C1.wav. Skipping...\n",
      "No features extracted for normal_noisynormal_178_1307989887769_B1.wav. Skipping...\n",
      "No features extracted for normal__295_1311682673157_D.wav. Skipping...\n",
      "No features extracted for normal__232_1308748524018_B.wav. Skipping...\n",
      "No features extracted for normal__210_1308162935880_B.wav. Skipping...\n",
      "No features extracted for normal__232_1308748524018_C.wav. Skipping...\n",
      "No features extracted for normal__158_1306947254705_B2.wav. Skipping...\n",
      "No features extracted for normal__282_1311166081161_C.wav. Skipping...\n",
      "No features extracted for normal_noisynormal_137_1306764999211_B.wav. Skipping...\n",
      "No features extracted for normal__283_1311167409239_A.wav. Skipping...\n",
      "No features extracted for normal__274_1311075637574_D.wav. Skipping...\n",
      "No features extracted for normal_noisynormal_234_1308748855534_B.wav. Skipping...\n",
      "No features extracted for normal__134_1306428161797_D.wav. Skipping...\n",
      "Converting stereo audio to mono for normal_2023_3.wav...\n",
      "No features extracted for normal__237_1308750231222_C.wav. Skipping...\n",
      "Converting stereo audio to mono for normal_2023_2.wav...\n",
      "No features extracted for normal__133_1306759619127_D.wav. Skipping...\n",
      "No features extracted for normal__274_1311075637574_B1.wav. Skipping...\n",
      "No features extracted for normal__176_1307988171173_B1.wav. Skipping...\n",
      "No features extracted for normal__215_1308245664733_C1.wav. Skipping...\n",
      "No features extracted for normal__218_1308246311449_C.wav. Skipping...\n",
      "Converting stereo audio to mono for normal_2023_0.wav...\n",
      "Converting stereo audio to mono for normal_2023_1.wav...\n",
      "No features extracted for normal__214_1308245489717_A.wav. Skipping...\n",
      "No features extracted for normal__167_1307111318050_C.wav. Skipping...\n",
      "Finished processing all files.\n",
      "\n",
      "The shape of the ../dataset/normals_4000/ features tensor is: (984, 63)\n",
      "Extracting features from ../dataset/extrastoles_4000/\n"
     ]
    },
    {
     "data": {
      "application/vnd.jupyter.widget-view+json": {
       "model_id": "2ef2ec20c2b04bbcb31d93a073ab42a1",
       "version_major": 2,
       "version_minor": 0
      },
      "text/plain": [
       "Extraction in progress:   0%|          | 0/150 [00:00<?, ?it/s]"
      ]
     },
     "metadata": {},
     "output_type": "display_data"
    },
    {
     "name": "stdout",
     "output_type": "stream",
     "text": [
      "No features extracted for speed_25USERAUGMENTEDextrastole__237_1308750231222_A.wav. Skipping...\n",
      "No features extracted for extrastole__190_1308076920011_C.wav. Skipping...\n",
      "No features extracted for speed_18USERAUGMENTEDextrastole__202_1308145175747_C2.wav. Skipping...\n",
      "No features extracted for pitch_4USERAUGMENTEDextrastole__190_1308076920011_C.wav. Skipping...\n",
      "No features extracted for speed_33USERAUGMENTEDextrastole__134_1306428161797_C1.wav. Skipping...\n",
      "Finished processing all files.\n",
      "\n",
      "The shape of the ../dataset/extrastoles_4000/ features tensor is: (381, 63)\n",
      "Features extracted and saved\n"
     ]
    }
   ],
   "source": [
    "# ------------------------- SPECTRAL BANDWIDTH -------------------------\n",
    "# n_sb_list = [\n",
    "#     20,\n",
    "#     40,\n",
    "#     60,\n",
    "# ]\n",
    "\n",
    "n_sb_list = [60]\n",
    "\n",
    "names = [\"artifacts\", \"extrahls\", \"murmurs\", \"normals\", \"extrastoles\"]\n",
    "features_dict = {}\n",
    "interval = INTERVAL\n",
    "type_ = \"sb\"  # mfcc, mel_spec, spec, cqt, rms\n",
    "\n",
    "for n_sb in n_sb_list:\n",
    "    # Save the features to a file\n",
    "    storing_name = f\"full_data_{interval}s_{sr}hz_{n_sb+1}{type_}\"  ########## CHANGE THIS TO CHANGE THE NAME OF THE FILE\n",
    "\n",
    "    if os.path.exists(FEATURES_RAW_DIR + storing_name + \".npy\"):\n",
    "        print(\"The features have already been extracted\")\n",
    "\n",
    "    else:\n",
    "        for i, PATH_ in enumerate(PATHS):\n",
    "\n",
    "            print(f\"Extracting features from {PATH_}\")\n",
    "            features = extract_features(\n",
    "                PATH_,\n",
    "                label=i,\n",
    "                extraction_interval=interval,\n",
    "                n_sb=n_sb,\n",
    "                get_mfcc=False,\n",
    "                get_chroma=False,\n",
    "                get_cqt=False,\n",
    "                get_rms=False,\n",
    "                get_zcr=False,\n",
    "                get_sc=False,\n",
    "                get_sb = True\n",
    "            )\n",
    "\n",
    "            # Stack the features into a single tensor\n",
    "            features = torch.cat(features, dim=0).numpy()\n",
    "            print(f\"The shape of the {PATH_} features tensor is: {features.shape}\")\n",
    "\n",
    "            X = features[:, :-2]\n",
    "            y = features[:, -2]\n",
    "            filename = features[:, -1]\n",
    "\n",
    "            local_dict = {\"X\": X, \"y\": y, \"filename\": filename}\n",
    "\n",
    "            features_dict[names[i]] = local_dict\n",
    "\n",
    "        # Save the features to a file\n",
    "        np.save(FEATURES_RAW_DIR + storing_name, features_dict)\n",
    "\n",
    "        print(\"Features extracted and saved\")"
   ]
  },
  {
   "cell_type": "code",
   "execution_count": 12,
   "metadata": {},
   "outputs": [
    {
     "name": "stdout",
     "output_type": "stream",
     "text": [
      "Extracting features from ../dataset/artifacts_4000/\n"
     ]
    },
    {
     "data": {
      "application/vnd.jupyter.widget-view+json": {
       "model_id": "688df50da8c94ac391f141c237fb14fa",
       "version_major": 2,
       "version_minor": 0
      },
      "text/plain": [
       "Extraction in progress:   0%|          | 0/84 [00:00<?, ?it/s]"
      ]
     },
     "metadata": {},
     "output_type": "display_data"
    },
    {
     "name": "stdout",
     "output_type": "stream",
     "text": [
      "Converting stereo audio to mono for artifact_2023_17.wav...\n",
      "Converting stereo audio to mono for artifact_2023_16.wav...\n",
      "Converting stereo audio to mono for artifact_2023_14.wav...\n",
      "Converting stereo audio to mono for artifact_2023_15.wav...\n",
      "Converting stereo audio to mono for artifact_2023_39.wav...\n",
      "Converting stereo audio to mono for artifact_2023_11.wav...\n",
      "Converting stereo audio to mono for artifact_2023_38.wav...\n",
      "Converting stereo audio to mono for artifact_2023_12.wav...\n",
      "Converting stereo audio to mono for artifact_2023_13.wav...\n",
      "Converting stereo audio to mono for artifact_2023_41.wav...\n",
      "Converting stereo audio to mono for artifact_2023_40.wav...\n",
      "Converting stereo audio to mono for artifact_2023_42.wav...\n",
      "Converting stereo audio to mono for artifact_2023_43.wav...\n",
      "Converting stereo audio to mono for artifact_2023_46.wav...\n",
      "Converting stereo audio to mono for artifact_2023_44.wav...\n",
      "Converting stereo audio to mono for artifact_2023_45.wav...\n",
      "Converting stereo audio to mono for artifact_2023_36.wav...\n",
      "Converting stereo audio to mono for artifact_2023_22.wav...\n",
      "Converting stereo audio to mono for artifact_2023_4.wav...\n",
      "Converting stereo audio to mono for artifact_2023_5.wav...\n",
      "Converting stereo audio to mono for artifact_2023_23.wav...\n",
      "Converting stereo audio to mono for artifact_2023_37.wav...\n",
      "Converting stereo audio to mono for artifact_2023_21.wav...\n",
      "Converting stereo audio to mono for artifact_2023_35.wav...\n",
      "Converting stereo audio to mono for artifact_2023_6.wav...\n",
      "Converting stereo audio to mono for artifact_2023_34.wav...\n",
      "Converting stereo audio to mono for artifact_2023_20.wav...\n",
      "Converting stereo audio to mono for artifact_2023_18.wav...\n",
      "Converting stereo audio to mono for artifact_2023_24.wav...\n",
      "Converting stereo audio to mono for artifact_2023_2.wav...\n",
      "Converting stereo audio to mono for artifact_2023_25.wav...\n",
      "Converting stereo audio to mono for artifact_2023_19.wav...\n",
      "Converting stereo audio to mono for artifact_2023_33.wav...\n",
      "Converting stereo audio to mono for artifact_2023_1.wav...\n",
      "Converting stereo audio to mono for artifact_2023_0.wav...\n",
      "Converting stereo audio to mono for artifact_2023_26.wav...\n",
      "Converting stereo audio to mono for artifact_2023_32.wav...\n",
      "Finished processing all files.\n",
      "\n",
      "The shape of the ../dataset/artifacts_4000/ features tensor is: (571, 43)\n",
      "Extracting features from ../dataset/extrahls_4000/\n"
     ]
    },
    {
     "data": {
      "application/vnd.jupyter.widget-view+json": {
       "model_id": "d3d94377ffa64622b479c106f736ef3c",
       "version_major": 2,
       "version_minor": 0
      },
      "text/plain": [
       "Extraction in progress:   0%|          | 0/150 [00:00<?, ?it/s]"
      ]
     },
     "metadata": {},
     "output_type": "display_data"
    },
    {
     "name": "stdout",
     "output_type": "stream",
     "text": [
      "No features extracted for speed_36USERAUGMENTEDextrahls__201104021355.wav. Skipping...\n",
      "No features extracted for extrahls__201104140118.wav. Skipping...\n",
      "No features extracted for noisy_3USERAUGMENTEDextrahls__201104140118.wav. Skipping...\n",
      "No features extracted for noisy_32USERAUGMENTEDextrahls__201104270459.wav. Skipping...\n",
      "No features extracted for extrahls__201104270459.wav. Skipping...\n",
      "No features extracted for pitch_34USERAUGMENTEDextrahls__201104270459.wav. Skipping...\n",
      "No features extracted for noisy_18USERAUGMENTEDextrahls__201104021355.wav. Skipping...\n",
      "No features extracted for pitch_32USERAUGMENTEDextrahls__201104140118.wav. Skipping...\n",
      "No features extracted for noisy_12USERAUGMENTEDextrahls__201104140118.wav. Skipping...\n",
      "No features extracted for pitch_12USERAUGMENTEDextrahls__201104021355.wav. Skipping...\n",
      "No features extracted for noisy_38USERAUGMENTEDextrahls__201104270459.wav. Skipping...\n",
      "No features extracted for extrahls__201104021355.wav. Skipping...\n",
      "No features extracted for noisy_28USERAUGMENTEDextrahls__201104270459.wav. Skipping...\n",
      "No features extracted for pitch_5USERAUGMENTEDextrahls__201104021355.wav. Skipping...\n",
      "No features extracted for noisy_9USERAUGMENTEDextrahls__201104140118.wav. Skipping...\n",
      "No features extracted for pitch_3USERAUGMENTEDextrahls__201104021355.wav. Skipping...\n",
      "No features extracted for speed_40USERAUGMENTEDextrahls__201104021355.wav. Skipping...\n",
      "No features extracted for pitch_0USERAUGMENTEDextrahls__201104021355.wav. Skipping...\n",
      "No features extracted for pitch_9USERAUGMENTEDextrahls__201104140118.wav. Skipping...\n",
      "No features extracted for speed_30USERAUGMENTEDextrahls__201104140118.wav. Skipping...\n",
      "No features extracted for speed_17USERAUGMENTEDextrahls__201104140118.wav. Skipping...\n",
      "No features extracted for noisy_26USERAUGMENTEDextrahls__201104021355.wav. Skipping...\n",
      "No features extracted for pitch_39USERAUGMENTEDextrahls__201104140118.wav. Skipping...\n",
      "No features extracted for noisy_40USERAUGMENTEDextrahls__201104270459.wav. Skipping...\n",
      "No features extracted for speed_12USERAUGMENTEDextrahls__201104140118.wav. Skipping...\n",
      "No features extracted for pitch_8USERAUGMENTEDextrahls__201104021355.wav. Skipping...\n",
      "No features extracted for pitch_33USERAUGMENTEDextrahls__201104140118.wav. Skipping...\n",
      "No features extracted for noisy_25USERAUGMENTEDextrahls__201104270459.wav. Skipping...\n",
      "No features extracted for pitch_43USERAUGMENTEDextrahls__201104021355.wav. Skipping...\n",
      "No features extracted for pitch_10USERAUGMENTEDextrahls__201104140118.wav. Skipping...\n",
      "No features extracted for noisy_20USERAUGMENTEDextrahls__201104270459.wav. Skipping...\n",
      "No features extracted for noisy_15USERAUGMENTEDextrahls__201104270459.wav. Skipping...\n",
      "No features extracted for noisy_39USERAUGMENTEDextrahls__201104021355.wav. Skipping...\n",
      "Finished processing all files.\n",
      "\n",
      "The shape of the ../dataset/extrahls_4000/ features tensor is: (369, 43)\n",
      "Extracting features from ../dataset/murmurs_4000/\n"
     ]
    },
    {
     "data": {
      "application/vnd.jupyter.widget-view+json": {
       "model_id": "10a15f1475124e56b5ea4fc12d5ebb27",
       "version_major": 2,
       "version_minor": 0
      },
      "text/plain": [
       "Extraction in progress:   0%|          | 0/149 [00:00<?, ?it/s]"
      ]
     },
     "metadata": {},
     "output_type": "display_data"
    },
    {
     "name": "stdout",
     "output_type": "stream",
     "text": [
      "No features extracted for murmur__293_1311680805936_B1.wav. Skipping...\n",
      "No features extracted for murmur__201104021355.wav. Skipping...\n",
      "Converting stereo audio to mono for abnormal_s4_2023_2.wav...\n",
      "No features extracted for murmur__171_1307971016233_E.wav. Skipping...\n",
      "Converting stereo audio to mono for atrial_septal_defect_2023_6.wav...\n",
      "Converting stereo audio to mono for abnormal_s3_2023_1.wav...\n",
      "Converting stereo audio to mono for mitral_stenosis_2023_9.wav...\n",
      "Converting stereo audio to mono for abnormal_s3_2023_0.wav...\n",
      "No features extracted for murmur_noisymurmur_171_1307971016233_D.wav. Skipping...\n",
      "Converting stereo audio to mono for holosystolic_murmur_2023_7.wav...\n",
      "Converting stereo audio to mono for aortic_stenosis_2023_4.wav...\n",
      "Converting stereo audio to mono for mitral_valve_prolapse_2023_10.wav...\n",
      "Converting stereo audio to mono for innocent_murmur_2023_8.wav...\n",
      "Finished processing all files.\n",
      "\n",
      "The shape of the ../dataset/murmurs_4000/ features tensor is: (534, 43)\n",
      "Extracting features from ../dataset/normals_4000/\n"
     ]
    },
    {
     "data": {
      "application/vnd.jupyter.widget-view+json": {
       "model_id": "c3839639df1e46b2b989d54ebe365b98",
       "version_major": 2,
       "version_minor": 0
      },
      "text/plain": [
       "Extraction in progress:   0%|          | 0/355 [00:00<?, ?it/s]"
      ]
     },
     "metadata": {},
     "output_type": "display_data"
    },
    {
     "name": "stdout",
     "output_type": "stream",
     "text": [
      "No features extracted for normal__232_1308748524018_D1.wav. Skipping...\n",
      "No features extracted for normal__210_1308162935880_D2.wav. Skipping...\n",
      "No features extracted for normal__210_1308162935880_D1.wav. Skipping...\n",
      "No features extracted for normal__143_1306763822290_C.wav. Skipping...\n",
      "No features extracted for normal__147_1306523973811_C.wav. Skipping...\n",
      "No features extracted for normal__238_1309194586293_B.wav. Skipping...\n",
      "No features extracted for normal__190_1308076920011_C1.wav. Skipping...\n",
      "No features extracted for normal__230_1308595300880_B.wav. Skipping...\n",
      "No features extracted for normal__267_1309368735165_A.wav. Skipping...\n",
      "No features extracted for normal__238_1309194586293_A.wav. Skipping...\n",
      "No features extracted for normal__286_1311170606028_A1.wav. Skipping...\n",
      "No features extracted for normal__210_1308162935880_B1.wav. Skipping...\n",
      "No features extracted for normal__252_1309203336604_B.wav. Skipping...\n",
      "No features extracted for normal__134_1306428161797_C2.wav. Skipping...\n",
      "No features extracted for normal__201_1308144942432_A.wav. Skipping...\n",
      "No features extracted for normal__175_1307987962616_B1.wav. Skipping...\n",
      "No features extracted for normal_noisynormal_137_1306764999211_C1.wav. Skipping...\n",
      "No features extracted for normal__232_1308748524018_B1.wav. Skipping...\n",
      "No features extracted for normal__235_1308749032454_C.wav. Skipping...\n",
      "No features extracted for normal__296_1311682952647_A1.wav. Skipping...\n",
      "No features extracted for normal__250_1309202496494_A.wav. Skipping...\n",
      "No features extracted for normal__296_1311682952647_A2.wav. Skipping...\n",
      "No features extracted for normal__286_1311170606028_A.wav. Skipping...\n",
      "No features extracted for normal__146_1306778707532_D3.wav. Skipping...\n",
      "No features extracted for normal_noisynormal_173_1307973611151_B.wav. Skipping...\n",
      "No features extracted for normal__232_1308748524018_A.wav. Skipping...\n",
      "No features extracted for normal__209_1308162216750_A1.wav. Skipping...\n",
      "No features extracted for normal__159_1307018640315_B2.wav. Skipping...\n",
      "No features extracted for normal__154_1306935608852_D.wav. Skipping...\n",
      "No features extracted for normal__152_1306779561195_C1.wav. Skipping...\n",
      "No features extracted for normal_noisynormal_178_1307989887769_B1.wav. Skipping...\n",
      "No features extracted for normal__295_1311682673157_D.wav. Skipping...\n",
      "No features extracted for normal__232_1308748524018_B.wav. Skipping...\n",
      "No features extracted for normal__210_1308162935880_B.wav. Skipping...\n",
      "No features extracted for normal__232_1308748524018_C.wav. Skipping...\n",
      "No features extracted for normal__158_1306947254705_B2.wav. Skipping...\n",
      "No features extracted for normal__282_1311166081161_C.wav. Skipping...\n",
      "No features extracted for normal_noisynormal_137_1306764999211_B.wav. Skipping...\n",
      "No features extracted for normal__283_1311167409239_A.wav. Skipping...\n",
      "No features extracted for normal__274_1311075637574_D.wav. Skipping...\n",
      "No features extracted for normal_noisynormal_234_1308748855534_B.wav. Skipping...\n",
      "No features extracted for normal__134_1306428161797_D.wav. Skipping...\n",
      "Converting stereo audio to mono for normal_2023_3.wav...\n",
      "No features extracted for normal__237_1308750231222_C.wav. Skipping...\n",
      "Converting stereo audio to mono for normal_2023_2.wav...\n",
      "No features extracted for normal__133_1306759619127_D.wav. Skipping...\n",
      "No features extracted for normal__274_1311075637574_B1.wav. Skipping...\n",
      "No features extracted for normal__176_1307988171173_B1.wav. Skipping...\n",
      "No features extracted for normal__215_1308245664733_C1.wav. Skipping...\n",
      "No features extracted for normal__218_1308246311449_C.wav. Skipping...\n",
      "Converting stereo audio to mono for normal_2023_0.wav...\n",
      "Converting stereo audio to mono for normal_2023_1.wav...\n",
      "No features extracted for normal__214_1308245489717_A.wav. Skipping...\n",
      "No features extracted for normal__167_1307111318050_C.wav. Skipping...\n",
      "Finished processing all files.\n",
      "\n",
      "The shape of the ../dataset/normals_4000/ features tensor is: (984, 43)\n",
      "Extracting features from ../dataset/extrastoles_4000/\n"
     ]
    },
    {
     "data": {
      "application/vnd.jupyter.widget-view+json": {
       "model_id": "08734b7bdc2d40b9a84869863206ab60",
       "version_major": 2,
       "version_minor": 0
      },
      "text/plain": [
       "Extraction in progress:   0%|          | 0/150 [00:00<?, ?it/s]"
      ]
     },
     "metadata": {},
     "output_type": "display_data"
    },
    {
     "name": "stdout",
     "output_type": "stream",
     "text": [
      "No features extracted for speed_25USERAUGMENTEDextrastole__237_1308750231222_A.wav. Skipping...\n",
      "No features extracted for extrastole__190_1308076920011_C.wav. Skipping...\n",
      "No features extracted for speed_18USERAUGMENTEDextrastole__202_1308145175747_C2.wav. Skipping...\n",
      "No features extracted for pitch_4USERAUGMENTEDextrastole__190_1308076920011_C.wav. Skipping...\n",
      "No features extracted for speed_33USERAUGMENTEDextrastole__134_1306428161797_C1.wav. Skipping...\n",
      "Finished processing all files.\n",
      "\n",
      "The shape of the ../dataset/extrastoles_4000/ features tensor is: (381, 43)\n",
      "Features extracted and saved\n"
     ]
    }
   ],
   "source": [
    "# ------------------------- SPECTRAL ROLLOFF -------------------------\n",
    "# n_sr_list = [\n",
    "#     20,\n",
    "#     40,\n",
    "#     60,\n",
    "# ]\n",
    "\n",
    "n_sr_list = [40]\n",
    "\n",
    "names = [\"artifacts\", \"extrahls\", \"murmurs\", \"normals\", \"extrastoles\"]\n",
    "features_dict = {}\n",
    "interval = INTERVAL\n",
    "type_ = \"sr\"  # mfcc, mel_spec, spec, cqt, rms\n",
    "\n",
    "for n_sr in n_sr_list:\n",
    "    # Save the features to a file\n",
    "    storing_name = f\"full_data_{interval}s_{sr}hz_{n_sr+1}{type_}\"  ########## CHANGE THIS TO CHANGE THE NAME OF THE FILE\n",
    "\n",
    "    if os.path.exists(FEATURES_RAW_DIR + storing_name + \".npy\"):\n",
    "        print(\"The features have already been extracted\")\n",
    "\n",
    "    else:\n",
    "        for i, PATH_ in enumerate(PATHS):\n",
    "\n",
    "            print(f\"Extracting features from {PATH_}\")\n",
    "            features = extract_features(\n",
    "                PATH_,\n",
    "                label=i,\n",
    "                extraction_interval=interval,\n",
    "                n_sr=n_sr,\n",
    "                get_mfcc=False,\n",
    "                get_chroma=False,\n",
    "                get_cqt=False,\n",
    "                get_rms=False,\n",
    "                get_zcr=False,\n",
    "                get_sc=False,\n",
    "                get_sb = False,\n",
    "                get_sr=True,\n",
    "            )\n",
    "\n",
    "            # Stack the features into a single tensor\n",
    "            features = torch.cat(features, dim=0).numpy()\n",
    "            print(f\"The shape of the {PATH_} features tensor is: {features.shape}\")\n",
    "\n",
    "            X = features[:, :-2]\n",
    "            y = features[:, -2]\n",
    "            filename = features[:, -1]\n",
    "\n",
    "            local_dict = {\"X\": X, \"y\": y, \"filename\": filename}\n",
    "\n",
    "            features_dict[names[i]] = local_dict\n",
    "\n",
    "        # Save the features to a file\n",
    "        np.save(FEATURES_RAW_DIR + storing_name, features_dict)\n",
    "\n",
    "        print(\"Features extracted and saved\")"
   ]
  },
  {
   "cell_type": "markdown",
   "metadata": {},
   "source": [
    "### All Features Extraction\n",
    "\n",
    "- **MFCC (Mel-Frequency Cepstral Coefficients)**: n_mfcc chosen by the user\n",
    "- **Chroma STFT**: 12 coefficients\n",
    "- **CQT (Constant-Q Transform)**: n_cqt chosen by the user\n",
    "- **RMS (Root Mean Square) Energy**: 1 coefficient\n",
    "- **Spectral Centroid**: 1 coefficient\n",
    "- **Spectral Bandwidth**: 1 coefficient\n",
    "- **Spectral Roll-off**: 1 coefficient\n",
    "- **Zero Crossing Rate**: 1 coefficient\n"
   ]
  },
  {
   "cell_type": "code",
   "execution_count": null,
   "metadata": {},
   "outputs": [],
   "source": [
    "# FEATURES EXTRACTION\n",
    "names = [\"artifacts\", \"extrahls\", \"murmurs\", \"normals\", \"extrastoles\"]\n",
    "features_dict = {}\n",
    "interval = 1\n",
    "n_mfcc = 30  # 30, 120\n",
    "n_cqt = 70  # 30, 70\n",
    "\n",
    "# melkwargs = {'n_fft': 2048, 'hop_length': 512, 'n_mels': 128}\n",
    "\n",
    "# Save the features to a file\n",
    "storing_name = f\"full_data_{interval}s_{sr}hz_{n_mfcc}mfcc_{n_cqt}cqt_12chroma\"  ########## CHANGE THIS TO CHANGE THE NAME OF THE FILE\n",
    "\n",
    "\n",
    "if os.path.exists(FEATURES_RAW_DIR + storing_name + \".npy\"):\n",
    "    print(\"The features have already been extracted\")\n",
    "\n",
    "else:\n",
    "    for i, PATH_ in enumerate(PATHS):\n",
    "\n",
    "        print(f\"Extracting features from {PATH_}\")\n",
    "        features = utils.extract_features(\n",
    "            PATH_, label=i, frame_length=interval, n_mfcc=n_mfcc, n_cqt=n_cqt\n",
    "        )\n",
    "\n",
    "        # Stack the features into a single tensor\n",
    "        features = torch.cat(features, dim=0).numpy()\n",
    "        print(f\"The shape of the {PATH_} features tensor is: {features.shape}\")\n",
    "\n",
    "        X = features[:, :-2]\n",
    "        y = features[:, -2]\n",
    "        filename = features[:, -1]\n",
    "\n",
    "        local_dict = {\"X\": X, \"y\": y, \"filename\": filename}\n",
    "\n",
    "        features_dict[names[i]] = local_dict\n",
    "\n",
    "    # Save the features to a file\n",
    "    np.save(FEATURES_RAW_DIR + storing_name, features_dict)\n",
    "\n",
    "    print(\"Features extracted and saved\")"
   ]
  },
  {
   "cell_type": "code",
   "execution_count": null,
   "metadata": {},
   "outputs": [],
   "source": [
    "# load the features and check the shape\n",
    "features_dict = np.load(\n",
    "    FEATURES_RAW_DIR + storing_name + \".npy\", allow_pickle=True\n",
    ").item()\n",
    "for key in features_dict.keys():\n",
    "    print(f'The shape of the {key} features tensor is: {features_dict[key][\"X\"].shape}')\n",
    "    print(f'The shape of the {key} labels tensor is: {features_dict[key][\"y\"].shape}')\n",
    "    print(\n",
    "        f'The shape of the {key} filenames tensor is: {features_dict[key][\"filename\"].shape}'\n",
    "    )\n",
    "    print(\"-----------------------------------------------\")"
   ]
  },
  {
   "cell_type": "code",
   "execution_count": null,
   "metadata": {},
   "outputs": [],
   "source": [
    "s = 0\n",
    "for key in features_dict.keys():\n",
    "    s += features_dict[key][\"X\"].shape[0]\n",
    "s"
   ]
  }
 ],
 "metadata": {
  "kernelspec": {
   "display_name": "Python 3",
   "language": "python",
   "name": "python3"
  },
  "language_info": {
   "codemirror_mode": {
    "name": "ipython",
    "version": 3
   },
   "file_extension": ".py",
   "mimetype": "text/x-python",
   "name": "python",
   "nbconvert_exporter": "python",
   "pygments_lexer": "ipython3",
   "version": "3.12.3"
  }
 },
 "nbformat": 4,
 "nbformat_minor": 2
}
