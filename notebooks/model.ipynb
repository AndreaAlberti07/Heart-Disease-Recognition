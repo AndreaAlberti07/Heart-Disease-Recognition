{
 "cells": [
  {
   "cell_type": "markdown",
   "metadata": {},
   "source": [
    "## Model Notebook\n",
    "---\n",
    "\n",
    "This notebook fit a baseline model for the prediction. The model is a SVM with a RBF kernel, trained on basics features, without any normalization process.\n",
    "The hyperparameters are set to default values, and the model is trained on the full dataset."
   ]
  },
  {
   "cell_type": "code",
   "execution_count": 74,
   "metadata": {},
   "outputs": [],
   "source": [
    "import os\n",
    "import numpy as np\n",
    "from sklearn.model_selection import train_test_split\n",
    "from sklearn.svm import SVC\n",
    "from sklearn.ensemble import RandomForestClassifier\n",
    "from sklearn.metrics import classification_report"
   ]
  },
  {
   "cell_type": "code",
   "execution_count": 75,
   "metadata": {},
   "outputs": [],
   "source": [
    "# paths the features\n",
    "FEATURES_DIR = '../features/'"
   ]
  },
  {
   "cell_type": "markdown",
   "metadata": {},
   "source": [
    "### Load Data"
   ]
  },
  {
   "cell_type": "code",
   "execution_count": 76,
   "metadata": {},
   "outputs": [
    {
     "name": "stdout",
     "output_type": "stream",
     "text": [
      "['normals_1_mix.npz', 'artifacts_1_mix.npz', 'extrastoles_1_mix.npz', 'extrahls_1_mix.npz', 'murmurs_1_mix.npz']\n"
     ]
    }
   ],
   "source": [
    "names = os.listdir(FEATURES_DIR)\n",
    "print(names)\n",
    "data_list = []\n",
    "data_list_name = []\n",
    "\n",
    "for name in names:\n",
    "     data = np.load(FEATURES_DIR + name)\n",
    "     X = data['X']\n",
    "     y = data['y'].reshape(-1, 1)\n",
    "     filename = data['filename'].reshape(-1, 1)\n",
    "     data = np.concatenate((X, y), axis=1)\n",
    "     data_name = np.concatenate((data, filename), axis=1)\n",
    "     data_list.append(data)\n",
    "     data_list_name.append(data_name) \n",
    "     \n",
    "# create the full data matrix\n",
    "data = np.concatenate(data_list, axis=0)\n",
    "data_name = np.concatenate(data_list_name, axis=0) # data with the index of the filename in the last column\n",
    "\n",
    "# split the data in testing and training\n",
    "X_train, X_test, y_train, y_test = train_test_split(data[:, :-1], data[:, -1], test_size=0.2, random_state=42)"
   ]
  },
  {
   "cell_type": "markdown",
   "metadata": {},
   "source": [
    "### Fit Model"
   ]
  },
  {
   "cell_type": "code",
   "execution_count": 77,
   "metadata": {},
   "outputs": [
    {
     "name": "stdout",
     "output_type": "stream",
     "text": [
      "Test report: \n",
      "              precision    recall  f1-score   support\n",
      "\n",
      "         0.0       0.80      0.93      0.86       373\n",
      "         1.0       0.00      0.00      0.00        28\n",
      "         2.0       0.54      0.22      0.32       245\n",
      "         3.0       0.65      0.88      0.75       449\n",
      "         4.0       0.00      0.00      0.00        42\n",
      "\n",
      "    accuracy                           0.70      1137\n",
      "   macro avg       0.40      0.41      0.38      1137\n",
      "weighted avg       0.64      0.70      0.65      1137\n",
      "\n"
     ]
    },
    {
     "name": "stderr",
     "output_type": "stream",
     "text": [
      "/opt/homebrew/lib/python3.11/site-packages/sklearn/metrics/_classification.py:1471: UndefinedMetricWarning: Precision and F-score are ill-defined and being set to 0.0 in labels with no predicted samples. Use `zero_division` parameter to control this behavior.\n",
      "  _warn_prf(average, modifier, msg_start, len(result))\n",
      "/opt/homebrew/lib/python3.11/site-packages/sklearn/metrics/_classification.py:1471: UndefinedMetricWarning: Precision and F-score are ill-defined and being set to 0.0 in labels with no predicted samples. Use `zero_division` parameter to control this behavior.\n",
      "  _warn_prf(average, modifier, msg_start, len(result))\n",
      "/opt/homebrew/lib/python3.11/site-packages/sklearn/metrics/_classification.py:1471: UndefinedMetricWarning: Precision and F-score are ill-defined and being set to 0.0 in labels with no predicted samples. Use `zero_division` parameter to control this behavior.\n",
      "  _warn_prf(average, modifier, msg_start, len(result))\n"
     ]
    }
   ],
   "source": [
    "# fit the model\n",
    "svm = SVC()\n",
    "svm.fit(X_train, y_train)\n",
    "\n",
    "# predict the test set\n",
    "y_pred = svm.predict(X_test)\n",
    "print(f'Test report: \\n{classification_report(y_test, y_pred)}')"
   ]
  },
  {
   "cell_type": "code",
   "execution_count": 78,
   "metadata": {},
   "outputs": [
    {
     "name": "stdout",
     "output_type": "stream",
     "text": [
      "Test report: \n",
      "              precision    recall  f1-score   support\n",
      "\n",
      "         0.0       0.99      0.99      0.99       373\n",
      "         1.0       0.89      0.86      0.87        28\n",
      "         2.0       0.96      0.71      0.82       245\n",
      "         3.0       0.80      0.98      0.88       449\n",
      "         4.0       0.80      0.10      0.17        42\n",
      "\n",
      "    accuracy                           0.89      1137\n",
      "   macro avg       0.89      0.73      0.75      1137\n",
      "weighted avg       0.90      0.89      0.88      1137\n",
      "\n"
     ]
    }
   ],
   "source": [
    "# fit the model\n",
    "rf = RandomForestClassifier()\n",
    "rf.fit(X_train, y_train)\n",
    "\n",
    "# predict the test set\n",
    "y_pred = rf.predict(X_test)\n",
    "print(f'Test report: \\n{classification_report(y_test, y_pred)}')"
   ]
  }
 ],
 "metadata": {
  "kernelspec": {
   "display_name": "Python 3",
   "language": "python",
   "name": "python3"
  },
  "language_info": {
   "codemirror_mode": {
    "name": "ipython",
    "version": 3
   },
   "file_extension": ".py",
   "mimetype": "text/x-python",
   "name": "python",
   "nbconvert_exporter": "python",
   "pygments_lexer": "ipython3",
   "version": "3.11.5"
  }
 },
 "nbformat": 4,
 "nbformat_minor": 2
}
