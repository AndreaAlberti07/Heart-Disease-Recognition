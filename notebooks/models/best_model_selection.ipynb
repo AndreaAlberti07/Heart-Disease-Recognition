{
 "cells": [
  {
   "cell_type": "markdown",
   "metadata": {},
   "source": [
    "# Hyper-parameters selection for random forest\n"
   ]
  },
  {
   "cell_type": "code",
   "execution_count": 19,
   "metadata": {},
   "outputs": [],
   "source": [
    "import os\n",
    "import numpy as np\n",
    "import joblib\n",
    "import seaborn as sns\n",
    "import matplotlib.pyplot as plt\n",
    "from sklearn.datasets import make_classification\n",
    "from sklearn.neural_network import MLPClassifier\n",
    "from sklearn.model_selection import GridSearchCV\n",
    "from sklearn.metrics import make_scorer, accuracy_score, balanced_accuracy_score, f1_score, classification_report, confusion_matrix"
   ]
  },
  {
   "cell_type": "code",
   "execution_count": 6,
   "metadata": {},
   "outputs": [],
   "source": [
    "# paths the features\n",
    "# features\n",
    "FEATURES_BASE = \"../../features/\"\n",
    "FEATURES_DIR = FEATURES_BASE + 'balanced/both/'\n",
    "\n",
    "# Models\n",
    "MODELS_DIR = \"../../models/\"\n",
    "MODELS_RESULTS = MODELS_DIR + \"results/\"\n",
    "NAME = 'full_data_filtered_2s_4000hz_25mfcc_12chroma_1cqt_0rms_1zcr_0sc_0sb_0sr_.npy'"
   ]
  },
  {
   "cell_type": "markdown",
   "metadata": {},
   "source": [
    "### Load Data\n"
   ]
  },
  {
   "cell_type": "code",
   "execution_count": 20,
   "metadata": {},
   "outputs": [],
   "source": [
    "data = np.load(FEATURES_DIR + NAME, allow_pickle=True).item()\n",
    "X_train = data['train']['X']\n",
    "y_train = data['train']['y']\n",
    "X_test = data['test']['X']\n",
    "y_test = data['test']['y']"
   ]
  },
  {
   "cell_type": "code",
   "execution_count": null,
   "metadata": {},
   "outputs": [],
   "source": []
  },
  {
   "cell_type": "code",
   "execution_count": 21,
   "metadata": {},
   "outputs": [
    {
     "name": "stdout",
     "output_type": "stream",
     "text": [
      "Fitting 5 folds for each of 45 candidates, totalling 225 fits\n"
     ]
    },
    {
     "name": "stderr",
     "output_type": "stream",
     "text": [
      "/opt/homebrew/lib/python3.11/site-packages/sklearn/neural_network/_multilayer_perceptron.py:691: ConvergenceWarning: Stochastic Optimizer: Maximum iterations (200) reached and the optimization hasn't converged yet.\n",
      "  warnings.warn(\n",
      "/opt/homebrew/lib/python3.11/site-packages/sklearn/neural_network/_multilayer_perceptron.py:691: ConvergenceWarning: Stochastic Optimizer: Maximum iterations (200) reached and the optimization hasn't converged yet.\n",
      "  warnings.warn(\n"
     ]
    },
    {
     "name": "stdout",
     "output_type": "stream",
     "text": [
      "[CV] END activation=relu, alpha=0.0001, hidden_layer_sizes=(40, 100), max_iter=200, solver=adam; total time=   4.0s\n",
      "[CV] END activation=relu, alpha=0.0001, hidden_layer_sizes=(40, 100), max_iter=200, solver=adam; total time=   4.0s\n"
     ]
    },
    {
     "name": "stderr",
     "output_type": "stream",
     "text": [
      "/opt/homebrew/lib/python3.11/site-packages/sklearn/neural_network/_multilayer_perceptron.py:691: ConvergenceWarning: Stochastic Optimizer: Maximum iterations (200) reached and the optimization hasn't converged yet.\n",
      "  warnings.warn(\n",
      "/opt/homebrew/lib/python3.11/site-packages/sklearn/neural_network/_multilayer_perceptron.py:691: ConvergenceWarning: Stochastic Optimizer: Maximum iterations (200) reached and the optimization hasn't converged yet.\n",
      "  warnings.warn(\n"
     ]
    },
    {
     "name": "stdout",
     "output_type": "stream",
     "text": [
      "[CV] END activation=relu, alpha=0.0001, hidden_layer_sizes=(40, 100), max_iter=200, solver=adam; total time=   3.6s\n",
      "[CV] END activation=relu, alpha=0.0001, hidden_layer_sizes=(40, 100), max_iter=200, solver=adam; total time=   3.7s\n"
     ]
    },
    {
     "name": "stderr",
     "output_type": "stream",
     "text": [
      "/opt/homebrew/lib/python3.11/site-packages/sklearn/neural_network/_multilayer_perceptron.py:691: ConvergenceWarning: Stochastic Optimizer: Maximum iterations (200) reached and the optimization hasn't converged yet.\n",
      "  warnings.warn(\n"
     ]
    },
    {
     "name": "stdout",
     "output_type": "stream",
     "text": [
      "[CV] END activation=relu, alpha=0.0001, hidden_layer_sizes=(40, 100), max_iter=200, solver=adam; total time=   4.1s\n",
      "[CV] END activation=relu, alpha=0.0001, hidden_layer_sizes=(40, 100), max_iter=300, solver=adam; total time=   5.1s\n",
      "[CV] END activation=relu, alpha=0.0001, hidden_layer_sizes=(40, 100), max_iter=300, solver=adam; total time=   4.0s\n",
      "[CV] END activation=relu, alpha=0.0001, hidden_layer_sizes=(40, 100), max_iter=300, solver=adam; total time=   5.6s\n",
      "[CV] END activation=relu, alpha=0.0001, hidden_layer_sizes=(40, 100), max_iter=300, solver=adam; total time=   4.7s\n"
     ]
    },
    {
     "name": "stderr",
     "output_type": "stream",
     "text": [
      "/opt/homebrew/lib/python3.11/site-packages/sklearn/neural_network/_multilayer_perceptron.py:691: ConvergenceWarning: Stochastic Optimizer: Maximum iterations (300) reached and the optimization hasn't converged yet.\n",
      "  warnings.warn(\n"
     ]
    },
    {
     "name": "stdout",
     "output_type": "stream",
     "text": [
      "[CV] END activation=relu, alpha=0.0001, hidden_layer_sizes=(40, 100), max_iter=300, solver=adam; total time=   5.5s\n",
      "[CV] END activation=relu, alpha=0.0001, hidden_layer_sizes=(40, 100), max_iter=500, solver=adam; total time=   5.4s\n",
      "[CV] END activation=relu, alpha=0.0001, hidden_layer_sizes=(40, 100), max_iter=500, solver=adam; total time=   6.0s\n",
      "[CV] END activation=relu, alpha=0.0001, hidden_layer_sizes=(40, 100), max_iter=500, solver=adam; total time=   4.3s\n",
      "[CV] END activation=relu, alpha=0.0001, hidden_layer_sizes=(40, 100), max_iter=500, solver=adam; total time=   4.9s\n",
      "[CV] END activation=relu, alpha=0.0001, hidden_layer_sizes=(40, 100), max_iter=500, solver=adam; total time=   7.4s\n",
      "[CV] END activation=relu, alpha=0.0001, hidden_layer_sizes=(100, 40), max_iter=200, solver=adam; total time=   5.2s\n"
     ]
    },
    {
     "name": "stderr",
     "output_type": "stream",
     "text": [
      "/opt/homebrew/lib/python3.11/site-packages/sklearn/neural_network/_multilayer_perceptron.py:691: ConvergenceWarning: Stochastic Optimizer: Maximum iterations (200) reached and the optimization hasn't converged yet.\n",
      "  warnings.warn(\n",
      "/opt/homebrew/lib/python3.11/site-packages/sklearn/neural_network/_multilayer_perceptron.py:691: ConvergenceWarning: Stochastic Optimizer: Maximum iterations (200) reached and the optimization hasn't converged yet.\n",
      "  warnings.warn(\n",
      "/opt/homebrew/lib/python3.11/site-packages/sklearn/neural_network/_multilayer_perceptron.py:691: ConvergenceWarning: Stochastic Optimizer: Maximum iterations (200) reached and the optimization hasn't converged yet.\n",
      "  warnings.warn(\n"
     ]
    },
    {
     "name": "stdout",
     "output_type": "stream",
     "text": [
      "[CV] END activation=relu, alpha=0.0001, hidden_layer_sizes=(100, 40), max_iter=200, solver=adam; total time=   4.7s\n",
      "[CV] END activation=relu, alpha=0.0001, hidden_layer_sizes=(100, 40), max_iter=200, solver=adam; total time=   4.8s\n"
     ]
    },
    {
     "name": "stderr",
     "output_type": "stream",
     "text": [
      "/opt/homebrew/lib/python3.11/site-packages/sklearn/neural_network/_multilayer_perceptron.py:691: ConvergenceWarning: Stochastic Optimizer: Maximum iterations (200) reached and the optimization hasn't converged yet.\n",
      "  warnings.warn(\n"
     ]
    },
    {
     "name": "stdout",
     "output_type": "stream",
     "text": [
      "[CV] END activation=relu, alpha=0.0001, hidden_layer_sizes=(100, 40), max_iter=200, solver=adam; total time=   4.0s\n"
     ]
    },
    {
     "name": "stderr",
     "output_type": "stream",
     "text": [
      "/opt/homebrew/lib/python3.11/site-packages/sklearn/neural_network/_multilayer_perceptron.py:691: ConvergenceWarning: Stochastic Optimizer: Maximum iterations (200) reached and the optimization hasn't converged yet.\n",
      "  warnings.warn(\n"
     ]
    },
    {
     "name": "stdout",
     "output_type": "stream",
     "text": [
      "[CV] END activation=relu, alpha=0.0001, hidden_layer_sizes=(100, 40), max_iter=200, solver=adam; total time=   4.1s\n"
     ]
    },
    {
     "name": "stderr",
     "output_type": "stream",
     "text": [
      "/opt/homebrew/lib/python3.11/site-packages/sklearn/neural_network/_multilayer_perceptron.py:691: ConvergenceWarning: Stochastic Optimizer: Maximum iterations (300) reached and the optimization hasn't converged yet.\n",
      "  warnings.warn(\n"
     ]
    },
    {
     "name": "stdout",
     "output_type": "stream",
     "text": [
      "[CV] END activation=relu, alpha=0.0001, hidden_layer_sizes=(100, 40), max_iter=300, solver=adam; total time=   6.3s\n"
     ]
    },
    {
     "name": "stderr",
     "output_type": "stream",
     "text": [
      "/opt/homebrew/lib/python3.11/site-packages/sklearn/neural_network/_multilayer_perceptron.py:691: ConvergenceWarning: Stochastic Optimizer: Maximum iterations (300) reached and the optimization hasn't converged yet.\n",
      "  warnings.warn(\n"
     ]
    },
    {
     "name": "stdout",
     "output_type": "stream",
     "text": [
      "[CV] END activation=relu, alpha=0.0001, hidden_layer_sizes=(100, 40), max_iter=300, solver=adam; total time=   6.2s\n",
      "[CV] END activation=relu, alpha=0.0001, hidden_layer_sizes=(100, 40), max_iter=300, solver=adam; total time=   4.8s\n",
      "[CV] END activation=relu, alpha=0.0001, hidden_layer_sizes=(100, 40), max_iter=300, solver=adam; total time=   5.1s\n",
      "[CV] END activation=relu, alpha=0.0001, hidden_layer_sizes=(100, 40), max_iter=300, solver=adam; total time=   4.7s\n",
      "[CV] END activation=relu, alpha=0.0001, hidden_layer_sizes=(100, 40), max_iter=500, solver=adam; total time=   5.5s\n",
      "[CV] END activation=relu, alpha=0.0001, hidden_layer_sizes=(100, 40), max_iter=500, solver=adam; total time=   4.4s\n",
      "[CV] END activation=relu, alpha=0.0001, hidden_layer_sizes=(100, 40), max_iter=500, solver=adam; total time=   5.7s\n",
      "[CV] END activation=relu, alpha=0.0001, hidden_layer_sizes=(100, 40), max_iter=500, solver=adam; total time=   4.6s\n",
      "[CV] END activation=relu, alpha=0.0001, hidden_layer_sizes=(100, 40), max_iter=500, solver=adam; total time=   4.9s\n",
      "[CV] END activation=relu, alpha=0.0001, hidden_layer_sizes=(64, 128, 256), max_iter=200, solver=adam; total time=   7.0s\n",
      "[CV] END activation=relu, alpha=0.0001, hidden_layer_sizes=(64, 128, 256), max_iter=200, solver=adam; total time=   8.7s\n",
      "[CV] END activation=relu, alpha=0.0001, hidden_layer_sizes=(64, 128, 256), max_iter=200, solver=adam; total time=   7.6s\n"
     ]
    },
    {
     "name": "stderr",
     "output_type": "stream",
     "text": [
      "/opt/homebrew/lib/python3.11/site-packages/sklearn/neural_network/_multilayer_perceptron.py:691: ConvergenceWarning: Stochastic Optimizer: Maximum iterations (200) reached and the optimization hasn't converged yet.\n",
      "  warnings.warn(\n"
     ]
    },
    {
     "name": "stdout",
     "output_type": "stream",
     "text": [
      "[CV] END activation=relu, alpha=0.0001, hidden_layer_sizes=(64, 128, 256), max_iter=200, solver=adam; total time=  11.6s\n",
      "[CV] END activation=relu, alpha=0.0001, hidden_layer_sizes=(64, 128, 256), max_iter=200, solver=adam; total time=   8.9s\n",
      "[CV] END activation=relu, alpha=0.0001, hidden_layer_sizes=(64, 128, 256), max_iter=300, solver=adam; total time=   9.4s\n",
      "[CV] END activation=relu, alpha=0.0001, hidden_layer_sizes=(64, 128, 256), max_iter=300, solver=adam; total time=  11.0s\n",
      "[CV] END activation=relu, alpha=0.0001, hidden_layer_sizes=(64, 128, 256), max_iter=300, solver=adam; total time=   8.3s\n",
      "[CV] END activation=relu, alpha=0.0001, hidden_layer_sizes=(64, 128, 256), max_iter=300, solver=adam; total time=  13.7s\n",
      "[CV] END activation=relu, alpha=0.0001, hidden_layer_sizes=(64, 128, 256), max_iter=300, solver=adam; total time=  10.7s\n",
      "[CV] END activation=relu, alpha=0.0001, hidden_layer_sizes=(64, 128, 256), max_iter=500, solver=adam; total time=   8.1s\n",
      "[CV] END activation=relu, alpha=0.0001, hidden_layer_sizes=(64, 128, 256), max_iter=500, solver=adam; total time=   9.7s\n",
      "[CV] END activation=relu, alpha=0.0001, hidden_layer_sizes=(64, 128, 256), max_iter=500, solver=adam; total time=   8.0s\n",
      "[CV] END activation=relu, alpha=0.0001, hidden_layer_sizes=(64, 128, 256), max_iter=500, solver=adam; total time=  14.1s\n",
      "[CV] END activation=relu, alpha=0.0001, hidden_layer_sizes=(64, 128, 256), max_iter=500, solver=adam; total time=  10.7s\n",
      "[CV] END activation=relu, alpha=0.0001, hidden_layer_sizes=(128, 64, 32), max_iter=200, solver=adam; total time=   3.5s\n",
      "[CV] END activation=relu, alpha=0.0001, hidden_layer_sizes=(128, 64, 32), max_iter=200, solver=adam; total time=   4.6s\n"
     ]
    },
    {
     "name": "stderr",
     "output_type": "stream",
     "text": [
      "/opt/homebrew/lib/python3.11/site-packages/sklearn/neural_network/_multilayer_perceptron.py:691: ConvergenceWarning: Stochastic Optimizer: Maximum iterations (200) reached and the optimization hasn't converged yet.\n",
      "  warnings.warn(\n"
     ]
    },
    {
     "name": "stdout",
     "output_type": "stream",
     "text": [
      "[CV] END activation=relu, alpha=0.0001, hidden_layer_sizes=(128, 64, 32), max_iter=200, solver=adam; total time=   6.1s\n"
     ]
    },
    {
     "name": "stderr",
     "output_type": "stream",
     "text": [
      "/opt/homebrew/lib/python3.11/site-packages/sklearn/neural_network/_multilayer_perceptron.py:691: ConvergenceWarning: Stochastic Optimizer: Maximum iterations (200) reached and the optimization hasn't converged yet.\n",
      "  warnings.warn(\n"
     ]
    },
    {
     "name": "stdout",
     "output_type": "stream",
     "text": [
      "[CV] END activation=relu, alpha=0.0001, hidden_layer_sizes=(128, 64, 32), max_iter=200, solver=adam; total time=   6.5s\n"
     ]
    },
    {
     "name": "stderr",
     "output_type": "stream",
     "text": [
      "/opt/homebrew/lib/python3.11/site-packages/sklearn/neural_network/_multilayer_perceptron.py:691: ConvergenceWarning: Stochastic Optimizer: Maximum iterations (200) reached and the optimization hasn't converged yet.\n",
      "  warnings.warn(\n"
     ]
    },
    {
     "name": "stdout",
     "output_type": "stream",
     "text": [
      "[CV] END activation=relu, alpha=0.0001, hidden_layer_sizes=(128, 64, 32), max_iter=200, solver=adam; total time=   6.6s\n",
      "[CV] END activation=relu, alpha=0.0001, hidden_layer_sizes=(128, 64, 32), max_iter=300, solver=adam; total time=   3.9s\n",
      "[CV] END activation=relu, alpha=0.0001, hidden_layer_sizes=(128, 64, 32), max_iter=300, solver=adam; total time=   5.8s\n",
      "[CV] END activation=relu, alpha=0.0001, hidden_layer_sizes=(128, 64, 32), max_iter=300, solver=adam; total time=   8.0s\n",
      "[CV] END activation=relu, alpha=0.0001, hidden_layer_sizes=(128, 64, 32), max_iter=300, solver=adam; total time=   7.7s\n",
      "[CV] END activation=relu, alpha=0.0001, hidden_layer_sizes=(128, 64, 32), max_iter=300, solver=adam; total time=   8.3s\n",
      "[CV] END activation=relu, alpha=0.0001, hidden_layer_sizes=(128, 64, 32), max_iter=500, solver=adam; total time=   4.1s\n",
      "[CV] END activation=relu, alpha=0.0001, hidden_layer_sizes=(128, 64, 32), max_iter=500, solver=adam; total time=   5.7s\n",
      "[CV] END activation=relu, alpha=0.0001, hidden_layer_sizes=(128, 64, 32), max_iter=500, solver=adam; total time=   8.2s\n",
      "[CV] END activation=relu, alpha=0.0001, hidden_layer_sizes=(128, 64, 32), max_iter=500, solver=adam; total time=   6.9s\n",
      "[CV] END activation=relu, alpha=0.0001, hidden_layer_sizes=(128, 64, 32), max_iter=500, solver=adam; total time=   9.0s\n",
      "[CV] END activation=relu, alpha=0.0001, hidden_layer_sizes=(40, 120, 120, 40), max_iter=200, solver=adam; total time=  10.7s\n",
      "[CV] END activation=relu, alpha=0.0001, hidden_layer_sizes=(40, 120, 120, 40), max_iter=200, solver=adam; total time=   7.4s\n",
      "[CV] END activation=relu, alpha=0.0001, hidden_layer_sizes=(40, 120, 120, 40), max_iter=200, solver=adam; total time=  10.6s\n",
      "[CV] END activation=relu, alpha=0.0001, hidden_layer_sizes=(40, 120, 120, 40), max_iter=200, solver=adam; total time=   9.1s\n",
      "[CV] END activation=relu, alpha=0.0001, hidden_layer_sizes=(40, 120, 120, 40), max_iter=300, solver=adam; total time=  10.5s\n",
      "[CV] END activation=relu, alpha=0.0001, hidden_layer_sizes=(40, 120, 120, 40), max_iter=200, solver=adam; total time=  11.2s\n",
      "[CV] END activation=relu, alpha=0.0001, hidden_layer_sizes=(40, 120, 120, 40), max_iter=300, solver=adam; total time=   6.4s\n",
      "[CV] END activation=relu, alpha=0.0001, hidden_layer_sizes=(40, 120, 120, 40), max_iter=300, solver=adam; total time=  11.2s\n",
      "[CV] END activation=relu, alpha=0.0001, hidden_layer_sizes=(40, 120, 120, 40), max_iter=300, solver=adam; total time=  10.5s\n",
      "[CV] END activation=relu, alpha=0.0001, hidden_layer_sizes=(40, 120, 120, 40), max_iter=300, solver=adam; total time=   9.6s\n",
      "[CV] END activation=relu, alpha=0.0001, hidden_layer_sizes=(40, 120, 120, 40), max_iter=500, solver=adam; total time=   7.5s\n",
      "[CV] END activation=relu, alpha=0.0001, hidden_layer_sizes=(40, 120, 120, 40), max_iter=500, solver=adam; total time=   5.2s\n",
      "[CV] END activation=relu, alpha=0.0001, hidden_layer_sizes=(40, 120, 120, 40), max_iter=500, solver=adam; total time=   8.8s\n",
      "[CV] END activation=relu, alpha=0.0001, hidden_layer_sizes=(40, 120, 120, 40), max_iter=500, solver=adam; total time=   7.0s\n",
      "[CV] END activation=relu, alpha=0.001, hidden_layer_sizes=(40, 100), max_iter=200, solver=adam; total time=   3.9s\n"
     ]
    },
    {
     "name": "stderr",
     "output_type": "stream",
     "text": [
      "/opt/homebrew/lib/python3.11/site-packages/sklearn/neural_network/_multilayer_perceptron.py:691: ConvergenceWarning: Stochastic Optimizer: Maximum iterations (200) reached and the optimization hasn't converged yet.\n",
      "  warnings.warn(\n"
     ]
    },
    {
     "name": "stdout",
     "output_type": "stream",
     "text": [
      "[CV] END activation=relu, alpha=0.001, hidden_layer_sizes=(40, 100), max_iter=200, solver=adam; total time=   4.2s\n",
      "[CV] END activation=relu, alpha=0.0001, hidden_layer_sizes=(40, 120, 120, 40), max_iter=500, solver=adam; total time=  11.1s\n"
     ]
    },
    {
     "name": "stderr",
     "output_type": "stream",
     "text": [
      "/opt/homebrew/lib/python3.11/site-packages/sklearn/neural_network/_multilayer_perceptron.py:691: ConvergenceWarning: Stochastic Optimizer: Maximum iterations (200) reached and the optimization hasn't converged yet.\n",
      "  warnings.warn(\n"
     ]
    },
    {
     "name": "stdout",
     "output_type": "stream",
     "text": [
      "[CV] END activation=relu, alpha=0.001, hidden_layer_sizes=(40, 100), max_iter=200, solver=adam; total time=   4.9s\n"
     ]
    },
    {
     "name": "stderr",
     "output_type": "stream",
     "text": [
      "/opt/homebrew/lib/python3.11/site-packages/sklearn/neural_network/_multilayer_perceptron.py:691: ConvergenceWarning: Stochastic Optimizer: Maximum iterations (200) reached and the optimization hasn't converged yet.\n",
      "  warnings.warn(\n"
     ]
    },
    {
     "name": "stdout",
     "output_type": "stream",
     "text": [
      "[CV] END activation=relu, alpha=0.001, hidden_layer_sizes=(40, 100), max_iter=200, solver=adam; total time=   4.8s\n"
     ]
    },
    {
     "name": "stderr",
     "output_type": "stream",
     "text": [
      "/opt/homebrew/lib/python3.11/site-packages/sklearn/neural_network/_multilayer_perceptron.py:691: ConvergenceWarning: Stochastic Optimizer: Maximum iterations (200) reached and the optimization hasn't converged yet.\n",
      "  warnings.warn(\n"
     ]
    },
    {
     "name": "stdout",
     "output_type": "stream",
     "text": [
      "[CV] END activation=relu, alpha=0.001, hidden_layer_sizes=(40, 100), max_iter=200, solver=adam; total time=   4.8s\n",
      "[CV] END activation=relu, alpha=0.001, hidden_layer_sizes=(40, 100), max_iter=300, solver=adam; total time=   5.1s\n",
      "[CV] END activation=relu, alpha=0.001, hidden_layer_sizes=(40, 100), max_iter=300, solver=adam; total time=   7.3s\n",
      "[CV] END activation=relu, alpha=0.001, hidden_layer_sizes=(40, 100), max_iter=300, solver=adam; total time=   7.4s\n",
      "[CV] END activation=relu, alpha=0.001, hidden_layer_sizes=(40, 100), max_iter=300, solver=adam; total time=   5.7s\n",
      "[CV] END activation=relu, alpha=0.001, hidden_layer_sizes=(40, 100), max_iter=300, solver=adam; total time=   4.6s\n",
      "[CV] END activation=relu, alpha=0.001, hidden_layer_sizes=(40, 100), max_iter=500, solver=adam; total time=   3.3s\n",
      "[CV] END activation=relu, alpha=0.001, hidden_layer_sizes=(40, 100), max_iter=500, solver=adam; total time=   5.3s\n",
      "[CV] END activation=relu, alpha=0.001, hidden_layer_sizes=(40, 100), max_iter=500, solver=adam; total time=   7.0s\n",
      "[CV] END activation=relu, alpha=0.001, hidden_layer_sizes=(40, 100), max_iter=500, solver=adam; total time=   6.2s\n",
      "[CV] END activation=relu, alpha=0.001, hidden_layer_sizes=(40, 100), max_iter=500, solver=adam; total time=   5.3s\n"
     ]
    },
    {
     "name": "stderr",
     "output_type": "stream",
     "text": [
      "/opt/homebrew/lib/python3.11/site-packages/sklearn/neural_network/_multilayer_perceptron.py:691: ConvergenceWarning: Stochastic Optimizer: Maximum iterations (200) reached and the optimization hasn't converged yet.\n",
      "  warnings.warn(\n"
     ]
    },
    {
     "name": "stdout",
     "output_type": "stream",
     "text": [
      "[CV] END activation=relu, alpha=0.001, hidden_layer_sizes=(100, 40), max_iter=200, solver=adam; total time=   4.2s\n"
     ]
    },
    {
     "name": "stderr",
     "output_type": "stream",
     "text": [
      "/opt/homebrew/lib/python3.11/site-packages/sklearn/neural_network/_multilayer_perceptron.py:691: ConvergenceWarning: Stochastic Optimizer: Maximum iterations (200) reached and the optimization hasn't converged yet.\n",
      "  warnings.warn(\n"
     ]
    },
    {
     "name": "stdout",
     "output_type": "stream",
     "text": [
      "[CV] END activation=relu, alpha=0.001, hidden_layer_sizes=(100, 40), max_iter=200, solver=adam; total time=   4.1s\n"
     ]
    },
    {
     "name": "stderr",
     "output_type": "stream",
     "text": [
      "/opt/homebrew/lib/python3.11/site-packages/sklearn/neural_network/_multilayer_perceptron.py:691: ConvergenceWarning: Stochastic Optimizer: Maximum iterations (200) reached and the optimization hasn't converged yet.\n",
      "  warnings.warn(\n"
     ]
    },
    {
     "name": "stdout",
     "output_type": "stream",
     "text": [
      "[CV] END activation=relu, alpha=0.001, hidden_layer_sizes=(100, 40), max_iter=200, solver=adam; total time=   4.7s\n"
     ]
    },
    {
     "name": "stderr",
     "output_type": "stream",
     "text": [
      "/opt/homebrew/lib/python3.11/site-packages/sklearn/neural_network/_multilayer_perceptron.py:691: ConvergenceWarning: Stochastic Optimizer: Maximum iterations (200) reached and the optimization hasn't converged yet.\n",
      "  warnings.warn(\n"
     ]
    },
    {
     "name": "stdout",
     "output_type": "stream",
     "text": [
      "[CV] END activation=relu, alpha=0.001, hidden_layer_sizes=(100, 40), max_iter=200, solver=adam; total time=   4.3s\n"
     ]
    },
    {
     "name": "stderr",
     "output_type": "stream",
     "text": [
      "/opt/homebrew/lib/python3.11/site-packages/sklearn/neural_network/_multilayer_perceptron.py:691: ConvergenceWarning: Stochastic Optimizer: Maximum iterations (200) reached and the optimization hasn't converged yet.\n",
      "  warnings.warn(\n"
     ]
    },
    {
     "name": "stdout",
     "output_type": "stream",
     "text": [
      "[CV] END activation=relu, alpha=0.001, hidden_layer_sizes=(100, 40), max_iter=200, solver=adam; total time=   4.6s\n"
     ]
    },
    {
     "name": "stderr",
     "output_type": "stream",
     "text": [
      "/opt/homebrew/lib/python3.11/site-packages/sklearn/neural_network/_multilayer_perceptron.py:691: ConvergenceWarning: Stochastic Optimizer: Maximum iterations (300) reached and the optimization hasn't converged yet.\n",
      "  warnings.warn(\n"
     ]
    },
    {
     "name": "stdout",
     "output_type": "stream",
     "text": [
      "[CV] END activation=relu, alpha=0.001, hidden_layer_sizes=(100, 40), max_iter=300, solver=adam; total time=   6.8s\n"
     ]
    },
    {
     "name": "stderr",
     "output_type": "stream",
     "text": [
      "/opt/homebrew/lib/python3.11/site-packages/sklearn/neural_network/_multilayer_perceptron.py:691: ConvergenceWarning: Stochastic Optimizer: Maximum iterations (300) reached and the optimization hasn't converged yet.\n",
      "  warnings.warn(\n"
     ]
    },
    {
     "name": "stdout",
     "output_type": "stream",
     "text": [
      "[CV] END activation=relu, alpha=0.001, hidden_layer_sizes=(100, 40), max_iter=300, solver=adam; total time=   7.1s\n",
      "[CV] END activation=relu, alpha=0.001, hidden_layer_sizes=(100, 40), max_iter=300, solver=adam; total time=   7.0s\n",
      "[CV] END activation=relu, alpha=0.001, hidden_layer_sizes=(100, 40), max_iter=300, solver=adam; total time=   6.4s\n",
      "[CV] END activation=relu, alpha=0.001, hidden_layer_sizes=(100, 40), max_iter=300, solver=adam; total time=   4.4s\n",
      "[CV] END activation=relu, alpha=0.001, hidden_layer_sizes=(100, 40), max_iter=500, solver=adam; total time=   6.5s\n",
      "[CV] END activation=relu, alpha=0.001, hidden_layer_sizes=(100, 40), max_iter=500, solver=adam; total time=   7.0s\n",
      "[CV] END activation=relu, alpha=0.001, hidden_layer_sizes=(100, 40), max_iter=500, solver=adam; total time=   6.0s\n",
      "[CV] END activation=relu, alpha=0.001, hidden_layer_sizes=(100, 40), max_iter=500, solver=adam; total time=   5.8s\n",
      "[CV] END activation=relu, alpha=0.001, hidden_layer_sizes=(100, 40), max_iter=500, solver=adam; total time=   5.6s\n",
      "[CV] END activation=relu, alpha=0.001, hidden_layer_sizes=(64, 128, 256), max_iter=200, solver=adam; total time=   9.2s\n",
      "[CV] END activation=relu, alpha=0.001, hidden_layer_sizes=(64, 128, 256), max_iter=200, solver=adam; total time=  13.0s\n",
      "[CV] END activation=relu, alpha=0.001, hidden_layer_sizes=(64, 128, 256), max_iter=200, solver=adam; total time=  11.3s\n",
      "[CV] END activation=relu, alpha=0.001, hidden_layer_sizes=(64, 128, 256), max_iter=200, solver=adam; total time=  10.1s\n",
      "[CV] END activation=relu, alpha=0.001, hidden_layer_sizes=(64, 128, 256), max_iter=200, solver=adam; total time=   8.1s\n",
      "[CV] END activation=relu, alpha=0.001, hidden_layer_sizes=(64, 128, 256), max_iter=300, solver=adam; total time=  10.1s\n",
      "[CV] END activation=relu, alpha=0.001, hidden_layer_sizes=(64, 128, 256), max_iter=300, solver=adam; total time=  13.3s\n",
      "[CV] END activation=relu, alpha=0.001, hidden_layer_sizes=(64, 128, 256), max_iter=300, solver=adam; total time=  10.1s\n",
      "[CV] END activation=relu, alpha=0.001, hidden_layer_sizes=(64, 128, 256), max_iter=300, solver=adam; total time=  11.1s\n",
      "[CV] END activation=relu, alpha=0.001, hidden_layer_sizes=(64, 128, 256), max_iter=300, solver=adam; total time=   9.4s\n",
      "[CV] END activation=relu, alpha=0.001, hidden_layer_sizes=(64, 128, 256), max_iter=500, solver=adam; total time=  10.1s\n",
      "[CV] END activation=relu, alpha=0.001, hidden_layer_sizes=(64, 128, 256), max_iter=500, solver=adam; total time=  13.0s\n",
      "[CV] END activation=relu, alpha=0.001, hidden_layer_sizes=(64, 128, 256), max_iter=500, solver=adam; total time=  10.5s\n",
      "[CV] END activation=relu, alpha=0.001, hidden_layer_sizes=(64, 128, 256), max_iter=500, solver=adam; total time=  12.9s\n",
      "[CV] END activation=relu, alpha=0.001, hidden_layer_sizes=(64, 128, 256), max_iter=500, solver=adam; total time=   9.6s\n",
      "[CV] END activation=relu, alpha=0.001, hidden_layer_sizes=(128, 64, 32), max_iter=200, solver=adam; total time=   6.1s\n"
     ]
    },
    {
     "name": "stderr",
     "output_type": "stream",
     "text": [
      "/opt/homebrew/lib/python3.11/site-packages/sklearn/neural_network/_multilayer_perceptron.py:691: ConvergenceWarning: Stochastic Optimizer: Maximum iterations (200) reached and the optimization hasn't converged yet.\n",
      "  warnings.warn(\n"
     ]
    },
    {
     "name": "stdout",
     "output_type": "stream",
     "text": [
      "[CV] END activation=relu, alpha=0.001, hidden_layer_sizes=(128, 64, 32), max_iter=200, solver=adam; total time=   6.9s\n"
     ]
    },
    {
     "name": "stderr",
     "output_type": "stream",
     "text": [
      "/opt/homebrew/lib/python3.11/site-packages/sklearn/neural_network/_multilayer_perceptron.py:691: ConvergenceWarning: Stochastic Optimizer: Maximum iterations (200) reached and the optimization hasn't converged yet.\n",
      "  warnings.warn(\n"
     ]
    },
    {
     "name": "stdout",
     "output_type": "stream",
     "text": [
      "[CV] END activation=relu, alpha=0.001, hidden_layer_sizes=(128, 64, 32), max_iter=200, solver=adam; total time=   7.9s\n",
      "[CV] END activation=relu, alpha=0.001, hidden_layer_sizes=(128, 64, 32), max_iter=200, solver=adam; total time=   6.6s\n",
      "[CV] END activation=relu, alpha=0.001, hidden_layer_sizes=(128, 64, 32), max_iter=300, solver=adam; total time=   6.2s\n"
     ]
    },
    {
     "name": "stderr",
     "output_type": "stream",
     "text": [
      "/opt/homebrew/lib/python3.11/site-packages/sklearn/neural_network/_multilayer_perceptron.py:691: ConvergenceWarning: Stochastic Optimizer: Maximum iterations (200) reached and the optimization hasn't converged yet.\n",
      "  warnings.warn(\n"
     ]
    },
    {
     "name": "stdout",
     "output_type": "stream",
     "text": [
      "[CV] END activation=relu, alpha=0.001, hidden_layer_sizes=(128, 64, 32), max_iter=200, solver=adam; total time=   7.3s\n",
      "[CV] END activation=relu, alpha=0.001, hidden_layer_sizes=(128, 64, 32), max_iter=300, solver=adam; total time=   6.4s\n",
      "[CV] END activation=relu, alpha=0.001, hidden_layer_sizes=(128, 64, 32), max_iter=300, solver=adam; total time=   8.2s\n",
      "[CV] END activation=relu, alpha=0.001, hidden_layer_sizes=(128, 64, 32), max_iter=300, solver=adam; total time=   5.3s\n",
      "[CV] END activation=relu, alpha=0.001, hidden_layer_sizes=(128, 64, 32), max_iter=300, solver=adam; total time=   7.0s\n",
      "[CV] END activation=relu, alpha=0.001, hidden_layer_sizes=(128, 64, 32), max_iter=500, solver=adam; total time=   6.6s\n",
      "[CV] END activation=relu, alpha=0.001, hidden_layer_sizes=(128, 64, 32), max_iter=500, solver=adam; total time=   7.3s\n",
      "[CV] END activation=relu, alpha=0.001, hidden_layer_sizes=(128, 64, 32), max_iter=500, solver=adam; total time=   7.4s\n",
      "[CV] END activation=relu, alpha=0.001, hidden_layer_sizes=(128, 64, 32), max_iter=500, solver=adam; total time=   4.9s\n",
      "[CV] END activation=relu, alpha=0.001, hidden_layer_sizes=(128, 64, 32), max_iter=500, solver=adam; total time=   7.1s\n",
      "[CV] END activation=relu, alpha=0.001, hidden_layer_sizes=(40, 120, 120, 40), max_iter=200, solver=adam; total time=   7.3s\n",
      "[CV] END activation=relu, alpha=0.001, hidden_layer_sizes=(40, 120, 120, 40), max_iter=200, solver=adam; total time=   7.7s\n",
      "[CV] END activation=relu, alpha=0.001, hidden_layer_sizes=(40, 120, 120, 40), max_iter=200, solver=adam; total time=   6.5s\n",
      "[CV] END activation=relu, alpha=0.001, hidden_layer_sizes=(40, 120, 120, 40), max_iter=200, solver=adam; total time=   8.3s\n",
      "[CV] END activation=relu, alpha=0.001, hidden_layer_sizes=(40, 120, 120, 40), max_iter=200, solver=adam; total time=   9.7s\n",
      "[CV] END activation=relu, alpha=0.001, hidden_layer_sizes=(40, 120, 120, 40), max_iter=300, solver=adam; total time=   7.8s\n",
      "[CV] END activation=relu, alpha=0.001, hidden_layer_sizes=(40, 120, 120, 40), max_iter=300, solver=adam; total time=   7.7s\n",
      "[CV] END activation=relu, alpha=0.001, hidden_layer_sizes=(40, 120, 120, 40), max_iter=300, solver=adam; total time=   6.0s\n",
      "[CV] END activation=relu, alpha=0.001, hidden_layer_sizes=(40, 120, 120, 40), max_iter=300, solver=adam; total time=   8.2s\n",
      "[CV] END activation=relu, alpha=0.001, hidden_layer_sizes=(40, 120, 120, 40), max_iter=300, solver=adam; total time=   9.4s\n",
      "[CV] END activation=relu, alpha=0.001, hidden_layer_sizes=(40, 120, 120, 40), max_iter=500, solver=adam; total time=   7.1s\n",
      "[CV] END activation=relu, alpha=0.001, hidden_layer_sizes=(40, 120, 120, 40), max_iter=500, solver=adam; total time=   6.6s\n",
      "[CV] END activation=relu, alpha=0.001, hidden_layer_sizes=(40, 120, 120, 40), max_iter=500, solver=adam; total time=   6.4s\n",
      "[CV] END activation=relu, alpha=0.001, hidden_layer_sizes=(40, 120, 120, 40), max_iter=500, solver=adam; total time=   8.5s\n",
      "[CV] END activation=relu, alpha=0.001, hidden_layer_sizes=(40, 120, 120, 40), max_iter=500, solver=adam; total time=   9.5s\n",
      "[CV] END activation=relu, alpha=0.01, hidden_layer_sizes=(40, 100), max_iter=200, solver=adam; total time=   4.1s\n",
      "[CV] END activation=relu, alpha=0.01, hidden_layer_sizes=(40, 100), max_iter=200, solver=adam; total time=   3.2s\n",
      "[CV] END activation=relu, alpha=0.01, hidden_layer_sizes=(40, 100), max_iter=200, solver=adam; total time=   4.1s\n"
     ]
    },
    {
     "name": "stderr",
     "output_type": "stream",
     "text": [
      "/opt/homebrew/lib/python3.11/site-packages/sklearn/neural_network/_multilayer_perceptron.py:691: ConvergenceWarning: Stochastic Optimizer: Maximum iterations (200) reached and the optimization hasn't converged yet.\n",
      "  warnings.warn(\n",
      "/opt/homebrew/lib/python3.11/site-packages/sklearn/neural_network/_multilayer_perceptron.py:691: ConvergenceWarning: Stochastic Optimizer: Maximum iterations (200) reached and the optimization hasn't converged yet.\n",
      "  warnings.warn(\n",
      "/opt/homebrew/lib/python3.11/site-packages/sklearn/neural_network/_multilayer_perceptron.py:691: ConvergenceWarning: Stochastic Optimizer: Maximum iterations (200) reached and the optimization hasn't converged yet.\n",
      "  warnings.warn(\n"
     ]
    },
    {
     "name": "stdout",
     "output_type": "stream",
     "text": [
      "[CV] END activation=relu, alpha=0.01, hidden_layer_sizes=(40, 100), max_iter=200, solver=adam; total time=   3.9s\n",
      "[CV] END activation=relu, alpha=0.01, hidden_layer_sizes=(40, 100), max_iter=200, solver=adam; total time=   4.1s\n",
      "[CV] END activation=relu, alpha=0.01, hidden_layer_sizes=(40, 100), max_iter=300, solver=adam; total time=   3.7s\n"
     ]
    },
    {
     "name": "stderr",
     "output_type": "stream",
     "text": [
      "/opt/homebrew/lib/python3.11/site-packages/sklearn/neural_network/_multilayer_perceptron.py:691: ConvergenceWarning: Stochastic Optimizer: Maximum iterations (300) reached and the optimization hasn't converged yet.\n",
      "  warnings.warn(\n"
     ]
    },
    {
     "name": "stdout",
     "output_type": "stream",
     "text": [
      "[CV] END activation=relu, alpha=0.01, hidden_layer_sizes=(40, 100), max_iter=300, solver=adam; total time=   6.0s\n",
      "[CV] END activation=relu, alpha=0.01, hidden_layer_sizes=(40, 100), max_iter=300, solver=adam; total time=   3.1s\n",
      "[CV] END activation=relu, alpha=0.01, hidden_layer_sizes=(40, 100), max_iter=300, solver=adam; total time=   5.4s\n"
     ]
    },
    {
     "name": "stderr",
     "output_type": "stream",
     "text": [
      "/opt/homebrew/lib/python3.11/site-packages/sklearn/neural_network/_multilayer_perceptron.py:691: ConvergenceWarning: Stochastic Optimizer: Maximum iterations (300) reached and the optimization hasn't converged yet.\n",
      "  warnings.warn(\n"
     ]
    },
    {
     "name": "stdout",
     "output_type": "stream",
     "text": [
      "[CV] END activation=relu, alpha=0.01, hidden_layer_sizes=(40, 100), max_iter=300, solver=adam; total time=   5.5s\n",
      "[CV] END activation=relu, alpha=0.01, hidden_layer_sizes=(40, 100), max_iter=500, solver=adam; total time=   3.7s\n",
      "[CV] END activation=relu, alpha=0.01, hidden_layer_sizes=(40, 100), max_iter=500, solver=adam; total time=   5.9s\n",
      "[CV] END activation=relu, alpha=0.01, hidden_layer_sizes=(40, 100), max_iter=500, solver=adam; total time=   3.0s\n",
      "[CV] END activation=relu, alpha=0.01, hidden_layer_sizes=(40, 100), max_iter=500, solver=adam; total time=   5.1s\n",
      "[CV] END activation=relu, alpha=0.01, hidden_layer_sizes=(40, 100), max_iter=500, solver=adam; total time=   5.9s\n"
     ]
    },
    {
     "name": "stderr",
     "output_type": "stream",
     "text": [
      "/opt/homebrew/lib/python3.11/site-packages/sklearn/neural_network/_multilayer_perceptron.py:691: ConvergenceWarning: Stochastic Optimizer: Maximum iterations (200) reached and the optimization hasn't converged yet.\n",
      "  warnings.warn(\n"
     ]
    },
    {
     "name": "stdout",
     "output_type": "stream",
     "text": [
      "[CV] END activation=relu, alpha=0.01, hidden_layer_sizes=(100, 40), max_iter=200, solver=adam; total time=   4.0s\n"
     ]
    },
    {
     "name": "stderr",
     "output_type": "stream",
     "text": [
      "/opt/homebrew/lib/python3.11/site-packages/sklearn/neural_network/_multilayer_perceptron.py:691: ConvergenceWarning: Stochastic Optimizer: Maximum iterations (200) reached and the optimization hasn't converged yet.\n",
      "  warnings.warn(\n"
     ]
    },
    {
     "name": "stdout",
     "output_type": "stream",
     "text": [
      "[CV] END activation=relu, alpha=0.01, hidden_layer_sizes=(100, 40), max_iter=200, solver=adam; total time=   4.5s\n"
     ]
    },
    {
     "name": "stderr",
     "output_type": "stream",
     "text": [
      "/opt/homebrew/lib/python3.11/site-packages/sklearn/neural_network/_multilayer_perceptron.py:691: ConvergenceWarning: Stochastic Optimizer: Maximum iterations (200) reached and the optimization hasn't converged yet.\n",
      "  warnings.warn(\n"
     ]
    },
    {
     "name": "stdout",
     "output_type": "stream",
     "text": [
      "[CV] END activation=relu, alpha=0.01, hidden_layer_sizes=(100, 40), max_iter=200, solver=adam; total time=   4.3s\n"
     ]
    },
    {
     "name": "stderr",
     "output_type": "stream",
     "text": [
      "/opt/homebrew/lib/python3.11/site-packages/sklearn/neural_network/_multilayer_perceptron.py:691: ConvergenceWarning: Stochastic Optimizer: Maximum iterations (200) reached and the optimization hasn't converged yet.\n",
      "  warnings.warn(\n"
     ]
    },
    {
     "name": "stdout",
     "output_type": "stream",
     "text": [
      "[CV] END activation=relu, alpha=0.01, hidden_layer_sizes=(100, 40), max_iter=200, solver=adam; total time=   4.3s\n"
     ]
    },
    {
     "name": "stderr",
     "output_type": "stream",
     "text": [
      "/opt/homebrew/lib/python3.11/site-packages/sklearn/neural_network/_multilayer_perceptron.py:691: ConvergenceWarning: Stochastic Optimizer: Maximum iterations (200) reached and the optimization hasn't converged yet.\n",
      "  warnings.warn(\n"
     ]
    },
    {
     "name": "stdout",
     "output_type": "stream",
     "text": [
      "[CV] END activation=relu, alpha=0.01, hidden_layer_sizes=(100, 40), max_iter=200, solver=adam; total time=   4.0s\n",
      "[CV] END activation=relu, alpha=0.01, hidden_layer_sizes=(100, 40), max_iter=300, solver=adam; total time=   4.8s\n",
      "[CV] END activation=relu, alpha=0.01, hidden_layer_sizes=(100, 40), max_iter=300, solver=adam; total time=   5.4s\n",
      "[CV] END activation=relu, alpha=0.01, hidden_layer_sizes=(100, 40), max_iter=300, solver=adam; total time=   6.1s\n"
     ]
    },
    {
     "name": "stderr",
     "output_type": "stream",
     "text": [
      "/opt/homebrew/lib/python3.11/site-packages/sklearn/neural_network/_multilayer_perceptron.py:691: ConvergenceWarning: Stochastic Optimizer: Maximum iterations (300) reached and the optimization hasn't converged yet.\n",
      "  warnings.warn(\n"
     ]
    },
    {
     "name": "stdout",
     "output_type": "stream",
     "text": [
      "[CV] END activation=relu, alpha=0.01, hidden_layer_sizes=(100, 40), max_iter=300, solver=adam; total time=   6.6s\n",
      "[CV] END activation=relu, alpha=0.01, hidden_layer_sizes=(100, 40), max_iter=300, solver=adam; total time=   7.7s\n",
      "[CV] END activation=relu, alpha=0.01, hidden_layer_sizes=(100, 40), max_iter=500, solver=adam; total time=   6.9s\n",
      "[CV] END activation=relu, alpha=0.01, hidden_layer_sizes=(100, 40), max_iter=500, solver=adam; total time=   7.2s\n",
      "[CV] END activation=relu, alpha=0.01, hidden_layer_sizes=(100, 40), max_iter=500, solver=adam; total time=   6.3s\n",
      "[CV] END activation=relu, alpha=0.01, hidden_layer_sizes=(100, 40), max_iter=500, solver=adam; total time=   6.3s\n",
      "[CV] END activation=relu, alpha=0.01, hidden_layer_sizes=(100, 40), max_iter=500, solver=adam; total time=   6.2s\n",
      "[CV] END activation=relu, alpha=0.01, hidden_layer_sizes=(64, 128, 256), max_iter=200, solver=adam; total time=   9.2s\n",
      "[CV] END activation=relu, alpha=0.01, hidden_layer_sizes=(64, 128, 256), max_iter=200, solver=adam; total time=  12.0s\n",
      "[CV] END activation=relu, alpha=0.01, hidden_layer_sizes=(64, 128, 256), max_iter=200, solver=adam; total time=   7.7s\n",
      "[CV] END activation=relu, alpha=0.01, hidden_layer_sizes=(64, 128, 256), max_iter=200, solver=adam; total time=   9.5s\n",
      "[CV] END activation=relu, alpha=0.01, hidden_layer_sizes=(64, 128, 256), max_iter=200, solver=adam; total time=   7.4s\n",
      "[CV] END activation=relu, alpha=0.01, hidden_layer_sizes=(64, 128, 256), max_iter=300, solver=adam; total time=  12.0s\n",
      "[CV] END activation=relu, alpha=0.01, hidden_layer_sizes=(64, 128, 256), max_iter=300, solver=adam; total time=   9.4s\n",
      "[CV] END activation=relu, alpha=0.01, hidden_layer_sizes=(64, 128, 256), max_iter=300, solver=adam; total time=   8.0s\n",
      "[CV] END activation=relu, alpha=0.01, hidden_layer_sizes=(64, 128, 256), max_iter=300, solver=adam; total time=   9.5s\n",
      "[CV] END activation=relu, alpha=0.01, hidden_layer_sizes=(64, 128, 256), max_iter=300, solver=adam; total time=   7.5s\n",
      "[CV] END activation=relu, alpha=0.01, hidden_layer_sizes=(64, 128, 256), max_iter=500, solver=adam; total time=  11.8s\n",
      "[CV] END activation=relu, alpha=0.01, hidden_layer_sizes=(64, 128, 256), max_iter=500, solver=adam; total time=   9.8s\n",
      "[CV] END activation=relu, alpha=0.01, hidden_layer_sizes=(64, 128, 256), max_iter=500, solver=adam; total time=   8.1s\n",
      "[CV] END activation=relu, alpha=0.01, hidden_layer_sizes=(64, 128, 256), max_iter=500, solver=adam; total time=   9.7s\n",
      "[CV] END activation=relu, alpha=0.01, hidden_layer_sizes=(64, 128, 256), max_iter=500, solver=adam; total time=   7.8s\n"
     ]
    },
    {
     "name": "stderr",
     "output_type": "stream",
     "text": [
      "/opt/homebrew/lib/python3.11/site-packages/sklearn/neural_network/_multilayer_perceptron.py:691: ConvergenceWarning: Stochastic Optimizer: Maximum iterations (200) reached and the optimization hasn't converged yet.\n",
      "  warnings.warn(\n"
     ]
    },
    {
     "name": "stdout",
     "output_type": "stream",
     "text": [
      "[CV] END activation=relu, alpha=0.01, hidden_layer_sizes=(128, 64, 32), max_iter=200, solver=adam; total time=   6.2s\n"
     ]
    },
    {
     "name": "stderr",
     "output_type": "stream",
     "text": [
      "/opt/homebrew/lib/python3.11/site-packages/sklearn/neural_network/_multilayer_perceptron.py:691: ConvergenceWarning: Stochastic Optimizer: Maximum iterations (200) reached and the optimization hasn't converged yet.\n",
      "  warnings.warn(\n"
     ]
    },
    {
     "name": "stdout",
     "output_type": "stream",
     "text": [
      "[CV] END activation=relu, alpha=0.01, hidden_layer_sizes=(128, 64, 32), max_iter=200, solver=adam; total time=   6.8s\n",
      "[CV] END activation=relu, alpha=0.01, hidden_layer_sizes=(128, 64, 32), max_iter=200, solver=adam; total time=   5.7s\n"
     ]
    },
    {
     "name": "stderr",
     "output_type": "stream",
     "text": [
      "/opt/homebrew/lib/python3.11/site-packages/sklearn/neural_network/_multilayer_perceptron.py:691: ConvergenceWarning: Stochastic Optimizer: Maximum iterations (200) reached and the optimization hasn't converged yet.\n",
      "  warnings.warn(\n"
     ]
    },
    {
     "name": "stdout",
     "output_type": "stream",
     "text": [
      "[CV] END activation=relu, alpha=0.01, hidden_layer_sizes=(128, 64, 32), max_iter=200, solver=adam; total time=   6.5s\n"
     ]
    },
    {
     "name": "stderr",
     "output_type": "stream",
     "text": [
      "/opt/homebrew/lib/python3.11/site-packages/sklearn/neural_network/_multilayer_perceptron.py:691: ConvergenceWarning: Stochastic Optimizer: Maximum iterations (200) reached and the optimization hasn't converged yet.\n",
      "  warnings.warn(\n"
     ]
    },
    {
     "name": "stdout",
     "output_type": "stream",
     "text": [
      "[CV] END activation=relu, alpha=0.01, hidden_layer_sizes=(128, 64, 32), max_iter=200, solver=adam; total time=   6.5s\n",
      "[CV] END activation=relu, alpha=0.01, hidden_layer_sizes=(128, 64, 32), max_iter=300, solver=adam; total time=   7.0s\n",
      "[CV] END activation=relu, alpha=0.01, hidden_layer_sizes=(128, 64, 32), max_iter=300, solver=adam; total time=   7.8s\n",
      "[CV] END activation=relu, alpha=0.01, hidden_layer_sizes=(128, 64, 32), max_iter=300, solver=adam; total time=   5.1s\n",
      "[CV] END activation=relu, alpha=0.01, hidden_layer_sizes=(128, 64, 32), max_iter=300, solver=adam; total time=   7.1s\n",
      "[CV] END activation=relu, alpha=0.01, hidden_layer_sizes=(128, 64, 32), max_iter=300, solver=adam; total time=   6.5s\n",
      "[CV] END activation=relu, alpha=0.01, hidden_layer_sizes=(128, 64, 32), max_iter=500, solver=adam; total time=   6.3s\n",
      "[CV] END activation=relu, alpha=0.01, hidden_layer_sizes=(128, 64, 32), max_iter=500, solver=adam; total time=   7.9s\n",
      "[CV] END activation=relu, alpha=0.01, hidden_layer_sizes=(128, 64, 32), max_iter=500, solver=adam; total time=   5.5s\n",
      "[CV] END activation=relu, alpha=0.01, hidden_layer_sizes=(128, 64, 32), max_iter=500, solver=adam; total time=   6.8s\n",
      "[CV] END activation=relu, alpha=0.01, hidden_layer_sizes=(128, 64, 32), max_iter=500, solver=adam; total time=   6.4s\n",
      "[CV] END activation=relu, alpha=0.01, hidden_layer_sizes=(40, 120, 120, 40), max_iter=200, solver=adam; total time=   6.4s\n",
      "[CV] END activation=relu, alpha=0.01, hidden_layer_sizes=(40, 120, 120, 40), max_iter=200, solver=adam; total time=   7.2s\n",
      "[CV] END activation=relu, alpha=0.01, hidden_layer_sizes=(40, 120, 120, 40), max_iter=200, solver=adam; total time=   7.0s\n",
      "[CV] END activation=relu, alpha=0.01, hidden_layer_sizes=(40, 120, 120, 40), max_iter=200, solver=adam; total time=   9.1s\n",
      "[CV] END activation=relu, alpha=0.01, hidden_layer_sizes=(40, 120, 120, 40), max_iter=200, solver=adam; total time=   9.5s\n",
      "[CV] END activation=relu, alpha=0.01, hidden_layer_sizes=(40, 120, 120, 40), max_iter=300, solver=adam; total time=   6.7s\n",
      "[CV] END activation=relu, alpha=0.01, hidden_layer_sizes=(40, 120, 120, 40), max_iter=300, solver=adam; total time=   6.7s\n",
      "[CV] END activation=relu, alpha=0.01, hidden_layer_sizes=(40, 120, 120, 40), max_iter=300, solver=adam; total time=   7.5s\n",
      "[CV] END activation=relu, alpha=0.01, hidden_layer_sizes=(40, 120, 120, 40), max_iter=300, solver=adam; total time=   9.2s\n",
      "[CV] END activation=relu, alpha=0.01, hidden_layer_sizes=(40, 120, 120, 40), max_iter=300, solver=adam; total time=   9.1s\n",
      "[CV] END activation=relu, alpha=0.01, hidden_layer_sizes=(40, 120, 120, 40), max_iter=500, solver=adam; total time=   6.4s\n",
      "[CV] END activation=relu, alpha=0.01, hidden_layer_sizes=(40, 120, 120, 40), max_iter=500, solver=adam; total time=   7.5s\n",
      "[CV] END activation=relu, alpha=0.01, hidden_layer_sizes=(40, 120, 120, 40), max_iter=500, solver=adam; total time=   6.7s\n",
      "[CV] END activation=relu, alpha=0.01, hidden_layer_sizes=(40, 120, 120, 40), max_iter=500, solver=adam; total time=   9.9s\n",
      "[CV] END activation=relu, alpha=0.01, hidden_layer_sizes=(40, 120, 120, 40), max_iter=500, solver=adam; total time=   6.8s\n",
      "Best parameters found:  {'activation': 'relu', 'alpha': 0.01, 'hidden_layer_sizes': (128, 64, 32), 'max_iter': 200, 'solver': 'adam'}\n",
      "Best cross-validation score (Macro F1):  0.8774436103635148\n",
      "Classification Report:\n",
      "               precision    recall  f1-score   support\n",
      "\n",
      "         0.0       0.98      0.97      0.98       114\n",
      "         1.0       1.00      0.96      0.98        74\n",
      "         2.0       0.88      0.66      0.76       107\n",
      "         3.0       0.78      0.94      0.85       197\n",
      "         4.0       0.87      0.72      0.79        76\n",
      "\n",
      "    accuracy                           0.87       568\n",
      "   macro avg       0.90      0.85      0.87       568\n",
      "weighted avg       0.88      0.87      0.87       568\n",
      "\n"
     ]
    },
    {
     "data": {
      "image/png": "[encoded data removed]",
      "text/plain": [
       "<Figure size 1300x1300 with 1 Axes>"
      ]
     },
     "metadata": {},
     "output_type": "display_data"
    }
   ],
   "source": [
    "# Define the scoring metrics\n",
    "scoring = {\n",
    "    \"Accuracy\": make_scorer(accuracy_score),\n",
    "    \"Balanced_Accuracy\": make_scorer(balanced_accuracy_score),\n",
    "    \"Macro_F1\": make_scorer(f1_score, average='macro')\n",
    "}\n",
    "\n",
    "param_grid = {\n",
    "    'hidden_layer_sizes': [(40, 100), (100, 40), (64, 128, 256), (128, 64, 32), (40, 120, 120, 40)], # The number of neurons in each layer\n",
    "    'activation': ['relu'], # Activation functions\n",
    "    'solver': ['adam'], # Solvers for weight optimization\n",
    "    'alpha': [0.0001, 0.001, 0.01], # L2 penalty (regularization term)\n",
    "    'max_iter': [200, 300, 500] # Maximum number of iterations\n",
    "}\n",
    "\n",
    "# Create the GridSearchCV object\n",
    "gs = GridSearchCV(\n",
    "    MLPClassifier(random_state=42),\n",
    "    param_grid=param_grid,\n",
    "    scoring=scoring,\n",
    "    refit=\"Macro_F1\",\n",
    "    n_jobs=-1,\n",
    "    return_train_score=True,\n",
    "    cv=5,\n",
    "    verbose=2\n",
    ")\n",
    "\n",
    "# Fit the GridSearchCV object\n",
    "gs.fit(X_train, y_train)\n",
    "results = gs.cv_results_\n",
    "\n",
    "# Print the best parameters and the corresponding scores\n",
    "print(\"Best parameters found: \", gs.best_params_)\n",
    "print(\"Best cross-validation score (Macro F1): \", gs.best_score_)\n",
    "\n",
    "# Get the classification report for the best model\n",
    "y_pred = gs.best_estimator_.predict(X_test)\n",
    "print(\"Classification Report:\\n\", classification_report(y_test, y_pred))\n",
    "\n",
    "# Plotting the results\n",
    "plt.figure(figsize=(13, 13))\n",
    "plt.title(\"GridSearchCV evaluating using multiple scorers simultaneously\", fontsize=16)\n",
    "\n",
    "plt.xlabel(\"Parameter combination index\")\n",
    "plt.ylabel(\"Score\")\n",
    "\n",
    "ax = plt.gca()\n",
    "ax.set_xlim(0, len(results['params']) - 1)\n",
    "ax.set_ylim(0.0, 1.0)\n",
    "\n",
    "# Get the regular numpy array from the MaskedArray\n",
    "X_axis = np.arange(len(results['params']))\n",
    "\n",
    "for scorer, color in zip(sorted(scoring), [\"g\", \"k\", \"b\"]):\n",
    "    for sample, style in ((\"train\", \"--\"), (\"test\", \"-\")):\n",
    "        sample_score_mean = results[\"mean_%s_%s\" % (sample, scorer)]\n",
    "        sample_score_std = results[\"std_%s_%s\" % (sample, scorer)]\n",
    "        ax.fill_between(\n",
    "            X_axis,\n",
    "            sample_score_mean - sample_score_std,\n",
    "            sample_score_mean + sample_score_std,\n",
    "            alpha=0.1 if sample == \"test\" else 0,\n",
    "            color=color,\n",
    "        )\n",
    "        ax.plot(\n",
    "            X_axis,\n",
    "            sample_score_mean,\n",
    "            style,\n",
    "            color=color,\n",
    "            alpha=1 if sample == \"test\" else 0.7,\n",
    "            label=\"%s (%s)\" % (scorer, sample),\n",
    "        )\n",
    "\n",
    "    best_index = np.nonzero(results[\"rank_test_%s\" % scorer] == 1)[0][0]\n",
    "    best_score = results[\"mean_test_%s\" % scorer][best_index]\n",
    "\n",
    "    # Plot a dotted vertical line at the best score for that scorer marked by x\n",
    "    ax.plot(\n",
    "        [best_index] * 2,\n",
    "        [0, best_score],\n",
    "        linestyle=\"-.\",\n",
    "        color=color,\n",
    "        marker=\"x\",\n",
    "        markeredgewidth=3,\n",
    "        ms=8,\n",
    "    )\n",
    "\n",
    "    # Annotate the best score for that scorer\n",
    "    ax.annotate(\"%0.2f\" % best_score, (best_index, best_score + 0.005))\n",
    "\n",
    "plt.legend(loc=\"best\")\n",
    "plt.grid(False)\n",
    "plt.show()\n"
   ]
  },
  {
   "cell_type": "code",
   "execution_count": 23,
   "metadata": {},
   "outputs": [
    {
     "data": {
      "image/png": "[encoded data removed]",
      "text/plain": [
       "<Figure size 1000x1000 with 2 Axes>"
      ]
     },
     "metadata": {},
     "output_type": "display_data"
    },
    {
     "data": {
      "text/plain": [
       "['../../models/MLPClassifier_GS.joblib']"
      ]
     },
     "execution_count": 23,
     "metadata": {},
     "output_type": "execute_result"
    }
   ],
   "source": [
    "# plot confusion matrix\n",
    "cm = confusion_matrix(y_test, y_pred)\n",
    "plt.figure(figsize=(10, 10))\n",
    "sns.heatmap(cm, annot=True, fmt=\"d\", cmap=\"Blues\")\n",
    "plt.xlabel(\"Predicted\")\n",
    "plt.ylabel(\"Actual\")\n",
    "plt.show()\n",
    "\n",
    "# Save the model\n",
    "MODEL_NAME = \"MLPClassifier_GS\"\n",
    "joblib.dump(gs.best_estimator_, MODELS_DIR + MODEL_NAME + \".joblib\")\n"
   ]
  }
 ],
 "metadata": {
  "kernelspec": {
   "display_name": "Python 3",
   "language": "python",
   "name": "python3"
  },
  "language_info": {
   "codemirror_mode": {
    "name": "ipython",
    "version": 3
   },
   "file_extension": ".py",
   "mimetype": "text/x-python",
   "name": "python",
   "nbconvert_exporter": "python",
   "pygments_lexer": "ipython3",
   "version": "3.11.5"
  }
 },
 "nbformat": 4,
 "nbformat_minor": 2
}
