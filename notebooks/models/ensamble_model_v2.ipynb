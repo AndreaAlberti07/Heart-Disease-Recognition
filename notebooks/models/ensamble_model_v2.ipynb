{
 "cells": [
  {
   "cell_type": "markdown",
   "metadata": {},
   "source": [
    "## Ensemble Model Notebook\n",
    "\n",
    "---\n",
    "\n",
    "### Objective:\n",
    "\n",
    "- Given the chosen sampling rate, extraction interval and selected filtered features, to investigate the potential benefit of an ensemble model.\n",
    "\n",
    "### Methodology:\n",
    "\n",
    "- Create 2 distinct models:\n",
    "  - 1 to classify artifacts (label 0), normal (label 2) and abnormal (label 1) (murmur, extrahls, extrastoles)\n",
    "  - 1 to classify murmur (label 4), extrahls (label 3) and extrastoles (label 5)\n",
    "- Create a 3rd fusion model to give the final class\n",
    "\n",
    "#### Findings:\n",
    "\n",
    "Selected Features after the correlation analysis:\n"
   ]
  },
  {
   "cell_type": "code",
   "execution_count": 35,
   "metadata": {},
   "outputs": [],
   "source": [
    "from sklearn.ensemble import RandomForestClassifier\n",
    "from xgboost import XGBClassifier\n",
    "from sklearn.neural_network import MLPClassifier\n",
    "from catboost import CatBoostClassifier\n",
    "from sklearn.metrics import f1_score, accuracy_score,balanced_accuracy_score\n",
    "from sklearn.metrics import confusion_matrix\n",
    "\n",
    "import pandas as pd\n",
    "import numpy as np\n",
    "import matplotlib.pyplot as plt\n",
    "\n",
    "plt.style.use(\"seaborn-v0_8-paper\")\n",
    "import seaborn as sns\n",
    "\n",
    "sns.set_theme(context=\"paper\", font_scale=1)"
   ]
  },
  {
   "cell_type": "code",
   "execution_count": 37,
   "metadata": {},
   "outputs": [],
   "source": [
    "# set the paths\n",
    "BASE_DIR = \"../../dataset/\"\n",
    "\n",
    "# features\n",
    "FEATURES_BASE = \"../../features/\"\n",
    "FEATURES = FEATURES_BASE + 'raw/'\n",
    "\n",
    "# Models\n",
    "MODELS = \"../../models/\"\n",
    "MODELS_RESULTS = MODELS + \"results/\"\n",
    "\n",
    "# report\n",
    "PAPER = \"../../paper/\"\n",
    "IMAGES_PATH = PAPER + \"images/\"\n",
    "\n",
    "# HYERPARAMETERS\n",
    "SEED = 42\n",
    "INTERVAL = 1\n",
    "\n",
    "BALANCING_TYPE = \"filtered\"\n",
    "RESULT_NAME = f\"results_models_comparison_best_features_{BALANCING_TYPE}.csv\"\n",
    "CM_ARTIFACT_NAME = f\"confusion_matrix_models_comparison_artifact_recognition_{BALANCING_TYPE}.npy\"\n",
    "CM_DISEASE_NAME = (\n",
    "    f\"confusion_matrix_models_comparison_disease_recognition_{BALANCING_TYPE}.npy\"\n",
    ")"
   ]
  },
  {
   "cell_type": "code",
   "execution_count": 38,
   "metadata": {},
   "outputs": [],
   "source": [
    "# -----------------------------------------Constants-----------------------------------------\n",
    "full_data_dict_keys = [\"artifacts\", \"extrahls\", \"murmurs\", \"normals\", \"extrastoles\"]\n",
    "interval = INTERVAL  # You need to define INTERVAL somewhere\n",
    "sample_rates = [4000]\n",
    "num_feats = {\n",
    "    \"30 MFCC\": \"28mfcc\",\n",
    "    \"12  Chroma\": \"12chroma\",\n",
    "    \"70 CQT\": \"0cqt\",\n",
    "    \"40 RMS\": \"0rms\",\n",
    "    \"40 Zero Crossing Rates\": \"1zcr\",\n",
    "    \"40 Spectral Centroid\": \"0sc\",\n",
    "    \"60 Spectral Bandwidth\": \"0sb\",\n",
    "    \"40 Spectral Rolloff\": \"0sr\",\n",
    "}\n",
    "\n",
    "COMPLETE_DATA_PRIOR_CORR_NAME = f'full_data_{BALANCING_TYPE}_{INTERVAL}s_4000hz_' + '_'.join(numvalue for _, numvalue in num_feats.items()) + '.npy'\n",
    "# load the data\n",
    "full_data = np.load(FEATURES + COMPLETE_DATA_PRIOR_CORR_NAME, allow_pickle=True).item()\n",
    "n_cols = full_data['train']['X'].shape[1]"
   ]
  },
  {
   "cell_type": "code",
   "execution_count": 48,
   "metadata": {},
   "outputs": [
    {
     "name": "stdout",
     "output_type": "stream",
     "text": [
      "Class distribution\n",
      "3.0    1760\n",
      "0.0     940\n",
      "2.0     905\n",
      "4.0     193\n",
      "1.0     106\n",
      "Name: count, dtype: int64\n"
     ]
    }
   ],
   "source": [
    "print(\"Class distribution\")\n",
    "print(pd.Series(full_data[\"train\"][\"y\"]).value_counts())"
   ]
  },
  {
   "cell_type": "markdown",
   "metadata": {},
   "source": [
    "### 1st model - Classification of artifacts, normal and abnormal"
   ]
  },
  {
   "cell_type": "code",
   "execution_count": 39,
   "metadata": {},
   "outputs": [],
   "source": [
    "# prepare the data\n",
    "old_to_new_labels = {\n",
    "     0: 0,\n",
    "     1:1,\n",
    "     2:1,\n",
    "     3:2,\n",
    "     4:1\n",
    "}\n",
    "\n",
    "# get the data\n",
    "X_train = full_data['train']['X']\n",
    "X_test = full_data['test']['X']\n",
    "\n",
    "# replace the labels\n",
    "y_train_newlabel = np.vectorize(old_to_new_labels.get)(full_data['train']['y'])\n",
    "y_test_newlabel = np.vectorize(old_to_new_labels.get)(full_data['test']['y'])\n",
    "\n"
   ]
  },
  {
   "cell_type": "code",
   "execution_count": 40,
   "metadata": {},
   "outputs": [
    {
     "name": "stdout",
     "output_type": "stream",
     "text": [
      "\n",
      "Training Random Forest\n"
     ]
    },
    {
     "name": "stdout",
     "output_type": "stream",
     "text": [
      "\tCalculating Test Acc\n",
      "\tCalculating Macro F1\n",
      "\tCalculating Balanced Accuracy\n",
      "\n",
      "Training XGBoost\n",
      "\tCalculating Test Acc\n",
      "\tCalculating Macro F1\n",
      "\tCalculating Balanced Accuracy\n",
      "\n",
      "Training MLP\n",
      "\tCalculating Test Acc\n",
      "\tCalculating Macro F1\n",
      "\tCalculating Balanced Accuracy\n",
      "\n",
      "Training CatBoost\n",
      "\tCalculating Test Acc\n",
      "\tCalculating Macro F1\n",
      "\tCalculating Balanced Accuracy\n"
     ]
    },
    {
     "data": {
      "text/html": [
       "<div>\n",
       "<style scoped>\n",
       "    .dataframe tbody tr th:only-of-type {\n",
       "        vertical-align: middle;\n",
       "    }\n",
       "\n",
       "    .dataframe tbody tr th {\n",
       "        vertical-align: top;\n",
       "    }\n",
       "\n",
       "    .dataframe thead th {\n",
       "        text-align: right;\n",
       "    }\n",
       "</style>\n",
       "<table border=\"1\" class=\"dataframe\">\n",
       "  <thead>\n",
       "    <tr style=\"text-align: right;\">\n",
       "      <th></th>\n",
       "      <th>Test Acc</th>\n",
       "      <th>Macro F1</th>\n",
       "      <th>Balanced Accuracy</th>\n",
       "    </tr>\n",
       "  </thead>\n",
       "  <tbody>\n",
       "    <tr>\n",
       "      <th>Random Forest</th>\n",
       "      <td>0.824795</td>\n",
       "      <td>0.824406</td>\n",
       "      <td>0.822011</td>\n",
       "    </tr>\n",
       "    <tr>\n",
       "      <th>XGBoost</th>\n",
       "      <td>0.836066</td>\n",
       "      <td>0.84179</td>\n",
       "      <td>0.837407</td>\n",
       "    </tr>\n",
       "    <tr>\n",
       "      <th>MLP</th>\n",
       "      <td>0.83709</td>\n",
       "      <td>0.846961</td>\n",
       "      <td>0.844714</td>\n",
       "    </tr>\n",
       "    <tr>\n",
       "      <th>CatBoost</th>\n",
       "      <td>0.860656</td>\n",
       "      <td>0.86729</td>\n",
       "      <td>0.862973</td>\n",
       "    </tr>\n",
       "  </tbody>\n",
       "</table>\n",
       "</div>"
      ],
      "text/plain": [
       "               Test Acc  Macro F1 Balanced Accuracy\n",
       "Random Forest  0.824795  0.824406          0.822011\n",
       "XGBoost        0.836066   0.84179          0.837407\n",
       "MLP             0.83709  0.846961          0.844714\n",
       "CatBoost       0.860656   0.86729          0.862973"
      ]
     },
     "execution_count": 40,
     "metadata": {},
     "output_type": "execute_result"
    },
    {
     "data": {
      "image/png": "[encoded data removed]",
      "text/plain": [
       "<Figure size 1000x1000 with 4 Axes>"
      ]
     },
     "metadata": {},
     "output_type": "display_data"
    }
   ],
   "source": [
    "# ----------------------------------------- Create DataFrame to store results-----------------------------------------\n",
    "MODELS = {'Random Forest': RandomForestClassifier(random_state=SEED),\n",
    "        'XGBoost': XGBClassifier(random_state=SEED),\n",
    "        'MLP': MLPClassifier(hidden_layer_sizes=(128, 64, 32,), activation='relu', solver='adam', random_state=SEED),\n",
    "        'CatBoost': CatBoostClassifier(random_state=SEED, verbose=0),}\n",
    "\n",
    "METRICS = {\n",
    "    \"Test Acc\": accuracy_score,\n",
    "    \"Macro F1\": f1_score,\n",
    "    \"Balanced Accuracy\": balanced_accuracy_score,\n",
    "}\n",
    "\n",
    "result_df = pd.DataFrame(columns=list(METRICS.keys()), index=list(MODELS.keys()))\n",
    "cm_dict = {}\n",
    "\n",
    "# ----------------------------------------- Loop over each feature-----------------------------------------\n",
    "for model_name, clf in MODELS.items():\n",
    "    print(f\"\\nTraining {model_name}\")\n",
    "\n",
    "\n",
    "    # fit the model\n",
    "    clf.fit(X_train, y_train_newlabel)\n",
    "    \n",
    "    for metric, funct in METRICS.items():\n",
    "        print(f\"\\tCalculating {metric}\")\n",
    "        y_pred = clf.predict(X_test)\n",
    "\n",
    "        if \"Macro\" in metric:\n",
    "                result_df.loc[model_name, metric] = funct(y_test_newlabel, y_pred, average='macro')\n",
    "        else:\n",
    "                result_df.loc[model_name, metric] = funct(y_test_newlabel, y_pred)\n",
    "        # cf\n",
    "        cf = confusion_matrix(y_test_newlabel, y_pred)\n",
    "        cm_dict[model_name] = cf\n",
    "\n",
    "# ----------------------------------------- Save the results-----------------------------------------\n",
    "result_df.to_csv(MODELS_RESULTS + RESULT_NAME)\n",
    "np.save(MODELS_RESULTS + CM_ARTIFACT_NAME, cm_dict)\n",
    "\n",
    "# show the confusion matrix\n",
    "fig, ax = plt.subplots(2, 2, figsize=(10, 10))\n",
    "for i, (model_name, cf) in enumerate(cm_dict.items()):\n",
    "    sns.heatmap(cf, annot=True, fmt='d', ax=ax[i//2, i%2], cmap='Blues', cbar=False)\n",
    "    ax[i//2, i%2].set_title(model_name)\n",
    "    ax[i//2, i%2].set_xlabel('Predicted')\n",
    "    ax[i//2, i%2].set_ylabel('True')\n",
    "plt.tight_layout()\n",
    "result_df"
   ]
  },
  {
   "cell_type": "code",
   "execution_count": 41,
   "metadata": {},
   "outputs": [
    {
     "data": {
      "text/plain": [
       "<catboost.core.CatBoostClassifier at 0x7b9db2923b60>"
      ]
     },
     "execution_count": 41,
     "metadata": {},
     "output_type": "execute_result"
    }
   ],
   "source": [
    "best_3class_model = CatBoostClassifier(random_state=SEED, verbose=0)\n",
    "best_3class_model.fit(X_train, y_train_newlabel)"
   ]
  },
  {
   "cell_type": "markdown",
   "metadata": {},
   "source": [
    "## 2nd model - Heart disease prediction model (predicts the diseases only)"
   ]
  },
  {
   "cell_type": "code",
   "execution_count": 42,
   "metadata": {},
   "outputs": [],
   "source": [
    "# prepare the data\n",
    "old_to_new_labels = {\n",
    "     1:0,\n",
    "     2:1,\n",
    "     4:2\n",
    "}\n",
    "\n",
    "# get the data\n",
    "X_train = full_data['train']['X']\n",
    "X_test = full_data['test']['X']\n",
    "y_train = full_data['train']['y']\n",
    "y_test = full_data['test']['y']\n",
    "\n",
    "# remove class 0 and 3\n",
    "train_mask = np.isin(y_train, [1, 2, 4])\n",
    "test_mask = np.isin(y_test, [1, 2, 4])\n",
    "\n",
    "X_train_disease = X_train[train_mask]\n",
    "X_test_disease = X_test[test_mask]\n",
    "y_train_disease = np.vectorize(old_to_new_labels.get)(y_train[train_mask])\n",
    "y_test_disease = np.vectorize(old_to_new_labels.get)(y_test[test_mask])"
   ]
  },
  {
   "cell_type": "code",
   "execution_count": 43,
   "metadata": {},
   "outputs": [
    {
     "name": "stdout",
     "output_type": "stream",
     "text": [
      "\n",
      "Training Random Forest\n",
      "\tCalculating Test Acc\n",
      "\tCalculating Macro F1\n",
      "\tCalculating Balanced Accuracy\n",
      "\n",
      "Training XGBoost\n",
      "\tCalculating Test Acc\n",
      "\tCalculating Macro F1\n",
      "\tCalculating Balanced Accuracy\n",
      "\n",
      "Training MLP\n",
      "\tCalculating Test Acc\n",
      "\tCalculating Macro F1\n",
      "\tCalculating Balanced Accuracy\n",
      "\n",
      "Training CatBoost\n",
      "\tCalculating Test Acc\n",
      "\tCalculating Macro F1\n",
      "\tCalculating Balanced Accuracy\n"
     ]
    },
    {
     "data": {
      "text/html": [
       "<div>\n",
       "<style scoped>\n",
       "    .dataframe tbody tr th:only-of-type {\n",
       "        vertical-align: middle;\n",
       "    }\n",
       "\n",
       "    .dataframe tbody tr th {\n",
       "        vertical-align: top;\n",
       "    }\n",
       "\n",
       "    .dataframe thead th {\n",
       "        text-align: right;\n",
       "    }\n",
       "</style>\n",
       "<table border=\"1\" class=\"dataframe\">\n",
       "  <thead>\n",
       "    <tr style=\"text-align: right;\">\n",
       "      <th></th>\n",
       "      <th>Test Acc</th>\n",
       "      <th>Macro F1</th>\n",
       "      <th>Balanced Accuracy</th>\n",
       "    </tr>\n",
       "  </thead>\n",
       "  <tbody>\n",
       "    <tr>\n",
       "      <th>Random Forest</th>\n",
       "      <td>0.867089</td>\n",
       "      <td>0.764389</td>\n",
       "      <td>0.738009</td>\n",
       "    </tr>\n",
       "    <tr>\n",
       "      <th>XGBoost</th>\n",
       "      <td>0.882911</td>\n",
       "      <td>0.809417</td>\n",
       "      <td>0.790174</td>\n",
       "    </tr>\n",
       "    <tr>\n",
       "      <th>MLP</th>\n",
       "      <td>0.908228</td>\n",
       "      <td>0.86628</td>\n",
       "      <td>0.878668</td>\n",
       "    </tr>\n",
       "    <tr>\n",
       "      <th>CatBoost</th>\n",
       "      <td>0.905063</td>\n",
       "      <td>0.858911</td>\n",
       "      <td>0.848462</td>\n",
       "    </tr>\n",
       "  </tbody>\n",
       "</table>\n",
       "</div>"
      ],
      "text/plain": [
       "               Test Acc  Macro F1 Balanced Accuracy\n",
       "Random Forest  0.867089  0.764389          0.738009\n",
       "XGBoost        0.882911  0.809417          0.790174\n",
       "MLP            0.908228   0.86628          0.878668\n",
       "CatBoost       0.905063  0.858911          0.848462"
      ]
     },
     "execution_count": 43,
     "metadata": {},
     "output_type": "execute_result"
    },
    {
     "data": {
      "image/png": "[encoded data removed]",
      "text/plain": [
       "<Figure size 1000x1000 with 4 Axes>"
      ]
     },
     "metadata": {},
     "output_type": "display_data"
    }
   ],
   "source": [
    "# df to store the results\n",
    "result_df = pd.DataFrame(columns=list(METRICS.keys()), index=list(MODELS.keys()))\n",
    "cm_dict = {}\n",
    "\n",
    "# ----------------------------------------- Loop over each feature-----------------------------------------\n",
    "for model_name, clf in MODELS.items():\n",
    "    print(f\"\\nTraining {model_name}\")\n",
    "\n",
    "    # fit the model\n",
    "    clf.fit(X_train_disease, y_train_disease)\n",
    "\n",
    "    for metric, funct in METRICS.items():\n",
    "        print(f\"\\tCalculating {metric}\")\n",
    "        y_pred = clf.predict(X_test_disease)\n",
    "\n",
    "        if \"Macro\" in metric:\n",
    "            result_df.loc[model_name, metric] = funct(y_test_disease, y_pred, average=\"macro\")\n",
    "        else:\n",
    "            result_df.loc[model_name, metric] = funct(y_test_disease, y_pred)\n",
    "        # cf\n",
    "        cf = confusion_matrix(y_test_disease, y_pred)\n",
    "        cm_dict[model_name] = cf\n",
    "\n",
    "# ----------------------------------------- Save the results-----------------------------------------\n",
    "result_df.to_csv(MODELS_RESULTS + RESULT_NAME)\n",
    "np.save(MODELS_RESULTS + CM_DISEASE_NAME, cm_dict)\n",
    "\n",
    "# show the confusion matrix\n",
    "fig, ax = plt.subplots(2, 2, figsize=(10, 10))\n",
    "for i, (model_name, cf) in enumerate(cm_dict.items()):\n",
    "    sns.heatmap(cf, annot=True, fmt='d', ax=ax[i//2, i%2], cmap='Blues', cbar=False)\n",
    "    ax[i//2, i%2].set_title(model_name)\n",
    "    ax[i//2, i%2].set_xlabel('Predicted')\n",
    "    ax[i//2, i%2].set_ylabel('True')\n",
    "plt.tight_layout()\n",
    "\n",
    "result_df"
   ]
  },
  {
   "cell_type": "code",
   "execution_count": 44,
   "metadata": {},
   "outputs": [
    {
     "data": {
      "text/plain": [
       "<catboost.core.CatBoostClassifier at 0x7b9db15f0bf0>"
      ]
     },
     "execution_count": 44,
     "metadata": {},
     "output_type": "execute_result"
    }
   ],
   "source": [
    "best_disease_model = CatBoostClassifier(random_state=SEED, verbose=0)\n",
    "best_disease_model.fit(X_train_disease, y_train_disease)"
   ]
  },
  {
   "cell_type": "markdown",
   "metadata": {},
   "source": [
    "## SOluzione Semplice"
   ]
  },
  {
   "cell_type": "code",
   "execution_count": 45,
   "metadata": {},
   "outputs": [
    {
     "name": "stdout",
     "output_type": "stream",
     "text": [
      "artifact_pred shape: (976,)\n",
      "disease_pred shape: (976,)\n",
      "y_pred shape: (976,)\n",
      "F1 Score: 0.7333130138456145\n",
      "Accuracy Score: 0.8463114754098361\n",
      "Balanced Accuracy Score: 0.7246317477399608\n"
     ]
    }
   ],
   "source": [
    "def predict(class_model, disease_model, X):\n",
    "    # Predict 3classes (0 for artifact, 1 for abnormal, 2 for normal)\n",
    "    artifact_pred = class_model.predict(X).reshape(-1,)\n",
    "\n",
    "    # Predict disease (assuming output is an integer class label 0, 1, 2 for diseases)\n",
    "    disease_pred = disease_model.predict(X)\n",
    "\n",
    "    # Ensure disease predictions are reshaped to match artifact predictions\n",
    "    disease_pred = disease_pred.reshape(-1,)\n",
    "\n",
    "    # Add 1 to disease predictions to differentiate disease classes from other classes\n",
    "    y_pred = disease_pred + 3\n",
    "\n",
    "    # Multiply by artifact predictions to set disease predictions to 0 for artifacts\n",
    "    y_pred = y_pred * artifact_pred\n",
    "    \n",
    "    # reset labels to match the actual labels\n",
    "    new_to_old_labels = {\n",
    "        0: 0,\n",
    "        3: 1,\n",
    "        2: 3,\n",
    "        4: 2,\n",
    "        5: 4,\n",
    "        6: 3,\n",
    "        8: 3,\n",
    "        10: 3,\n",
    "    }\n",
    "    y_pred = np.vectorize(new_to_old_labels.get)(y_pred)\n",
    "\n",
    "    print(f\"artifact_pred shape: {artifact_pred.shape}\")\n",
    "    print(f\"disease_pred shape: {disease_pred.shape}\")\n",
    "    print(f\"y_pred shape: {y_pred.shape}\")\n",
    "\n",
    "    return y_pred\n",
    "\n",
    "\n",
    "# Extract data from the dictionary\n",
    "full_data = np.load(FEATURES + COMPLETE_DATA_PRIOR_CORR_NAME, allow_pickle=True).item()\n",
    "n_cols = full_data[\"train\"][\"X\"].shape[1]\n",
    "\n",
    "# Extract data from the dictionary\n",
    "X_train = full_data[\"train\"][\"X\"]\n",
    "y_train = full_data[\"train\"][\"y\"]\n",
    "X_test = full_data[\"test\"][\"X\"]\n",
    "y_test = full_data[\"test\"][\"y\"]\n",
    "\n",
    "y_pred = predict(best_3class_model, best_disease_model, X_test)\n",
    "\n",
    "# Calculate evaluation metrics\n",
    "f1 = f1_score(y_test, y_pred, average=\"macro\")\n",
    "accuracy = accuracy_score(y_test, y_pred)\n",
    "balanced_accuracy = balanced_accuracy_score(y_test, y_pred)\n",
    "\n",
    "print(f\"F1 Score: {f1}\")\n",
    "print(f\"Accuracy Score: {accuracy}\")\n",
    "print(f\"Balanced Accuracy Score: {balanced_accuracy}\")"
   ]
  },
  {
   "cell_type": "markdown",
   "metadata": {},
   "source": [
    "## Uso un terzo modello per predire"
   ]
  },
  {
   "cell_type": "code",
   "execution_count": 46,
   "metadata": {},
   "outputs": [
    {
     "name": "stdout",
     "output_type": "stream",
     "text": [
      "F1 Score: 0.7333130138456145\n",
      "Accuracy Score: 0.8463114754098361\n",
      "Balanced Accuracy Score: 0.7246317477399608\n"
     ]
    },
    {
     "data": {
      "text/plain": [
       "Text(0.5, 1.0, 'Confusion Matrix')"
      ]
     },
     "execution_count": 46,
     "metadata": {},
     "output_type": "execute_result"
    },
    {
     "data": {
      "image/png": "[encoded data removed]",
      "text/plain": [
       "<Figure size 1000x1000 with 1 Axes>"
      ]
     },
     "metadata": {},
     "output_type": "display_data"
    }
   ],
   "source": [
    "# Extract data from the dictionary\n",
    "full_data = np.load(FEATURES + COMPLETE_DATA_PRIOR_CORR_NAME, allow_pickle=True).item()\n",
    "n_cols = full_data[\"train\"][\"X\"].shape[1]\n",
    "\n",
    "# Extract data from the dictionary\n",
    "X_train = full_data[\"train\"][\"X\"]\n",
    "y_train = full_data[\"train\"][\"y\"]\n",
    "X_test = full_data[\"test\"][\"X\"]\n",
    "y_test = full_data[\"test\"][\"y\"]\n",
    "\n",
    "\n",
    "# Predictions for training data\n",
    "pred_3class_train = best_3class_model.predict(X_train)\n",
    "pred_disease_train = best_disease_model.predict(X_train)\n",
    "pred_3class_test = best_3class_model.predict(X_test)\n",
    "pred_disease_test = best_disease_model.predict(X_test)\n",
    "\n",
    "# Concatenate predictions to form new feature set\n",
    "X_train_new = np.concatenate(\n",
    "    (pred_3class_train.reshape(-1, 1), pred_disease_train.reshape(-1, 1)), axis=1\n",
    ")\n",
    "\n",
    "X_test_new = np.concatenate(\n",
    "    (pred_3class_test.reshape(-1, 1), pred_disease_test.reshape(-1, 1)), axis=1\n",
    ")\n",
    "\n",
    "# Train the final model\n",
    "last_model = CatBoostClassifier(random_state=SEED, verbose=0)\n",
    "last_model.fit(X_train_new, y_train)\n",
    "\n",
    "# Predict using the final model\n",
    "y_pred = last_model.predict(X_test_new)\n",
    "\n",
    "# Calculate and print metrics\n",
    "f1 = f1_score(y_test, y_pred, average=\"macro\")\n",
    "accuracy = accuracy_score(y_test, y_pred)\n",
    "balanced_accuracy = balanced_accuracy_score(y_test, y_pred)\n",
    "\n",
    "print(f\"F1 Score: {f1}\")\n",
    "print(f\"Accuracy Score: {accuracy}\")\n",
    "print(f\"Balanced Accuracy Score: {balanced_accuracy}\")\n",
    "\n",
    "# plot the confusion matrix\n",
    "cf = confusion_matrix(y_test, y_pred)\n",
    "plt.figure(figsize=(10, 10))\n",
    "sns.heatmap(cf, annot=True, fmt=\"d\", cmap=\"Blues\", cbar=False)\n",
    "plt.xlabel(\"Predicted Label\")\n",
    "plt.ylabel(\"True Label\")\n",
    "plt.title(\"Confusion Matrix\")"
   ]
  }
 ],
 "metadata": {
  "kernelspec": {
   "display_name": "Python 3",
   "language": "python",
   "name": "python3"
  },
  "language_info": {
   "codemirror_mode": {
    "name": "ipython",
    "version": 3
   },
   "file_extension": ".py",
   "mimetype": "text/x-python",
   "name": "python",
   "nbconvert_exporter": "python",
   "pygments_lexer": "ipython3",
   "version": "3.12.3"
  }
 },
 "nbformat": 4,
 "nbformat_minor": 2
}
