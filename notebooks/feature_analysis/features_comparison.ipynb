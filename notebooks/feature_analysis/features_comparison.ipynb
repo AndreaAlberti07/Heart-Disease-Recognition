{
 "cells": [
  {
   "cell_type": "markdown",
   "metadata": {},
   "source": [
    "## Features Comparison Notebook\n",
    "---\n",
    "\n",
    "### Objective:\n",
    "- To assess the impact of different features on the performance of the model.\n",
    "- To determine the optimal features for the model.\n",
    "\n",
    "### Methodology:\n",
    "- A model (RF, SVM, LR) is trained with different features (Chroma, MFCC_30, MFCC_120, CQT_30, CQT_70). The features are used 'as extracted' without any additional processing.\n",
    "- The model is trained with 80% of the data and tested with the remaining 20%.\n",
    "  \n",
    "#### Findings:\n",
    "- "
   ]
  },
  {
   "cell_type": "code",
   "execution_count": null,
   "metadata": {
    "vscode": {
     "languageId": "plaintext"
    }
   },
   "outputs": [],
   "source": []
  }
 ],
 "metadata": {
  "language_info": {
   "name": "python"
  }
 },
 "nbformat": 4,
 "nbformat_minor": 2
}
