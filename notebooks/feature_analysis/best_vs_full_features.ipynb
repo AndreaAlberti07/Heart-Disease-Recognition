{
 "cells": [
  {
   "cell_type": "markdown",
   "metadata": {},
   "source": [
    "## Models on best vs Full Features\n",
    "---\n",
    "\n",
    "### Objective:\n",
    "\n",
    "- Prove that the best features are enough to achieve a good performance. and all features introduce noise.\n",
    "\n",
    "#### Findings:\n",
    "\n",
    "- Sampling Rate: 4000 Hz\n",
    "- Extraction Interval: 2 s\n",
    "- Balancing Type: Both (priori and posteriori)\n",
    "- Selected Features:\n",
    "\n",
    "\t| Type                | N° Features |\n",
    "\t| ------------------- | ---------- |\n",
    "\t| MFCC                | 30         |\n",
    "\t| CQT                 | 70         |\n",
    "\t| Chroma              | 12         |\n",
    "\t| RMS                 | 40         |\n",
    "\t| Zero Crossing Rates | 40         |\n",
    "\t| Spectral Centroid   | 40         |\n",
    "\t| Spectral Bandwidth  | 60         |\n",
    "\t| Spectral Rolloff    | 40         |"
   ]
  },
  {
   "cell_type": "code",
   "execution_count": 16,
   "metadata": {},
   "outputs": [],
   "source": [
    "from sklearn.ensemble import RandomForestClassifier\n",
    "from xgboost import XGBClassifier\n",
    "from sklearn.neural_network import MLPClassifier\n",
    "from catboost import CatBoostClassifier\n",
    "from sklearn.metrics import f1_score, accuracy_score, precision_score, recall_score,balanced_accuracy_score\n",
    "from sklearn.metrics import confusion_matrix\n",
    "\n",
    "import pandas as pd\n",
    "import numpy as np\n",
    "import matplotlib.pyplot as plt\n",
    "\n",
    "plt.style.use(\"seaborn-v0_8-paper\")\n",
    "import seaborn as sns\n",
    "\n",
    "sns.set_theme(context=\"paper\", font_scale=1)"
   ]
  },
  {
   "cell_type": "code",
   "execution_count": 17,
   "metadata": {},
   "outputs": [],
   "source": [
    "# set the paths\n",
    "BASE_DIR = \"../../dataset/\"\n",
    "\n",
    "# features\n",
    "FEATURES_BASE = \"../../features/\"\n",
    "#FEATURES = FEATURES_BASE + 'balanced/posteriori/'\n",
    "FEATURES = FEATURES_BASE + 'raw/'\n",
    "\n",
    "# Models\n",
    "MODELS = \"../../models/\"\n",
    "MODELS_RESULTS = MODELS + \"results/\"\n",
    "\n",
    "# report\n",
    "PAPER = \"../../paper/\"\n",
    "IMAGES_PATH = PAPER + \"images/\"\n",
    "\n",
    "# HYERPARAMETERS\n",
    "SEED = 42\n",
    "INTERVAL = 1\n",
    "\n",
    "BALANCING_TYPE = \"none\"\n",
    "RESULT_NAME = f\"feature_types_comparison_{BALANCING_TYPE}.csv\"\n",
    "CM_NAME = f\"confusion_matrix_models_comparison_best_features_{BALANCING_TYPE}.npy\"\n"
   ]
  },
  {
   "cell_type": "code",
   "execution_count": 18,
   "metadata": {},
   "outputs": [],
   "source": [
    "# -----------------------------------------Constants-----------------------------------------\n",
    "full_data_dict_keys = [\"artifacts\", \"extrahls\", \"murmurs\", \"normals\", \"extrastoles\"]\n",
    "interval = INTERVAL  # You need to define INTERVAL somewhere\n",
    "sample_rates = [4000]\n",
    "filtered_feats = {\n",
    "    \"30 MFCC\": \"28mfcc\",\n",
    "    \"12  Chroma\": \"12chroma\",\n",
    "    \"70 CQT\": \"0cqt\",\n",
    "    \"40 RMS\": \"0rms\",\n",
    "    \"40 Zero Crossing Rates\": \"1zcr\",\n",
    "    \"40 Spectral Centroid\": \"0sc\",\n",
    "    \"60 Spectral Bandwidth\": \"0sb\",\n",
    "    \"40 Spectral Rolloff\": \"0sr\",\n",
    "}\n",
    "all_feats = {\n",
    "    \"30 MFCC\": \"30mfcc\",\n",
    "    \"12  Chroma\": \"12chroma\",\n",
    "    \"70 CQT\": \"70cqt\",\n",
    "    \"40 RMS\": \"41rms\",\n",
    "    \"40 Zero Crossing Rates\": \"41zcr\",\n",
    "    \"40 Spectral Centroid\": \"41sc\",\n",
    "    \"60 Spectral Bandwidth\": \"61sb\",\n",
    "    \"40 Spectral Rolloff\": \"41sr\",\n",
    "}\n",
    "FILTERED_NAME = (\n",
    "    f\"full_data_filtered_{INTERVAL}s_4000hz_\"\n",
    "    + \"_\".join(numvalue for _, numvalue in filtered_feats.items())\n",
    "    + \".npy\"\n",
    ")\n",
    "FULL_NAME = (\n",
    "    f\"full_data_none_bal_{INTERVAL}s_4000hz_\"\n",
    "    + \"_\".join(numvalue for _, numvalue in all_feats.items())\n",
    "    + \".npy\"\n",
    ")\n",
    "\n",
    "FILE_NAMES = {\"full\": FULL_NAME, \"filtered\": FILTERED_NAME}"
   ]
  },
  {
   "cell_type": "markdown",
   "metadata": {},
   "source": [
    "### MODEL TRAINING\n",
    "| Name        | Label |\n",
    "| ----------- | ----- |\n",
    "| artifacts   | 0     |\n",
    "| extrahls    | 1     |\n",
    "| murmurs     | 2     |\n",
    "| normals     | 3     |\n",
    "| extrastoles | 4     |"
   ]
  },
  {
   "cell_type": "code",
   "execution_count": 19,
   "metadata": {},
   "outputs": [
    {
     "name": "stdout",
     "output_type": "stream",
     "text": [
      "Feature type full\n",
      "\tCalculating Test Acc\n",
      "\tCalculating Macro F1\n",
      "\tCalculating Balanced Accuracy\n",
      "Feature type filtered\n",
      "\tCalculating Test Acc\n",
      "\tCalculating Macro F1\n",
      "\tCalculating Balanced Accuracy\n"
     ]
    },
    {
     "data": {
      "text/html": [
       "<div>\n",
       "<style scoped>\n",
       "    .dataframe tbody tr th:only-of-type {\n",
       "        vertical-align: middle;\n",
       "    }\n",
       "\n",
       "    .dataframe tbody tr th {\n",
       "        vertical-align: top;\n",
       "    }\n",
       "\n",
       "    .dataframe thead th {\n",
       "        text-align: right;\n",
       "    }\n",
       "</style>\n",
       "<table border=\"1\" class=\"dataframe\">\n",
       "  <thead>\n",
       "    <tr style=\"text-align: right;\">\n",
       "      <th></th>\n",
       "      <th>Test Acc</th>\n",
       "      <th>Macro F1</th>\n",
       "      <th>Balanced Accuracy</th>\n",
       "    </tr>\n",
       "  </thead>\n",
       "  <tbody>\n",
       "    <tr>\n",
       "      <th>full</th>\n",
       "      <td>0.716189</td>\n",
       "      <td>0.505955</td>\n",
       "      <td>0.496928</td>\n",
       "    </tr>\n",
       "    <tr>\n",
       "      <th>filtered</th>\n",
       "      <td>0.856557</td>\n",
       "      <td>0.78376</td>\n",
       "      <td>0.774887</td>\n",
       "    </tr>\n",
       "  </tbody>\n",
       "</table>\n",
       "</div>"
      ],
      "text/plain": [
       "          Test Acc  Macro F1 Balanced Accuracy\n",
       "full      0.716189  0.505955          0.496928\n",
       "filtered  0.856557   0.78376          0.774887"
      ]
     },
     "execution_count": 19,
     "metadata": {},
     "output_type": "execute_result"
    }
   ],
   "source": [
    "# ----------------------------------------- Create DataFrame to store results-----------------------------------------\n",
    "class_weights = {0: 1.0, 1: 5, 2: 5, 3: 1, 4: 5}\n",
    "\n",
    "MODELS = {\n",
    "    \"Random Forest\": RandomForestClassifier(\n",
    "        random_state=SEED, class_weight=class_weights\n",
    "    ),\n",
    "    \"XGBoost\": XGBClassifier(random_state=SEED, class_weights=class_weights),\n",
    "    \"MLP\": MLPClassifier(\n",
    "        hidden_layer_sizes=(\n",
    "            512,\n",
    "            256,\n",
    "            128,\n",
    "            64,\n",
    "            32,\n",
    "        ),\n",
    "        activation=\"relu\",\n",
    "        solver=\"adam\",\n",
    "        random_state=SEED,\n",
    "    ),\n",
    "    \"CatBoost\": CatBoostClassifier(\n",
    "        random_state=SEED, verbose=0, class_weights=class_weights\n",
    "    ),\n",
    "}\n",
    "\n",
    "METRICS = {\n",
    "    \"Test Acc\": accuracy_score,\n",
    "    \"Macro F1\": f1_score,\n",
    "    \"Balanced Accuracy\": balanced_accuracy_score,\n",
    "}\n",
    "\n",
    "result_df = pd.DataFrame(columns=list(METRICS.keys()), index=list(FILE_NAMES.keys()))\n",
    "cm_dict = {}\n",
    "\n",
    "# ----------------------------------------- Loop over each feature-----------------------------------------\n",
    "for feature_type, file_name in FILE_NAMES.items():\n",
    "    print(f\"Feature type {feature_type}\")\n",
    "    full_data = np.load(FEATURES + file_name, allow_pickle=True).item()\n",
    "    n_cols = full_data[\"train\"][\"X\"].shape[1]\n",
    "    # Extract data from the dictionary\n",
    "    X_train = full_data[\"train\"][\"X\"]\n",
    "    y_train = full_data[\"train\"][\"y\"]\n",
    "    X_test = full_data[\"test\"][\"X\"]\n",
    "    y_test = full_data[\"test\"][\"y\"]\n",
    "\n",
    "    clf = MODELS[\"MLP\"]\n",
    "    # fit the model\n",
    "    clf.fit(X_train, y_train)\n",
    "\n",
    "    for metric, funct in METRICS.items():\n",
    "        print(f\"\\tCalculating {metric}\")\n",
    "        y_pred = clf.predict(X_test)\n",
    "\n",
    "        if \"Macro\" in metric:\n",
    "            result_df.loc[feature_type, metric] = funct(y_test, y_pred, average=\"macro\")\n",
    "        else:\n",
    "            result_df.loc[feature_type, metric] = funct(y_test, y_pred)\n",
    "        # cf\n",
    "        cf = confusion_matrix(y_test, y_pred)\n",
    "        cm_dict[feature_type] = cf\n",
    "\n",
    "# ----------------------------------------- Save the results-----------------------------------------\n",
    "result_df.to_csv(MODELS_RESULTS + RESULT_NAME)\n",
    "np.save(MODELS_RESULTS + CM_NAME, cm_dict)\n",
    "result_df"
   ]
  },
  {
   "cell_type": "code",
   "execution_count": 36,
   "metadata": {},
   "outputs": [
    {
     "data": {
      "text/plain": [
       "(array([0.5, 1.5, 2.5]),\n",
       " [Text(0, 0.5, 'Test Acc'),\n",
       "  Text(0, 1.5, 'Macro F1'),\n",
       "  Text(0, 2.5, 'Balanced Accuracy')])"
      ]
     },
     "execution_count": 36,
     "metadata": {},
     "output_type": "execute_result"
    },
    {
     "data": {
      "image/png": "[encoded data removed]",
      "text/plain": [
       "<Figure size 1500x1000 with 2 Axes>"
      ]
     },
     "metadata": {},
     "output_type": "display_data"
    }
   ],
   "source": [
    "result_df = pd.read_csv(MODELS_RESULTS + RESULT_NAME, index_col=0).transpose()\n",
    "\n",
    "plt.figure(figsize=(15, 10))\n",
    "sns.set_theme(context=\"paper\", font_scale=1)\n",
    "\n",
    "sns.heatmap(result_df.astype(float) * 100, annot=True, cmap=\"vlag\", fmt=\".2f\",vmax=100,vmin=0,linewidths=0.5)\n",
    "#plt.title(\"Accuracy (%)\", fontsize=14)\n",
    "plt.title(\"Models Comparison\", fontsize=14)\n",
    "plt.yticks(rotation=0)"
   ]
  },
  {
   "cell_type": "code",
   "execution_count": 38,
   "metadata": {},
   "outputs": [
    {
     "data": {
      "image/png": "[encoded data removed]",
      "text/plain": [
       "<Figure size 760.5x600 with 1 Axes>"
      ]
     },
     "metadata": {},
     "output_type": "display_data"
    }
   ],
   "source": [
    "result_df.reset_index(inplace=True)\n",
    "\n",
    "df_melted = pd.melt(\n",
    "    result_df,\n",
    "    id_vars=[\"index\"],\n",
    "    value_vars=[\"full\", \"filtered\"],\n",
    "    var_name=\"Type\",\n",
    "    value_name=\"Value\",\n",
    ")\n",
    "# Draw a nested barplot by species and sex\n",
    "g = sns.catplot(\n",
    "    data=df_melted,\n",
    "    kind=\"bar\",\n",
    "    x=\"Type\",\n",
    "    y=\"Value\",\n",
    "    hue=\"index\",\n",
    "    errorbar=\"sd\",\n",
    "    palette=\"dark\",\n",
    "    alpha=0.6,\n",
    "    height=6,\n",
    ")\n",
    "g.despine(left=True)\n",
    "g.fig.suptitle(\"Comparison of Full and Filtered Data\", y=1.02)  # Adding title\n",
    "g.set_axis_labels(\"\", \"Score\")\n",
    "g.legend.set_title(\"\")"
   ]
  }
 ],
 "metadata": {
  "kernelspec": {
   "display_name": "Python 3",
   "language": "python",
   "name": "python3"
  },
  "language_info": {
   "codemirror_mode": {
    "name": "ipython",
    "version": 3
   },
   "file_extension": ".py",
   "mimetype": "text/x-python",
   "name": "python",
   "nbconvert_exporter": "python",
   "pygments_lexer": "ipython3",
   "version": "3.12.3"
  }
 },
 "nbformat": 4,
 "nbformat_minor": 2
}
