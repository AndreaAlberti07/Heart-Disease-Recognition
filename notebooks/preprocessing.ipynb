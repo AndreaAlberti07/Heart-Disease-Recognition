{
 "cells": [
  {
   "cell_type": "markdown",
   "metadata": {},
   "source": [
    "## Preprocessing Notebook\n",
    "---\n",
    "\n",
    "This notebook is used to preprocess the data before training the model. Since we are dealing with RAW audio, the preprocessing steps are as follows:\n",
    "1. [Set the paths](#set-the-paths)\n",
    "2. [Check the presence of corrupted files](#check-the-presence-of-corrupted-files)\n",
    "3. [Structure the data in a proper way to standardize feature extraction](#structure-the-data)\n",
    "4. [Resample the audio files to a common sampling rate (if needed)](#resample-the-audio-files)"
   ]
  },
  {
   "cell_type": "code",
   "execution_count": 1,
   "metadata": {},
   "outputs": [],
   "source": [
    "# needed packages\n",
    "#%pip install tqdm torch torchaudio ipywidgets shutils\n",
    "\n",
    "# import all the functions\n",
    "from utils import *\n",
    "import pandas as pd\n",
    "import shutil\n",
    "import seaborn as sns\n",
    "import matplotlib.pyplot as plt"
   ]
  },
  {
   "cell_type": "code",
   "execution_count": 2,
   "metadata": {},
   "outputs": [
    {
     "data": {
      "text/html": [
       "<style>\n",
       ".cell-output-ipywidget-background {\n",
       "    background-color: transparent !important;\n",
       "}\n",
       ":root {\n",
       "    --jp-widgets-color: var(--vscode-editor-foreground);\n",
       "    --jp-widgets-font-size: var(--vscode-editor-font-size);\n",
       "}  \n",
       "</style>\n",
       "\n",
       "# -------- tqdm DARK THEME --------\n"
      ],
      "text/plain": [
       "<IPython.core.display.HTML object>"
      ]
     },
     "metadata": {},
     "output_type": "display_data"
    }
   ],
   "source": [
    "%%html\n",
    "<style>\n",
    ".cell-output-ipywidget-background {\n",
    "    background-color: transparent !important;\n",
    "}\n",
    ":root {\n",
    "    --jp-widgets-color: var(--vscode-editor-foreground);\n",
    "    --jp-widgets-font-size: var(--vscode-editor-font-size);\n",
    "}  \n",
    "</style>\n",
    "\n",
    "# -------- tqdm DARK THEME --------"
   ]
  },
  {
   "cell_type": "markdown",
   "metadata": {},
   "source": [
    "### 1. Set the paths"
   ]
  },
  {
   "cell_type": "code",
   "execution_count": 3,
   "metadata": {},
   "outputs": [],
   "source": [
    "# hyperparameters\n",
    "sr = 4000\n",
    "#sr = ''\n",
    "\n",
    "# set the paths\n",
    "BASE_DIR = '../dataset/'\n",
    "FULL_DATA_DIR = BASE_DIR + 'audio/'\n",
    "CORRUPTED_DIR = BASE_DIR + f'audio/corrupted_{sr}/'\n",
    "METADATA = BASE_DIR + 'metadata.csv'\n",
    "ANNOTATION = BASE_DIR + 'annotation.csv'\n",
    "LABELS = BASE_DIR + 'labels.csv'\n",
    "\n",
    "# paths of restrucutred data\n",
    "ARTIFACTS_DIR = BASE_DIR + f'artifacts_{sr}/'\n",
    "EXTRAHLS_DIR = BASE_DIR + f'extrahls_{sr}/'\n",
    "MURMURS_DIR = BASE_DIR + f'murmurs_{sr}/'\n",
    "NORMALS_DIR = BASE_DIR + f'normals_{sr}/'\n",
    "EXTRASTOLES_DIR = BASE_DIR + f'extrastoles_{sr}/'\n",
    "\n",
    "DIRS = [ARTIFACTS_DIR, EXTRAHLS_DIR, MURMURS_DIR, NORMALS_DIR, EXTRASTOLES_DIR]"
   ]
  },
  {
   "cell_type": "markdown",
   "metadata": {},
   "source": [
    "### 2. Check the presence of corrupted files"
   ]
  },
  {
   "cell_type": "code",
   "execution_count": 4,
   "metadata": {},
   "outputs": [
    {
     "data": {
      "application/vnd.jupyter.widget-view+json": {
       "model_id": "c130e840da9e4e04a8cd5d92d3853960",
       "version_major": 2,
       "version_minor": 0
      },
      "text/plain": [
       "Checking files:   0%|          | 0/663 [00:00<?, ?it/s]"
      ]
     },
     "metadata": {},
     "output_type": "display_data"
    },
    {
     "name": "stdout",
     "output_type": "stream",
     "text": [
      "File corrupted is corrupted\n",
      "File corrupted_4000 is corrupted\n"
     ]
    },
    {
     "name": "stderr",
     "output_type": "stream",
     "text": [
      "mv: rename ../dataset/audio/corrupted_4000 to ../dataset/audio/corrupted_4000/corrupted_4000: Invalid argument\n"
     ]
    },
    {
     "name": "stdout",
     "output_type": "stream",
     "text": [
      "Files corrupted in ../dataset/audio/:\t2\n",
      "\n"
     ]
    }
   ],
   "source": [
    "count, names = move_corrupted_files(FULL_DATA_DIR, CORRUPTED_DIR)"
   ]
  },
  {
   "cell_type": "markdown",
   "metadata": {},
   "source": [
    "### 3. Structure the data"
   ]
  },
  {
   "cell_type": "code",
   "execution_count": 5,
   "metadata": {},
   "outputs": [
    {
     "name": "stdout",
     "output_type": "stream",
     "text": [
      "['artifact' 'extrahls' 'murmur' 'normal' 'extrastole']\n"
     ]
    }
   ],
   "source": [
    "metadata = pd.read_csv(METADATA)\n",
    "annotation = pd.read_csv(ANNOTATION)\n",
    "labels = pd.read_csv(LABELS)\n",
    "audio_info= pd.merge(metadata, labels, on='filename')\n",
    "\n",
    "unique_labels = pd.unique(labels['label'])\n",
    "print(unique_labels)\n"
   ]
  },
  {
   "cell_type": "code",
   "execution_count": 6,
   "metadata": {},
   "outputs": [],
   "source": [
    "# create a directory for each label and copy the files\n",
    "for i, label in enumerate(unique_labels):\n",
    "    audio_info_filt = audio_info[audio_info['label'] == label]['filename']\n",
    "    names_list = audio_info_filt.to_list()\n",
    "    \n",
    "    # create the directories\n",
    "    os.makedirs(DIRS[i], exist_ok=True)\n",
    "    \n",
    "    # copy the files\n",
    "    for name in names_list:\n",
    "        shutil.copy(FULL_DATA_DIR + name, DIRS[i] + name)\n",
    "    "
   ]
  },
  {
   "cell_type": "markdown",
   "metadata": {},
   "source": [
    "### 4. Resample the audio files"
   ]
  },
  {
   "cell_type": "code",
   "execution_count": 7,
   "metadata": {},
   "outputs": [
    {
     "data": {
      "application/vnd.jupyter.widget-view+json": {
       "model_id": "d1ed78dfe8fd47daada14f4639c67f45",
       "version_major": 2,
       "version_minor": 0
      },
      "text/plain": [
       "  0%|          | 0/92 [00:00<?, ?it/s]"
      ]
     },
     "metadata": {},
     "output_type": "display_data"
    },
    {
     "name": "stdout",
     "output_type": "stream",
     "text": [
      "Resampling artifact_2023_17.wav from 48000 Hz to 4000 Hz...\n",
      "Completed.\n",
      "Resampling artifact__201012172012.wav from 44100 Hz to 4000 Hz...\n",
      "Completed.\n",
      "Resampling artifact__201105280851.wav from 44100 Hz to 4000 Hz...\n",
      "Completed.\n",
      "Resampling artifact__201106010559.wav from 44100 Hz to 4000 Hz...\n",
      "Completed.\n",
      "Resampling artifact_2023_16.wav from 48000 Hz to 4000 Hz...\n",
      "Completed.\n",
      "Resampling artifact_2023_14.wav from 48000 Hz to 4000 Hz...\n",
      "Completed.\n",
      "Resampling artifact_2023_28.wav from 44100 Hz to 4000 Hz...\n",
      "Completed.\n",
      "Resampling artifact__201105061143.wav from 44100 Hz to 4000 Hz...\n",
      "Completed.\n",
      "Resampling artifact__201106141701.wav from 44100 Hz to 4000 Hz...\n",
      "Completed.\n",
      "Resampling artifact__201106070537.wav from 44100 Hz to 4000 Hz...\n",
      "Completed.\n",
      "Resampling artifact__201106161016.wav from 44100 Hz to 4000 Hz...\n",
      "Completed.\n",
      "Resampling artifact_2023_29.wav from 44100 Hz to 4000 Hz...\n",
      "Completed.\n",
      "Resampling artifact_2023_15.wav from 48000 Hz to 4000 Hz...\n",
      "Completed.\n",
      "Resampling artifact_2023_39.wav from 48000 Hz to 4000 Hz...\n",
      "Completed.\n",
      "Resampling artifact__201106171003.wav from 44100 Hz to 4000 Hz...\n",
      "Completed.\n",
      "Resampling artifact_2023_11.wav from 48000 Hz to 4000 Hz...\n",
      "Completed.\n",
      "Resampling artifact__201105190800.wav from 44100 Hz to 4000 Hz...\n",
      "Completed.\n",
      "Resampling artifact_2023_10.wav from 44100 Hz to 4000 Hz...\n",
      "Completed.\n",
      "Resampling artifact_2023_38.wav from 48000 Hz to 4000 Hz...\n",
      "Completed.\n",
      "Resampling artifact_2023_12.wav from 48000 Hz to 4000 Hz...\n",
      "Completed.\n",
      "Resampling artifact_2023_8.wav from 48000 Hz to 4000 Hz...\n",
      "Completed.\n",
      "Resampling artifact__201106021541.wav from 44100 Hz to 4000 Hz...\n",
      "Completed.\n",
      "Resampling artifact__201106050353.wav from 44100 Hz to 4000 Hz...\n",
      "Completed.\n",
      "Resampling artifact__201106220340.wav from 44100 Hz to 4000 Hz...\n",
      "Completed.\n",
      "Resampling artifact__201106111119.wav from 44100 Hz to 4000 Hz...\n",
      "Completed.\n",
      "Resampling artifact__201106010602.wav from 44100 Hz to 4000 Hz...\n",
      "Completed.\n",
      "Resampling artifact_2023_9.wav from 44100 Hz to 4000 Hz...\n",
      "Completed.\n",
      "Resampling artifact_2023_13.wav from 48000 Hz to 4000 Hz...\n",
      "Completed.\n",
      "Resampling artifact_2023_48.wav from 44100 Hz to 4000 Hz...\n",
      "Completed.\n",
      "Resampling artifact_2023_49.wav from 44100 Hz to 4000 Hz...\n",
      "Completed.\n",
      "Resampling artifact__201105040918.wav from 44100 Hz to 4000 Hz...\n",
      "Completed.\n",
      "Resampling artifact__201106110909.wav from 44100 Hz to 4000 Hz...\n",
      "Completed.\n",
      "Resampling artifact__201106121242.wav from 44100 Hz to 4000 Hz...\n",
      "Completed.\n",
      "Resampling artifact__201105041959.wav from 44100 Hz to 4000 Hz...\n",
      "Completed.\n",
      "Resampling artifact__201106040722.wav from 44100 Hz to 4000 Hz...\n",
      "Completed.\n",
      "Resampling artifact__201106121445.wav from 44100 Hz to 4000 Hz...\n",
      "Completed.\n",
      "Resampling artifact__201106070949.wav from 44100 Hz to 4000 Hz...\n",
      "Completed.\n",
      "Resampling artifact__201106030612.wav from 44100 Hz to 4000 Hz...\n",
      "Completed.\n",
      "Resampling artifact_2023_41.wav from 48000 Hz to 4000 Hz...\n",
      "Completed.\n",
      "Resampling artifact__201106190520.wav from 44100 Hz to 4000 Hz...\n",
      "Completed.\n",
      "Resampling artifact__201105051017.wav from 44100 Hz to 4000 Hz...\n",
      "Completed.\n",
      "Resampling artifact__201106040933.wav from 44100 Hz to 4000 Hz...\n",
      "Completed.\n",
      "Resampling artifact_2023_40.wav from 48000 Hz to 4000 Hz...\n",
      "Completed.\n",
      "Resampling artifact_2023_42.wav from 48000 Hz to 4000 Hz...\n",
      "Completed.\n",
      "Resampling artifact_2023_43.wav from 48000 Hz to 4000 Hz...\n",
      "Completed.\n",
      "Resampling artifact_2023_47.wav from 44100 Hz to 4000 Hz...\n",
      "Completed.\n",
      "Resampling artifact__201106101955.wav from 44100 Hz to 4000 Hz...\n",
      "Completed.\n",
      "Resampling artifact_2023_46.wav from 44100 Hz to 4000 Hz...\n",
      "Completed.\n",
      "Resampling artifact_2023_50.wav from 44100 Hz to 4000 Hz...\n",
      "Completed.\n",
      "Resampling artifact_2023_44.wav from 44100 Hz to 4000 Hz...\n",
      "Completed.\n",
      "Resampling artifact_2023_45.wav from 48000 Hz to 4000 Hz...\n",
      "Completed.\n",
      "Resampling artifact__201106211041.wav from 44100 Hz to 4000 Hz...\n",
      "Completed.\n",
      "Resampling artifact_2023_51.wav from 44100 Hz to 4000 Hz...\n",
      "Completed.\n",
      "Resampling artifact_2023_36.wav from 48000 Hz to 4000 Hz...\n",
      "Completed.\n",
      "Resampling artifact_2023_22.wav from 48000 Hz to 4000 Hz...\n",
      "Completed.\n",
      "Resampling artifact_2023_4.wav from 48000 Hz to 4000 Hz...\n",
      "Completed.\n",
      "Resampling artifact_2023_5.wav from 44100 Hz to 4000 Hz...\n",
      "Completed.\n",
      "Resampling artifact__201105060108.wav from 44100 Hz to 4000 Hz...\n",
      "Completed.\n",
      "Resampling artifact_2023_23.wav from 48000 Hz to 4000 Hz...\n",
      "Completed.\n",
      "Resampling artifact_2023_37.wav from 48000 Hz to 4000 Hz...\n",
      "Completed.\n",
      "Resampling artifact_2023_21.wav from 48000 Hz to 4000 Hz...\n",
      "Completed.\n",
      "Resampling artifact_2023_35.wav from 48000 Hz to 4000 Hz...\n",
      "Completed.\n",
      "Resampling artifact_2023_7.wav from 44100 Hz to 4000 Hz...\n",
      "Completed.\n",
      "Resampling artifact_2023_6.wav from 48000 Hz to 4000 Hz...\n",
      "Completed.\n",
      "Resampling artifact__201106040947.wav from 44100 Hz to 4000 Hz...\n",
      "Completed.\n",
      "Resampling artifact_2023_34.wav from 48000 Hz to 4000 Hz...\n",
      "Completed.\n",
      "Resampling artifact_2023_20.wav from 48000 Hz to 4000 Hz...\n",
      "Completed.\n",
      "Resampling artifact_2023_18.wav from 48000 Hz to 4000 Hz...\n",
      "Completed.\n",
      "Resampling artifact__201106161219.wav from 44100 Hz to 4000 Hz...\n",
      "Completed.\n",
      "Resampling artifact_2023_24.wav from 48000 Hz to 4000 Hz...\n",
      "Completed.\n",
      "Resampling artifact_2023_30.wav from 44100 Hz to 4000 Hz...\n",
      "Completed.\n",
      "Resampling artifact__201106041452.wav from 44100 Hz to 4000 Hz...\n",
      "Completed.\n",
      "Resampling artifact_2023_2.wav from 44100 Hz to 4000 Hz...\n",
      "Completed.\n",
      "Resampling artifact__201106211430.wav from 44100 Hz to 4000 Hz...\n",
      "Completed.\n",
      "Resampling artifact__201106101314.wav from 44100 Hz to 4000 Hz...\n",
      "Completed.\n",
      "Resampling artifact_2023_3.wav from 44100 Hz to 4000 Hz...\n",
      "Completed.\n",
      "Resampling artifact_2023_31.wav from 44100 Hz to 4000 Hz...\n",
      "Completed.\n",
      "Resampling artifact_2023_25.wav from 48000 Hz to 4000 Hz...\n",
      "Completed.\n",
      "Resampling artifact_2023_19.wav from 48000 Hz to 4000 Hz...\n",
      "Completed.\n",
      "Resampling artifact_2023_33.wav from 48000 Hz to 4000 Hz...\n",
      "Completed.\n",
      "Resampling artifact_2023_27.wav from 44100 Hz to 4000 Hz...\n",
      "Completed.\n",
      "Resampling artifact_2023_1.wav from 44100 Hz to 4000 Hz...\n",
      "Completed.\n",
      "Resampling artifact__201106131834.wav from 44100 Hz to 4000 Hz...\n",
      "Completed.\n",
      "Resampling artifact__201106212112.wav from 44100 Hz to 4000 Hz...\n",
      "Completed.\n",
      "Resampling artifact__201106031558.wav from 44100 Hz to 4000 Hz...\n",
      "Completed.\n",
      "Resampling artifact__201106221254.wav from 44100 Hz to 4000 Hz...\n",
      "Completed.\n",
      "Resampling artifact__201106131835.wav from 44100 Hz to 4000 Hz...\n",
      "Completed.\n",
      "Resampling artifact_2023_0.wav from 44100 Hz to 4000 Hz...\n",
      "Completed.\n",
      "Resampling artifact__201106161019.wav from 44100 Hz to 4000 Hz...\n",
      "Completed.\n",
      "Resampling artifact_2023_26.wav from 48000 Hz to 4000 Hz...\n",
      "Completed.\n",
      "Resampling artifact_2023_32.wav from 48000 Hz to 4000 Hz...\n",
      "Completed.\n",
      "Resampling artifact__201106061233.wav from 44100 Hz to 4000 Hz...\n",
      "Completed.\n"
     ]
    },
    {
     "data": {
      "application/vnd.jupyter.widget-view+json": {
       "model_id": "217c5add96454be091da7f9f86ccc3f2",
       "version_major": 2,
       "version_minor": 0
      },
      "text/plain": [
       "  0%|          | 0/19 [00:00<?, ?it/s]"
      ]
     },
     "metadata": {},
     "output_type": "display_data"
    },
    {
     "name": "stdout",
     "output_type": "stream",
     "text": [
      "Resampling extrahls__201104140118.wav from 44100 Hz to 4000 Hz...\n",
      "Completed.\n",
      "Resampling extrahls__201103170134.wav from 44100 Hz to 4000 Hz...\n",
      "Completed.\n",
      "Resampling extrahls__201104270458.wav from 44100 Hz to 4000 Hz...\n",
      "Completed.\n",
      "Resampling extrahls__201104270459.wav from 44100 Hz to 4000 Hz...\n",
      "Completed.\n",
      "Resampling extrahls__201101160808.wav from 44100 Hz to 4000 Hz...\n",
      "Completed.\n",
      "Resampling extrahls__201101070953.wav from 44100 Hz to 4000 Hz...\n",
      "Completed.\n",
      "Resampling extrahls__201102071835.wav from 44100 Hz to 4000 Hz...\n",
      "Completed.\n",
      "Resampling extrahls__201104021355.wav from 44100 Hz to 4000 Hz...\n",
      "Completed.\n",
      "Resampling extrahls__201101161027.wav from 44100 Hz to 4000 Hz...\n",
      "Completed.\n",
      "Resampling extrahls__201103200218.wav from 44100 Hz to 4000 Hz...\n",
      "Completed.\n",
      "Resampling extrahls__201102070251.wav from 44100 Hz to 4000 Hz...\n",
      "Completed.\n",
      "Resampling extrahls__201101241423.wav from 44100 Hz to 4000 Hz...\n",
      "Completed.\n",
      "Resampling extrahls__201102241217.wav from 44100 Hz to 4000 Hz...\n",
      "Completed.\n",
      "Resampling extrahls__201103150114.wav from 44100 Hz to 4000 Hz...\n",
      "Completed.\n",
      "Resampling extrahls__201101241433.wav from 44100 Hz to 4000 Hz...\n",
      "Completed.\n",
      "Resampling extrahls__201101152255.wav from 44100 Hz to 4000 Hz...\n",
      "Completed.\n",
      "Resampling extrahls__201101160804.wav from 44100 Hz to 4000 Hz...\n",
      "Completed.\n",
      "Resampling extrahls__201101091153.wav from 44100 Hz to 4000 Hz...\n",
      "Completed.\n",
      "Resampling extrahls__201103182227.wav from 44100 Hz to 4000 Hz...\n",
      "Completed.\n"
     ]
    },
    {
     "data": {
      "application/vnd.jupyter.widget-view+json": {
       "model_id": "7dfc93e4c4d448968dc24f506616966e",
       "version_major": 2,
       "version_minor": 0
      },
      "text/plain": [
       "  0%|          | 0/149 [00:00<?, ?it/s]"
      ]
     },
     "metadata": {},
     "output_type": "display_data"
    },
    {
     "name": "stdout",
     "output_type": "stream",
     "text": [
      "Resampling murmur__201108222256.wav from 44100 Hz to 4000 Hz...\n",
      "Completed.\n",
      "Resampling murmur__201108222242.wav from 44100 Hz to 4000 Hz...\n",
      "Completed.\n",
      "Resampling murmur__201108222243.wav from 44100 Hz to 4000 Hz...\n",
      "Completed.\n",
      "Resampling murmur__201104021355.wav from 44100 Hz to 4000 Hz...\n",
      "Completed.\n",
      "Resampling murmur__201108222255.wav from 44100 Hz to 4000 Hz...\n",
      "Completed.\n",
      "Resampling murmur__201108222251.wav from 44100 Hz to 4000 Hz...\n",
      "Completed.\n",
      "Resampling murmur__201108222245.wav from 44100 Hz to 4000 Hz...\n",
      "Completed.\n",
      "Resampling abnormal_s4_2023_2.wav from 44100 Hz to 4000 Hz...\n",
      "Completed.\n",
      "Resampling murmur__201101051108.wav from 44100 Hz to 4000 Hz...\n",
      "Completed.\n",
      "Resampling early_systolic_murmur_2023_12.wav from 11025 Hz to 4000 Hz...\n",
      "Completed.\n",
      "Resampling murmur__201108222253.wav from 44100 Hz to 4000 Hz...\n",
      "Completed.\n",
      "Resampling murmur__201108222246.wav from 44100 Hz to 4000 Hz...\n",
      "Completed.\n",
      "Resampling murmur__201108222252.wav from 44100 Hz to 4000 Hz...\n",
      "Completed.\n",
      "Resampling murmur__201103291548.wav from 44100 Hz to 4000 Hz...\n",
      "Completed.\n",
      "Resampling atrial_septal_defect_2023_6.wav from 44100 Hz to 4000 Hz...\n",
      "Completed.\n",
      "Resampling abnormal_s3_2023_1.wav from 44100 Hz to 4000 Hz...\n",
      "Completed.\n",
      "Resampling mitral_stenosis_2023_9.wav from 44100 Hz to 4000 Hz...\n",
      "Completed.\n",
      "Resampling murmur__201108222235.wav from 44100 Hz to 4000 Hz...\n",
      "Completed.\n",
      "Resampling murmur__201108222221.wav from 44100 Hz to 4000 Hz...\n",
      "Completed.\n",
      "Resampling abnormal_s3_2023_0.wav from 44100 Hz to 4000 Hz...\n",
      "Completed.\n",
      "Resampling diastolic_rumble_2023_11.wav from 11025 Hz to 4000 Hz...\n",
      "Completed.\n",
      "Resampling abnormal_s3_2023_18.wav from 11025 Hz to 4000 Hz...\n",
      "Completed.\n",
      "Resampling murmur__201108222236.wav from 44100 Hz to 4000 Hz...\n",
      "Completed.\n",
      "Resampling murmur__201108222237.wav from 44100 Hz to 4000 Hz...\n",
      "Completed.\n",
      "Resampling murmur__201108222223.wav from 44100 Hz to 4000 Hz...\n",
      "Completed.\n",
      "Resampling murmur__201104291843.wav from 44100 Hz to 4000 Hz...\n",
      "Completed.\n",
      "Resampling murmur__201101180902.wav from 44100 Hz to 4000 Hz...\n",
      "Completed.\n",
      "Resampling murmur__201108222227.wav from 44100 Hz to 4000 Hz...\n",
      "Completed.\n",
      "Resampling murmur__201108222233.wav from 44100 Hz to 4000 Hz...\n",
      "Completed.\n",
      "Resampling murmur__201108222232.wav from 44100 Hz to 4000 Hz...\n",
      "Completed.\n",
      "Resampling murmur__201108222226.wav from 44100 Hz to 4000 Hz...\n",
      "Completed.\n",
      "Resampling murmur__201108222224.wav from 44100 Hz to 4000 Hz...\n",
      "Completed.\n",
      "Resampling murmur__201108222231.wav from 44100 Hz to 4000 Hz...\n",
      "Completed.\n",
      "Resampling holosystolic_murmur_2023_7.wav from 44100 Hz to 4000 Hz...\n",
      "Completed.\n",
      "Resampling aortic_stenosis_2023_4.wav from 44100 Hz to 4000 Hz...\n",
      "Completed.\n",
      "Resampling murmur__201104241315.wav from 44100 Hz to 4000 Hz...\n",
      "Completed.\n",
      "Resampling aortic_stenosis_2023_5.wav from 8000 Hz to 4000 Hz...\n",
      "Completed.\n",
      "Resampling aortic_regurgitation_2023_3.wav from 8000 Hz to 4000 Hz...\n",
      "Completed.\n",
      "Resampling abnormal_s4_2023_19.wav from 11025 Hz to 4000 Hz...\n",
      "Completed.\n",
      "Resampling mitral_valve_prolapse_2023_10.wav from 44100 Hz to 4000 Hz...\n",
      "Completed.\n",
      "Resampling late_systolic_murmur_2023_14.wav from 11025 Hz to 4000 Hz...\n",
      "Completed.\n",
      "Resampling mitral_regurgitation_2023_15.wav from 8000 Hz to 4000 Hz...\n",
      "Completed.\n",
      "Resampling murmur__201108222238.wav from 44100 Hz to 4000 Hz...\n",
      "Completed.\n",
      "Resampling murmur__201102052338.wav from 44100 Hz to 4000 Hz...\n",
      "Completed.\n",
      "Resampling ejection_click_2023_13.wav from 11025 Hz to 4000 Hz...\n",
      "Completed.\n",
      "Resampling murmur__201101051104.wav from 44100 Hz to 4000 Hz...\n",
      "Completed.\n",
      "Resampling panststolic_murmur_2023_17.wav from 11025 Hz to 4000 Hz...\n",
      "Completed.\n",
      "Resampling opening_snap_2023_16.wav from 11025 Hz to 4000 Hz...\n",
      "Completed.\n",
      "Resampling murmur__201102051443.wav from 44100 Hz to 4000 Hz...\n",
      "Completed.\n",
      "Resampling innocent_murmur_2023_8.wav from 44100 Hz to 4000 Hz...\n",
      "Completed.\n",
      "Resampling murmur__201108222248.wav from 44100 Hz to 4000 Hz...\n",
      "Completed.\n",
      "Resampling murmur__201108222258.wav from 44100 Hz to 4000 Hz...\n",
      "Completed.\n",
      "Resampling murmur__201106141148.wav from 44100 Hz to 4000 Hz...\n",
      "Completed.\n",
      "Resampling murmur__201101051114.wav from 44100 Hz to 4000 Hz...\n",
      "Completed.\n"
     ]
    },
    {
     "data": {
      "application/vnd.jupyter.widget-view+json": {
       "model_id": "edfd2584d5ca4ff7a4f0f248e24b3145",
       "version_major": 2,
       "version_minor": 0
      },
      "text/plain": [
       "  0%|          | 0/355 [00:00<?, ?it/s]"
      ]
     },
     "metadata": {},
     "output_type": "display_data"
    },
    {
     "name": "stdout",
     "output_type": "stream",
     "text": [
      "Resampling normal__201108011112.wav from 44100 Hz to 4000 Hz...\n",
      "Completed.\n",
      "Resampling normal__201104122156.wav from 44100 Hz to 4000 Hz...\n",
      "Completed.\n",
      "Resampling normal__201103090635.wav from 44100 Hz to 4000 Hz...\n",
      "Completed.\n",
      "Resampling normal__201108011114.wav from 44100 Hz to 4000 Hz...\n",
      "Completed.\n",
      "Resampling normal__201106111136.wav from 44100 Hz to 4000 Hz...\n",
      "Completed.\n",
      "Resampling normal__201108011115.wav from 44100 Hz to 4000 Hz...\n",
      "Completed.\n",
      "Resampling normal__201105151450.wav from 44100 Hz to 4000 Hz...\n",
      "Completed.\n",
      "Resampling normal__201103151912.wav from 44100 Hz to 4000 Hz...\n",
      "Completed.\n",
      "Resampling normal__201103140822.wav from 44100 Hz to 4000 Hz...\n",
      "Completed.\n",
      "Resampling normal__201106141148.wav from 44100 Hz to 4000 Hz...\n",
      "Completed.\n",
      "Resampling normal__201102201230.wav from 44100 Hz to 4000 Hz...\n",
      "Completed.\n",
      "Resampling normal__201104141251.wav from 44100 Hz to 4000 Hz...\n",
      "Completed.\n",
      "Resampling normal__201102270940.wav from 44100 Hz to 4000 Hz...\n",
      "Completed.\n",
      "Resampling normal__201106221418.wav from 44100 Hz to 4000 Hz...\n",
      "Completed.\n",
      "Resampling normal__201105021654.wav from 44100 Hz to 4000 Hz...\n",
      "Completed.\n",
      "Resampling normal__201102081321.wav from 44100 Hz to 4000 Hz...\n",
      "Completed.\n",
      "Resampling normal__201103140132.wav from 44100 Hz to 4000 Hz...\n",
      "Completed.\n",
      "Resampling normal__201106210943.wav from 44100 Hz to 4000 Hz...\n",
      "Completed.\n",
      "Resampling normal__201101070538.wav from 44100 Hz to 4000 Hz...\n",
      "Completed.\n",
      "Resampling normal__201106151236.wav from 44100 Hz to 4000 Hz...\n",
      "Completed.\n",
      "Resampling normal__201105011626.wav from 44100 Hz to 4000 Hz...\n",
      "Completed.\n",
      "Resampling normal__201103101140.wav from 44100 Hz to 4000 Hz...\n",
      "Completed.\n",
      "Resampling normal__201103221214.wav from 44100 Hz to 4000 Hz...\n",
      "Completed.\n",
      "Resampling normal__201103140135.wav from 44100 Hz to 4000 Hz...\n",
      "Completed.\n",
      "Resampling normal__201101151127.wav from 44100 Hz to 4000 Hz...\n",
      "Completed.\n",
      "Resampling normal_2023_3.wav from 44100 Hz to 4000 Hz...\n",
      "Completed.\n",
      "Resampling normal__201105021804.wav from 44100 Hz to 4000 Hz...\n",
      "Completed.\n",
      "Resampling normal_2023_2.wav from 44100 Hz to 4000 Hz...\n",
      "Completed.\n",
      "Resampling normal__201102260502.wav from 44100 Hz to 4000 Hz...\n",
      "Completed.\n",
      "Resampling normal__201108011118.wav from 44100 Hz to 4000 Hz...\n",
      "Completed.\n",
      "Resampling normal_2023_0.wav from 44100 Hz to 4000 Hz...\n",
      "Completed.\n",
      "Resampling normal__201106221450.wav from 44100 Hz to 4000 Hz...\n",
      "Completed.\n",
      "Resampling normal_2023_1.wav from 44100 Hz to 4000 Hz...\n",
      "Completed.\n",
      "Resampling normal__201103170121.wav from 44100 Hz to 4000 Hz...\n",
      "Completed.\n",
      "Resampling normal__201102081152.wav from 44100 Hz to 4000 Hz...\n",
      "Completed.\n"
     ]
    },
    {
     "data": {
      "application/vnd.jupyter.widget-view+json": {
       "model_id": "8efeaed0b57d4511b942aa4ec19badeb",
       "version_major": 2,
       "version_minor": 0
      },
      "text/plain": [
       "  0%|          | 0/46 [00:00<?, ?it/s]"
      ]
     },
     "metadata": {},
     "output_type": "display_data"
    }
   ],
   "source": [
    "for DIR in DIRS:\n",
    "\tcheck_resample_sample_rate(target_freq=sr, src_dir=DIR, overwrite=True)"
   ]
  },
  {
   "cell_type": "code",
   "execution_count": 16,
   "metadata": {},
   "outputs": [
    {
     "data": {
      "image/png": "[encoded data removed]",
      "text/plain": [
       "<Figure size 2000x500 with 5 Axes>"
      ]
     },
     "metadata": {},
     "output_type": "display_data"
    },
    {
     "data": {
      "image/png": "[encoded data removed]",
      "text/plain": [
       "<Figure size 2000x500 with 5 Axes>"
      ]
     },
     "metadata": {},
     "output_type": "display_data"
    }
   ],
   "source": [
    "# check the sample rate distribution for each class\n",
    "\n",
    "unique_labels = audio_info['label'].unique()\n",
    "fig, axs = plt.subplots(1, 5, figsize=(20, 5))\n",
    "sns.set_theme(context=\"paper\", font_scale=1)\n",
    "for i, label in enumerate(unique_labels):\n",
    "     audio_info_tmp = audio_info[audio_info['label'] == label]\n",
    "     sns.histplot(audio_info_tmp['sample_rate'], ax = axs[i], bins=10, binrange=(0, 45000))\n",
    "     axs[i].set_title(label)\n",
    "     axs[i].set_xlabel('')\n",
    "     axs[i].set_ylabel('')\n",
    "     fig.suptitle('Sample Rate Distribution - Before Resampling')\n",
    "     \n",
    "\n",
    "# check the sample rates distribution\n",
    "fig, axs = plt.subplots(1, 5, figsize=(20, 5))\n",
    "for DIR in DIRS:\n",
    "\tsrs = []\n",
    "\tfiles = os.listdir(DIR)\n",
    "\tfor file in files:\n",
    "\t\tmeta = torchaudio.info(DIR + file)\n",
    "\t\tsrs.append(meta.sample_rate)\n",
    "\tsns.histplot(srs, ax=axs[DIRS.index(DIR)], bins=10, binrange=(0, 45000))\n",
    "\taxs[DIRS.index(DIR)].set_title(DIR.split('/')[-2])\n",
    "fig.suptitle('Sample Rates Distribution - After Resampling')\n",
    "plt.show()"
   ]
  },
  {
   "cell_type": "code",
   "execution_count": null,
   "metadata": {},
   "outputs": [],
   "source": []
  }
 ],
 "metadata": {
  "kernelspec": {
   "display_name": "Python 3",
   "language": "python",
   "name": "python3"
  },
  "language_info": {
   "codemirror_mode": {
    "name": "ipython",
    "version": 3
   },
   "file_extension": ".py",
   "mimetype": "text/x-python",
   "name": "python",
   "nbconvert_exporter": "python",
   "pygments_lexer": "ipython3",
   "version": "3.11.5"
  }
 },
 "nbformat": 4,
 "nbformat_minor": 2
}
