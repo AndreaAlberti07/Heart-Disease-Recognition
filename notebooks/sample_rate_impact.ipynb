{
 "cells": [
  {
   "cell_type": "markdown",
   "metadata": {},
   "source": [
    "## Sample Rate Impact Assessment\n",
    "---\n",
    "\n",
    "### Objective:\n",
    "- To assess the impact of different sample rates on the performance of the model.\n",
    "- To determine the optimal sample rate for the model.\n",
    "\n",
    "### Methodology:\n",
    "- A Random Forest model is trained with different features (Chroma, MFCC_30, MFCC_120, CQT_30, CQT_70) and sample rates (mixed, 4000). The features are used 'as extracted' without any additional processing.\n",
    "- The model is trained with 80% of the data and tested with the remaining 20%.\n",
    "  \n",
    "#### Findings:\n",
    "- "
   ]
  },
  {
   "cell_type": "code",
   "execution_count": 1,
   "metadata": {},
   "outputs": [],
   "source": [
    "from sklearn.model_selection import train_test_split\n",
    "from sklearn.ensemble import RandomForestClassifier\n",
    "\n",
    "\n",
    "import pandas as pd\n",
    "import numpy as np\n",
    "import matplotlib.pyplot as plt\n",
    "import seaborn as sns\n",
    "sns.set_theme(context=\"paper\", font_scale=1)"
   ]
  },
  {
   "cell_type": "markdown",
   "metadata": {},
   "source": [
    "### Set the Paths"
   ]
  },
  {
   "cell_type": "code",
   "execution_count": 6,
   "metadata": {},
   "outputs": [],
   "source": [
    "# set the paths\n",
    "BASE_DIR = '../dataset/'\n",
    "LABELS = BASE_DIR + 'labels.csv'\n",
    "\n",
    "# features\n",
    "FEATURES_BASE = '../features/'\n",
    "FEATURES = FEATURES_BASE + 'raw/'"
   ]
  },
  {
   "cell_type": "markdown",
   "metadata": {},
   "source": [
    "### Load the Data and Train the Model"
   ]
  },
  {
   "cell_type": "code",
   "execution_count": 7,
   "metadata": {},
   "outputs": [
    {
     "name": "stdout",
     "output_type": "stream",
     "text": [
      "dict_keys(['artifacts', 'extrahls', 'murmurs', 'normals', 'extrastoles'])\n"
     ]
    }
   ],
   "source": [
    "SEED = 42\n",
    "full_data_dict_keys = ['artifacts', 'extrahls', 'murmurs', 'normals', 'extrastoles']\n",
    "interval = 1\n",
    "sample_rates = ['mix', 4000]\n",
    "num_feat = [30, 120, 12, 30, 70]\n",
    "type_ = ['mfcc', 'mfcc', 'chroma', 'cqt', 'cqt']\n",
    "\n",
    "# dataframe where to store the results\n",
    "results = pd.DataFrame(columns=['mfcc_30', 'mfcc_120', 'chroma_12', 'cqt_30', 'cqt_70'], index=['mix', '4000'])\n",
    "\n",
    "for sample_rate in sample_rates:\n",
    "    for i, num_feat in enumerate(num_feat):\n",
    "         \n",
    "         # define the features name and load the data\n",
    "          FEATURES_NAME = f'full_data_{interval}s_{sample_rate}hz_{num_feat}{type_[i]}.npy'\n",
    "          full_data = np.load(FEATURES + FEATURES_NAME, allow_pickle=True).item()\n",
    "          \n",
    "          # extract the data from the dict\n",
    "          data_list = []\n",
    "          for key in full_data_dict_keys:\n",
    "               X = full_data[key]['X']\n",
    "               y = full_data[key]['y']\n",
    "               data = np.concatenate((X, y.reshape(-1, 1)), axis=1)\n",
    "               data_list.append(data)\n",
    "          full_data_array = np.concatenate(data_list, axis=0)\n",
    "          \n",
    "          # split the data into train and test\n",
    "          X = full_data_array[:, :-1]\n",
    "          y = full_data_array[:, -1]\n",
    "          X_train, X_test, y_train, y_test = train_test_split(X, y, test_size=0.2, random_state=SEED)\n",
    "          \n",
    "          # train the model\n",
    "          clf = RandomForestClassifier(random_state=SEED)\n",
    "          clf.fit(X_train, y_train)\n",
    "          \n",
    "          # evaluate the model\n",
    "          score = clf.score(X_test, y_test)\n",
    "          \n",
    "          # store the results\n",
    "          results.iloc[sample_rates.index(sample_rate), i] = score\n",
    "          \n",
    "# save the results\n",
    "results.to_csv('results.csv')"
   ]
  }
 ],
 "metadata": {
  "kernelspec": {
   "display_name": "Python 3",
   "language": "python",
   "name": "python3"
  },
  "language_info": {
   "codemirror_mode": {
    "name": "ipython",
    "version": 3
   },
   "file_extension": ".py",
   "mimetype": "text/x-python",
   "name": "python",
   "nbconvert_exporter": "python",
   "pygments_lexer": "ipython3",
   "version": "3.11.5"
  }
 },
 "nbformat": 4,
 "nbformat_minor": 2
}
