{
 "cells": [
  {
   "cell_type": "markdown",
   "metadata": {},
   "source": [
    "## Sample Rate Impact Assessment\n",
    "---\n",
    "\n",
    "### Objective:\n",
    "- To assess the impact of different sample rates on the performance of the model.\n",
    "- To determine the optimal sample rate for the model.\n",
    "\n",
    "### Methodology:\n",
    "- A Random Forest model is trained with different features (Spec, MelSpec, MFCC_30, MFCC_120, CQT_30, CQT_120) and sample rates (mixed, 4000). The features are used 'as extracted' without any additional processing.\n",
    "- The model is trained with 80% of the data and tested with the remaining 20%.\n",
    "  \n",
    "#### Findings:\n",
    "- "
   ]
  },
  {
   "cell_type": "code",
   "execution_count": 1,
   "metadata": {},
   "outputs": [],
   "source": [
    "import pandas as pd\n",
    "import numpy as np\n",
    "import matplotlib.pyplot as plt\n",
    "import seaborn as sns\n",
    "sns.set_theme(context=\"paper\", font_scale=1)"
   ]
  },
  {
   "cell_type": "markdown",
   "metadata": {},
   "source": [
    "### Set the Paths"
   ]
  },
  {
   "cell_type": "code",
   "execution_count": 6,
   "metadata": {},
   "outputs": [],
   "source": [
    "# set the paths\n",
    "BASE_DIR = '../dataset/'\n",
    "LABELS = BASE_DIR + 'labels.csv'\n",
    "\n",
    "# hyperparameters\n",
    "SEED = 42\n",
    "interval = 1\n",
    "#sample_rate = 4000\n",
    "sample_rate = 'mix'\n",
    "n_mfcc = 20\n",
    "\n",
    "# features\n",
    "FEATURES_BASE = '../features/'\n",
    "FEATURES = FEATURES_BASE + 'raw/'\n",
    "FEATURES_NAME = f'full_data_{interval}s_{sample_rate}hz_{n_mfcc}mfcc.npy'"
   ]
  },
  {
   "cell_type": "markdown",
   "metadata": {},
   "source": [
    "### Load the Data"
   ]
  },
  {
   "cell_type": "code",
   "execution_count": 7,
   "metadata": {},
   "outputs": [
    {
     "name": "stdout",
     "output_type": "stream",
     "text": [
      "dict_keys(['artifacts', 'extrahls', 'murmurs', 'normals', 'extrastoles'])\n"
     ]
    }
   ],
   "source": [
    "full_data = np.load(FEATURES + FEATURES_NAME, allow_pickle=True).item()\n",
    "print(full_data.keys())\n",
    "\n"
   ]
  },
  {
   "cell_type": "code",
   "execution_count": null,
   "metadata": {},
   "outputs": [],
   "source": []
  }
 ],
 "metadata": {
  "kernelspec": {
   "display_name": "Python 3",
   "language": "python",
   "name": "python3"
  },
  "language_info": {
   "codemirror_mode": {
    "name": "ipython",
    "version": 3
   },
   "file_extension": ".py",
   "mimetype": "text/x-python",
   "name": "python",
   "nbconvert_exporter": "python",
   "pygments_lexer": "ipython3",
   "version": "3.11.5"
  }
 },
 "nbformat": 4,
 "nbformat_minor": 2
}
